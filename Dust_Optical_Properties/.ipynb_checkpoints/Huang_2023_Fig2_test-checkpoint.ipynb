{
 "cells": [
  {
   "cell_type": "code",
   "execution_count": 1,
   "id": "2d33dc51-939a-4123-b01f-7bd65c60dfa8",
   "metadata": {},
   "outputs": [],
   "source": [
    "import os\n",
    "import scipy.io as io\n",
    "import numpy as np\n",
    "import pandas as pd\n",
    "from scipy.interpolate import interp1d\n",
    "import sys\n",
    "import math\n",
    "from netCDF4 import Dataset\n",
    "import os, calendar, sys, fnmatch, datetime\n",
    "import scipy"
   ]
  },
  {
   "cell_type": "markdown",
   "id": "86db6141-042d-43b8-89e3-39ca0756806a",
   "metadata": {},
   "source": [
    "## Read in Yue coordinate matrix and Yue dust optical properties matrices"
   ]
  },
  {
   "cell_type": "code",
   "execution_count": 2,
   "id": "d9b61513-d519-431f-9ccd-06c1defc41e6",
   "metadata": {},
   "outputs": [],
   "source": [
    "Qe_matrix = io.loadmat('Qe_matrix.mat')\n",
    "Qe_matrix = Qe_matrix['array']\n",
    "SSA_matrix = io.loadmat('SSA_matrix.mat')\n",
    "SSA_matrix = SSA_matrix['array']\n",
    "g_matrix = io.loadmat('g_matrix.mat')\n",
    "g_matrix = g_matrix['array']"
   ]
  },
  {
   "cell_type": "code",
   "execution_count": 3,
   "id": "93706357-20c6-4b6d-aa63-6fd37fc7bc42",
   "metadata": {},
   "outputs": [],
   "source": [
    "# coordinate matrix\n",
    "\n",
    "#Yue_coord_matrix = io.loadmat('Yue_coord_matrix.mat')\n",
    "#Yue_coord_matrix = Yue_coord_matrix['array']\n",
    "\n",
    "#Yue_coord_matrix1 = io.loadmat('Yue_size_parameter_and_Ri_matrix.mat')\n",
    "#Yue_coord_matrix1 = Yue_coord_matrix1['array']\n",
    "\n",
    "#Yue_coord = io.loadmat('Yue_coord.mat')\n",
    "#Yue_coord = Yue_coord['array']\n",
    "\n",
    "#coordinate_matrix = io.loadmat('coordinate_matrix.mat')\n",
    "#coordinate_matrix = coordinate_matrix['array']\n",
    "coordinate_tuple = io.loadmat('Yue_size_parameter_and_RI_tuple.mat')\n",
    "coordinate_tuple = coordinate_tuple['array']"
   ]
  },
  {
   "cell_type": "code",
   "execution_count": 4,
   "id": "2d866823-d59f-4cd3-a376-7ac70673d80d",
   "metadata": {},
   "outputs": [
    {
     "name": "stdout",
     "output_type": "stream",
     "text": [
      "(120, 4, 4)\n",
      "(120, 4, 4)\n",
      "(120, 4, 4)\n"
     ]
    }
   ],
   "source": [
    "print(Qe_matrix.shape)\n",
    "print(SSA_matrix.shape)\n",
    "print(g_matrix.shape)\n",
    "#print(Yue_coord_matrix.shape)\n",
    "#print(Yue_coord.shape)\n",
    "#print(coordinate_tuple.shape)"
   ]
  },
  {
   "cell_type": "code",
   "execution_count": 5,
   "id": "924b5845-9e58-4bc3-8a13-4e929ed9fd58",
   "metadata": {},
   "outputs": [
    {
     "name": "stdout",
     "output_type": "stream",
     "text": [
      "<class 'numpy.ndarray'>\n"
     ]
    }
   ],
   "source": [
    "print(type(coordinate_tuple))"
   ]
  },
  {
   "cell_type": "code",
   "execution_count": 6,
   "id": "32e84d46-1bc1-4588-8445-2c3629025e12",
   "metadata": {},
   "outputs": [],
   "source": [
    "coordinate_tuple = tuple(coordinate_tuple)"
   ]
  },
  {
   "cell_type": "code",
   "execution_count": 7,
   "id": "733d58ec-548b-4dd3-8f50-e9243b2f5070",
   "metadata": {},
   "outputs": [],
   "source": [
    "#coordinate_tuple[0,0,0]"
   ]
  },
  {
   "cell_type": "markdown",
   "id": "162f1777-4949-4540-8298-f43527d81b34",
   "metadata": {},
   "source": [
    "## Use these matrices to interpolate the values of Qext, SSA, and g and compare the results against Figure 2 in Huang et al. (2023)? The results plotted there were obtained for n =1.53 and k = 10^(-2.75) (except for panel c). If they agree we know the procedure was successful."
   ]
  },
  {
   "cell_type": "code",
   "execution_count": 8,
   "id": "35d88262-f44b-4f28-9980-bdcbe6b6ad05",
   "metadata": {},
   "outputs": [
    {
     "name": "stdout",
     "output_type": "stream",
     "text": [
      "<class 'float'>\n",
      "<class 'float'>\n",
      "<class 'float'>\n"
     ]
    }
   ],
   "source": [
    "n =1.53\n",
    "print(type(n))\n",
    "k = 10**(-2.750)\n",
    "print(type(k))\n",
    "wavelength_550 = float(550*10^-3) #500nm *10^-3 = um\n",
    "wavelength_10um = float(10) #10 um = 10 * 10^3 nm\n",
    "print(type(wavelength_550))"
   ]
  },
  {
   "cell_type": "code",
   "execution_count": 9,
   "id": "d682baae-a652-4ad7-975b-164c6c50d46b",
   "metadata": {},
   "outputs": [
    {
     "name": "stdout",
     "output_type": "stream",
     "text": [
      "300\n"
     ]
    }
   ],
   "source": [
    "# Define the Yue dust diamater range arrays\n",
    "diameter_range_1 = np.logspace(np.log(0.1), np.log(20), 230) #in um\n",
    "diameter_range_2 = np.logspace(np.log(20.5), np.log(70), 70) #in um\n",
    "\n",
    "# Concatenate the arrays\n",
    "diameter_range = np.concatenate((diameter_range_1, diameter_range_2))\n",
    "print(len(diameter_range))"
   ]
  },
  {
   "cell_type": "code",
   "execution_count": 10,
   "id": "1795a40b-16e1-4d87-aa44-8795eac85950",
   "metadata": {},
   "outputs": [
    {
     "name": "stdout",
     "output_type": "stream",
     "text": [
      "(120, 4, 4) [[[0.00579967 0.00632022 0.00770392 0.0086648 ]\n",
      "  [0.01248496 0.01330467 0.01139741 0.01176294]\n",
      "  [0.01326303 0.01411491 0.01287314 0.01318581]\n",
      "  [0.0149366  0.01585537 0.01647204 0.01705219]]\n",
      "\n",
      " [[0.01340117 0.014065   0.01592071 0.01716373]\n",
      "  [0.02430584 0.02540136 0.02369377 0.02403838]\n",
      "  [0.02728247 0.02849257 0.02702707 0.02725993]\n",
      "  [0.03362425 0.03507405 0.03559898 0.03619906]]\n",
      "\n",
      " [[0.0135232  0.01418854 0.01615054 0.01741957]\n",
      "  [0.02362136 0.0246824  0.02380374 0.02430806]\n",
      "  [0.02674221 0.02792281 0.02715652 0.0275623 ]\n",
      "  [0.03367749 0.03512014 0.03594494 0.03667028]]\n",
      "\n",
      " ...\n",
      "\n",
      " [[       nan        nan        nan        nan]\n",
      "  [       nan        nan        nan        nan]\n",
      "  [       nan        nan        nan        nan]\n",
      "  [       nan        nan        nan        nan]]\n",
      "\n",
      " [[       nan        nan        nan        nan]\n",
      "  [       nan        nan        nan        nan]\n",
      "  [       nan        nan        nan        nan]\n",
      "  [       nan        nan        nan        nan]]\n",
      "\n",
      " [[       nan        nan        nan        nan]\n",
      "  [       nan        nan        nan        nan]\n",
      "  [       nan        nan        nan        nan]\n",
      "  [       nan        nan        nan        nan]]]\n"
     ]
    }
   ],
   "source": [
    "print(Qe_matrix.shape, Qe_matrix)"
   ]
  },
  {
   "cell_type": "code",
   "execution_count": 11,
   "id": "b752933d-14cc-40db-aa76-f8507e7db127",
   "metadata": {},
   "outputs": [
    {
     "name": "stdout",
     "output_type": "stream",
     "text": [
      "[[0.00579967 0.00632022 0.00770392 0.0086648 ]\n",
      " [0.01248496 0.01330467 0.01139741 0.01176294]\n",
      " [0.01326303 0.01411491 0.01287314 0.01318581]\n",
      " [0.0149366  0.01585537 0.01647204 0.01705219]]\n"
     ]
    }
   ],
   "source": [
    "#print(Yue_coord.shape, Yue_coord)\n",
    "#print(coordinate_tuple[0][0])\n",
    "print(Qe_matrix[0])"
   ]
  },
  {
   "cell_type": "markdown",
   "id": "85097f3e-bad0-4f47-b3ac-c48b3c2b319d",
   "metadata": {},
   "source": [
    "# 550 nm wavelength Qe plots"
   ]
  },
  {
   "cell_type": "code",
   "execution_count": 12,
   "id": "fe5983fc-9d60-4454-97ca-5070f48afd1c",
   "metadata": {},
   "outputs": [
    {
     "ename": "ValueError",
     "evalue": "setting an array element with a sequence.",
     "output_type": "error",
     "traceback": [
      "\u001b[0;31m---------------------------------------------------------------------------\u001b[0m",
      "\u001b[0;31mTypeError\u001b[0m                                 Traceback (most recent call last)",
      "\u001b[0;31mTypeError\u001b[0m: only length-1 arrays can be converted to Python scalars",
      "\nThe above exception was the direct cause of the following exception:\n",
      "\u001b[0;31mValueError\u001b[0m                                Traceback (most recent call last)",
      "Cell \u001b[0;32mIn[12], line 6\u001b[0m\n\u001b[1;32m      4\u001b[0m point \u001b[38;5;241m=\u001b[39m (size_param, n, k)\n\u001b[1;32m      5\u001b[0m \u001b[38;5;66;03m#Qe_interp = scipy.interpolate.interpn(Yue_coord_matrix1, Qe_matrix, point , method='linear')\u001b[39;00m\n\u001b[0;32m----> 6\u001b[0m Qe_interp \u001b[38;5;241m=\u001b[39m scipy\u001b[38;5;241m.\u001b[39minterpolate\u001b[38;5;241m.\u001b[39minterpn(coordinate_tuple, Qe_matrix, point , method\u001b[38;5;241m=\u001b[39m\u001b[38;5;124m'\u001b[39m\u001b[38;5;124mlinear\u001b[39m\u001b[38;5;124m'\u001b[39m)\n",
      "File \u001b[0;32m/opt/anaconda3/envs/rrtm_env/lib/python3.11/site-packages/scipy/interpolate/_rgi.py:637\u001b[0m, in \u001b[0;36minterpn\u001b[0;34m(points, values, xi, method, bounds_error, fill_value)\u001b[0m\n\u001b[1;32m    633\u001b[0m \u001b[38;5;28;01mif\u001b[39;00m \u001b[38;5;28mlen\u001b[39m(points) \u001b[38;5;241m!=\u001b[39m ndim \u001b[38;5;129;01mand\u001b[39;00m method \u001b[38;5;241m==\u001b[39m \u001b[38;5;124m'\u001b[39m\u001b[38;5;124msplinef2d\u001b[39m\u001b[38;5;124m'\u001b[39m:\n\u001b[1;32m    634\u001b[0m     \u001b[38;5;28;01mraise\u001b[39;00m \u001b[38;5;167;01mValueError\u001b[39;00m(\u001b[38;5;124m\"\u001b[39m\u001b[38;5;124mThe method splinef2d can only be used for \u001b[39m\u001b[38;5;124m\"\u001b[39m\n\u001b[1;32m    635\u001b[0m                      \u001b[38;5;124m\"\u001b[39m\u001b[38;5;124mscalar data with one point per coordinate\u001b[39m\u001b[38;5;124m\"\u001b[39m)\n\u001b[0;32m--> 637\u001b[0m grid, descending_dimensions \u001b[38;5;241m=\u001b[39m _check_points(points)\n\u001b[1;32m    638\u001b[0m _check_dimensionality(grid, values)\n\u001b[1;32m    640\u001b[0m \u001b[38;5;66;03m# sanity check requested xi\u001b[39;00m\n",
      "File \u001b[0;32m/opt/anaconda3/envs/rrtm_env/lib/python3.11/site-packages/scipy/interpolate/_rgi.py:20\u001b[0m, in \u001b[0;36m_check_points\u001b[0;34m(points)\u001b[0m\n\u001b[1;32m     16\u001b[0m grid \u001b[38;5;241m=\u001b[39m []\n\u001b[1;32m     17\u001b[0m \u001b[38;5;28;01mfor\u001b[39;00m i, p \u001b[38;5;129;01min\u001b[39;00m \u001b[38;5;28menumerate\u001b[39m(points):\n\u001b[1;32m     18\u001b[0m     \u001b[38;5;66;03m# early make points float\u001b[39;00m\n\u001b[1;32m     19\u001b[0m     \u001b[38;5;66;03m# see https://github.com/scipy/scipy/pull/17230\u001b[39;00m\n\u001b[0;32m---> 20\u001b[0m     p \u001b[38;5;241m=\u001b[39m np\u001b[38;5;241m.\u001b[39masarray(p, dtype\u001b[38;5;241m=\u001b[39m\u001b[38;5;28mfloat\u001b[39m)\n\u001b[1;32m     21\u001b[0m     \u001b[38;5;28;01mif\u001b[39;00m \u001b[38;5;129;01mnot\u001b[39;00m np\u001b[38;5;241m.\u001b[39mall(p[\u001b[38;5;241m1\u001b[39m:] \u001b[38;5;241m>\u001b[39m p[:\u001b[38;5;241m-\u001b[39m\u001b[38;5;241m1\u001b[39m]):\n\u001b[1;32m     22\u001b[0m         \u001b[38;5;28;01mif\u001b[39;00m np\u001b[38;5;241m.\u001b[39mall(p[\u001b[38;5;241m1\u001b[39m:] \u001b[38;5;241m<\u001b[39m p[:\u001b[38;5;241m-\u001b[39m\u001b[38;5;241m1\u001b[39m]):\n\u001b[1;32m     23\u001b[0m             \u001b[38;5;66;03m# input is descending, so make it ascending\u001b[39;00m\n",
      "\u001b[0;31mValueError\u001b[0m: setting an array element with a sequence."
     ]
    }
   ],
   "source": [
    "for i in range(len(diameter_range)):\n",
    "    size_param = float((np.pi * diameter_range[i])/wavelength_550)\n",
    "    #print(type(size_param))\n",
    "    point = (size_param, n, k)\n",
    "    #Qe_interp = scipy.interpolate.interpn(Yue_coord_matrix1, Qe_matrix, point , method='linear')\n",
    "    Qe_interp = scipy.interpolate.interpn(coordinate_tuple, Qe_matrix, point , method='linear')"
   ]
  },
  {
   "cell_type": "code",
   "execution_count": null,
   "id": "fff45d92-e8ca-44f8-a21a-dd03848ba8b9",
   "metadata": {},
   "outputs": [],
   "source": []
  },
  {
   "cell_type": "code",
   "execution_count": null,
   "id": "da9ccc16-e960-495c-b1a6-d1cfad228a1f",
   "metadata": {},
   "outputs": [],
   "source": []
  }
 ],
 "metadata": {
  "kernelspec": {
   "display_name": "rrtm_env",
   "language": "python",
   "name": "rrtm_env"
  },
  "language_info": {
   "codemirror_mode": {
    "name": "ipython",
    "version": 3
   },
   "file_extension": ".py",
   "mimetype": "text/x-python",
   "name": "python",
   "nbconvert_exporter": "python",
   "pygments_lexer": "ipython3",
   "version": "3.11.4"
  }
 },
 "nbformat": 4,
 "nbformat_minor": 5
}
