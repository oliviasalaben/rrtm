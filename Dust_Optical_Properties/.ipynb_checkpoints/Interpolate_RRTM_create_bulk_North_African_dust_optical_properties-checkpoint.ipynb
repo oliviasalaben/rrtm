{
 "cells": [
  {
   "cell_type": "code",
   "execution_count": 1,
   "id": "07d6c587",
   "metadata": {
    "tags": []
   },
   "outputs": [],
   "source": [
    "import os\n",
    "import scipy.io as io\n",
    "import numpy as np\n",
    "import pandas as pd\n",
    "from scipy.interpolate import interp1d\n",
    "import sys\n",
    "import math\n",
    "from netCDF4 import Dataset\n",
    "import os, calendar, sys, fnmatch, datetime"
   ]
  },
  {
   "cell_type": "code",
   "execution_count": 2,
   "id": "ad023b27",
   "metadata": {},
   "outputs": [],
   "source": [
    "def extract_unique_values(input_array):\n",
    "    unique_values = np.unique(input_array)\n",
    "    return unique_values"
   ]
  },
  {
   "cell_type": "markdown",
   "id": "f01c49b7",
   "metadata": {
    "tags": []
   },
   "source": [
    "# Load Huang et al. 2023 Ellipsoidal dust optical properties files"
   ]
  },
  {
   "cell_type": "code",
   "execution_count": 61,
   "id": "12b2bf5a-76b6-47d0-aeca-a3b71daf7df7",
   "metadata": {
    "tags": []
   },
   "outputs": [
    {
     "ename": "SyntaxError",
     "evalue": "invalid syntax (1878368990.py, line 13)",
     "output_type": "error",
     "traceback": [
      "\u001b[0;36m  Cell \u001b[0;32mIn[61], line 13\u001b[0;36m\u001b[0m\n\u001b[0;31m    size_parameter = np.pi * dust_d ./ wl #f'size_parameter_{wavelength:.4f}': size_parameter,\u001b[0m\n\u001b[0m                                     ^\u001b[0m\n\u001b[0;31mSyntaxError\u001b[0m\u001b[0;31m:\u001b[0m invalid syntax\n"
     ]
    }
   ],
   "source": [
    "# ===== Aerosol (e.g., dust) optical properties (i.e., Qext, SSA, g) =====\n",
    "# ***Note: The order of 14 bands is listed in TABLE 1 in RRTM_SW instruction (It is not monotonically increase or decrease)\n",
    "# ***Note: The order of spectral optical properties should be consistent with the order in TABLE 1\n",
    "\n",
    "def process_optical_properties(wavelength_band, txt_files):\n",
    "    wavelength = wavelength_range[wavelength_band]\n",
    "    #print(txt_files[wavelength_band])\n",
    "    opt_prop_sw_original = np.loadtxt(opt_dir + '{}'.format(txt_files[wavelength_band]))\n",
    "    #print(opt_prop_sw_original.shape)\n",
    "\n",
    "    wl = np.array(opt_prop_sw_original[:, 0][:])\n",
    "    dust_d = np.array(opt_prop_sw_original[:, 1][:])\n",
    "    size_parameter = np.pi * dust_d / wl #f'size_parameter_{wavelength:.4f}': size_parameter,\n",
    "    n_RI = np.array(opt_prop_sw_original[:, 2][:])\n",
    "    k_RI = np.array(opt_prop_sw_original[:, 3][:])\n",
    "    \n",
    "    qe_dust_sw = np.array(opt_prop_sw_original[:, 4][:])\n",
    "    ssa_dust_sw = np.array(opt_prop_sw_original[:, 5][:])\n",
    "    g_dust_sw = np.array(opt_prop_sw_original[:, 6][:])\n",
    "\n",
    "    # Create variable names dynamically\n",
    "    variables = {\n",
    "        f'wl_{wavelength:.4f}': wl,\n",
    "        f'dust_d_{wavelength:.4f}': dust_d,\n",
    "        f'size_parameter_{wavelength:.4f}': size_parameter,\n",
    "        f'n_RI_{wavelength:.4f}': n_RI,\n",
    "        f'k_RI_{wavelength:.4f}': k_RI,\n",
    "        f'qe_dust_sw_{wavelength:.4f}': qe_dust_sw,\n",
    "        f'ssa_dust_sw_{wavelength:.4f}': ssa_dust_sw,\n",
    "        f'g_dust_sw_{wavelength:.4f}': g_dust_sw,\n",
    "    }\n",
    "    return np.array((wl,dust_d,size_parameter,n_RI,k_RI,qe_dust_sw,ssa_dust_sw,g_dust_sw)) #variables\n"
   ]
  },
  {
   "cell_type": "code",
   "execution_count": 4,
   "id": "f0fb753a-937e-4661-996e-5d5d7c71d25e",
   "metadata": {
    "tags": []
   },
   "outputs": [],
   "source": [
    "# SW Wavelength range and files\n",
    "opt_dir = 'SW_Huang_Dust_Optics/'\n",
    "wavelength_range = [0.35, 0.55, 0.75, 0.95] #, 2, 4, 6, 8, 10, 12, 14, 16, 35]\n",
    "Huang_2023_dust_opt_prop_txt_files = ['shapein_TAMU_0.3500.txt', 'shapein_TAMU_0.5500.txt', 'shapein_TAMU_0.7500.txt', 'shapein_TAMU_0.9500.txt'] # 'shapein_TAMU_2.0000.txt', 'shapein_TAMU_4.0000.txt', 'shapein_TAMU_6.0000.txt', 'shapein_TAMU_8.0000.txt', 'shapein_TAMU_10.0000.txt', 'shapein_TAMU_12.0000.txt', 'shapein_TAMU_14.0000.txt', 'shapein_TAMU_16.0000.txt', 'shapein_TAMU_35.0000.txt']\n",
    "\n",
    "# Array to store results\n",
    "opt_prop_sw_array = np.empty(len(wavelength_range), dtype=object)\n",
    "\n",
    "# Process optical properties for each wavelength band\n",
    "for i in range(len(wavelength_range)):\n",
    "    opt_prop_sw = process_optical_properties(i, Huang_2023_dust_opt_prop_txt_files)\n",
    "    opt_prop_sw_array[i] = opt_prop_sw"
   ]
  },
  {
   "cell_type": "code",
   "execution_count": 63,
   "id": "bc62e150-408c-4060-8daa-637875d4f10a",
   "metadata": {},
   "outputs": [
    {
     "name": "stdout",
     "output_type": "stream",
     "text": [
      "(14400,) [  0.8975979    0.91824265   0.939785   ... 606.3462317  617.23499184\n",
      " 628.31853072]\n"
     ]
    }
   ],
   "source": [
    "print(opt_prop_sw_array[0][2].shape, opt_prop_sw_array[0][2] )"
   ]
  },
  {
   "cell_type": "code",
   "execution_count": 6,
   "id": "8945c847-ba97-4999-b8a3-82286a8f203a",
   "metadata": {},
   "outputs": [
    {
     "name": "stdout",
     "output_type": "stream",
     "text": [
      "(4,)\n"
     ]
    }
   ],
   "source": [
    "opt_prop_sw_array[0][2].shape\n",
    "unique_size_param = np.empty(len(wavelength_range), dtype=object)\n",
    "for i in range(len(wavelength_range)):\n",
    "    unique_size_param[i] = extract_unique_values(opt_prop_sw_array[i][2])\n",
    "print(unique_size_param.shape) #300 for each wavelength \n",
    "#choose every 10 for each wavelength \n",
    "\n",
    "#then chose every 10, and sort them (it's okay that it is logarithmic)"
   ]
  },
  {
   "cell_type": "markdown",
   "id": "d9b10764-4c12-4dd7-997d-04193ac3169d",
   "metadata": {},
   "source": [
    "## Create Yue Size parameter, real RI, and imaginary RI matrix"
   ]
  },
  {
   "cell_type": "markdown",
   "id": "df0d5937-0d34-4a92-a700-53c30372ca2d",
   "metadata": {},
   "source": [
    "create a file of the three dimensional grid, those three dimensions being size parameter, real RI, and imaginary RI. The second and third dimensions here are easier and would be those values relevant to your problem, so I'd suggest (1.50, 1.52, 1.53, 1.56) and (0.0005, 0.001, 0.002, 0.003). The first dimension is pretty annoying because there will be so many values since the data is finely spaced in D (300 values per wavelength) and you will have four different SW wavelengths to use (350, 550, 750, and 950 nm; don't use the other ones because the RI there is for the LW). So I'd suggest only using every 10th value to keep the size of the matrix reasonable (120 size parameter values). Once you've created this three-dimensional grid (120x4x4), "
   ]
  },
  {
   "cell_type": "code",
   "execution_count": 24,
   "id": "3802574f-f897-43c8-9e46-e5741879f9fd",
   "metadata": {},
   "outputs": [
    {
     "name": "stdout",
     "output_type": "stream",
     "text": [
      "120\n",
      "(3,) [array([3.30693964e-01, 4.16674394e-01, 4.18879020e-01, 5.25142014e-01,\n",
      "        5.27787566e-01, 5.71198664e-01, 6.62049315e-01, 6.65179885e-01,\n",
      "        7.19710317e-01, 8.34340870e-01, 8.38595799e-01, 8.97597901e-01,\n",
      "        9.07063479e-01, 1.05160680e+00, 1.05683177e+00, 1.13097336e+00,\n",
      "        1.14353973e+00, 1.32542141e+00, 1.33203529e+00, 1.42538547e+00,\n",
      "        1.44113423e+00, 1.67033521e+00, 1.67886711e+00, 1.79699100e+00,\n",
      "        1.81641175e+00, 2.10519777e+00, 2.11575793e+00, 2.26463950e+00,\n",
      "        2.28936425e+00, 2.65315767e+00, 2.66658384e+00, 2.85436133e+00,\n",
      "        2.88512445e+00, 3.34397736e+00, 3.36066638e+00, 3.59757239e+00,\n",
      "        3.63625070e+00, 4.21436387e+00, 4.23570466e+00, 4.53376700e+00,\n",
      "        4.58272688e+00, 5.31127575e+00, 5.33819424e+00, 5.71410824e+00,\n",
      "        5.77596089e+00, 6.69390721e+00, 6.72761595e+00, 7.20142796e+00,\n",
      "        7.27935578e+00, 8.43666440e+00, 8.47894913e+00, 9.07650998e+00,\n",
      "        9.17402175e+00, 1.06328030e+01, 1.06864416e+01, 1.14389877e+01,\n",
      "        1.15622034e+01, 1.34007115e+01, 1.34682171e+01, 1.44163199e+01,\n",
      "        1.45724203e+01, 1.68895328e+01, 1.69742345e+01, 1.81691767e+01,\n",
      "        1.83657507e+01, 2.12861090e+01, 2.13934082e+01, 2.28995177e+01,\n",
      "        2.31466835e+01, 2.68272171e+01, 2.69624048e+01, 2.88604653e+01,\n",
      "        2.91728294e+01, 3.38111429e+01, 3.39811417e+01, 3.63733597e+01,\n",
      "        3.67669156e+01, 4.26128934e+01, 4.28274477e+01, 4.58430176e+01,\n",
      "        4.63379204e+01, 5.37060225e+01, 5.39763317e+01, 5.77765817e+01,\n",
      "        5.84010650e+01, 6.77922625e+01, 6.80276284e+01, 7.28167321e+01,\n",
      "        7.36040887e+01, 8.09985260e+01, 8.58701992e+01, 9.17731022e+01,\n",
      "        9.27649479e+01, 9.67772577e+01, 1.02598133e+02, 1.15629459e+02,\n",
      "        1.15663568e+02, 1.17095726e+02, 1.22584526e+02, 1.38154679e+02,\n",
      "        1.39906545e+02, 1.45773490e+02, 1.46463982e+02, 1.65067545e+02,\n",
      "        1.67160718e+02, 1.74995926e+02, 1.84007570e+02, 1.97222904e+02,\n",
      "        1.99723611e+02, 2.09085557e+02, 2.19853142e+02, 2.38630808e+02,\n",
      "        2.49815678e+02, 2.62681128e+02, 2.85116669e+02, 3.13851389e+02,\n",
      "        3.40657743e+02, 3.74991270e+02, 4.48040480e+02, 5.35319310e+02])\n",
      " array([1.5 , 1.52, 1.53, 1.56]) array([0.0005, 0.001 , 0.002 , 0.003 ])]\n"
     ]
    }
   ],
   "source": [
    "Yue_real_RI_range = np.array([1.50, 1.52, 1.53, 1.56])\n",
    "Yue_imag_RI_range = np.array([0.0005, 0.001, 0.002, 0.003])\n",
    "Yue_size_parameter_range = [] #np.zeros(120, dtype=object)\n",
    "for i in range(0,len(wavelength_range)):\n",
    "    for j in range(0,len(unique_size_param[0]),10):\n",
    "        Yue_size_parameter_range.append(unique_size_param[i][j])\n",
    "Yue_size_parameter_range = np.sort(Yue_size_parameter_range)\n",
    "Yue_size_parameter_range = np.array(Yue_size_parameter_range)\n",
    "print(len(Yue_size_parameter_range))\n",
    "\n",
    "Yue_size_parameter_and_Ri_matrix = np.array((Yue_size_parameter_range, Yue_real_RI_range, Yue_imag_RI_range), dtype=object)\n",
    "print(Yue_size_parameter_and_Ri_matrix.shape,Yue_size_parameter_and_Ri_matrix)\n",
    "\n",
    "io.savemat(\"Yue_size_parameter_and_Ri_matrix.mat\", {\"array\": Yue_size_parameter_and_Ri_matrix})"
   ]
  },
  {
   "cell_type": "code",
   "execution_count": 8,
   "id": "32a35592-750f-4738-a7aa-846ed869a2a7",
   "metadata": {},
   "outputs": [
    {
     "data": {
      "text/plain": [
       "array([3.30693964e-01, 4.16674394e-01, 4.18879020e-01, 5.25142014e-01,\n",
       "       5.27787566e-01, 5.71198664e-01, 6.62049315e-01, 6.65179885e-01,\n",
       "       7.19710317e-01, 8.34340870e-01, 8.38595799e-01, 8.97597901e-01,\n",
       "       9.07063479e-01, 1.05160680e+00, 1.05683177e+00, 1.13097336e+00,\n",
       "       1.14353973e+00, 1.32542141e+00, 1.33203529e+00, 1.42538547e+00,\n",
       "       1.44113423e+00, 1.67033521e+00, 1.67886711e+00, 1.79699100e+00,\n",
       "       1.81641175e+00, 2.10519777e+00, 2.11575793e+00, 2.26463950e+00,\n",
       "       2.28936425e+00, 2.65315767e+00, 2.66658384e+00, 2.85436133e+00,\n",
       "       2.88512445e+00, 3.34397736e+00, 3.36066638e+00, 3.59757239e+00,\n",
       "       3.63625070e+00, 4.21436387e+00, 4.23570466e+00, 4.53376700e+00,\n",
       "       4.58272688e+00, 5.31127575e+00, 5.33819424e+00, 5.71410824e+00,\n",
       "       5.77596089e+00, 6.69390721e+00, 6.72761595e+00, 7.20142796e+00,\n",
       "       7.27935578e+00, 8.43666440e+00, 8.47894913e+00, 9.07650998e+00,\n",
       "       9.17402175e+00, 1.06328030e+01, 1.06864416e+01, 1.14389877e+01,\n",
       "       1.15622034e+01, 1.34007115e+01, 1.34682171e+01, 1.44163199e+01,\n",
       "       1.45724203e+01, 1.68895328e+01, 1.69742345e+01, 1.81691767e+01,\n",
       "       1.83657507e+01, 2.12861090e+01, 2.13934082e+01, 2.28995177e+01,\n",
       "       2.31466835e+01, 2.68272171e+01, 2.69624048e+01, 2.88604653e+01,\n",
       "       2.91728294e+01, 3.38111429e+01, 3.39811417e+01, 3.63733597e+01,\n",
       "       3.67669156e+01, 4.26128934e+01, 4.28274477e+01, 4.58430176e+01,\n",
       "       4.63379204e+01, 5.37060225e+01, 5.39763317e+01, 5.77765817e+01,\n",
       "       5.84010650e+01, 6.77922625e+01, 6.80276284e+01, 7.28167321e+01,\n",
       "       7.36040887e+01, 8.09985260e+01, 8.58701992e+01, 9.17731022e+01,\n",
       "       9.27649479e+01, 9.67772577e+01, 1.02598133e+02, 1.15629459e+02,\n",
       "       1.15663568e+02, 1.17095726e+02, 1.22584526e+02, 1.38154679e+02,\n",
       "       1.39906545e+02, 1.45773490e+02, 1.46463982e+02, 1.65067545e+02,\n",
       "       1.67160718e+02, 1.74995926e+02, 1.84007570e+02, 1.97222904e+02,\n",
       "       1.99723611e+02, 2.09085557e+02, 2.19853142e+02, 2.38630808e+02,\n",
       "       2.49815678e+02, 2.62681128e+02, 2.85116669e+02, 3.13851389e+02,\n",
       "       3.40657743e+02, 3.74991270e+02, 4.48040480e+02, 5.35319310e+02])"
      ]
     },
     "execution_count": 8,
     "metadata": {},
     "output_type": "execute_result"
    }
   ],
   "source": [
    "Yue_size_parameter_and_Ri_matrix[0]"
   ]
  },
  {
   "cell_type": "markdown",
   "id": "b24e77d3-69fa-4cfc-9962-3324d7d9b47a",
   "metadata": {},
   "source": [
    "## Create Yue Q_e matrix"
   ]
  },
  {
   "cell_type": "markdown",
   "id": "00075d0d-a303-4b2d-8336-bbf6c0f8ddcc",
   "metadata": {},
   "source": [
    " you need to create a matrix with the same dimensions as your three-dimensional grid that contains the values of Q_ext. You do this by creating a matrix with NaN values with those dimensions and then reading in all Yue's data (at the four wavelengths, using only every tenth data point) and writing each value to this new matrix at the corresponding coordinate. Once you're done, you'll end with a matrix that has a lot of values filled in, but ~75% of the values will be NaNs. "
   ]
  },
  {
   "cell_type": "code",
   "execution_count": 9,
   "id": "3c691fde-e74d-4cdb-9227-77c42bd7ff2b",
   "metadata": {},
   "outputs": [
    {
     "data": {
      "text/plain": [
       "844341700000.0"
      ]
     },
     "execution_count": 9,
     "metadata": {},
     "output_type": "execute_result"
    }
   ],
   "source": [
    "max(opt_prop_sw_array[0][5])\n",
    "# I feel like that is too large"
   ]
  },
  {
   "cell_type": "code",
   "execution_count": 56,
   "id": "a7db72ec-2a16-4e61-a69c-95941fc15846",
   "metadata": {},
   "outputs": [
    {
     "data": {
      "text/plain": [
       "14400"
      ]
     },
     "execution_count": 56,
     "metadata": {},
     "output_type": "execute_result"
    }
   ],
   "source": [
    "len(opt_prop_sw_array[0][5])"
   ]
  },
  {
   "cell_type": "code",
   "execution_count": 64,
   "id": "a9cfa23a-832a-451b-a658-b28e73163d38",
   "metadata": {},
   "outputs": [
    {
     "name": "stdout",
     "output_type": "stream",
     "text": [
      "[[[5.799671e-03 6.320225e-03 7.703915e-03 8.664805e-03]\n",
      "  [1.248496e-02 1.330467e-02 1.139741e-02 1.176294e-02]\n",
      "  [1.326303e-02 1.411491e-02 1.287314e-02 1.318581e-02]\n",
      "  [1.493660e-02 1.585537e-02 1.647204e-02 1.705219e-02]]\n",
      "\n",
      " [[1.340117e-02 1.406500e-02 1.592071e-02 1.716373e-02]\n",
      "  [2.430584e-02 2.540136e-02 2.369377e-02 2.403838e-02]\n",
      "  [2.728247e-02 2.849257e-02 2.702707e-02 2.725993e-02]\n",
      "  [3.362425e-02 3.507405e-02 3.559898e-02 3.619906e-02]]\n",
      "\n",
      " [[1.352320e-02 1.418854e-02 1.615054e-02 1.741957e-02]\n",
      "  [2.362136e-02 2.468240e-02 2.380374e-02 2.430806e-02]\n",
      "  [2.674221e-02 2.792281e-02 2.715652e-02 2.756230e-02]\n",
      "  [3.367749e-02 3.512014e-02 3.594494e-02 3.667028e-02]]\n",
      "\n",
      " ...\n",
      "\n",
      " [[6.768974e+07          nan          nan          nan]\n",
      "  [7.817363e+07          nan          nan          nan]\n",
      "  [8.268636e+07          nan          nan          nan]\n",
      "  [9.487965e+07          nan          nan          nan]]\n",
      "\n",
      " [[         nan 4.784978e+10 4.862057e+10 4.885524e+10]\n",
      "  [         nan 4.807936e+10 4.862670e+10 4.882866e+10]\n",
      "  [         nan 4.818156e+10 4.864009e+10 4.882493e+10]\n",
      "  [         nan 4.848188e+10 4.873028e+10 4.885393e+10]]\n",
      "\n",
      " [[         nan 6.759854e+11 6.759854e+11 6.759854e+11]\n",
      "  [         nan 6.759854e+11 6.759854e+11 6.759854e+11]\n",
      "  [         nan 6.759854e+11 6.759854e+11 6.759854e+11]\n",
      "  [         nan 6.759854e+11 6.759854e+11 6.759854e+11]]]\n"
     ]
    }
   ],
   "source": [
    "Qe_matrix = np.full((120, 4, 4), np.nan, dtype=float)\n",
    "Qe_matrix .fill(np.nan)\n",
    "#print(Qe_matrix .shape)\n",
    "\n",
    "for iwl in range(0,len(wavelength_range)):\n",
    "    for i in range(0,len(Yue_size_parameter_and_Ri_matrix[0])):\n",
    "        for j in range(0,len(Yue_size_parameter_and_Ri_matrix[1])):\n",
    "            for k in range(0,len(Yue_size_parameter_and_Ri_matrix[2])):\n",
    "                for w in range(0,len(opt_prop_sw_array[iwl][5]),10):\n",
    "                    if (Yue_size_parameter_and_Ri_matrix[0][i] == opt_prop_sw_array[iwl][2][w] and\n",
    "                        Yue_size_parameter_and_Ri_matrix[1][j] == opt_prop_sw_array[iwl][3][w] and \n",
    "                        Yue_size_parameter_and_Ri_matrix[2][k] == opt_prop_sw_array[iwl][4][w]):\n",
    "                            Qe_matrix [i,j,k] = opt_prop_sw_array[iwl][5][w]\n",
    "print(Qe_matrix )"
   ]
  },
  {
   "cell_type": "code",
   "execution_count": 65,
   "id": "04acf913-4784-42a7-ad0c-cafcd3959d64",
   "metadata": {},
   "outputs": [
    {
     "name": "stdout",
     "output_type": "stream",
     "text": [
      "Number of nan values: 52\n"
     ]
    }
   ],
   "source": [
    "def count_nan_values(matrix):\n",
    "    \"\"\"\n",
    "    Count the number of nan values in a multidimensional array.\n",
    "\n",
    "    Parameters:\n",
    "    - matrix: numpy array\n",
    "\n",
    "    Returns:\n",
    "    - count: int, number of nan values\n",
    "    \"\"\"\n",
    "    count = np.sum(np.isnan(matrix))\n",
    "    return count\n",
    "\n",
    "nan_count = count_nan_values(Qe_matrix )\n",
    "print(\"Number of nan values:\", nan_count)"
   ]
  },
  {
   "cell_type": "markdown",
   "id": "912f2506",
   "metadata": {},
   "source": [
    "# Calculate DustCOMM mean geometric diamater of each bin"
   ]
  },
  {
   "cell_type": "code",
   "execution_count": 12,
   "id": "f2526a33",
   "metadata": {
    "tags": []
   },
   "outputs": [
    {
     "name": "stdout",
     "output_type": "stream",
     "text": [
      "<class 'netCDF4._netCDF4.Dataset'>\n",
      "root group (NETCDF4_CLASSIC data model, file format HDF5):\n",
      "    dimensions(sizes): source(9), diameter(6), lat(96), lon(144), bin(6)\n",
      "    variables(dimensions): float64 source(source), float64 bin_D_lower(diameter), float64 bin_D_upper(diameter), float64 lat(lat), float64 lon(lon), float64 Median(lat, lon, bin, source), float64 Mean(lat, lon, bin, source), float64 Neg1sigma(lat, lon, bin, source), float64 Pos1sigman(lat, lon, bin, source), float64 Neg2sigma(lat, lon, bin, source), float64 Pos2sigma(lat, lon, bin, source)\n",
      "    groups: \n"
     ]
    }
   ],
   "source": [
    "#----------\n",
    "# using DustCOMM 2021 papers b) https://dustcomm.atmos.ucla.edu/\n",
    "# specifically https://dustcomm.atmos.ucla.edu/data/K21b/ dataset DustCOMM_source_region_DAOD_seas_bin_abs.nc\n",
    "# assumes aspherical dust shape, PM20 dust\n",
    "#----------\n",
    "\n",
    "daod_Dustcomm_PM20_Dataset = Dataset('DustCOMM_source_region_DAOD_annual_bin_abs.nc')\n",
    "print(daod_Dustcomm_PM20_Dataset) #[season,source,diameter,lat,lon,bin]\n",
    "\n",
    "lat_Dustcomm_PM20 = np.array(daod_Dustcomm_PM20_Dataset.variables['lat'][:])\n",
    "lon_Dustcomm_PM20 = np.array(daod_Dustcomm_PM20_Dataset.variables['lon'][:])\n",
    "mean_Daod_Dustcomm_20PM = np.array(daod_Dustcomm_PM20_Dataset.variables['Mean'][:])\n",
    "#dustcomm_seas = np.array(daod_Dustcomm_PM20_Dataset.variables['season'][:])\n",
    "dustcomm_Sources_PM20 = np.array(daod_Dustcomm_PM20_Dataset.variables['source'][:]) \n",
    "dustcomm_bin_lower = np.array(daod_Dustcomm_PM20_Dataset.variables['bin_D_lower'][:])\n",
    "dustcomm_bin_upper = np.array(daod_Dustcomm_PM20_Dataset.variables['bin_D_upper'][:])"
   ]
  },
  {
   "cell_type": "code",
   "execution_count": 13,
   "id": "b6e21893-7a30-4397-a160-32c2c8414320",
   "metadata": {
    "tags": []
   },
   "outputs": [
    {
     "name": "stdout",
     "output_type": "stream",
     "text": [
      "<class 'netCDF4._netCDF4.Dataset'>\n",
      "root group (NETCDF4_CLASSIC data model, file format HDF5):\n",
      "    dimensions(sizes): source(9), diameter(6), lat(96), lon(144), bin(6)\n",
      "    variables(dimensions): float64 source(source), float64 bin_D_lower(diameter), float64 bin_D_upper(diameter), float64 lat(lat), float64 lon(lon), float64 Median(lat, lon, bin, source), float64 Mean(lat, lon, bin, source), float64 Neg1sigma(lat, lon, bin, source), float64 Pos1sigman(lat, lon, bin, source), float64 Neg2sigma(lat, lon, bin, source), float64 Pos2sigma(lat, lon, bin, source)\n",
      "    groups: \n"
     ]
    }
   ],
   "source": [
    "#----------\n",
    "# using DustCOMM 2021 papers b) https://dustcomm.atmos.ucla.edu/\n",
    "# specifically https://dustcomm.atmos.ucla.edu/data/K21b/ dataset DustCOMM_source_region_DAOD_seas_bin_abs.nc\n",
    "# assumes aspherical dust shape, PM20 dust\n",
    "#----------\n",
    "\n",
    "loading_Dustcomm_PM20_Dataset = Dataset('DustCOMM_source_region_dust_loading_annual_bin_abs.nc')\n",
    "print(loading_Dustcomm_PM20_Dataset) #[season,source,diameter,lat,lon,bin]\n",
    "\n",
    "loading_lat_Dustcomm_PM20 = np.array(loading_Dustcomm_PM20_Dataset.variables['lat'][:])\n",
    "loading_lon_Dustcomm_PM20 = np.array(loading_Dustcomm_PM20_Dataset.variables['lon'][:])\n",
    "mean_loading_Dustcomm_20PM = np.array(loading_Dustcomm_PM20_Dataset.variables['Mean'][:])\n",
    "#dustcomm_seas = np.array(daod_Dustcomm_PM20_Dataset.variables['season'][:])\n",
    "loading_dustcomm_Sources_PM20 = np.array(loading_Dustcomm_PM20_Dataset.variables['source'][:]) \n",
    "loading_dustcomm_bin_lower = np.array(loading_Dustcomm_PM20_Dataset.variables['bin_D_lower'][:])\n",
    "loading_dustcomm_bin_upper = np.array(loading_Dustcomm_PM20_Dataset.variables['bin_D_upper'][:])"
   ]
  },
  {
   "cell_type": "code",
   "execution_count": 14,
   "id": "c4dc8610",
   "metadata": {},
   "outputs": [
    {
     "name": "stdout",
     "output_type": "stream",
     "text": [
      "[ 0.2  0.5  1.   2.5  5.  10. ]\n",
      "[ 0.5  1.   2.5  5.  10.  20. ]\n"
     ]
    }
   ],
   "source": [
    "print(dustcomm_bin_lower)\n",
    "print(dustcomm_bin_upper)"
   ]
  },
  {
   "cell_type": "code",
   "execution_count": 15,
   "id": "dafdd644",
   "metadata": {
    "tags": []
   },
   "outputs": [],
   "source": [
    "mean_geometric_diameter_bin = np.sqrt(dustcomm_bin_lower*dustcomm_bin_upper)"
   ]
  },
  {
   "cell_type": "code",
   "execution_count": 16,
   "id": "847f93bc",
   "metadata": {
    "tags": []
   },
   "outputs": [
    {
     "name": "stdout",
     "output_type": "stream",
     "text": [
      "[ 0.31622777  0.70710678  1.58113883  3.53553391  7.07106781 14.14213562]\n"
     ]
    }
   ],
   "source": [
    "print(mean_geometric_diameter_bin)"
   ]
  },
  {
   "cell_type": "markdown",
   "id": "4cbed0f8",
   "metadata": {},
   "source": [
    "# Interpolate  Huang et al. 2023 size parameter and dust optical properties that best match Adebiyi RI's, and DustCOMM size parameter of each bin"
   ]
  },
  {
   "cell_type": "markdown",
   "id": "54e6578d",
   "metadata": {},
   "source": [
    "use DustCOMM Saharan and Sahelian dust partition in a grid box, in the DAOD. sum the two sahara sources, to calculate my own spatially resolved RI (Later)"
   ]
  },
  {
   "cell_type": "markdown",
   "id": "33d95dbc",
   "metadata": {},
   "source": [
    "match_d_opt_prop_sw = []\n",
    "match_n_RI_opt_prop_sw = []\n",
    "match_k_RI_opt_prop_sw = []\n",
    "n_RI_index = []\n",
    "k_RI_index = []North African dust has a mean imaginary refractive index at 550 nm wavelength of 0.0012 (one standard error range of 0.0009–0.0016\n",
    "and a real dust refractive index, nr = 1.51 ± 0.03 (which is the same for Sahara and Sahel) (Di Biagio et al. 2019)\n",
    "We assume that RI is constant across particle size (Adebiyi et al. 2023, Obiso et al. 2023)"
   ]
  },
  {
   "cell_type": "code",
   "execution_count": 17,
   "id": "64fe8cc2-4ad1-4e9f-b1fa-f238f3e24336",
   "metadata": {},
   "outputs": [],
   "source": [
    "# 14 RRTM SW bands - average wavelength of each band (in RRTM order)\n",
    "RRTM_SW_bands = [3.4615, 2.7885, 2.3255, 2.0465, 1.784, 1.4625, 1.2705, 1.01, 0.7015, 0.5335, 0.3935, 0.304, 0.2315, 8.0205]\n",
    "RRTM_SW_bands_sorted = np.sort(RRTM_SW_bands)"
   ]
  },
  {
   "cell_type": "code",
   "execution_count": 18,
   "id": "f5f86f42",
   "metadata": {
    "tags": []
   },
   "outputs": [],
   "source": [
    "#grid_box = [0,18] #0W, 18N\n",
    "North_African_dust_adebiyi_k = np.full(len(mean_geometric_diameter_bin),0.0012)\n",
    "North_African_dust_adebiyi_nr = np.full(len(mean_geometric_diameter_bin),1.51)"
   ]
  },
  {
   "cell_type": "code",
   "execution_count": 19,
   "id": "a545adcf-5000-4028-94f6-fcdf7624ee92",
   "metadata": {},
   "outputs": [
    {
     "name": "stdout",
     "output_type": "stream",
     "text": [
      "[1.51 1.51 1.51 1.51 1.51 1.51]\n"
     ]
    }
   ],
   "source": [
    "print(North_African_dust_adebiyi_nr)"
   ]
  },
  {
   "cell_type": "markdown",
   "id": "4d86460d-8df4-422c-bdc4-740119fd3896",
   "metadata": {},
   "source": [
    "Meeting Notes 1/4/24:\n",
    "\n",
    "Look at how solar zenith angle variation effects \"DRE\" (difference between the two fluxes)\n",
    "Send Jasper bulk dust optical properties by end of day tomorrow (plus text file)\n",
    "write script to run SW RRTM for different solar zenith angles"
   ]
  },
  {
   "cell_type": "code",
   "execution_count": 20,
   "id": "f52ceaa3-12ac-480f-89e7-fe77c6d9ad6e",
   "metadata": {
    "tags": []
   },
   "outputs": [
    {
     "name": "stdout",
     "output_type": "stream",
     "text": [
      "[array([ 0.28700241,  0.64175689,  1.43501203,  3.20878444,  6.41756888,\n",
      "        12.83513777])\n",
      " array([ 0.35626998,  0.79664388,  1.78134988,  3.98321942,  7.96643883,\n",
      "        15.93287767])\n",
      " array([ 0.42720225,  0.95525327,  2.13601124,  4.77626633,  9.55253266,\n",
      "        19.10506531])\n",
      " array([ 0.48544287,  1.08548325,  2.42721433,  5.42741625, 10.85483249,\n",
      "        21.70966498])\n",
      " array([ 0.55687154,  1.24520262,  2.7843577 ,  6.22601309, 12.45202617,\n",
      "        24.90405234])                                                   ]\n"
     ]
    }
   ],
   "source": [
    "size_parameter_geometric_diameter_bin = np.zeros(len(opt_prop_sw_array)+1, dtype=object)\n",
    "\n",
    "for irrtm in range(len(opt_prop_sw_array)+1):\n",
    "    size_parameter_geometric_diameter_bin[irrtm] = np.pi*mean_geometric_diameter_bin/RRTM_SW_bands[irrtm] #not sorted, in RRTM order\n",
    "print(size_parameter_geometric_diameter_bin)"
   ]
  },
  {
   "cell_type": "markdown",
   "id": "d58a1d67-c093-41cb-bab5-f31e17186000",
   "metadata": {},
   "source": [
    "## 1/22/24 Interpolate for each dust optical property"
   ]
  },
  {
   "cell_type": "code",
   "execution_count": 21,
   "id": "af05ded5-f0b9-416f-8fca-aeb1f2ac850f",
   "metadata": {},
   "outputs": [],
   "source": [
    "from scipy.interpolate import RegularGridInterpolator"
   ]
  },
  {
   "cell_type": "code",
   "execution_count": 22,
   "id": "2d59209e-2e72-4d73-91da-178d6adf211d",
   "metadata": {},
   "outputs": [
    {
     "data": {
      "text/plain": [
       "array([  0.8975979 ,   0.91824265,   0.939785  , ..., 606.3462317 ,\n",
       "       617.23499184, 628.31853072])"
      ]
     },
     "execution_count": 22,
     "metadata": {},
     "output_type": "execute_result"
    }
   ],
   "source": [
    "opt_prop_sw_array[0][2]"
   ]
  },
  {
   "cell_type": "code",
   "execution_count": 23,
   "id": "6e7b6131-9e84-4791-af4d-63590a88875a",
   "metadata": {},
   "outputs": [
    {
     "ename": "IndexError",
     "evalue": "index 6 is out of bounds for axis 0 with size 5",
     "output_type": "error",
     "traceback": [
      "\u001b[0;31m---------------------------------------------------------------------------\u001b[0m",
      "\u001b[0;31mIndexError\u001b[0m                                Traceback (most recent call last)",
      "Cell \u001b[0;32mIn[23], line 1\u001b[0m\n\u001b[0;32m----> 1\u001b[0m size_parameter_geometric_diameter_bin[\u001b[38;5;241m6\u001b[39m]\n",
      "\u001b[0;31mIndexError\u001b[0m: index 6 is out of bounds for axis 0 with size 5"
     ]
    }
   ],
   "source": [
    "size_parameter_geometric_diameter_bin[6]"
   ]
  },
  {
   "cell_type": "code",
   "execution_count": null,
   "id": "bdd72766-c50b-4c08-b7a0-1b03a5277a30",
   "metadata": {
    "tags": []
   },
   "outputs": [],
   "source": [
    "from scipy.interpolate import griddata \n",
    "\n",
    "def interpolate_bin_size_param_Qe(bin_data, iwl, irrtm):\n",
    "    x = bin_data[iwl][2]  # size parameter\n",
    "    y = bin_data[iwl][3]  # real RI\n",
    "    z = bin_data[iwl][4]  # imaginary RI\n",
    "    Q_e = bin_data[iwl][5]\n",
    "\n",
    "    # Check for nan values and handle them (fill with a specific value, e.g., 0)\n",
    "    x = np.nan_to_num(x, nan=0.0)\n",
    "    y = np.nan_to_num(y, nan=0.0)\n",
    "    z = np.nan_to_num(z, nan=0.0)\n",
    "    Q_e = np.nan_to_num(Q_e, nan=0.0)\n",
    "\n",
    "    # Define points where you want to interpolate\n",
    "    x_interp = size_parameter_geometric_diameter_bin[irrtm]\n",
    "    y_interp = North_African_dust_adebiyi_nr\n",
    "    z_interp = North_African_dust_adebiyi_k\n",
    "\n",
    "    # Create a meshgrid from interpolation points\n",
    "    x_interp, y_interp, z_interp = np.meshgrid(x_interp, y_interp, z_interp, indexing='ij')\n",
    "\n",
    "    # Combine the coordinates into a 2D array of points\n",
    "    points = np.column_stack((x_interp.flatten(), y_interp.flatten(), z_interp.flatten()))\n",
    "\n",
    "    # Interpolate the values using griddata and handle nan values with fill_value\n",
    "    fill_value = np.nan  # specify the fill_value for nan\n",
    "    result = griddata((x.flatten(), y.flatten(), z.flatten()), Q_e.flatten(), points, method='linear', fill_value=fill_value)\n",
    "\n",
    "    # Reshape the result to match the shape of the input meshgrid\n",
    "    result = result.reshape(x_interp.shape)\n",
    "\n",
    "    # Print the interpolated values\n",
    "    print(\"Interpolated Qe Values:\", np.array((result[0][0][0],result[1][0][0],result[2][0][0],result[3][0][0],result[4][0][0],result[5][0][0])))\n",
    "    return np.array((result[0][0][0],result[1][0][0],result[2][0][0],result[3][0][0],result[4][0][0],result[5][0][0]))\n",
    "\n",
    "arrayy = np.zeros((len(opt_prop_sw_array)+1, len(opt_prop_sw_array)), dtype=object)\n",
    "# Example usage\n",
    "for iwl in range(len(opt_prop_sw_array)):\n",
    "    for irrtm in range(len(size_parameter_geometric_diameter_bin)):\n",
    "        arrayy[irrtm,iwl] = interpolate_bin_size_param_Qe(opt_prop_sw_array, iwl,irrtm)\n",
    "#interpolate_bin_size_param_Qe(opt_prop_sw_array, 0,0)"
   ]
  },
  {
   "cell_type": "markdown",
   "id": "c15d35b4-f444-4be4-ad3f-8accd57c217c",
   "metadata": {},
   "source": [
    "# Calculate bulk dust Optical properties for (0W, 18N)"
   ]
  },
  {
   "cell_type": "markdown",
   "id": "51966565-17e3-41bc-9928-4f68b6dad2e1",
   "metadata": {},
   "source": [
    "Reorder dust optical properties so it is in order (Q_e, ssa, g)"
   ]
  },
  {
   "cell_type": "code",
   "execution_count": null,
   "id": "24677810-49f0-462b-a826-93880f19a963",
   "metadata": {
    "tags": []
   },
   "outputs": [],
   "source": [
    "# Calculate and print for each bin\n",
    "all_bins_opt_prop_array = []\n",
    "\n",
    "# Convert the list to a NumPy array\n",
    "all_bins_opt_prop_array = np.array((bin1_opt_prop_interp_size_param_y, bin2_opt_prop_interp_size_param_y, bin3_opt_prop_interp_size_param_y, bin4_opt_prop_interp_size_param_y, bin5_opt_prop_interp_size_param_y, bin6_opt_prop_interp_size_param_y))\n",
    "print(all_bins_opt_prop_array)"
   ]
  },
  {
   "cell_type": "code",
   "execution_count": null,
   "id": "7e01b6c3-b334-4859-9c51-197189a4e936",
   "metadata": {
    "tags": []
   },
   "outputs": [],
   "source": [
    "print(loading_lat_Dustcomm_PM20.shape)\n",
    "print(loading_lon_Dustcomm_PM20.shape)\n",
    "print(mean_loading_Dustcomm_20PM.shape)\n",
    "print(mean_loading_Dustcomm_20PM[0,0,1,2])\n",
    "#dimensions(sizes): source(9), diameter(6), lat(96), lon(144), bin(6)\n",
    "index_0W = []\n",
    "index_18N = []\n",
    "\n",
    "lat_0W = 0\n",
    "lon_18N = 18\n",
    "\n",
    "for ilat in range(0,len(loading_lat_Dustcomm_PM20)):\n",
    "    if np.round(loading_lat_Dustcomm_PM20[ilat]) -1 == lat_0W:\n",
    "        print(loading_lat_Dustcomm_PM20[ilat])\n",
    "        index_0W.append(ilat)\n",
    "\n",
    "for ilon in range(0,len(loading_lon_Dustcomm_PM20)):\n",
    "    if np.round(loading_lon_Dustcomm_PM20[ilon]) == lon_18N: \n",
    "        print(loading_lon_Dustcomm_PM20[ilon])\n",
    "        index_18N.append(ilon)\n",
    "print(index_0W,index_18N)"
   ]
  },
  {
   "cell_type": "code",
   "execution_count": null,
   "id": "6f05297a-ca42-4663-94b8-ab1effad0089",
   "metadata": {
    "tags": []
   },
   "outputs": [],
   "source": [
    "total_North_African_loading = mean_loading_Dustcomm_20PM[:,:,:,0] + mean_loading_Dustcomm_20PM[:,:,:,1] + mean_loading_Dustcomm_20PM[:,:,:,2]\n",
    "Sarahan_laoding = mean_loading_Dustcomm_20PM[:,:,:,0] + mean_loading_Dustcomm_20PM[:,:,:,1]\n",
    "Sahelian_loading = mean_loading_Dustcomm_20PM[:,:,:,2]\n",
    "print(total_North_African_loading.shape)"
   ]
  },
  {
   "cell_type": "code",
   "execution_count": null,
   "id": "baf6399d-f3dd-433b-a539-51715ccc1203",
   "metadata": {
    "tags": []
   },
   "outputs": [],
   "source": [
    "#ρ_d=(2.5±0.2)×10^3 kg m-3 is the globally representative density of dust aerosols (Fratini et al., 2007; Reid et al., 2008; Kaaden et al., 2009; Sow et al., 2009)\n",
    "ρ_d = 2.5e3\n",
    "delta_m_Db = total_North_African_loading[48,78,:]\n",
    "print('delta_m_Db',delta_m_Db)\n",
    "\n",
    "Q_e_bulk_0W_18N_bin_num = np.zeros(6)\n",
    "Q_e_bulk_0W_18N_bin_den = np.zeros(6)\n",
    "SSA_bulk_0W_18N_bin_num = np.zeros(6)\n",
    "SSA_bulk_0W_18N_bin_den = np.zeros(6)\n",
    "Q_scat = np.zeros(6)\n",
    "g_bulk_0W_18N_bin_num = np.zeros(6)\n",
    "g_bulk_0W_18N_bin_den = np.zeros(6)\n",
    "\n",
    "#all_bins_opt_prop_array[i][0] = Q_e of bin i\n",
    "#all_bins_opt_prop_array[i][1] = SSA of bin i\n",
    "#all_bins_opt_prop_array[i][2] = g of bin i\n",
    "\n",
    "for i in range(0,len(all_bins_opt_prop_array)):\n",
    "    Q_e_bulk_0W_18N_bin_num[i] = (delta_m_Db[i]*(np.pi/4)*(mean_geometric_diameter_bin[i]**2)*all_bins_opt_prop_array[i][0])/((np.pi/6)*(mean_geometric_diameter_bin[i]**3)*ρ_d)\n",
    "    Q_e_bulk_0W_18N_bin_den[i] = (delta_m_Db[i]*(np.pi/4)*(mean_geometric_diameter_bin[i]**2))/((np.pi/6)*(mean_geometric_diameter_bin[i]**3)*ρ_d)\n",
    "    \n",
    "    SSA_bulk_0W_18N_bin_num[i] = (delta_m_Db[i]*(np.pi/4)*(mean_geometric_diameter_bin[i]**2)*all_bins_opt_prop_array[i][0]*all_bins_opt_prop_array[i][1])/((np.pi/6)*(mean_geometric_diameter_bin[i]**3)*ρ_d)\n",
    "    SSA_bulk_0W_18N_bin_den[i] = (delta_m_Db[i]*(np.pi/4)*(mean_geometric_diameter_bin[i]**2)*all_bins_opt_prop_array[i][0])/((np.pi/6)*(mean_geometric_diameter_bin[i]**3)*ρ_d)\n",
    "    \n",
    "    Q_scat[i] = all_bins_opt_prop_array[i][1] * all_bins_opt_prop_array[i][0]\n",
    "    \n",
    "    g_bulk_0W_18N_bin_num[i] = (delta_m_Db[i]*(np.pi/4)*(mean_geometric_diameter_bin[i]**2)*Q_scat[i]*all_bins_opt_prop_array[i][2])/((np.pi/6)*(mean_geometric_diameter_bin[i]**3)*ρ_d)\n",
    "    g_bulk_0W_18N_bin_den[i] = (delta_m_Db[i]*(np.pi/4)*(mean_geometric_diameter_bin[i]**2)*Q_scat[i])/((np.pi/6)*(mean_geometric_diameter_bin[i]**3)*ρ_d)\n",
    "    "
   ]
  },
  {
   "cell_type": "code",
   "execution_count": null,
   "id": "465b9733-0880-4024-87f8-7c84c2945453",
   "metadata": {
    "tags": []
   },
   "outputs": [],
   "source": [
    "# Calculate values\n",
    "Q_e_bulk_0W_18N_bulk = np.sum(Q_e_bulk_0W_18N_bin_num) / np.sum(Q_e_bulk_0W_18N_bin_den)\n",
    "SSA_bulk_0W_18N_bulk = np.sum(SSA_bulk_0W_18N_bin_num) / np.sum(SSA_bulk_0W_18N_bin_den)\n",
    "g_bulk_0W_18N_bulk = np.sum(g_bulk_0W_18N_bin_num) / np.sum(g_bulk_0W_18N_bin_den)\n",
    "\n",
    "# Print the values\n",
    "print(\"Q_e_bulk_0W_18N_bulk: \", Q_e_bulk_0W_18N_bulk)\n",
    "print(\"SSA_bulk_0W_18N_bulk: \", SSA_bulk_0W_18N_bulk)\n",
    "print(\"g_bulk_0W_18N_bulk: \", g_bulk_0W_18N_bulk)"
   ]
  },
  {
   "cell_type": "code",
   "execution_count": null,
   "id": "9275b49d-fb11-41ea-bf95-2905e3379da1",
   "metadata": {
    "tags": []
   },
   "outputs": [],
   "source": [
    "def create_if_not_exists(file_path):\n",
    "    if not os.path.exists(file_path):\n",
    "        with open(file_path, 'w') as file:\n",
    "            # You can optionally write initial content to the file\n",
    "            file.write(\"Wavelength\\tQ_e_bulk_0W_18N_bulk\\tSSA_bulk_0W_18N_bulk\\tg_bulk_0W_18N_bulk\\t\" + '\\n')\n",
    "            #file.write(f\"Q_e_bulk_0W_18N_bulk\\t\")\n",
    "            #file.write(f\"SSA_bulk_0W_18N_bulk\\t\")\n",
    "            #file.write(f\"g_bulk_0W_18N_bulk\\t\\n\")\n",
    "        print(f\"File '{file_path}' created.\")\n",
    "    else:\n",
    "        print(f\"File '{file_path}' already exists.\")\n",
    "\n",
    "# Check if dust optical properties txt file already exists\n",
    "file_path1 = 'RRTM_bulk_dust_optical_properties.txt'\n",
    "file_path2 = 'RRTM_bulk_dust_optical_properties_{}.txt'.format(wavelength)\n",
    "create_if_not_exists(file_path1)\n",
    "create_if_not_exists(file_path2)"
   ]
  },
  {
   "cell_type": "code",
   "execution_count": null,
   "id": "a0d24f11-1cc7-4616-9768-da145934ddb3",
   "metadata": {
    "tags": []
   },
   "outputs": [],
   "source": [
    "# Assuming Q_e_bulk_0W_18N_bulk, SSA_bulk_0W_18N_bulk, g_bulk_0W_18N_bulk are numpy arrays\n",
    "\n",
    "# Data to append\n",
    "data_to_append = np.column_stack((wavelength, Q_e_bulk_0W_18N_bulk, SSA_bulk_0W_18N_bulk, g_bulk_0W_18N_bulk))\n",
    "\n",
    "# Open the file in append mode and use np.savetxt to append data\n",
    "with open('bulk_dust_optical_properties_{}.txt'.format(wavelength), 'a') as file:\n",
    "    np.savetxt(file, data_to_append, fmt='%5.3f', delimiter='\\t', header='', comments='')\n",
    "    \n",
    "# Open the file in append mode and use np.savetxt to append data\n",
    "with open('bulk_dust_optical_properties.txt', 'a') as file:\n",
    "    np.savetxt(file, data_to_append, fmt='%5.3f', delimiter='\\t', header='', comments='')"
   ]
  },
  {
   "cell_type": "code",
   "execution_count": null,
   "id": "743b39cb-cda8-48ac-a980-f500984ee568",
   "metadata": {},
   "outputs": [],
   "source": []
  }
 ],
 "metadata": {
  "kernelspec": {
   "display_name": "rrtm_env",
   "language": "python",
   "name": "rrtm_env"
  },
  "language_info": {
   "codemirror_mode": {
    "name": "ipython",
    "version": 3
   },
   "file_extension": ".py",
   "mimetype": "text/x-python",
   "name": "python",
   "nbconvert_exporter": "python",
   "pygments_lexer": "ipython3",
   "version": "3.11.4"
  }
 },
 "nbformat": 4,
 "nbformat_minor": 5
}
