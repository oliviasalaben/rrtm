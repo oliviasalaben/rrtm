{
 "cells": [
  {
   "cell_type": "code",
   "execution_count": 1,
   "id": "07d6c587",
   "metadata": {
    "tags": []
   },
   "outputs": [],
   "source": [
    "import os\n",
    "import scipy.io as io\n",
    "import numpy as np\n",
    "import pandas as pd\n",
    "from scipy.interpolate import interp1d\n",
    "import sys\n",
    "import math\n",
    "from netCDF4 import Dataset\n",
    "import os, calendar, sys, fnmatch, datetime"
   ]
  },
  {
   "cell_type": "code",
   "execution_count": 2,
   "id": "ad023b27",
   "metadata": {},
   "outputs": [],
   "source": [
    "def extract_unique_values(input_array):\n",
    "    unique_values = np.unique(input_array)\n",
    "    return unique_values"
   ]
  },
  {
   "cell_type": "markdown",
   "id": "f01c49b7",
   "metadata": {
    "tags": []
   },
   "source": [
    "# Load Huang et al. 2023 Ellipsoidal dust optical properties files"
   ]
  },
  {
   "cell_type": "code",
   "execution_count": 3,
   "id": "12b2bf5a-76b6-47d0-aeca-a3b71daf7df7",
   "metadata": {
    "tags": []
   },
   "outputs": [],
   "source": [
    "# ===== Aerosol (e.g., dust) optical properties (i.e., Qext, SSA, g) =====\n",
    "# ***Note: The order of 14 bands is listed in TABLE 1 in RRTM_SW instruction (It is not monotonically increase or decrease)\n",
    "# ***Note: The order of spectral optical properties should be consistent with the order in TABLE 1\n",
    "\n",
    "def process_optical_properties(wavelength_band, txt_files):\n",
    "    wavelength = wavelength_range[wavelength_band]\n",
    "    #print(txt_files[wavelength_band])\n",
    "    opt_prop_sw_original = np.loadtxt(opt_dir + '{}'.format(txt_files[wavelength_band]))\n",
    "    #print(opt_prop_sw_original.shape)\n",
    "\n",
    "    wl = np.array(opt_prop_sw_original[:,0]) #in um \n",
    "    dust_d = np.array(opt_prop_sw_original[:,1]) #in um\n",
    "    size_parameter = np.pi * dust_d / wl #f'size_parameter_{wavelength:.4f}': size_parameter,\n",
    "    n_RI = np.array(opt_prop_sw_original[:,2])\n",
    "    k_RI = np.array(opt_prop_sw_original[:,3])\n",
    "    \n",
    "    qe_dust_sw = np.array(opt_prop_sw_original[:,4])\n",
    "    mask = qe_dust_sw > 10\n",
    "    qe_dust_sw[mask] = np.nan\n",
    "    ssa_dust_sw = np.array(opt_prop_sw_original[:,5])\n",
    "    ssa_dust_sw[mask] = np.nan\n",
    "    g_dust_sw = np.array(opt_prop_sw_original[:,6])\n",
    "    g_dust_sw[mask] = np.nan\n",
    "\n",
    "    # Create variable names dynamically\n",
    "    variables = {\n",
    "        f'wl_{wavelength:.4f}': wl,\n",
    "        f'dust_d_{wavelength:.4f}': dust_d,\n",
    "        f'size_parameter_{wavelength:.4f}': size_parameter,\n",
    "        f'n_RI_{wavelength:.4f}': n_RI,\n",
    "        f'k_RI_{wavelength:.4f}': k_RI,\n",
    "        f'qe_dust_sw_{wavelength:.4f}': qe_dust_sw,\n",
    "        f'ssa_dust_sw_{wavelength:.4f}': ssa_dust_sw,\n",
    "        f'g_dust_sw_{wavelength:.4f}': g_dust_sw,\n",
    "    }\n",
    "    return np.array((wl,dust_d,size_parameter,n_RI,k_RI,qe_dust_sw,ssa_dust_sw,g_dust_sw)) #variables\n"
   ]
  },
  {
   "cell_type": "code",
   "execution_count": 4,
   "id": "f0fb753a-937e-4661-996e-5d5d7c71d25e",
   "metadata": {
    "tags": []
   },
   "outputs": [],
   "source": [
    "# SW Wavelength range and files\n",
    "opt_dir = 'SW_Huang_Dust_Optics/'\n",
    "wavelength_range = [0.35, 0.55, 0.75, 0.95] #, 2, 4, 6, 8, 10, 12, 14, 16, 35]\n",
    "Huang_2023_dust_opt_prop_txt_files = ['shapein_TAMU_0.3500.txt', 'shapein_TAMU_0.5500.txt', 'shapein_TAMU_0.7500.txt', 'shapein_TAMU_0.9500.txt'] # 'shapein_TAMU_2.0000.txt', 'shapein_TAMU_4.0000.txt', 'shapein_TAMU_6.0000.txt', 'shapein_TAMU_8.0000.txt', 'shapein_TAMU_10.0000.txt', 'shapein_TAMU_12.0000.txt', 'shapein_TAMU_14.0000.txt', 'shapein_TAMU_16.0000.txt', 'shapein_TAMU_35.0000.txt']\n",
    "\n",
    "# Array to store results\n",
    "opt_prop_sw_array = np.empty(len(wavelength_range), dtype=object)\n",
    "\n",
    "# Process optical properties for each wavelength band\n",
    "for i in range(len(wavelength_range)):\n",
    "    opt_prop_sw = process_optical_properties(i, Huang_2023_dust_opt_prop_txt_files)\n",
    "    opt_prop_sw_array[i] = opt_prop_sw"
   ]
  },
  {
   "cell_type": "code",
   "execution_count": 5,
   "id": "8945c847-ba97-4999-b8a3-82286a8f203a",
   "metadata": {},
   "outputs": [
    {
     "name": "stdout",
     "output_type": "stream",
     "text": [
      "(4,)\n"
     ]
    }
   ],
   "source": [
    "opt_prop_sw_array[0][2].shape\n",
    "unique_size_param = np.empty(len(wavelength_range), dtype=object)\n",
    "for i in range(len(wavelength_range)):\n",
    "    unique_size_param[i] = extract_unique_values(opt_prop_sw_array[i][2])\n",
    "print(unique_size_param.shape) #300 for each wavelength \n",
    "#choose every 10 for each wavelength \n",
    "\n",
    "#then chose every 10, and sort them (it's okay that it is logarithmic)"
   ]
  },
  {
   "cell_type": "markdown",
   "id": "d9b10764-4c12-4dd7-997d-04193ac3169d",
   "metadata": {},
   "source": [
    "## Create Yue Size parameter, real RI, and imaginary RI matrix"
   ]
  },
  {
   "cell_type": "markdown",
   "id": "df0d5937-0d34-4a92-a700-53c30372ca2d",
   "metadata": {},
   "source": [
    "create a file of the three dimensional grid, those three dimensions being size parameter, real RI, and imaginary RI. The second and third dimensions here are easier and would be those values relevant to your problem, so I'd suggest (1.50, 1.52, 1.53, 1.56) and (0.0005, 0.001, 0.002, 0.003). The first dimension is pretty annoying because there will be so many values since the data is finely spaced in D (300 values per wavelength) and you will have four different SW wavelengths to use (350, 550, 750, and 950 nm; don't use the other ones because the RI there is for the LW). So I'd suggest only using every 10th value to keep the size of the matrix reasonable (120 size parameter values). Once you've created this three-dimensional grid (120x4x4), "
   ]
  },
  {
   "cell_type": "code",
   "execution_count": 6,
   "id": "3802574f-f897-43c8-9e46-e5741879f9fd",
   "metadata": {},
   "outputs": [
    {
     "name": "stdout",
     "output_type": "stream",
     "text": [
      "120\n",
      "(3,) [array([3.30693964e-01, 4.16674394e-01, 4.18879020e-01, 5.25142014e-01,\n",
      "        5.27787566e-01, 5.71198664e-01, 6.62049315e-01, 6.65179885e-01,\n",
      "        7.19710317e-01, 8.34340870e-01, 8.38595799e-01, 8.97597901e-01,\n",
      "        9.07063479e-01, 1.05160680e+00, 1.05683177e+00, 1.13097336e+00,\n",
      "        1.14353973e+00, 1.32542141e+00, 1.33203529e+00, 1.42538547e+00,\n",
      "        1.44113423e+00, 1.67033521e+00, 1.67886711e+00, 1.79699100e+00,\n",
      "        1.81641175e+00, 2.10519777e+00, 2.11575793e+00, 2.26463950e+00,\n",
      "        2.28936425e+00, 2.65315767e+00, 2.66658384e+00, 2.85436133e+00,\n",
      "        2.88512445e+00, 3.34397736e+00, 3.36066638e+00, 3.59757239e+00,\n",
      "        3.63625070e+00, 4.21436387e+00, 4.23570466e+00, 4.53376700e+00,\n",
      "        4.58272688e+00, 5.31127575e+00, 5.33819424e+00, 5.71410824e+00,\n",
      "        5.77596089e+00, 6.69390721e+00, 6.72761595e+00, 7.20142796e+00,\n",
      "        7.27935578e+00, 8.43666440e+00, 8.47894913e+00, 9.07650998e+00,\n",
      "        9.17402175e+00, 1.06328030e+01, 1.06864416e+01, 1.14389877e+01,\n",
      "        1.15622034e+01, 1.34007115e+01, 1.34682171e+01, 1.44163199e+01,\n",
      "        1.45724203e+01, 1.68895328e+01, 1.69742345e+01, 1.81691767e+01,\n",
      "        1.83657507e+01, 2.12861090e+01, 2.13934082e+01, 2.28995177e+01,\n",
      "        2.31466835e+01, 2.68272171e+01, 2.69624048e+01, 2.88604653e+01,\n",
      "        2.91728294e+01, 3.38111429e+01, 3.39811417e+01, 3.63733597e+01,\n",
      "        3.67669156e+01, 4.26128934e+01, 4.28274477e+01, 4.58430176e+01,\n",
      "        4.63379204e+01, 5.37060225e+01, 5.39763317e+01, 5.77765817e+01,\n",
      "        5.84010650e+01, 6.77922625e+01, 6.80276284e+01, 7.28167321e+01,\n",
      "        7.36040887e+01, 8.09985260e+01, 8.58701992e+01, 9.17731022e+01,\n",
      "        9.27649479e+01, 9.67772577e+01, 1.02598133e+02, 1.15629459e+02,\n",
      "        1.15663568e+02, 1.17095726e+02, 1.22584526e+02, 1.38154679e+02,\n",
      "        1.39906545e+02, 1.45773490e+02, 1.46463982e+02, 1.65067545e+02,\n",
      "        1.67160718e+02, 1.74995926e+02, 1.84007570e+02, 1.97222904e+02,\n",
      "        1.99723611e+02, 2.09085557e+02, 2.19853142e+02, 2.38630808e+02,\n",
      "        2.49815678e+02, 2.62681128e+02, 2.85116669e+02, 3.13851389e+02,\n",
      "        3.40657743e+02, 3.74991270e+02, 4.48040480e+02, 5.35319310e+02])\n",
      " array([1.5 , 1.52, 1.53, 1.56]) array([0.0005, 0.001 , 0.002 , 0.003 ])]\n"
     ]
    }
   ],
   "source": [
    "Yue_real_RI_range = np.array([1.50, 1.52, 1.53, 1.56])\n",
    "Yue_imag_RI_range = np.array([0.0005, 0.001, 0.002, 0.003])\n",
    "Yue_size_parameter_range = [] #np.zeros(120, dtype=object)\n",
    "for i in range(0,len(wavelength_range)):\n",
    "    for j in range(0,len(unique_size_param[i]),10):\n",
    "        Yue_size_parameter_range.append(unique_size_param[i][j])\n",
    "Yue_size_parameter_range = np.sort(Yue_size_parameter_range)\n",
    "Yue_size_parameter_range = np.array(Yue_size_parameter_range)\n",
    "print(len(Yue_size_parameter_range))\n",
    "\n",
    "Yue_size_parameter_and_Ri_matrix = np.array((Yue_size_parameter_range, Yue_real_RI_range, Yue_imag_RI_range), dtype=object)\n",
    "print(Yue_size_parameter_and_Ri_matrix.shape,Yue_size_parameter_and_Ri_matrix)\n",
    "\n",
    "io.savemat(\"Yue_size_parameter_and_Ri_matrix.mat\", {\"array\": Yue_size_parameter_and_Ri_matrix})"
   ]
  },
  {
   "cell_type": "code",
   "execution_count": 7,
   "id": "4b860b22-3b6c-4904-ab00-9ea3a78444f1",
   "metadata": {},
   "outputs": [
    {
     "name": "stdout",
     "output_type": "stream",
     "text": [
      "Shape of final matrix: (120, 4, 4)\n",
      "[[[  1.83119396   1.83169396   1.83269396   1.83369396]\n",
      "  [  1.85119396   1.85169396   1.85269396   1.85369396]\n",
      "  [  1.86119396   1.86169396   1.86269396   1.86369396]\n",
      "  [  1.89119396   1.89169396   1.89269396   1.89369396]]\n",
      "\n",
      " [[  1.91717439   1.91767439   1.91867439   1.91967439]\n",
      "  [  1.93717439   1.93767439   1.93867439   1.93967439]\n",
      "  [  1.94717439   1.94767439   1.94867439   1.94967439]\n",
      "  [  1.97717439   1.97767439   1.97867439   1.97967439]]\n",
      "\n",
      " [[  1.91937902   1.91987902   1.92087902   1.92187902]\n",
      "  [  1.93937902   1.93987902   1.94087902   1.94187902]\n",
      "  [  1.94937902   1.94987902   1.95087902   1.95187902]\n",
      "  [  1.97937902   1.97987902   1.98087902   1.98187902]]\n",
      "\n",
      " ...\n",
      "\n",
      " [[376.49177031 376.49227031 376.49327031 376.49427031]\n",
      "  [376.51177031 376.51227031 376.51327031 376.51427031]\n",
      "  [376.52177031 376.52227031 376.52327031 376.52427031]\n",
      "  [376.55177031 376.55227031 376.55327031 376.55427031]]\n",
      "\n",
      " [[449.54098029 449.54148029 449.54248029 449.54348029]\n",
      "  [449.56098029 449.56148029 449.56248029 449.56348029]\n",
      "  [449.57098029 449.57148029 449.57248029 449.57348029]\n",
      "  [449.60098029 449.60148029 449.60248029 449.60348029]]\n",
      "\n",
      " [[536.81980979 536.82030979 536.82130979 536.82230979]\n",
      "  [536.83980979 536.84030979 536.84130979 536.84230979]\n",
      "  [536.84980979 536.85030979 536.85130979 536.85230979]\n",
      "  [536.87980979 536.88030979 536.88130979 536.88230979]]]\n"
     ]
    }
   ],
   "source": [
    "# Repeat arrays to match the desired shape\n",
    "repeated_Yue_size_parameter_range = np.repeat(Yue_size_parameter_range[:, np.newaxis, np.newaxis], 4, axis=1)\n",
    "repeated_Yue_size_parameter_range = np.repeat(repeated_Yue_size_parameter_range, 4, axis=2)\n",
    "\n",
    "repeated_Yue_real_RI_range = np.repeat(Yue_real_RI_range[np.newaxis, :, np.newaxis], 120, axis=0)\n",
    "repeated_Yue_real_RI_range = np.repeat(repeated_Yue_real_RI_range, 4, axis=2)\n",
    "\n",
    "repeated_Yue_imag_RI_range = np.repeat(Yue_imag_RI_range[np.newaxis, np.newaxis, :], 120, axis=0)\n",
    "repeated_Yue_imag_RI_range = np.repeat(repeated_Yue_imag_RI_range, 4, axis=1)\n",
    "\n",
    "# Combine repeated arrays to form the final matrix\n",
    "Yue_coord_matrix = repeated_Yue_size_parameter_range + repeated_Yue_real_RI_range+ repeated_Yue_imag_RI_range  # You can modify this according to your requirements\n",
    "\n",
    "print(\"Shape of final matrix:\", Yue_coord_matrix.shape)\n",
    "print(Yue_coord_matrix)\n",
    "io.savemat(\"Yue_coord_matrix.mat\", {\"array\": Yue_coord_matrix})"
   ]
  },
  {
   "cell_type": "markdown",
   "id": "b24e77d3-69fa-4cfc-9962-3324d7d9b47a",
   "metadata": {},
   "source": [
    "## Create Yue Q_e matrix"
   ]
  },
  {
   "cell_type": "markdown",
   "id": "00075d0d-a303-4b2d-8336-bbf6c0f8ddcc",
   "metadata": {},
   "source": [
    " you need to create a matrix with the same dimensions as your three-dimensional grid that contains the values of Q_ext. You do this by creating a matrix with NaN values with those dimensions and then reading in all Yue's data (at the four wavelengths, using only every tenth data point) and writing each value to this new matrix at the corresponding coordinate. Once you're done, you'll end with a matrix that has a lot of values filled in, but ~75% of the values will be NaNs. "
   ]
  },
  {
   "cell_type": "code",
   "execution_count": 8,
   "id": "a7db72ec-2a16-4e61-a69c-95941fc15846",
   "metadata": {},
   "outputs": [
    {
     "data": {
      "text/plain": [
       "14400"
      ]
     },
     "execution_count": 8,
     "metadata": {},
     "output_type": "execute_result"
    }
   ],
   "source": [
    "len(opt_prop_sw_array[0][5])"
   ]
  },
  {
   "cell_type": "code",
   "execution_count": 9,
   "id": "4c878a00-acd0-49f2-8b51-3a67dfa87e88",
   "metadata": {},
   "outputs": [
    {
     "name": "stdout",
     "output_type": "stream",
     "text": [
      "[[[0.00579967 0.00632022 0.00770392 0.0086648 ]\n",
      "  [0.01248496 0.01330467 0.01139741 0.01176294]\n",
      "  [0.01326303 0.01411491 0.01287314 0.01318581]\n",
      "  [0.0149366  0.01585537 0.01647204 0.01705219]]\n",
      "\n",
      " [[0.01340117 0.014065   0.01592071 0.01716373]\n",
      "  [0.02430584 0.02540136 0.02369377 0.02403838]\n",
      "  [0.02728247 0.02849257 0.02702707 0.02725993]\n",
      "  [0.03362425 0.03507405 0.03559898 0.03619906]]\n",
      "\n",
      " [[0.0135232  0.01418854 0.01615054 0.01741957]\n",
      "  [0.02362136 0.0246824  0.02380374 0.02430806]\n",
      "  [0.02674221 0.02792281 0.02715652 0.0275623 ]\n",
      "  [0.03367749 0.03512014 0.03594494 0.03667028]]\n",
      "\n",
      " ...\n",
      "\n",
      " [[       nan        nan        nan        nan]\n",
      "  [       nan        nan        nan        nan]\n",
      "  [       nan        nan        nan        nan]\n",
      "  [       nan        nan        nan        nan]]\n",
      "\n",
      " [[       nan        nan        nan        nan]\n",
      "  [       nan        nan        nan        nan]\n",
      "  [       nan        nan        nan        nan]\n",
      "  [       nan        nan        nan        nan]]\n",
      "\n",
      " [[       nan        nan        nan        nan]\n",
      "  [       nan        nan        nan        nan]\n",
      "  [       nan        nan        nan        nan]\n",
      "  [       nan        nan        nan        nan]]]\n"
     ]
    }
   ],
   "source": [
    "def populate_Qe_matrix(Qe_matrix, wavelength_range, Yue_size_parameter_and_Ri_matrix, opt_prop_sw_array):\n",
    "    \"\"\"\n",
    "    Populate Qe_matrix based on conditions for all wavelengths.\n",
    "\n",
    "    Parameters:\n",
    "    - Qe_matrix: numpy array\n",
    "    - wavelength_range: range\n",
    "    - Yue_size_parameter_and_Ri_matrix: list\n",
    "    - opt_prop_sw_array: list\n",
    "\n",
    "    Returns:\n",
    "    - Qe_matrix: numpy array, populated Qe_matrix\n",
    "\n",
    "    \"\"\"\n",
    "\n",
    "    for iwl in wavelength_range:\n",
    "        for i in range(len(Yue_size_parameter_and_Ri_matrix[0])):\n",
    "            for j in range(len(Yue_size_parameter_and_Ri_matrix[1])):\n",
    "                for k in range(len(Yue_size_parameter_and_Ri_matrix[2])):\n",
    "                    if np.isnan(Qe_matrix[i, j, k]):\n",
    "                        for w in range(0, len(opt_prop_sw_array[iwl][5]), 10):\n",
    "                            if (Yue_size_parameter_and_Ri_matrix[0][i] == opt_prop_sw_array[iwl][2][w] and\n",
    "                                Yue_size_parameter_and_Ri_matrix[1][j] == opt_prop_sw_array[iwl][3][w] and \n",
    "                                Yue_size_parameter_and_Ri_matrix[2][k] == opt_prop_sw_array[iwl][4][w]):\n",
    "                                    Qe_matrix[i, j, k] = opt_prop_sw_array[iwl][5][w]\n",
    "\n",
    "    return Qe_matrix\n",
    "\n",
    "# Example data (replace with your actual data)\n",
    "wavelength_range = range(len(wavelength_range))\n",
    "\n",
    "# Set up Qe_matrix with nan values\n",
    "Qe_matrix = np.full((120, 4, 4), np.nan, dtype=float)\n",
    "\n",
    "# Populate Qe_matrix based on conditions for all wavelengths\n",
    "Qe_matrix = populate_Qe_matrix(Qe_matrix, wavelength_range, Yue_size_parameter_and_Ri_matrix, opt_prop_sw_array)\n",
    "\n",
    "print(Qe_matrix)\n",
    "io.savemat(\"Qe_matrix.mat\", {\"array\": Qe_matrix})"
   ]
  },
  {
   "cell_type": "code",
   "execution_count": 10,
   "id": "2e7d7117-37a9-449f-916c-145aa3f4f43f",
   "metadata": {},
   "outputs": [
    {
     "name": "stdout",
     "output_type": "stream",
     "text": [
      "Number of nan values: 80\n"
     ]
    }
   ],
   "source": [
    "def count_nan_values(matrix):\n",
    "    \"\"\"\n",
    "    Count the number of nan values in a multidimensional array.\n",
    "\n",
    "    Parameters:\n",
    "    - matrix: numpy array\n",
    "\n",
    "    Returns:\n",
    "    - count: int, number of nan values\n",
    "    \"\"\"\n",
    "    count = np.sum(np.isnan(matrix))\n",
    "    return count\n",
    "\n",
    "nan_count = count_nan_values(Qe_matrix )\n",
    "print(\"Number of nan values:\", nan_count)"
   ]
  },
  {
   "cell_type": "code",
   "execution_count": 11,
   "id": "929e4b89-0506-47c3-9755-97412658e846",
   "metadata": {},
   "outputs": [
    {
     "name": "stdout",
     "output_type": "stream",
     "text": [
      "[[[0.9104234 0.8355387 0.6412077 0.5668301]\n",
      "  [0.9558969 0.9169903 0.7484477 0.6703753]\n",
      "  [0.9583172 0.9214075 0.7741137 0.7016584]\n",
      "  [0.9626754 0.9293726 0.8175105 0.7604161]]\n",
      "\n",
      " [[0.9503063 0.9052569 0.774632  0.7153416]\n",
      "  [0.9710837 0.9445228 0.8424476 0.7893318]\n",
      "  [0.9739069 0.9498753 0.8596094 0.8111894]\n",
      "  [0.9782947 0.9581988 0.8890707 0.8515486]]\n",
      "\n",
      " [[0.9506325 0.9058489 0.7768267 0.7180287]\n",
      "  [0.9702881 0.9429961 0.842592  0.7906237]\n",
      "  [0.9733901 0.948879  0.8597547 0.8123233]\n",
      "  [0.9782638 0.9581307 0.8896294 0.852663 ]]\n",
      "\n",
      " ...\n",
      "\n",
      " [[      nan       nan       nan       nan]\n",
      "  [      nan       nan       nan       nan]\n",
      "  [      nan       nan       nan       nan]\n",
      "  [      nan       nan       nan       nan]]\n",
      "\n",
      " [[      nan       nan       nan       nan]\n",
      "  [      nan       nan       nan       nan]\n",
      "  [      nan       nan       nan       nan]\n",
      "  [      nan       nan       nan       nan]]\n",
      "\n",
      " [[      nan       nan       nan       nan]\n",
      "  [      nan       nan       nan       nan]\n",
      "  [      nan       nan       nan       nan]\n",
      "  [      nan       nan       nan       nan]]]\n"
     ]
    }
   ],
   "source": [
    "def populate_SSA_matrix(SSA_matrix, wavelength_range, Yue_size_parameter_and_Ri_matrix, opt_prop_sw_array):\n",
    "    \"\"\"\n",
    "    Populate SSA_matrix based on conditions for all wavelengths.\n",
    "\n",
    "    Parameters:\n",
    "    - SSA_matrix: numpy array of Nans\n",
    "    - wavelength_range: range\n",
    "    - Yue_size_parameter_and_Ri_matrix: list\n",
    "    - opt_prop_sw_array: list\n",
    "\n",
    "    Returns:\n",
    "    - SSA_matrix: numpy array, populated Qe_matrix\n",
    "\n",
    "    \"\"\"\n",
    "\n",
    "    for iwl in wavelength_range:\n",
    "        for i in range(len(Yue_size_parameter_and_Ri_matrix[0])):\n",
    "            for j in range(len(Yue_size_parameter_and_Ri_matrix[1])):\n",
    "                for k in range(len(Yue_size_parameter_and_Ri_matrix[2])):\n",
    "                    if np.isnan(SSA_matrix[i, j, k]):\n",
    "                        for w in range(0, len(opt_prop_sw_array[iwl][5]), 10):\n",
    "                            if (Yue_size_parameter_and_Ri_matrix[0][i] == opt_prop_sw_array[iwl][2][w] and\n",
    "                                Yue_size_parameter_and_Ri_matrix[1][j] == opt_prop_sw_array[iwl][3][w] and \n",
    "                                Yue_size_parameter_and_Ri_matrix[2][k] == opt_prop_sw_array[iwl][4][w]):\n",
    "                                    SSA_matrix[i, j, k] = opt_prop_sw_array[iwl][6][w]\n",
    "\n",
    "    return SSA_matrix\n",
    "\n",
    "# Example data (replace with your actual data)\n",
    "wavelength_range = range(len(wavelength_range))\n",
    "\n",
    "# Set up Qe_matrix with nan values\n",
    "SSA_matrix = np.full((120, 4, 4), np.nan, dtype=float)\n",
    "\n",
    "# Populate Qe_matrix based on conditions for all wavelengths\n",
    "SSA_matrix = populate_SSA_matrix(SSA_matrix, wavelength_range, Yue_size_parameter_and_Ri_matrix, opt_prop_sw_array)\n",
    "\n",
    "print(SSA_matrix)\n",
    "io.savemat(\"SSA_matrix.mat\", {\"array\": SSA_matrix})"
   ]
  },
  {
   "cell_type": "code",
   "execution_count": 12,
   "id": "3f2405a7-691b-405c-ae40-e812390dbc9e",
   "metadata": {},
   "outputs": [
    {
     "name": "stdout",
     "output_type": "stream",
     "text": [
      "Number of nan values: 80\n"
     ]
    }
   ],
   "source": [
    "nan_count = count_nan_values(SSA_matrix )\n",
    "print(\"Number of nan values:\", nan_count)"
   ]
  },
  {
   "cell_type": "code",
   "execution_count": 13,
   "id": "b209f3e8-fc28-4800-bd62-0807e57bb1b0",
   "metadata": {},
   "outputs": [
    {
     "name": "stdout",
     "output_type": "stream",
     "text": [
      "[[[0.02657345 0.02654306 0.02653861 0.02654165]\n",
      "  [0.02875433 0.02881001 0.02888208 0.02892539]\n",
      "  [0.02917307 0.02924297 0.02933053 0.02938187]\n",
      "  [0.0299963  0.03008909 0.03019699 0.03025905]]\n",
      "\n",
      " [[0.04159327 0.0417254  0.04164578 0.04160711]\n",
      "  [0.04492813 0.04519616 0.04523301 0.04525533]\n",
      "  [0.04557517 0.04586563 0.04592493 0.0459593 ]\n",
      "  [0.04683164 0.04715863 0.0472499  0.04730164]]\n",
      "\n",
      " [[0.04200515 0.04214081 0.04206115 0.04202092]\n",
      "  [0.0453595  0.04563226 0.04567264 0.04569734]\n",
      "  [0.04601509 0.04631065 0.04637274 0.04640894]\n",
      "  [0.04728865 0.04762128 0.04771348 0.04776577]]\n",
      "\n",
      " ...\n",
      "\n",
      " [[       nan        nan        nan        nan]\n",
      "  [       nan        nan        nan        nan]\n",
      "  [       nan        nan        nan        nan]\n",
      "  [       nan        nan        nan        nan]]\n",
      "\n",
      " [[       nan        nan        nan        nan]\n",
      "  [       nan        nan        nan        nan]\n",
      "  [       nan        nan        nan        nan]\n",
      "  [       nan        nan        nan        nan]]\n",
      "\n",
      " [[       nan        nan        nan        nan]\n",
      "  [       nan        nan        nan        nan]\n",
      "  [       nan        nan        nan        nan]\n",
      "  [       nan        nan        nan        nan]]]\n"
     ]
    }
   ],
   "source": [
    "def populate_g_matrix(g_matrix, wavelength_range, Yue_size_parameter_and_Ri_matrix, opt_prop_sw_array):\n",
    "    \"\"\"\n",
    "    Populate g_matrix based on conditions for all wavelengths.\n",
    "\n",
    "    Parameters:\n",
    "    - g_matrix: numpy array of Nans\n",
    "    - wavelength_range: range\n",
    "    - Yue_size_parameter_and_Ri_matrix: list\n",
    "    - opt_prop_sw_array: list\n",
    "\n",
    "    Returns:\n",
    "    - g_matrix: numpy array, populated Qe_matrix\n",
    "\n",
    "    \"\"\"\n",
    "\n",
    "    for iwl in wavelength_range:\n",
    "        for i in range(len(Yue_size_parameter_and_Ri_matrix[0])):\n",
    "            for j in range(len(Yue_size_parameter_and_Ri_matrix[1])):\n",
    "                for k in range(len(Yue_size_parameter_and_Ri_matrix[2])):\n",
    "                    if np.isnan(g_matrix[i, j, k]):\n",
    "                        for w in range(0, len(opt_prop_sw_array[iwl][5]), 10):\n",
    "                            if (Yue_size_parameter_and_Ri_matrix[0][i] == opt_prop_sw_array[iwl][2][w] and\n",
    "                                Yue_size_parameter_and_Ri_matrix[1][j] == opt_prop_sw_array[iwl][3][w] and \n",
    "                                Yue_size_parameter_and_Ri_matrix[2][k] == opt_prop_sw_array[iwl][4][w]):\n",
    "                                    g_matrix[i, j, k] = opt_prop_sw_array[iwl][7][w]\n",
    "\n",
    "    return g_matrix\n",
    "\n",
    "# Example data (replace with your actual data)\n",
    "wavelength_range = range(len(wavelength_range))\n",
    "\n",
    "# Set up Qe_matrix with nan values\n",
    "g_matrix = np.full((120, 4, 4), np.nan, dtype=float)\n",
    "\n",
    "# Populate Qe_matrix based on conditions for all wavelengths\n",
    "g_matrix = populate_g_matrix(g_matrix, wavelength_range, Yue_size_parameter_and_Ri_matrix, opt_prop_sw_array)\n",
    "\n",
    "print(g_matrix)\n",
    "io.savemat(\"g_matrix.mat\", {\"array\": g_matrix})"
   ]
  },
  {
   "cell_type": "code",
   "execution_count": 14,
   "id": "973c6eb6-5703-4223-b408-5e5c3667b337",
   "metadata": {},
   "outputs": [
    {
     "name": "stdout",
     "output_type": "stream",
     "text": [
      "Number of nan values: 80\n"
     ]
    }
   ],
   "source": [
    "nan_count = count_nan_values(g_matrix )\n",
    "print(\"Number of nan values:\", nan_count)"
   ]
  },
  {
   "cell_type": "markdown",
   "id": "912f2506",
   "metadata": {},
   "source": [
    "# Calculate DustCOMM mean geometric diamater of each bin"
   ]
  },
  {
   "cell_type": "code",
   "execution_count": 15,
   "id": "f2526a33",
   "metadata": {
    "tags": []
   },
   "outputs": [
    {
     "name": "stdout",
     "output_type": "stream",
     "text": [
      "<class 'netCDF4._netCDF4.Dataset'>\n",
      "root group (NETCDF4_CLASSIC data model, file format HDF5):\n",
      "    dimensions(sizes): source(9), diameter(6), lat(96), lon(144), bin(6)\n",
      "    variables(dimensions): float64 source(source), float64 bin_D_lower(diameter), float64 bin_D_upper(diameter), float64 lat(lat), float64 lon(lon), float64 Median(lat, lon, bin, source), float64 Mean(lat, lon, bin, source), float64 Neg1sigma(lat, lon, bin, source), float64 Pos1sigman(lat, lon, bin, source), float64 Neg2sigma(lat, lon, bin, source), float64 Pos2sigma(lat, lon, bin, source)\n",
      "    groups: \n"
     ]
    }
   ],
   "source": [
    "#----------\n",
    "# using DustCOMM 2021 papers b) https://dustcomm.atmos.ucla.edu/\n",
    "# specifically https://dustcomm.atmos.ucla.edu/data/K21b/ dataset DustCOMM_source_region_DAOD_seas_bin_abs.nc\n",
    "# assumes aspherical dust shape, PM20 dust\n",
    "#----------\n",
    "\n",
    "daod_Dustcomm_PM20_Dataset = Dataset('DustCOMM_source_region_DAOD_annual_bin_abs.nc')\n",
    "print(daod_Dustcomm_PM20_Dataset) #[season,source,diameter,lat,lon,bin]\n",
    "\n",
    "lat_Dustcomm_PM20 = np.array(daod_Dustcomm_PM20_Dataset.variables['lat'][:])\n",
    "lon_Dustcomm_PM20 = np.array(daod_Dustcomm_PM20_Dataset.variables['lon'][:])\n",
    "mean_Daod_Dustcomm_20PM = np.array(daod_Dustcomm_PM20_Dataset.variables['Mean'][:])\n",
    "#dustcomm_seas = np.array(daod_Dustcomm_PM20_Dataset.variables['season'][:])\n",
    "dustcomm_Sources_PM20 = np.array(daod_Dustcomm_PM20_Dataset.variables['source'][:]) \n",
    "dustcomm_bin_lower = np.array(daod_Dustcomm_PM20_Dataset.variables['bin_D_lower'][:])\n",
    "dustcomm_bin_upper = np.array(daod_Dustcomm_PM20_Dataset.variables['bin_D_upper'][:])"
   ]
  },
  {
   "cell_type": "code",
   "execution_count": 16,
   "id": "b6e21893-7a30-4397-a160-32c2c8414320",
   "metadata": {
    "tags": []
   },
   "outputs": [
    {
     "name": "stdout",
     "output_type": "stream",
     "text": [
      "<class 'netCDF4._netCDF4.Dataset'>\n",
      "root group (NETCDF4_CLASSIC data model, file format HDF5):\n",
      "    dimensions(sizes): source(9), diameter(6), lat(96), lon(144), bin(6)\n",
      "    variables(dimensions): float64 source(source), float64 bin_D_lower(diameter), float64 bin_D_upper(diameter), float64 lat(lat), float64 lon(lon), float64 Median(lat, lon, bin, source), float64 Mean(lat, lon, bin, source), float64 Neg1sigma(lat, lon, bin, source), float64 Pos1sigman(lat, lon, bin, source), float64 Neg2sigma(lat, lon, bin, source), float64 Pos2sigma(lat, lon, bin, source)\n",
      "    groups: \n"
     ]
    }
   ],
   "source": [
    "#----------\n",
    "# using DustCOMM 2021 papers b) https://dustcomm.atmos.ucla.edu/\n",
    "# specifically https://dustcomm.atmos.ucla.edu/data/K21b/ dataset DustCOMM_source_region_DAOD_seas_bin_abs.nc\n",
    "# assumes aspherical dust shape, PM20 dust\n",
    "#----------\n",
    "\n",
    "loading_Dustcomm_PM20_Dataset = Dataset('DustCOMM_source_region_dust_loading_annual_bin_abs.nc')\n",
    "print(loading_Dustcomm_PM20_Dataset) #[season,source,diameter,lat,lon,bin]\n",
    "\n",
    "loading_lat_Dustcomm_PM20 = np.array(loading_Dustcomm_PM20_Dataset.variables['lat'][:])\n",
    "loading_lon_Dustcomm_PM20 = np.array(loading_Dustcomm_PM20_Dataset.variables['lon'][:])\n",
    "mean_loading_Dustcomm_20PM = np.array(loading_Dustcomm_PM20_Dataset.variables['Mean'][:])\n",
    "#dustcomm_seas = np.array(daod_Dustcomm_PM20_Dataset.variables['season'][:])\n",
    "loading_dustcomm_Sources_PM20 = np.array(loading_Dustcomm_PM20_Dataset.variables['source'][:]) \n",
    "loading_dustcomm_bin_lower = np.array(loading_Dustcomm_PM20_Dataset.variables['bin_D_lower'][:])\n",
    "loading_dustcomm_bin_upper = np.array(loading_Dustcomm_PM20_Dataset.variables['bin_D_upper'][:])"
   ]
  },
  {
   "cell_type": "code",
   "execution_count": 17,
   "id": "c4dc8610",
   "metadata": {},
   "outputs": [
    {
     "name": "stdout",
     "output_type": "stream",
     "text": [
      "[ 0.2  0.5  1.   2.5  5.  10. ]\n",
      "[ 0.5  1.   2.5  5.  10.  20. ]\n"
     ]
    }
   ],
   "source": [
    "print(dustcomm_bin_lower)\n",
    "print(dustcomm_bin_upper)"
   ]
  },
  {
   "cell_type": "code",
   "execution_count": 18,
   "id": "dafdd644",
   "metadata": {
    "tags": []
   },
   "outputs": [],
   "source": [
    "mean_geometric_diameter_bin = np.sqrt(dustcomm_bin_lower*dustcomm_bin_upper)"
   ]
  },
  {
   "cell_type": "code",
   "execution_count": 19,
   "id": "847f93bc",
   "metadata": {
    "tags": []
   },
   "outputs": [
    {
     "name": "stdout",
     "output_type": "stream",
     "text": [
      "[ 0.31622777  0.70710678  1.58113883  3.53553391  7.07106781 14.14213562]\n"
     ]
    }
   ],
   "source": [
    "print(mean_geometric_diameter_bin)"
   ]
  },
  {
   "cell_type": "markdown",
   "id": "4cbed0f8",
   "metadata": {},
   "source": [
    "# Interpolate  Huang et al. 2023 size parameter and dust optical properties that best match Adebiyi RI's, and DustCOMM size parameter of each bin"
   ]
  },
  {
   "cell_type": "markdown",
   "id": "54e6578d",
   "metadata": {},
   "source": [
    "use DustCOMM Saharan and Sahelian dust partition in a grid box, in the DAOD. sum the two sahara sources, to calculate my own spatially resolved RI (Later)"
   ]
  },
  {
   "cell_type": "markdown",
   "id": "33d95dbc",
   "metadata": {},
   "source": [
    "match_d_opt_prop_sw = []\n",
    "match_n_RI_opt_prop_sw = []\n",
    "match_k_RI_opt_prop_sw = []\n",
    "n_RI_index = []\n",
    "k_RI_index = []North African dust has a mean imaginary refractive index at 550 nm wavelength of 0.0012 (one standard error range of 0.0009–0.0016\n",
    "and a real dust refractive index, nr = 1.51 ± 0.03 (which is the same for Sahara and Sahel) (Di Biagio et al. 2019)\n",
    "We assume that RI is constant across particle size (Adebiyi et al. 2023, Obiso et al. 2023)"
   ]
  },
  {
   "cell_type": "code",
   "execution_count": 20,
   "id": "64fe8cc2-4ad1-4e9f-b1fa-f238f3e24336",
   "metadata": {},
   "outputs": [],
   "source": [
    "# 14 RRTM SW bands - average wavelength of each band (in RRTM order)\n",
    "RRTM_SW_bands = [3.4615, 2.7885, 2.3255, 2.0465, 1.784, 1.4625, 1.2705, 1.01, 0.7015, 0.5335, 0.3935, 0.304, 0.2315, 8.0205]\n",
    "RRTM_SW_bands_sorted = np.sort(RRTM_SW_bands)"
   ]
  },
  {
   "cell_type": "code",
   "execution_count": 21,
   "id": "f5f86f42",
   "metadata": {
    "tags": []
   },
   "outputs": [],
   "source": [
    "#grid_box = [0,18] #0W, 18N\n",
    "North_African_dust_adebiyi_k = np.array(0.0012) #np.full(len(mean_geometric_diameter_bin),0.0012)\n",
    "North_African_dust_adebiyi_nr = np.array(1.51) #np.full(len(mean_geometric_diameter_bin),1.51)"
   ]
  },
  {
   "cell_type": "code",
   "execution_count": 22,
   "id": "a545adcf-5000-4028-94f6-fcdf7624ee92",
   "metadata": {},
   "outputs": [
    {
     "name": "stdout",
     "output_type": "stream",
     "text": [
      "1.51\n"
     ]
    }
   ],
   "source": [
    "print(North_African_dust_adebiyi_nr)"
   ]
  },
  {
   "cell_type": "markdown",
   "id": "4d86460d-8df4-422c-bdc4-740119fd3896",
   "metadata": {},
   "source": [
    "Meeting Notes 1/4/24:\n",
    "\n",
    "Look at how solar zenith angle variation effects \"DRE\" (difference between the two fluxes)\n",
    "Send Jasper bulk dust optical properties by end of day tomorrow (plus text file)\n",
    "write script to run SW RRTM for different solar zenith angles"
   ]
  },
  {
   "cell_type": "code",
   "execution_count": 23,
   "id": "f52ceaa3-12ac-480f-89e7-fe77c6d9ad6e",
   "metadata": {
    "tags": []
   },
   "outputs": [
    {
     "name": "stdout",
     "output_type": "stream",
     "text": [
      "84 [1.23864949e-01 2.76970447e-01 2.87002405e-01 3.56269975e-01\n",
      " 4.27202248e-01 4.85442867e-01 5.56871540e-01 6.19324747e-01\n",
      " 6.41756888e-01 6.79288087e-01 7.81943193e-01 7.96643883e-01\n",
      " 9.55253266e-01 9.83622601e-01 1.08548325e+00 1.24520262e+00\n",
      " 1.38485223e+00 1.41619220e+00 1.43501203e+00 1.51893434e+00\n",
      " 1.74847813e+00 1.78134988e+00 1.86215338e+00 2.13601124e+00\n",
      " 2.19944700e+00 2.42721433e+00 2.52467300e+00 2.76970447e+00\n",
      " 2.78435770e+00 3.16670202e+00 3.20878444e+00 3.26795667e+00\n",
      " 3.39644043e+00 3.90971596e+00 3.98321942e+00 4.16390154e+00\n",
      " 4.29139882e+00 4.77626633e+00 4.91811300e+00 5.42741625e+00\n",
      " 5.53940894e+00 5.64534046e+00 6.22601309e+00 6.41756888e+00\n",
      " 7.08096099e+00 7.30737325e+00 7.59467169e+00 7.96643883e+00\n",
      " 8.74239067e+00 9.31076688e+00 9.55253266e+00 9.59585948e+00\n",
      " 1.08548325e+01 1.09972350e+01 1.24520262e+01 1.26233650e+01\n",
      " 1.28351378e+01 1.51893434e+01 1.58335101e+01 1.59328777e+01\n",
      " 1.63397833e+01 1.74847813e+01 1.91050653e+01 2.08195077e+01\n",
      " 2.14569941e+01 2.17096650e+01 2.19944700e+01 2.49040523e+01\n",
      " 2.82267023e+01 3.03786868e+01 3.16670202e+01 3.49695627e+01\n",
      " 3.65368663e+01 4.16390154e+01 4.39889400e+01 4.79792974e+01\n",
      " 5.64534046e+01 6.33340405e+01 7.30737325e+01 8.32780307e+01\n",
      " 9.59585948e+01 1.12906809e+02 1.46147465e+02 1.91917190e+02]\n"
     ]
    }
   ],
   "source": [
    "size_parameter_geometric_diameter_bin = np.zeros(len(RRTM_SW_bands), dtype=object)\n",
    "size_parameter_range = []\n",
    "for irrtm in range(len(RRTM_SW_bands)):\n",
    "    size_parameter_geometric_diameter_bin[irrtm] = np.pi*mean_geometric_diameter_bin/RRTM_SW_bands_sorted[irrtm] #not sorted, in RRTM order\n",
    "for i in range(len(size_parameter_geometric_diameter_bin)):\n",
    "    for j in range(len(size_parameter_geometric_diameter_bin[0])):\n",
    "        size_parameter_range.append(size_parameter_geometric_diameter_bin[i][j])\n",
    "sorted_size_parameter_range = np.array(np.sort(size_parameter_range))\n",
    "#print(size_parameter_geometric_diameter_bin)\n",
    "print(len(sorted_size_parameter_range), sorted_size_parameter_range)\n",
    "\n",
    "\n",
    "SW_RRTM_coordinate_matrix = np.array((sorted_size_parameter_range[:], North_African_dust_adebiyi_nr, North_African_dust_adebiyi_k), dtype=object)"
   ]
  },
  {
   "cell_type": "code",
   "execution_count": 24,
   "id": "b66df958-2928-4a05-a166-581f23210838",
   "metadata": {},
   "outputs": [],
   "source": [
    "Adebiyi_real_RI_range = np.array((1.50, 1.51, 1.52, 1.53))\n",
    "Adebiyi_imag_RI_range = np.array(([0.001, 0.0012, 0.0014, 0.0016]))"
   ]
  },
  {
   "cell_type": "code",
   "execution_count": 25,
   "id": "c7cd240e-4f5a-442d-8ec7-d41cfc2a23e7",
   "metadata": {},
   "outputs": [
    {
     "name": "stdout",
     "output_type": "stream",
     "text": [
      "Shape of final matrix: (84, 4, 4)\n",
      "[[[  1.62486495   1.62486495   1.62486495   1.62486495]\n",
      "  [  1.62486495   1.62486495   1.62486495   1.62486495]\n",
      "  [  1.62486495   1.62486495   1.62486495   1.62486495]\n",
      "  [  1.62486495   1.62486495   1.62486495   1.62486495]]\n",
      "\n",
      " [[  1.77797045   1.77797045   1.77797045   1.77797045]\n",
      "  [  1.77797045   1.77797045   1.77797045   1.77797045]\n",
      "  [  1.77797045   1.77797045   1.77797045   1.77797045]\n",
      "  [  1.77797045   1.77797045   1.77797045   1.77797045]]\n",
      "\n",
      " [[  1.78800241   1.78800241   1.78800241   1.78800241]\n",
      "  [  1.78800241   1.78800241   1.78800241   1.78800241]\n",
      "  [  1.78800241   1.78800241   1.78800241   1.78800241]\n",
      "  [  1.78800241   1.78800241   1.78800241   1.78800241]]\n",
      "\n",
      " ...\n",
      "\n",
      " [[114.4384091  114.4384091  114.4384091  114.4384091 ]\n",
      "  [114.4384091  114.4384091  114.4384091  114.4384091 ]\n",
      "  [114.4384091  114.4384091  114.4384091  114.4384091 ]\n",
      "  [114.4384091  114.4384091  114.4384091  114.4384091 ]]\n",
      "\n",
      " [[147.67906507 147.67906507 147.67906507 147.67906507]\n",
      "  [147.67906507 147.67906507 147.67906507 147.67906507]\n",
      "  [147.67906507 147.67906507 147.67906507 147.67906507]\n",
      "  [147.67906507 147.67906507 147.67906507 147.67906507]]\n",
      "\n",
      " [[193.44878955 193.44878955 193.44878955 193.44878955]\n",
      "  [193.44878955 193.44878955 193.44878955 193.44878955]\n",
      "  [193.44878955 193.44878955 193.44878955 193.44878955]\n",
      "  [193.44878955 193.44878955 193.44878955 193.44878955]]]\n"
     ]
    }
   ],
   "source": [
    "# Repeat arrays to match the desired shape\n",
    "repeated_sorted_size_parameter_range = np.repeat(sorted_size_parameter_range[:, np.newaxis, np.newaxis], 4, axis=1)\n",
    "repeated_sorted_size_parameter_range = np.repeat(repeated_sorted_size_parameter_range, 4, axis=2)\n",
    "\n",
    "# Repeat Adebiyi_real_RI_range along the appropriate axes\n",
    "repeated_Adebiyi_real_RI_range = np.repeat(Adebiyi_real_RI_range[:, np.newaxis, np.newaxis], 21, axis=0)\n",
    "repeated_Adebiyi_real_RI_range = np.repeat(repeated_Adebiyi_real_RI_range, 4, axis=2)\n",
    "\n",
    "# Repeat Adebiyi_imag_RI_range along the appropriate axes\n",
    "repeated_Adebiyi_imag_RI_range = np.repeat(Adebiyi_imag_RI_range[:, np.newaxis, np.newaxis], 21, axis=0)\n",
    "repeated_Adebiyi_imag_RI_range = np.repeat(repeated_Adebiyi_imag_RI_range, 4, axis=1)\n",
    "\n",
    "# Combine repeated arrays to form the final matrix\n",
    "DustCOMM_coord_matrix = repeated_sorted_size_parameter_range + repeated_Adebiyi_real_RI_range + repeated_Adebiyi_imag_RI_range\n",
    "\n",
    "print(\"Shape of final matrix:\", DustCOMM_coord_matrix.shape)\n",
    "print(DustCOMM_coord_matrix)"
   ]
  },
  {
   "cell_type": "markdown",
   "id": "d58a1d67-c093-41cb-bab5-f31e17186000",
   "metadata": {},
   "source": [
    "## 1/22/24 Interpolate for each dust optical property"
   ]
  },
  {
   "cell_type": "code",
   "execution_count": 29,
   "id": "af05ded5-f0b9-416f-8fca-aeb1f2ac850f",
   "metadata": {},
   "outputs": [],
   "source": [
    "#from scipy.interpolate import RegularGridInterpolator\n",
    "#from scipy.interpolate import griddata \n",
    "import scipy"
   ]
  },
  {
   "cell_type": "code",
   "execution_count": 30,
   "id": "2d59209e-2e72-4d73-91da-178d6adf211d",
   "metadata": {},
   "outputs": [
    {
     "name": "stdout",
     "output_type": "stream",
     "text": [
      "(120, 4, 4)\n",
      "(84, 4, 4)\n",
      "(120, 4, 4)\n",
      "(120, 4, 4)\n",
      "(120, 4, 4)\n"
     ]
    }
   ],
   "source": [
    "Yue_coordinate_matrix = Yue_size_parameter_and_Ri_matrix\n",
    "print(Yue_coord_matrix.shape)\n",
    "print(DustCOMM_coord_matrix.shape) #(84 x 1 x 1) --> 14 SW bands * 6 DustCOMM diameters = 84 size parameters\n",
    "print(Qe_matrix.shape)\n",
    "print(SSA_matrix.shape)\n",
    "print(g_matrix.shape)"
   ]
  },
  {
   "cell_type": "code",
   "execution_count": 37,
   "id": "c21992b6-5916-4932-9d05-c0191f263df4",
   "metadata": {},
   "outputs": [
    {
     "ename": "ValueError",
     "evalue": "There are 120 point arrays, but values has 3 dimensions",
     "output_type": "error",
     "traceback": [
      "\u001b[0;31m---------------------------------------------------------------------------\u001b[0m",
      "\u001b[0;31mValueError\u001b[0m                                Traceback (most recent call last)",
      "Cell \u001b[0;32mIn[37], line 1\u001b[0m\n\u001b[0;32m----> 1\u001b[0m Qe_interp \u001b[38;5;241m=\u001b[39m scipy\u001b[38;5;241m.\u001b[39minterpolate\u001b[38;5;241m.\u001b[39minterpn(Yue_coord_matrix,Qe_matrix,DustCOMM_coord_matrix, method\u001b[38;5;241m=\u001b[39m\u001b[38;5;124m'\u001b[39m\u001b[38;5;124mlinear\u001b[39m\u001b[38;5;124m'\u001b[39m)\n",
      "File \u001b[0;32m/opt/anaconda3/envs/rrtm_env/lib/python3.11/site-packages/scipy/interpolate/_rgi.py:631\u001b[0m, in \u001b[0;36minterpn\u001b[0;34m(points, values, xi, method, bounds_error, fill_value)\u001b[0m\n\u001b[1;32m    629\u001b[0m \u001b[38;5;66;03m# sanity check consistency of input dimensions\u001b[39;00m\n\u001b[1;32m    630\u001b[0m \u001b[38;5;28;01mif\u001b[39;00m \u001b[38;5;28mlen\u001b[39m(points) \u001b[38;5;241m>\u001b[39m ndim:\n\u001b[0;32m--> 631\u001b[0m     \u001b[38;5;28;01mraise\u001b[39;00m \u001b[38;5;167;01mValueError\u001b[39;00m(\u001b[38;5;124m\"\u001b[39m\u001b[38;5;124mThere are \u001b[39m\u001b[38;5;132;01m%d\u001b[39;00m\u001b[38;5;124m point arrays, but values has \u001b[39m\u001b[38;5;132;01m%d\u001b[39;00m\u001b[38;5;124m \u001b[39m\u001b[38;5;124m\"\u001b[39m\n\u001b[1;32m    632\u001b[0m                      \u001b[38;5;124m\"\u001b[39m\u001b[38;5;124mdimensions\u001b[39m\u001b[38;5;124m\"\u001b[39m \u001b[38;5;241m%\u001b[39m (\u001b[38;5;28mlen\u001b[39m(points), ndim))\n\u001b[1;32m    633\u001b[0m \u001b[38;5;28;01mif\u001b[39;00m \u001b[38;5;28mlen\u001b[39m(points) \u001b[38;5;241m!=\u001b[39m ndim \u001b[38;5;129;01mand\u001b[39;00m method \u001b[38;5;241m==\u001b[39m \u001b[38;5;124m'\u001b[39m\u001b[38;5;124msplinef2d\u001b[39m\u001b[38;5;124m'\u001b[39m:\n\u001b[1;32m    634\u001b[0m     \u001b[38;5;28;01mraise\u001b[39;00m \u001b[38;5;167;01mValueError\u001b[39;00m(\u001b[38;5;124m\"\u001b[39m\u001b[38;5;124mThe method splinef2d can only be used for \u001b[39m\u001b[38;5;124m\"\u001b[39m\n\u001b[1;32m    635\u001b[0m                      \u001b[38;5;124m\"\u001b[39m\u001b[38;5;124mscalar data with one point per coordinate\u001b[39m\u001b[38;5;124m\"\u001b[39m)\n",
      "\u001b[0;31mValueError\u001b[0m: There are 120 point arrays, but values has 3 dimensions"
     ]
    }
   ],
   "source": [
    "Qe_interp = scipy.interpolate.interpn(Yue_coord_matrix,Qe_matrix,DustCOMM_coord_matrix, method='linear')"
   ]
  },
  {
   "cell_type": "code",
   "execution_count": 38,
   "id": "c6d7b58e-a35f-487a-a7b3-e6b0be31d394",
   "metadata": {},
   "outputs": [
    {
     "ename": "ValueError",
     "evalue": "The requested sample points xi have dimension 4, but this RegularGridInterpolator has dimension 3",
     "output_type": "error",
     "traceback": [
      "\u001b[0;31m---------------------------------------------------------------------------\u001b[0m",
      "\u001b[0;31mValueError\u001b[0m                                Traceback (most recent call last)",
      "Cell \u001b[0;32mIn[38], line 1\u001b[0m\n\u001b[0;32m----> 1\u001b[0m Qe_interp \u001b[38;5;241m=\u001b[39m scipy\u001b[38;5;241m.\u001b[39minterpolate\u001b[38;5;241m.\u001b[39minterpn(Yue_size_parameter_and_Ri_matrix,Qe_matrix,DustCOMM_coord_matrix, method\u001b[38;5;241m=\u001b[39m\u001b[38;5;124m'\u001b[39m\u001b[38;5;124mlinear\u001b[39m\u001b[38;5;124m'\u001b[39m)\n\u001b[1;32m      2\u001b[0m \u001b[38;5;28mprint\u001b[39m(Qe_interp)\n",
      "File \u001b[0;32m/opt/anaconda3/envs/rrtm_env/lib/python3.11/site-packages/scipy/interpolate/_rgi.py:643\u001b[0m, in \u001b[0;36minterpn\u001b[0;34m(points, values, xi, method, bounds_error, fill_value)\u001b[0m\n\u001b[1;32m    641\u001b[0m xi \u001b[38;5;241m=\u001b[39m _ndim_coords_from_arrays(xi, ndim\u001b[38;5;241m=\u001b[39m\u001b[38;5;28mlen\u001b[39m(grid))\n\u001b[1;32m    642\u001b[0m \u001b[38;5;28;01mif\u001b[39;00m xi\u001b[38;5;241m.\u001b[39mshape[\u001b[38;5;241m-\u001b[39m\u001b[38;5;241m1\u001b[39m] \u001b[38;5;241m!=\u001b[39m \u001b[38;5;28mlen\u001b[39m(grid):\n\u001b[0;32m--> 643\u001b[0m     \u001b[38;5;28;01mraise\u001b[39;00m \u001b[38;5;167;01mValueError\u001b[39;00m(\u001b[38;5;124m\"\u001b[39m\u001b[38;5;124mThe requested sample points xi have dimension \u001b[39m\u001b[38;5;124m\"\u001b[39m\n\u001b[1;32m    644\u001b[0m                      \u001b[38;5;124m\"\u001b[39m\u001b[38;5;132;01m%d\u001b[39;00m\u001b[38;5;124m, but this RegularGridInterpolator has \u001b[39m\u001b[38;5;124m\"\u001b[39m\n\u001b[1;32m    645\u001b[0m                      \u001b[38;5;124m\"\u001b[39m\u001b[38;5;124mdimension \u001b[39m\u001b[38;5;132;01m%d\u001b[39;00m\u001b[38;5;124m\"\u001b[39m \u001b[38;5;241m%\u001b[39m (xi\u001b[38;5;241m.\u001b[39mshape[\u001b[38;5;241m-\u001b[39m\u001b[38;5;241m1\u001b[39m], \u001b[38;5;28mlen\u001b[39m(grid)))\n\u001b[1;32m    647\u001b[0m \u001b[38;5;28;01mif\u001b[39;00m bounds_error:\n\u001b[1;32m    648\u001b[0m     \u001b[38;5;28;01mfor\u001b[39;00m i, p \u001b[38;5;129;01min\u001b[39;00m \u001b[38;5;28menumerate\u001b[39m(xi\u001b[38;5;241m.\u001b[39mT):\n",
      "\u001b[0;31mValueError\u001b[0m: The requested sample points xi have dimension 4, but this RegularGridInterpolator has dimension 3"
     ]
    }
   ],
   "source": [
    "Qe_interp = scipy.interpolate.interpn(Yue_size_parameter_and_Ri_matrix,Qe_matrix,DustCOMM_coord_matrix, method='linear')\n",
    "print(Qe_interp)"
   ]
  },
  {
   "cell_type": "markdown",
   "id": "c15d35b4-f444-4be4-ad3f-8accd57c217c",
   "metadata": {},
   "source": [
    "# Calculate bulk dust Optical properties for (0W, 18N)"
   ]
  },
  {
   "cell_type": "markdown",
   "id": "51966565-17e3-41bc-9928-4f68b6dad2e1",
   "metadata": {},
   "source": [
    "Reorder dust optical properties so it is in order (Q_e, ssa, g)"
   ]
  },
  {
   "cell_type": "code",
   "execution_count": null,
   "id": "24677810-49f0-462b-a826-93880f19a963",
   "metadata": {
    "tags": []
   },
   "outputs": [],
   "source": [
    "# Calculate and print for each bin\n",
    "all_bins_opt_prop_array = []\n",
    "\n",
    "# Convert the list to a NumPy array\n",
    "all_bins_opt_prop_array = np.array((bin1_opt_prop_interp_size_param_y, bin2_opt_prop_interp_size_param_y, bin3_opt_prop_interp_size_param_y, bin4_opt_prop_interp_size_param_y, bin5_opt_prop_interp_size_param_y, bin6_opt_prop_interp_size_param_y))\n",
    "print(all_bins_opt_prop_array)"
   ]
  },
  {
   "cell_type": "code",
   "execution_count": null,
   "id": "7e01b6c3-b334-4859-9c51-197189a4e936",
   "metadata": {
    "tags": []
   },
   "outputs": [],
   "source": [
    "print(loading_lat_Dustcomm_PM20.shape)\n",
    "print(loading_lon_Dustcomm_PM20.shape)\n",
    "print(mean_loading_Dustcomm_20PM.shape)\n",
    "print(mean_loading_Dustcomm_20PM[0,0,1,2])\n",
    "#dimensions(sizes): source(9), diameter(6), lat(96), lon(144), bin(6)\n",
    "index_0W = []\n",
    "index_18N = []\n",
    "\n",
    "lat_0W = 0\n",
    "lon_18N = 18\n",
    "\n",
    "for ilat in range(0,len(loading_lat_Dustcomm_PM20)):\n",
    "    if np.round(loading_lat_Dustcomm_PM20[ilat]) -1 == lat_0W:\n",
    "        print(loading_lat_Dustcomm_PM20[ilat])\n",
    "        index_0W.append(ilat)\n",
    "\n",
    "for ilon in range(0,len(loading_lon_Dustcomm_PM20)):\n",
    "    if np.round(loading_lon_Dustcomm_PM20[ilon]) == lon_18N: \n",
    "        print(loading_lon_Dustcomm_PM20[ilon])\n",
    "        index_18N.append(ilon)\n",
    "print(index_0W,index_18N)"
   ]
  },
  {
   "cell_type": "code",
   "execution_count": null,
   "id": "6f05297a-ca42-4663-94b8-ab1effad0089",
   "metadata": {
    "tags": []
   },
   "outputs": [],
   "source": [
    "total_North_African_loading = mean_loading_Dustcomm_20PM[:,:,:,0] + mean_loading_Dustcomm_20PM[:,:,:,1] + mean_loading_Dustcomm_20PM[:,:,:,2]\n",
    "Sarahan_laoding = mean_loading_Dustcomm_20PM[:,:,:,0] + mean_loading_Dustcomm_20PM[:,:,:,1]\n",
    "Sahelian_loading = mean_loading_Dustcomm_20PM[:,:,:,2]\n",
    "print(total_North_African_loading.shape)"
   ]
  },
  {
   "cell_type": "code",
   "execution_count": null,
   "id": "baf6399d-f3dd-433b-a539-51715ccc1203",
   "metadata": {
    "tags": []
   },
   "outputs": [],
   "source": [
    "#ρ_d=(2.5±0.2)×10^3 kg m-3 is the globally representative density of dust aerosols (Fratini et al., 2007; Reid et al., 2008; Kaaden et al., 2009; Sow et al., 2009)\n",
    "ρ_d = 2.5e3\n",
    "delta_m_Db = total_North_African_loading[48,78,:]\n",
    "print('delta_m_Db',delta_m_Db)\n",
    "\n",
    "Q_e_bulk_0W_18N_bin_num = np.zeros(6)\n",
    "Q_e_bulk_0W_18N_bin_den = np.zeros(6)\n",
    "SSA_bulk_0W_18N_bin_num = np.zeros(6)\n",
    "SSA_bulk_0W_18N_bin_den = np.zeros(6)\n",
    "Q_scat = np.zeros(6)\n",
    "g_bulk_0W_18N_bin_num = np.zeros(6)\n",
    "g_bulk_0W_18N_bin_den = np.zeros(6)\n",
    "\n",
    "#all_bins_opt_prop_array[i][0] = Q_e of bin i\n",
    "#all_bins_opt_prop_array[i][1] = SSA of bin i\n",
    "#all_bins_opt_prop_array[i][2] = g of bin i\n",
    "\n",
    "for i in range(0,len(all_bins_opt_prop_array)):\n",
    "    Q_e_bulk_0W_18N_bin_num[i] = (delta_m_Db[i]*(np.pi/4)*(mean_geometric_diameter_bin[i]**2)*all_bins_opt_prop_array[i][0])/((np.pi/6)*(mean_geometric_diameter_bin[i]**3)*ρ_d)\n",
    "    Q_e_bulk_0W_18N_bin_den[i] = (delta_m_Db[i]*(np.pi/4)*(mean_geometric_diameter_bin[i]**2))/((np.pi/6)*(mean_geometric_diameter_bin[i]**3)*ρ_d)\n",
    "    \n",
    "    SSA_bulk_0W_18N_bin_num[i] = (delta_m_Db[i]*(np.pi/4)*(mean_geometric_diameter_bin[i]**2)*all_bins_opt_prop_array[i][0]*all_bins_opt_prop_array[i][1])/((np.pi/6)*(mean_geometric_diameter_bin[i]**3)*ρ_d)\n",
    "    SSA_bulk_0W_18N_bin_den[i] = (delta_m_Db[i]*(np.pi/4)*(mean_geometric_diameter_bin[i]**2)*all_bins_opt_prop_array[i][0])/((np.pi/6)*(mean_geometric_diameter_bin[i]**3)*ρ_d)\n",
    "    \n",
    "    Q_scat[i] = all_bins_opt_prop_array[i][1] * all_bins_opt_prop_array[i][0]\n",
    "    \n",
    "    g_bulk_0W_18N_bin_num[i] = (delta_m_Db[i]*(np.pi/4)*(mean_geometric_diameter_bin[i]**2)*Q_scat[i]*all_bins_opt_prop_array[i][2])/((np.pi/6)*(mean_geometric_diameter_bin[i]**3)*ρ_d)\n",
    "    g_bulk_0W_18N_bin_den[i] = (delta_m_Db[i]*(np.pi/4)*(mean_geometric_diameter_bin[i]**2)*Q_scat[i])/((np.pi/6)*(mean_geometric_diameter_bin[i]**3)*ρ_d)\n",
    "    "
   ]
  },
  {
   "cell_type": "code",
   "execution_count": null,
   "id": "465b9733-0880-4024-87f8-7c84c2945453",
   "metadata": {
    "tags": []
   },
   "outputs": [],
   "source": [
    "# Calculate values\n",
    "Q_e_bulk_0W_18N_bulk = np.sum(Q_e_bulk_0W_18N_bin_num) / np.sum(Q_e_bulk_0W_18N_bin_den)\n",
    "SSA_bulk_0W_18N_bulk = np.sum(SSA_bulk_0W_18N_bin_num) / np.sum(SSA_bulk_0W_18N_bin_den)\n",
    "g_bulk_0W_18N_bulk = np.sum(g_bulk_0W_18N_bin_num) / np.sum(g_bulk_0W_18N_bin_den)\n",
    "\n",
    "# Print the values\n",
    "print(\"Q_e_bulk_0W_18N_bulk: \", Q_e_bulk_0W_18N_bulk)\n",
    "print(\"SSA_bulk_0W_18N_bulk: \", SSA_bulk_0W_18N_bulk)\n",
    "print(\"g_bulk_0W_18N_bulk: \", g_bulk_0W_18N_bulk)"
   ]
  },
  {
   "cell_type": "code",
   "execution_count": null,
   "id": "9275b49d-fb11-41ea-bf95-2905e3379da1",
   "metadata": {
    "tags": []
   },
   "outputs": [],
   "source": [
    "def create_if_not_exists(file_path):\n",
    "    if not os.path.exists(file_path):\n",
    "        with open(file_path, 'w') as file:\n",
    "            # You can optionally write initial content to the file\n",
    "            file.write(\"Wavelength\\tQ_e_bulk_0W_18N_bulk\\tSSA_bulk_0W_18N_bulk\\tg_bulk_0W_18N_bulk\\t\" + '\\n')\n",
    "            #file.write(f\"Q_e_bulk_0W_18N_bulk\\t\")\n",
    "            #file.write(f\"SSA_bulk_0W_18N_bulk\\t\")\n",
    "            #file.write(f\"g_bulk_0W_18N_bulk\\t\\n\")\n",
    "        print(f\"File '{file_path}' created.\")\n",
    "    else:\n",
    "        print(f\"File '{file_path}' already exists.\")\n",
    "\n",
    "# Check if dust optical properties txt file already exists\n",
    "file_path1 = 'RRTM_bulk_dust_optical_properties.txt'\n",
    "file_path2 = 'RRTM_bulk_dust_optical_properties_{}.txt'.format(wavelength)\n",
    "create_if_not_exists(file_path1)\n",
    "create_if_not_exists(file_path2)"
   ]
  },
  {
   "cell_type": "code",
   "execution_count": null,
   "id": "a0d24f11-1cc7-4616-9768-da145934ddb3",
   "metadata": {
    "tags": []
   },
   "outputs": [],
   "source": [
    "# Assuming Q_e_bulk_0W_18N_bulk, SSA_bulk_0W_18N_bulk, g_bulk_0W_18N_bulk are numpy arrays\n",
    "\n",
    "# Data to append\n",
    "data_to_append = np.column_stack((wavelength, Q_e_bulk_0W_18N_bulk, SSA_bulk_0W_18N_bulk, g_bulk_0W_18N_bulk))\n",
    "\n",
    "# Open the file in append mode and use np.savetxt to append data\n",
    "with open('bulk_dust_optical_properties_{}.txt'.format(wavelength), 'a') as file:\n",
    "    np.savetxt(file, data_to_append, fmt='%5.3f', delimiter='\\t', header='', comments='')\n",
    "    \n",
    "# Open the file in append mode and use np.savetxt to append data\n",
    "with open('bulk_dust_optical_properties.txt', 'a') as file:\n",
    "    np.savetxt(file, data_to_append, fmt='%5.3f', delimiter='\\t', header='', comments='')"
   ]
  },
  {
   "cell_type": "code",
   "execution_count": null,
   "id": "743b39cb-cda8-48ac-a980-f500984ee568",
   "metadata": {},
   "outputs": [],
   "source": []
  }
 ],
 "metadata": {
  "kernelspec": {
   "display_name": "rrtm_env",
   "language": "python",
   "name": "rrtm_env"
  },
  "language_info": {
   "codemirror_mode": {
    "name": "ipython",
    "version": 3
   },
   "file_extension": ".py",
   "mimetype": "text/x-python",
   "name": "python",
   "nbconvert_exporter": "python",
   "pygments_lexer": "ipython3",
   "version": "3.11.4"
  }
 },
 "nbformat": 4,
 "nbformat_minor": 5
}
