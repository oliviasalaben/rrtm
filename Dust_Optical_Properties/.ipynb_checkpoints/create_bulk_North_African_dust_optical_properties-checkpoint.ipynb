{
 "cells": [
  {
   "cell_type": "code",
   "execution_count": 1,
   "id": "07d6c587",
   "metadata": {
    "tags": []
   },
   "outputs": [],
   "source": [
    "import os\n",
    "import numpy as np\n",
    "import pandas as pd\n",
    "from scipy.interpolate import interp1d\n",
    "import sys\n",
    "import math\n",
    "from netCDF4 import Dataset\n",
    "import os, calendar, sys, fnmatch, datetime"
   ]
  },
  {
   "cell_type": "markdown",
   "id": "f01c49b7",
   "metadata": {
    "tags": []
   },
   "source": [
    "# Load Huang et al. 2023 Ellipsoidal dust optical properties files"
   ]
  },
  {
   "cell_type": "code",
   "execution_count": 2,
   "id": "12b2bf5a-76b6-47d0-aeca-a3b71daf7df7",
   "metadata": {
    "tags": []
   },
   "outputs": [],
   "source": [
    "# ===== Aerosol (e.g., dust) optical properties (i.e., Qext, SSA, g) =====\n",
    "# ***Note: The order of 14 bands is listed in TABLE 1 in RRTM_SW instruction (It is not monotonically increase or decrease)\n",
    "# ***Note: The order of spectral optical properties should be consistent with the order in TABLE 1\n",
    "\n",
    "def process_optical_properties(wavelength_band, txt_files):\n",
    "    wavelength = wavelength_range[wavelength_band]\n",
    "    print(txt_files[wavelength_band])\n",
    "    opt_prop_sw_original = np.loadtxt(opt_dir + '{}'.format(txt_files[wavelength_band]))\n",
    "    print(opt_prop_sw_original.shape)\n",
    "\n",
    "    wl = np.array(opt_prop_sw_original[:, 0][:])\n",
    "    dust_d = np.array(opt_prop_sw_original[:, 1][:])\n",
    "    #size_parameter = np.pi * dust_d / wl #f'size_parameter_{wavelength:.4f}': size_parameter,\n",
    "    n_RI = np.array(opt_prop_sw_original[:, 2][:])\n",
    "    k_RI = np.array(opt_prop_sw_original[:, 3][:])\n",
    "    \n",
    "    qe_dust_sw = opt_prop_sw_original[:, 4]\n",
    "    ssa_dust_sw = opt_prop_sw_original[:, 5]\n",
    "    g_dust_sw = opt_prop_sw_original[:, 6]\n",
    "\n",
    "    # Create variable names dynamically\n",
    "    variables = {\n",
    "        f'wl_{wavelength:.4f}': wl,\n",
    "        f'dust_d_{wavelength:.4f}': dust_d,\n",
    "        f'n_RI_{wavelength:.4f}': n_RI,\n",
    "        f'k_RI_{wavelength:.4f}': k_RI,\n",
    "        f'qe_dust_sw_{wavelength:.4f}': qe_dust_sw,\n",
    "        f'ssa_dust_sw_{wavelength:.4f}': ssa_dust_sw,\n",
    "        f'g_dust_sw_{wavelength:.4f}': g_dust_sw,\n",
    "    }\n",
    "    return np.array((wl,dust_d,n_RI,k_RI,qe_dust_sw,ssa_dust_sw,g_dust_sw)) #variables\n",
    "\n",
    "# Wavelength range and files\n",
    "opt_dir = 'SW_Huang_Dust_Optics/'\n",
    "wavelength_range = [0.35, 0.55, 0.75, 0.95, 2, 4, 6, 8, 10, 12, 14, 16, 35]\n",
    "Huang_2023_dust_opt_prop_txt_files = ['shapein_TAMU_0.3500.txt', 'shapein_TAMU_0.5500.txt', 'shapein_TAMU_0.7500.txt', 'shapein_TAMU_0.9500.txt', 'shapein_TAMU_2.0000.txt', 'shapein_TAMU_4.0000.txt', 'shapein_TAMU_6.0000.txt', 'shapein_TAMU_8.0000.txt', 'shapein_TAMU_10.0000.txt', 'shapein_TAMU_12.0000.txt', 'shapein_TAMU_14.0000.txt', 'shapein_TAMU_16.0000.txt', 'shapein_TAMU_35.0000.txt']\n",
    "\n",
    "# Example usage for wavelength_band 0\n",
    "#wavelength_band = 0 #0.35 micrometers\n",
    "#wavelength_band = 1 #0.55 micrometers\n",
    "#wavelength_band = 2 #0.75 micrometers\n",
    "#wavelength_band = 3 #0.95 micrometers\n",
    "#wavelength_band = 4 #2 micrometers\n",
    "#wavelength_band = 5 #4 micrometers\n",
    "#wavelength_band = 6 #6 micrometers\n",
    "#wavelength_band = 7 #8 micrometers\n",
    "#wavelength_band = 8 #10 micrometers\n",
    "#wavelength_band = 9 #12 micrometers\n",
    "#wavelength_band = 10 #14 micrometers\n",
    "#wavelength_band = 11 #16 micrometers\n",
    "wavelength_band = 12 #35 micrometers\n",
    "\n",
    "wavelength = wavelength_range[wavelength_band]"
   ]
  },
  {
   "cell_type": "code",
   "execution_count": 3,
   "id": "f0fb753a-937e-4661-996e-5d5d7c71d25e",
   "metadata": {
    "tags": []
   },
   "outputs": [
    {
     "name": "stdout",
     "output_type": "stream",
     "text": [
      "shapein_TAMU_0.3500.txt\n",
      "(14400, 9)\n",
      "shapein_TAMU_0.5500.txt\n",
      "(14400, 9)\n",
      "shapein_TAMU_0.7500.txt\n",
      "(14400, 9)\n",
      "shapein_TAMU_0.9500.txt\n",
      "(14400, 9)\n",
      "shapein_TAMU_2.0000.txt\n",
      "(18000, 9)\n",
      "shapein_TAMU_4.0000.txt\n",
      "(18000, 9)\n",
      "shapein_TAMU_6.0000.txt\n",
      "(18000, 9)\n",
      "shapein_TAMU_8.0000.txt\n",
      "(18000, 9)\n",
      "shapein_TAMU_10.0000.txt\n",
      "(18000, 9)\n",
      "shapein_TAMU_12.0000.txt\n",
      "(18000, 9)\n",
      "shapein_TAMU_14.0000.txt\n",
      "(18000, 9)\n",
      "shapein_TAMU_16.0000.txt\n",
      "(18000, 9)\n",
      "shapein_TAMU_35.0000.txt\n",
      "(18000, 9)\n"
     ]
    }
   ],
   "source": [
    "# Wavelength range and files\n",
    "opt_dir = 'SW_Huang_Dust_Optics/'\n",
    "wavelength_range = [0.35, 0.55, 0.75, 0.95, 2, 4, 6, 8, 10, 12, 14, 16, 35]\n",
    "Huang_2023_dust_opt_prop_txt_files = ['shapein_TAMU_0.3500.txt', 'shapein_TAMU_0.5500.txt', 'shapein_TAMU_0.7500.txt', 'shapein_TAMU_0.9500.txt', 'shapein_TAMU_2.0000.txt', 'shapein_TAMU_4.0000.txt', 'shapein_TAMU_6.0000.txt', 'shapein_TAMU_8.0000.txt', 'shapein_TAMU_10.0000.txt', 'shapein_TAMU_12.0000.txt', 'shapein_TAMU_14.0000.txt', 'shapein_TAMU_16.0000.txt', 'shapein_TAMU_35.0000.txt']\n",
    "\n",
    "# Array to store results\n",
    "opt_prop_sw_array = np.empty((len(wavelength_range),), dtype=object)\n",
    "\n",
    "# Process optical properties for each wavelength band\n",
    "for i in range(len(wavelength_range)):\n",
    "    opt_prop_sw = process_optical_properties(i, Huang_2023_dust_opt_prop_txt_files)\n",
    "    opt_prop_sw_array[i] = opt_prop_sw\n",
    "\n",
    "# Accessing the results\n",
    "#for i, opt_prop_sw in enumerate(opt_prop_sw_array):\n",
    "#    print(f\"Example usage for wavelength_band {wavelength_range[i]}: {opt_prop_sw}\")"
   ]
  },
  {
   "cell_type": "code",
   "execution_count": 4,
   "id": "f9fa16f7",
   "metadata": {
    "tags": []
   },
   "outputs": [
    {
     "name": "stdout",
     "output_type": "stream",
     "text": [
      "(7, 18000)\n",
      "[[3.500000e+01 3.500000e+01 3.500000e+01 ... 3.500000e+01 3.500000e+01\n",
      "  3.500000e+01]\n",
      " [1.000000e-01 1.023000e-01 1.047000e-01 ... 6.755210e+01 6.876520e+01\n",
      "  7.000000e+01]\n",
      " [1.100000e+00 1.100000e+00 1.100000e+00 ... 1.600000e+00 1.600000e+00\n",
      "  1.600000e+00]\n",
      " ...\n",
      " [1.425580e-04 1.342713e-04 1.768470e-04 ... 3.882606e+00 3.875756e+00\n",
      "  3.868720e+00]\n",
      " [6.067821e-05 6.040520e-05 4.761325e-05 ... 4.979112e-01 4.983948e-01\n",
      "  4.988757e-01]\n",
      " [6.808267e-01 6.784900e-01 6.664552e-01 ... 8.687776e-01 8.697777e-01\n",
      "  8.707502e-01]]\n"
     ]
    }
   ],
   "source": [
    "#choose wavelength band\n",
    "opt_prop_sw =  opt_prop_sw_array[wavelength_band] #opt_prop_sw_original #np.array((wl,dust_d,n_RI,k_RI,qe_dust_sw,ssa_dust_sw,g_dust_sw))\n",
    "print(opt_prop_sw.shape)\n",
    "print(opt_prop_sw)"
   ]
  },
  {
   "cell_type": "markdown",
   "id": "912f2506",
   "metadata": {},
   "source": [
    "# Calculate DustCOMM mean geometric diamater of each bin"
   ]
  },
  {
   "cell_type": "code",
   "execution_count": 5,
   "id": "f2526a33",
   "metadata": {
    "tags": []
   },
   "outputs": [
    {
     "name": "stdout",
     "output_type": "stream",
     "text": [
      "<class 'netCDF4._netCDF4.Dataset'>\n",
      "root group (NETCDF4_CLASSIC data model, file format HDF5):\n",
      "    dimensions(sizes): source(9), diameter(6), lat(96), lon(144), bin(6)\n",
      "    variables(dimensions): float64 source(source), float64 bin_D_lower(diameter), float64 bin_D_upper(diameter), float64 lat(lat), float64 lon(lon), float64 Median(lat, lon, bin, source), float64 Mean(lat, lon, bin, source), float64 Neg1sigma(lat, lon, bin, source), float64 Pos1sigman(lat, lon, bin, source), float64 Neg2sigma(lat, lon, bin, source), float64 Pos2sigma(lat, lon, bin, source)\n",
      "    groups: \n"
     ]
    }
   ],
   "source": [
    "#----------\n",
    "# using DustCOMM 2021 papers b) https://dustcomm.atmos.ucla.edu/\n",
    "# specifically https://dustcomm.atmos.ucla.edu/data/K21b/ dataset DustCOMM_source_region_DAOD_seas_bin_abs.nc\n",
    "# assumes aspherical dust shape, PM20 dust\n",
    "#----------\n",
    "\n",
    "daod_Dustcomm_PM20_Dataset = Dataset('DustCOMM_source_region_DAOD_annual_bin_abs.nc')\n",
    "print(daod_Dustcomm_PM20_Dataset) #[season,source,diameter,lat,lon,bin]\n",
    "\n",
    "lat_Dustcomm_PM20 = np.array(daod_Dustcomm_PM20_Dataset.variables['lat'][:])\n",
    "lon_Dustcomm_PM20 = np.array(daod_Dustcomm_PM20_Dataset.variables['lon'][:])\n",
    "mean_Daod_Dustcomm_20PM = np.array(daod_Dustcomm_PM20_Dataset.variables['Mean'][:])\n",
    "#dustcomm_seas = np.array(daod_Dustcomm_PM20_Dataset.variables['season'][:])\n",
    "dustcomm_Sources_PM20 = np.array(daod_Dustcomm_PM20_Dataset.variables['source'][:]) \n",
    "dustcomm_bin_lower = np.array(daod_Dustcomm_PM20_Dataset.variables['bin_D_lower'][:])\n",
    "dustcomm_bin_upper = np.array(daod_Dustcomm_PM20_Dataset.variables['bin_D_upper'][:])"
   ]
  },
  {
   "cell_type": "code",
   "execution_count": 6,
   "id": "b6e21893-7a30-4397-a160-32c2c8414320",
   "metadata": {
    "tags": []
   },
   "outputs": [
    {
     "name": "stdout",
     "output_type": "stream",
     "text": [
      "<class 'netCDF4._netCDF4.Dataset'>\n",
      "root group (NETCDF4_CLASSIC data model, file format HDF5):\n",
      "    dimensions(sizes): source(9), diameter(6), lat(96), lon(144), bin(6)\n",
      "    variables(dimensions): float64 source(source), float64 bin_D_lower(diameter), float64 bin_D_upper(diameter), float64 lat(lat), float64 lon(lon), float64 Median(lat, lon, bin, source), float64 Mean(lat, lon, bin, source), float64 Neg1sigma(lat, lon, bin, source), float64 Pos1sigman(lat, lon, bin, source), float64 Neg2sigma(lat, lon, bin, source), float64 Pos2sigma(lat, lon, bin, source)\n",
      "    groups: \n"
     ]
    }
   ],
   "source": [
    "#----------\n",
    "# using DustCOMM 2021 papers b) https://dustcomm.atmos.ucla.edu/\n",
    "# specifically https://dustcomm.atmos.ucla.edu/data/K21b/ dataset DustCOMM_source_region_DAOD_seas_bin_abs.nc\n",
    "# assumes aspherical dust shape, PM20 dust\n",
    "#----------\n",
    "\n",
    "loading_Dustcomm_PM20_Dataset = Dataset('DustCOMM_source_region_dust_loading_annual_bin_abs.nc')\n",
    "print(loading_Dustcomm_PM20_Dataset) #[season,source,diameter,lat,lon,bin]\n",
    "\n",
    "loading_lat_Dustcomm_PM20 = np.array(loading_Dustcomm_PM20_Dataset.variables['lat'][:])\n",
    "loading_lon_Dustcomm_PM20 = np.array(loading_Dustcomm_PM20_Dataset.variables['lon'][:])\n",
    "mean_loading_Dustcomm_20PM = np.array(loading_Dustcomm_PM20_Dataset.variables['Mean'][:])\n",
    "#dustcomm_seas = np.array(daod_Dustcomm_PM20_Dataset.variables['season'][:])\n",
    "loading_dustcomm_Sources_PM20 = np.array(loading_Dustcomm_PM20_Dataset.variables['source'][:]) \n",
    "loading_dustcomm_bin_lower = np.array(loading_Dustcomm_PM20_Dataset.variables['bin_D_lower'][:])\n",
    "loading_dustcomm_bin_upper = np.array(loading_Dustcomm_PM20_Dataset.variables['bin_D_upper'][:])"
   ]
  },
  {
   "cell_type": "code",
   "execution_count": 7,
   "id": "c4dc8610",
   "metadata": {},
   "outputs": [
    {
     "name": "stdout",
     "output_type": "stream",
     "text": [
      "[ 0.2  0.5  1.   2.5  5.  10. ]\n",
      "[ 0.5  1.   2.5  5.  10.  20. ]\n"
     ]
    }
   ],
   "source": [
    "print(dustcomm_bin_lower)\n",
    "print(dustcomm_bin_upper)"
   ]
  },
  {
   "cell_type": "code",
   "execution_count": 8,
   "id": "dafdd644",
   "metadata": {
    "tags": []
   },
   "outputs": [],
   "source": [
    "mean_geometric_diameter_bin = np.sqrt(dustcomm_bin_lower*dustcomm_bin_upper)"
   ]
  },
  {
   "cell_type": "code",
   "execution_count": 9,
   "id": "847f93bc",
   "metadata": {
    "tags": []
   },
   "outputs": [
    {
     "name": "stdout",
     "output_type": "stream",
     "text": [
      "[ 0.31622777  0.70710678  1.58113883  3.53553391  7.07106781 14.14213562]\n"
     ]
    }
   ],
   "source": [
    "print(mean_geometric_diameter_bin)"
   ]
  },
  {
   "cell_type": "markdown",
   "id": "4cbed0f8",
   "metadata": {},
   "source": [
    "# Choose Huang et al. 2023 dust optical properties that best match Adebiyi RI's, and DustCOMM mean geomtric diameter"
   ]
  },
  {
   "cell_type": "code",
   "execution_count": 10,
   "id": "f5f86f42",
   "metadata": {
    "tags": []
   },
   "outputs": [],
   "source": [
    "#grid_box = [0,18] #0W, 18N\n",
    "North_African_dust_adebiyi_k = 0.0012\n",
    "North_African_dust_adebiyi_nr = 1.51"
   ]
  },
  {
   "cell_type": "markdown",
   "id": "54e6578d",
   "metadata": {},
   "source": [
    "use DustCOMM Saharan and Sahelian dust partition in a grid box, in the DAOD. sum the two sahara sources, to calculate my own spatially resolved RI (Later)"
   ]
  },
  {
   "cell_type": "markdown",
   "id": "33d95dbc",
   "metadata": {},
   "source": [
    "North African dust has a mean imaginary refractive index at 550 nm wavelength of 0.0012 (one standard error range of 0.0009–0.0016\n",
    "and a real dust refractive index, nr = 1.51 ± 0.03 (which is the same for Sahara and Sahel) (Di Biagio et al. 2019)\n",
    "We assume that RI is constant across particle size (Adebiyi et al. 2023, Obiso et al. 2023)"
   ]
  },
  {
   "cell_type": "code",
   "execution_count": 11,
   "id": "b55ba4e9",
   "metadata": {
    "tags": []
   },
   "outputs": [],
   "source": [
    "mean_geometric_diameter_bin_match = []\n",
    "index_dust_d = []\n",
    "dust_d_match = []\n",
    "dust_d_list = list(opt_prop_sw[1])\n",
    "\n",
    "match_d_opt_prop_sw = []\n",
    "match_n_RI_opt_prop_sw = []\n",
    "match_k_RI_opt_prop_sw = []\n",
    "n_RI_index = []\n",
    "k_RI_index = []\n",
    "\n",
    "for i in opt_prop_sw[1]:\n",
    "    for j in mean_geometric_diameter_bin:\n",
    "        if np.round(j, decimals=1) == np.round(i, decimals=1):\n",
    "            mean_geometric_diameter_bin_match.append(j)\n",
    "            index_dust_d.append(dust_d_list.index(i))\n",
    "            dust_d_match.append(i)\n"
   ]
  },
  {
   "cell_type": "code",
   "execution_count": 12,
   "id": "4b2c0875",
   "metadata": {
    "tags": []
   },
   "outputs": [
    {
     "name": "stdout",
     "output_type": "stream",
     "text": [
      "1680\n"
     ]
    }
   ],
   "source": [
    "#print(dust_d_match)\n",
    "print(len(dust_d_match))"
   ]
  },
  {
   "cell_type": "code",
   "execution_count": 13,
   "id": "d29abf04-174f-4b0e-9f97-e11d21e8c245",
   "metadata": {
    "tags": []
   },
   "outputs": [],
   "source": [
    "def extract_unique_values(input_array):\n",
    "    unique_values = np.unique(input_array)\n",
    "    return unique_values"
   ]
  },
  {
   "cell_type": "code",
   "execution_count": 14,
   "id": "6a46925a",
   "metadata": {
    "tags": []
   },
   "outputs": [
    {
     "name": "stdout",
     "output_type": "stream",
     "text": [
      "28 [ 40  41  42  43  44  45  46  47  48  49  50  51  52  53  54  81  82  83\n",
      "  84  85  86  87 119 120 121 154 184 214]\n"
     ]
    }
   ],
   "source": [
    "#print(index_dust_d)\n",
    "unique_dust_d_index = extract_unique_values(index_dust_d) #[40, 41, 42, 43, 44, 45, 46, 47, 48, 49, 50, 51, 52, 53, 54, 81, 82, 83, 84, 85, 86, 87, 119, 120, 121, 154, 184, 214]\n",
    "print(len(unique_dust_d_index),unique_dust_d_index)"
   ]
  },
  {
   "cell_type": "code",
   "execution_count": 15,
   "id": "d00f554d",
   "metadata": {
    "tags": []
   },
   "outputs": [
    {
     "name": "stdout",
     "output_type": "stream",
     "text": [
      "28 [0.2523, 0.2582, 0.2643, 0.2704, 0.2768, 0.2832, 0.2899, 0.2967, 0.3036, 0.3107, 0.318, 0.3254, 0.333, 0.3408, 0.3488, 0.6515, 0.6667, 0.6823, 0.6983, 0.7147, 0.7314, 0.7485, 1.5694, 1.6061, 1.6437, 3.5271, 7.0609, 14.1354]\n"
     ]
    }
   ],
   "source": [
    "list_d_match = []\n",
    "for i in range(0,len(unique_dust_d_index)):\n",
    "    list_d_match.append(opt_prop_sw[1][unique_dust_d_index[i]])\n",
    "#list_d_match = [0.2523, 0.2582, 0.2643, 0.2704, 0.2768, 0.2832, 0.2899, 0.2967, 0.3036, 0.3107, 0.318, 0.3254, 0.333, 0.3408, 0.3488, 0.6515, 0.6667, 0.6823, 0.6983, 0.7147, 0.7314, 0.7485, 1.5694, 1.6061, 1.6437, 3.5271, 7.0609, 14.1354]\n",
    "print(len(list_d_match), list_d_match)"
   ]
  },
  {
   "cell_type": "markdown",
   "id": "92dc530e-4608-44c5-93c3-80741663843f",
   "metadata": {},
   "source": [
    "# Need to change to not be brute force"
   ]
  },
  {
   "cell_type": "markdown",
   "id": "70a883b8-7591-4d8f-8fd0-0dae7f6fd0ca",
   "metadata": {},
   "source": [
    "## To find best matching d_dust[i] to geometric diameter for each particle bin"
   ]
  },
  {
   "cell_type": "code",
   "execution_count": 16,
   "id": "d0afcf80-6c5c-498d-a436-122c22a3c1ad",
   "metadata": {
    "tags": []
   },
   "outputs": [
    {
     "name": "stdout",
     "output_type": "stream",
     "text": [
      "The value in the array closest to 7 is: 8\n"
     ]
    }
   ],
   "source": [
    "def find_closest_value(target, array):\n",
    "    # Check if the array is empty\n",
    "    if not array:\n",
    "        return None\n",
    "\n",
    "    # Initialize variables to store the closest value and its difference\n",
    "    closest_value = array[0]\n",
    "    min_difference = abs(target - array[0])\n",
    "\n",
    "    # Iterate through the array\n",
    "    for element in array:\n",
    "        # Calculate the absolute difference between the target and the current element\n",
    "        difference = abs(target - element)\n",
    "\n",
    "        # Update the closest value if the current element is closer\n",
    "        if difference < min_difference:\n",
    "            min_difference = difference\n",
    "            closest_value = element\n",
    "\n",
    "    return closest_value\n",
    "\n",
    "# Example usage\n",
    "target_number = 7\n",
    "my_array = [1, 3, 5, 8, 10]\n",
    "\n",
    "result = find_closest_value(target_number, my_array)\n",
    "print(f\"The value in the array closest to {target_number} is: {result}\")"
   ]
  },
  {
   "cell_type": "code",
   "execution_count": 17,
   "id": "c2b4eaa9-7dc1-461f-93d6-a8b83b6f7658",
   "metadata": {
    "tags": []
   },
   "outputs": [
    {
     "name": "stdout",
     "output_type": "stream",
     "text": [
      "[ 0.318   0.7147  1.5694  3.5271  7.0609 14.1354]\n",
      "[ 50.  85. 119. 154. 184. 214.]\n"
     ]
    }
   ],
   "source": [
    "#choosing the best matching diameters to the DustCOMM mean geometric diameters of each bin\n",
    "new_geometric_mean_diameter_matching = np.zeros(len(mean_geometric_diameter_bin))\n",
    "index_new_geometric_mean_diameter_matching = np.zeros(len(mean_geometric_diameter_bin))\n",
    "\n",
    "for j in range(0,len(mean_geometric_diameter_bin)):\n",
    "    new_geometric_mean_diameter_matching[j] = find_closest_value(mean_geometric_diameter_bin[j], list_d_match)\n",
    "    index_new_geometric_mean_diameter_matching[j] = unique_dust_d_index[list_d_match.index(new_geometric_mean_diameter_matching[j])]\n",
    "print(new_geometric_mean_diameter_matching)\n",
    "print(index_new_geometric_mean_diameter_matching)"
   ]
  },
  {
   "cell_type": "code",
   "execution_count": 18,
   "id": "e5eb6c88-587d-4a97-ae7b-ea9d0a4f2913",
   "metadata": {
    "tags": []
   },
   "outputs": [
    {
     "name": "stdout",
     "output_type": "stream",
     "text": [
      "(7, 18000)\n",
      "18000\n",
      "[ 0.1     0.1023  0.1047 ... 67.5521 68.7652 70.    ]\n"
     ]
    }
   ],
   "source": [
    "len(opt_prop_sw[0])\n",
    "print(opt_prop_sw.shape)\n",
    "print(len(opt_prop_sw[1,:]))\n",
    "print(opt_prop_sw[1,:])"
   ]
  },
  {
   "cell_type": "code",
   "execution_count": 19,
   "id": "315ac10f",
   "metadata": {
    "tags": []
   },
   "outputs": [
    {
     "name": "stdout",
     "output_type": "stream",
     "text": [
      "(360, 7)\n",
      "[[3.500000e+01 3.180000e-01 1.100000e+00 ... 5.126650e-05 3.569684e-04\n",
      "  2.705456e-04]\n",
      " [3.500000e+01 3.180000e-01 1.100000e+00 ... 1.025148e-04 1.789698e-04\n",
      "  2.704300e-04]\n",
      " [3.500000e+01 3.180000e-01 1.100000e+00 ... 5.125015e-04 3.659141e-05\n",
      "  2.695385e-04]\n",
      " ...\n",
      " [3.500000e+01 1.413540e+01 1.600000e+00 ... 1.390363e+00 6.151308e-01\n",
      "  3.629879e-01]\n",
      " [3.500000e+01 1.413540e+01 1.600000e+00 ... 1.734172e+00 4.551528e-01\n",
      "  3.753587e-01]\n",
      " [3.500000e+01 1.413540e+01 1.600000e+00 ... 2.493520e+00 3.248826e-01\n",
      "  3.865983e-01]]\n"
     ]
    }
   ],
   "source": [
    "avg_geo_d_opt_prop_sw = [] # np.zeros((14400,6))\n",
    "for i in new_geometric_mean_diameter_matching:\n",
    "    for j in range(0,len(opt_prop_sw[0])):\n",
    "        if opt_prop_sw[1,j] == i:\n",
    "            avg_geo_d_opt_prop_sw.append((opt_prop_sw[:,j]))\n",
    "avg_geo_d_opt_prop_sw = np.array(avg_geo_d_opt_prop_sw)\n",
    "print(avg_geo_d_opt_prop_sw.shape)\n",
    "print(avg_geo_d_opt_prop_sw)"
   ]
  },
  {
   "cell_type": "code",
   "execution_count": 20,
   "id": "4181faca",
   "metadata": {
    "tags": []
   },
   "outputs": [],
   "source": [
    "n_RI_geo = avg_geo_d_opt_prop_sw[:,2]\n",
    "k_RI_geo = avg_geo_d_opt_prop_sw[:,3]\n",
    "qe_dust_sw_geo = avg_geo_d_opt_prop_sw[:,4]\n",
    "ssa_dust_sw_geo = avg_geo_d_opt_prop_sw[:,5]\n",
    "g_dust_sw_geo = avg_geo_d_opt_prop_sw[:,6]\n",
    "#print(k_RI_geo.shape,k_RI_geo)"
   ]
  },
  {
   "cell_type": "code",
   "execution_count": 21,
   "id": "64044ecc",
   "metadata": {
    "tags": []
   },
   "outputs": [
    {
     "name": "stdout",
     "output_type": "stream",
     "text": [
      "60 [1.5, 1.5, 1.5, 1.5, 1.5, 1.5, 1.5, 1.5, 1.5, 1.5, 1.5, 1.5, 1.5, 1.5, 1.5, 1.5, 1.5, 1.5, 1.5, 1.5, 1.5, 1.5, 1.5, 1.5, 1.5, 1.5, 1.5, 1.5, 1.5, 1.5, 1.5, 1.5, 1.5, 1.5, 1.5, 1.5, 1.5, 1.5, 1.5, 1.5, 1.5, 1.5, 1.5, 1.5, 1.5, 1.5, 1.5, 1.5, 1.5, 1.5, 1.5, 1.5, 1.5, 1.5, 1.5, 1.5, 1.5, 1.5, 1.5, 1.5]\n",
      "[40 40 40 40 40 40 40 40 40 40 40 40 40 40 40 40 40 40 40 40 40 40 40 40\n",
      " 40 40 40 40 40 40 40 40 40 40 40 40 40 40 40 40 40 40 40 40 40 40 40 40\n",
      " 40 40 40 40 40 40 40 40 40 40 40 40]\n",
      "unique_index_match_n_RI_sw:  [40]\n"
     ]
    }
   ],
   "source": [
    "n_RI_geo_list = list(n_RI_geo)\n",
    "#print(n_RI_geo_list)\n",
    "match_n_RI_sw = []\n",
    "index_match_n_RI_sw = []\n",
    "match_n_RI_opt_prop_sw = []\n",
    "\n",
    "for n in n_RI_geo:\n",
    "    if np.round(n, decimals=1) == np.round(North_African_dust_adebiyi_nr, decimals=1):\n",
    "        match_n_RI_sw.append(n)\n",
    "        index_match_n_RI_sw.append(n_RI_geo_list.index(n))\n",
    "print(len(match_n_RI_sw),match_n_RI_sw)\n",
    "match_n_RI_sw = np.array(match_n_RI_sw)\n",
    "index_match_n_RI_sw = np.array(index_match_n_RI_sw)\n",
    "print(index_match_n_RI_sw)\n",
    "\n",
    "unique_index_match_n_RI_sw = extract_unique_values(index_match_n_RI_sw)\n",
    "print('unique_index_match_n_RI_sw: ',unique_index_match_n_RI_sw)\n",
    "\n",
    "#turn into appending for loop\n",
    "new_n_RI_geo = []\n",
    "for i in range(0,len(unique_index_match_n_RI_sw)):\n",
    "    new_n_RI_geo.append(n_RI_geo[unique_index_match_n_RI_sw[i]])\n",
    "\n",
    "for i in new_n_RI_geo:\n",
    "    for j in range(0,len(avg_geo_d_opt_prop_sw)):\n",
    "        if avg_geo_d_opt_prop_sw[:,2][j] == i:\n",
    "            match_n_RI_opt_prop_sw.append((avg_geo_d_opt_prop_sw[j,:]))\n",
    "            \n",
    "match_n_RI_opt_prop_sw = np.array (match_n_RI_opt_prop_sw)\n",
    "#print(match_n_RI_opt_prop_sw.shape,match_n_RI_opt_prop_sw[0])"
   ]
  },
  {
   "cell_type": "raw",
   "id": "d53da7c5",
   "metadata": {},
   "source": [
    "FOR IMAGINARY REFRACTIVE INDEX"
   ]
  },
  {
   "cell_type": "code",
   "execution_count": 22,
   "id": "b47d97d9",
   "metadata": {
    "tags": []
   },
   "outputs": [],
   "source": [
    "n_RI_match_n = match_n_RI_opt_prop_sw[:,2]\n",
    "k_RI_match_n = match_n_RI_opt_prop_sw[:,3]\n",
    "qe_dust_sw_match_n = match_n_RI_opt_prop_sw[:,4]\n",
    "ssa_dust_sw_match_n = match_n_RI_opt_prop_sw[:,5]\n",
    "g_dust_sw_match_n = match_n_RI_opt_prop_sw[:,6]\n",
    "#print(k_RI_match_n.shape,k_RI_geo)"
   ]
  },
  {
   "cell_type": "code",
   "execution_count": 23,
   "id": "d42f0832",
   "metadata": {},
   "outputs": [
    {
     "name": "stdout",
     "output_type": "stream",
     "text": [
      "6 [0.001, 0.001, 0.001, 0.001, 0.001, 0.001]\n",
      "6 [1 1 1 1 1 1]\n"
     ]
    }
   ],
   "source": [
    "k_RI_n_match_list = list(k_RI_match_n)\n",
    "#print(k_RI_geo_list)\n",
    "match_k_RI_sw = []\n",
    "index_match_k_RI_sw = []\n",
    "match_k_RI_opt_prop_sw = []\n",
    "\n",
    "for m in k_RI_match_n:\n",
    "    if np.round(m, decimals=3) == np.round(North_African_dust_adebiyi_k, decimals=3):\n",
    "        match_k_RI_sw.append(m)\n",
    "        index_match_k_RI_sw.append(k_RI_n_match_list .index(m))\n",
    "print(len(match_k_RI_sw),match_k_RI_sw)\n",
    "match_k_RI_sw = np.array(match_k_RI_sw)\n",
    "index_match_k_RI_sw = np.array(index_match_k_RI_sw)\n",
    "print(len(index_match_k_RI_sw), index_match_k_RI_sw)\n",
    "\n",
    "unique_index_match_k_RI_sw = extract_unique_values(index_match_k_RI_sw)\n",
    "#turn into appending for loop\n",
    "new_k_RI_geo = []\n",
    "for i in range(0,len(unique_index_match_n_RI_sw)):\n",
    "    new_n_RI_geo.append(k_RI_geo[unique_index_match_n_RI_sw[i]])\n",
    "\n",
    "#for i in new_k_RI_geo:\n",
    "for j in range(0,len(match_n_RI_opt_prop_sw)):\n",
    "    if match_n_RI_opt_prop_sw[j,3] == k_RI_geo[1]:\n",
    "        match_k_RI_opt_prop_sw.append((match_n_RI_opt_prop_sw[j,:]))\n",
    "\n",
    "match_k_RI_opt_prop_sw = np.array(match_k_RI_opt_prop_sw)\n",
    "#print(match_k_RI_opt_prop_sw.shape, match_k_RI_opt_prop_sw)"
   ]
  },
  {
   "cell_type": "code",
   "execution_count": 24,
   "id": "5f8d942e-3fc0-4770-b805-fe5648a3c086",
   "metadata": {
    "tags": []
   },
   "outputs": [
    {
     "name": "stdout",
     "output_type": "stream",
     "text": [
      "bin1_opt_prop_sw: [[3.500000e+01 3.180000e-01 1.500000e+00 1.000000e-03 8.556095e-05\n",
      "  3.737244e-03 2.793875e-04]]\n",
      "bin2_opt_prop_sw: [[3.500000e+01 7.147000e-01 1.500000e+00 1.000000e-03 1.964273e-04\n",
      "  3.761603e-02 1.076588e-03]]\n",
      "bin3_opt_prop_sw: [[3.500000e+01 1.569400e+00 1.500000e+00 1.000000e-03 5.962661e-04\n",
      "  2.945199e-01 4.958500e-03]]\n",
      "bin4_opt_prop_sw: [[3.500000e+01 3.527100e+00 1.500000e+00 1.000000e-03 5.250276e-03\n",
      "  8.133812e-01 2.434434e-02]]\n",
      "bin5_opt_prop_sw: [[3.500000e+01 7.060900e+00 1.500000e+00 1.000000e-03 6.782244e-02\n",
      "  9.666981e-01 9.179887e-02]]\n",
      "bin6_opt_prop_sw: [[3.500000e+01 1.413540e+01 1.500000e+00 1.000000e-03 6.687025e-01\n",
      "  9.914136e-01 3.393406e-01]]\n"
     ]
    }
   ],
   "source": [
    "bins_opt_prop_sw = []\n",
    "\n",
    "def process_bin(bin_number, matching_array):\n",
    "    bin_opt_prop_sw = []\n",
    "    for j in range(0, len(match_k_RI_opt_prop_sw)):\n",
    "        if matching_array[:, 1][j] == new_geometric_mean_diameter_matching[bin_number]:\n",
    "            bin_opt_prop_sw.append(matching_array[j, :])\n",
    "    return bin_opt_prop_sw\n",
    "\n",
    "# Process each bin and append the result to the list\n",
    "for i in range(0,len(mean_geometric_diameter_bin)):\n",
    "    bins_opt_prop_sw.append(process_bin(i, match_k_RI_opt_prop_sw))\n",
    "bins_opt_prop_sw = np.array(bins_opt_prop_sw)\n",
    "\n",
    "# Print the results\n",
    "for i, bin_opt_prop_sw in enumerate(bins_opt_prop_sw, start=1):\n",
    "    print(f\"bin{i}_opt_prop_sw: {bin_opt_prop_sw}\")"
   ]
  },
  {
   "cell_type": "code",
   "execution_count": 25,
   "id": "a817f0a0-b8c0-46ff-a3b4-8854aa2c0239",
   "metadata": {
    "tags": []
   },
   "outputs": [
    {
     "name": "stdout",
     "output_type": "stream",
     "text": [
      "(6, 1, 7)\n"
     ]
    }
   ],
   "source": [
    "print(bins_opt_prop_sw.shape)"
   ]
  },
  {
   "cell_type": "code",
   "execution_count": 26,
   "id": "1003a8ba-6434-4541-85cf-2038775dca6e",
   "metadata": {
    "tags": []
   },
   "outputs": [
    {
     "data": {
      "text/plain": [
       "6"
      ]
     },
     "execution_count": 26,
     "metadata": {},
     "output_type": "execute_result"
    }
   ],
   "source": [
    "len(bins_opt_prop_sw)"
   ]
  },
  {
   "cell_type": "markdown",
   "id": "87cc4f96-33e1-4bb8-b579-35e53fc214ed",
   "metadata": {},
   "source": [
    "## Interpolate diamters to mean geometric diameter, k from 0.001 to 0.0012, and n from 1.50 to 1.51"
   ]
  },
  {
   "cell_type": "code",
   "execution_count": 27,
   "id": "38a5e02a-5fd9-4b05-a8dd-9af460618586",
   "metadata": {
    "tags": []
   },
   "outputs": [
    {
     "name": "stdout",
     "output_type": "stream",
     "text": [
      "Average for bin1_opt_prop_sw: [3.500000e+01 3.180000e-01 1.500000e+00 1.000000e-03 8.556095e-05\n",
      " 3.737244e-03 2.793875e-04]\n",
      "Average for bin2_opt_prop_sw: [3.500000e+01 7.147000e-01 1.500000e+00 1.000000e-03 1.964273e-04\n",
      " 3.761603e-02 1.076588e-03]\n",
      "Average for bin3_opt_prop_sw: [3.500000e+01 1.569400e+00 1.500000e+00 1.000000e-03 5.962661e-04\n",
      " 2.945199e-01 4.958500e-03]\n",
      "Average for bin4_opt_prop_sw: [3.500000e+01 3.527100e+00 1.500000e+00 1.000000e-03 5.250276e-03\n",
      " 8.133812e-01 2.434434e-02]\n",
      "Average for bin5_opt_prop_sw: [3.500000e+01 7.060900e+00 1.500000e+00 1.000000e-03 6.782244e-02\n",
      " 9.666981e-01 9.179887e-02]\n",
      "Average for bin6_opt_prop_sw: [3.500000e+01 1.413540e+01 1.500000e+00 1.000000e-03 6.687025e-01\n",
      " 9.914136e-01 3.393406e-01]\n"
     ]
    }
   ],
   "source": [
    "def calculate_bin_average(array,bin_data):\n",
    "    ibin = len(array)\n",
    "    if ibin == 6:\n",
    "        return bin_data[0]\n",
    "    else:\n",
    "        return (bin_data[0] + bin_data[1]) / 2\n",
    "\n",
    "# Calculate and print averages for each bin\n",
    "avg_bin1_opt_prop_sw = calculate_bin_average(bins_opt_prop_sw,bins_opt_prop_sw[0])\n",
    "print(f\"Average for bin1_opt_prop_sw: {avg_bin1_opt_prop_sw}\")\n",
    "\n",
    "avg_bin2_opt_prop_sw = calculate_bin_average(bins_opt_prop_sw,bins_opt_prop_sw[1])\n",
    "print(f\"Average for bin2_opt_prop_sw: {avg_bin2_opt_prop_sw}\")\n",
    "\n",
    "avg_bin3_opt_prop_sw = calculate_bin_average(bins_opt_prop_sw,bins_opt_prop_sw[2])\n",
    "print(f\"Average for bin3_opt_prop_sw: {avg_bin3_opt_prop_sw}\")\n",
    "\n",
    "avg_bin4_opt_prop_sw = calculate_bin_average(bins_opt_prop_sw,bins_opt_prop_sw[3])\n",
    "print(f\"Average for bin4_opt_prop_sw: {avg_bin4_opt_prop_sw}\")\n",
    "\n",
    "avg_bin5_opt_prop_sw = calculate_bin_average(bins_opt_prop_sw,bins_opt_prop_sw[4])\n",
    "print(f\"Average for bin5_opt_prop_sw: {avg_bin5_opt_prop_sw}\")\n",
    "\n",
    "avg_bin6_opt_prop_sw = calculate_bin_average(bins_opt_prop_sw,bins_opt_prop_sw[5])\n",
    "print(f\"Average for bin6_opt_prop_sw: {avg_bin6_opt_prop_sw}\")\n"
   ]
  },
  {
   "cell_type": "markdown",
   "id": "4d86460d-8df4-422c-bdc4-740119fd3896",
   "metadata": {},
   "source": [
    "Meeting Notes 1/4/24:\n",
    "\n",
    "Look at how solar zenith angle variation effects \"DRE\" (difference between the two fluxes)\n",
    "Send Jasper bulk dust optical properties by end of day tomorrow (plus text file)\n",
    "write script to run SW RRTM for different solar zenith angles"
   ]
  },
  {
   "cell_type": "code",
   "execution_count": 28,
   "id": "f52ceaa3-12ac-480f-89e7-fe77c6d9ad6e",
   "metadata": {
    "tags": []
   },
   "outputs": [
    {
     "name": "stdout",
     "output_type": "stream",
     "text": [
      "[0.02838454 0.06346976 0.14192269 0.31734878 0.63469756 1.26939513]\n"
     ]
    }
   ],
   "source": [
    "size_parameter_geometric_diameter_bin = np.pi*mean_geometric_diameter_bin/wavelength\n",
    "print(size_parameter_geometric_diameter_bin)"
   ]
  },
  {
   "cell_type": "code",
   "execution_count": 48,
   "id": "bdd72766-c50b-4c08-b7a0-1b03a5277a30",
   "metadata": {
    "tags": []
   },
   "outputs": [
    {
     "name": "stdout",
     "output_type": "stream",
     "text": [
      "For bin 1 and wavelength 35.0 the size parameter, real RI, imaginary RI =  [2.85436133e-02 1.50000000e+00 1.00000000e-03]\n",
      "and Q_e, SSA, g =  [8.556095e-05 3.737244e-03 2.793875e-04]\n",
      "Sorted DustCOMM size parameter (at wavelength 35.0 and diameter= 0.318), North African dust real RI, and imaginary RI:  [1.20000000e-03 2.83845379e-02 1.51000000e+00]\n",
      "Interpolated Values of y1 at [2.83845379e-02 1.51000000e+00 1.20000000e-03]: [0.00011208 0.00371615 0.00027939]\n",
      "For bin 2 and wavelength 35.0 the size parameter, real RI, imaginary RI =  [6.4151322e-02 1.5000000e+00 1.0000000e-03]\n",
      "and Q_e, SSA, g =  [0.00019643 0.03761603 0.00107659]\n",
      "Sorted DustCOMM size parameter (at wavelength 35.0 and diameter= 0.7147), North African dust real RI, and imaginary RI:  [1.20000000e-03 6.34697563e-02 1.51000000e+00]\n",
      "Interpolated Values of y2 at [6.34697563e-02 1.51000000e+00 1.20000000e-03]: [0.00031494 0.03721218 0.00107659]\n",
      "For bin 3 and wavelength 35.0 the size parameter, real RI, imaginary RI =  [1.40869015e-01 1.50000000e+00 1.00000000e-03]\n",
      "and Q_e, SSA, g =  [0.00059627 0.2945199  0.0049585 ]\n",
      "Sorted DustCOMM size parameter (at wavelength 35.0 and diameter= 1.5694), North African dust real RI, and imaginary RI:  [1.2000000e-03 1.4192269e-01 1.5100000e+00]\n",
      "Interpolated Values of y3 at [1.4192269e-01 1.5100000e+00 1.2000000e-03]: [0.00101655 0.29429542 0.0049585 ]\n",
      "For bin 4 and wavelength 35.0 the size parameter, real RI, imaginary RI =  [3.16591756e-01 1.50000000e+00 1.00000000e-03]\n",
      "and Q_e, SSA, g =  [0.00525028 0.8133812  0.02434434]\n",
      "Sorted DustCOMM size parameter (at wavelength 35.0 and diameter= 3.5271), North African dust real RI, and imaginary RI:  [1.20000000e-03 3.17348781e-01 1.51000000e+00]\n",
      "Interpolated Values of y4 at [3.17348781e-01 1.51000000e+00 1.20000000e-03]: [0.00576241 0.81287645 0.02434434]\n",
      "For bin 5 and wavelength 35.0 the size parameter, real RI, imaginary RI =  [6.33784902e-01 1.50000000e+00 1.00000000e-03]\n",
      "and Q_e, SSA, g =  [0.06782244 0.9666981  0.09179887]\n",
      "Sorted DustCOMM size parameter (at wavelength 35.0 and diameter= 7.0609), North African dust real RI, and imaginary RI:  [1.20000000e-03 6.34697563e-01 1.51000000e+00]\n",
      "Interpolated Values of y5 at [6.34697563e-01 1.51000000e+00 1.20000000e-03]: [0.06810654 0.96577629 0.09179887]\n",
      "For bin 6 and wavelength 35.0 the size parameter, real RI, imaginary RI =  [1.26879054e+00 1.50000000e+00 1.00000000e-03]\n",
      "and Q_e, SSA, g =  [0.6687025 0.9914136 0.3393406]\n",
      "Sorted DustCOMM size parameter (at wavelength 35.0 and diameter= 14.1354), North African dust real RI, and imaginary RI:  [1.20000000e-03 1.26939513e+00 1.51000000e+00]\n",
      "Interpolated Values of y6 at [1.26939513e+00 1.51000000e+00 1.20000000e-03]: [0.66875341 0.9897085  0.3393406 ]\n"
     ]
    }
   ],
   "source": [
    "def interpolate_bin_size_param(bin_data, bin_number):\n",
    "    x = np.array([np.pi*bin_data[1]/bin_data[0], bin_data[2], bin_data[3]]) #(size parameter, real RI, imaginary RI)\n",
    "    print('For bin ' + str(bin_number) + ' and wavelength ' + str(bin_data[0]) + ' the size parameter, real RI, imaginary RI = ' ,x)\n",
    "    y = np.array([bin_data[4], bin_data[5], bin_data[6]]) #(Q_e, SSA, g)\n",
    "    print('and Q_e, SSA, g = ',y)\n",
    "\n",
    "    x_interp = np.array([size_parameter_geometric_diameter_bin[bin_number-1],\n",
    "                         North_African_dust_adebiyi_nr,\n",
    "                         North_African_dust_adebiyi_k])\n",
    "\n",
    "    x_sorted = np.sort(x)\n",
    "    x_interp_sorted = np.sort(x_interp)\n",
    "    print('Sorted DustCOMM size parameter (at wavelength ' + str(bin_data[0]) + ' and diameter= ' + str(bin_data[1]) + '), North African dust real RI, and imaginary RI: ', x_interp_sorted )\n",
    "\n",
    "    # Interpolate the value of y at x_interp\n",
    "    y_interp = np.interp(x_interp_sorted, x_sorted, y)\n",
    "\n",
    "    # Restore the original order of y\n",
    "    original_order_y = np.argsort(x_sorted)\n",
    "    y_interp_original_order = y_interp[original_order_y]\n",
    "    x_interp_original_order = x_interp[original_order_y]\n",
    "\n",
    "    print(f\"Interpolated Values of y{bin_number} at {x_interp_original_order}: {y_interp_original_order}\")\n",
    "    return x_interp_original_order, y_interp_original_order\n",
    "\n",
    "# bin1\n",
    "bin1_opt_prop_interp_size_param_x, bin1_opt_prop_interp_size_param_y = interpolate_bin_size_param(\n",
    "    avg_bin1_opt_prop_sw, 1)\n",
    "\n",
    "# bin2\n",
    "bin2_opt_prop_interp_size_param_x, bin2_opt_prop_interp_size_param_y = interpolate_bin_size_param(\n",
    "    avg_bin2_opt_prop_sw, 2)\n",
    "\n",
    "# bin3\n",
    "bin3_opt_prop_interp_size_param_x, bin3_opt_prop_interp_size_param_y = interpolate_bin_size_param(\n",
    "    avg_bin3_opt_prop_sw, 3)\n",
    "\n",
    "# bin4\n",
    "bin4_opt_prop_interp_size_param_x, bin4_opt_prop_interp_size_param_y = interpolate_bin_size_param(\n",
    "    avg_bin4_opt_prop_sw, 4)\n",
    "\n",
    "# bin5\n",
    "bin5_opt_prop_interp_size_param_x, bin5_opt_prop_interp_size_param_y = interpolate_bin_size_param(\n",
    "    avg_bin5_opt_prop_sw, 5)\n",
    "\n",
    "# bin6\n",
    "bin6_opt_prop_interp_size_param_x, bin6_opt_prop_interp_size_param_y = interpolate_bin_size_param(\n",
    "    avg_bin6_opt_prop_sw, 6)"
   ]
  },
  {
   "cell_type": "markdown",
   "id": "c15d35b4-f444-4be4-ad3f-8accd57c217c",
   "metadata": {},
   "source": [
    "# Calculate bulk dust Optical properties for (0W, 18N)"
   ]
  },
  {
   "cell_type": "markdown",
   "id": "51966565-17e3-41bc-9928-4f68b6dad2e1",
   "metadata": {},
   "source": [
    "Reorder dust optical properties so it is in order (Q_e, ssa, g)"
   ]
  },
  {
   "cell_type": "code",
   "execution_count": 30,
   "id": "24677810-49f0-462b-a826-93880f19a963",
   "metadata": {
    "tags": []
   },
   "outputs": [
    {
     "name": "stdout",
     "output_type": "stream",
     "text": [
      "[[1.12076593e-04 3.71615407e-03 2.79387500e-04]\n",
      " [3.14935041e-04 3.72121759e-02 1.07658800e-03]\n",
      " [1.01655023e-03 2.94295416e-01 4.95850000e-03]\n",
      " [5.76241290e-03 8.12876454e-01 2.43443400e-02]\n",
      " [6.81065415e-02 9.65776290e-01 9.17988700e-02]\n",
      " [6.68753409e-01 9.89708498e-01 3.39340600e-01]]\n"
     ]
    }
   ],
   "source": [
    "# Calculate and print for each bin\n",
    "all_bins_opt_prop_array = []\n",
    "\n",
    "# Convert the list to a NumPy array\n",
    "all_bins_opt_prop_array = np.array((bin1_opt_prop_interp_size_param_y, bin2_opt_prop_interp_size_param_y, bin3_opt_prop_interp_size_param_y, bin4_opt_prop_interp_size_param_y, bin5_opt_prop_interp_size_param_y, bin6_opt_prop_interp_size_param_y))\n",
    "print(all_bins_opt_prop_array)"
   ]
  },
  {
   "cell_type": "code",
   "execution_count": 31,
   "id": "7e01b6c3-b334-4859-9c51-197189a4e936",
   "metadata": {
    "tags": []
   },
   "outputs": [
    {
     "name": "stdout",
     "output_type": "stream",
     "text": [
      "(96,)\n",
      "(144,)\n",
      "(96, 144, 6, 9)\n",
      "7.230000709475492e-10\n",
      "0.9473999738693237\n",
      "17.5\n",
      "[48] [78]\n"
     ]
    }
   ],
   "source": [
    "print(loading_lat_Dustcomm_PM20.shape)\n",
    "print(loading_lon_Dustcomm_PM20.shape)\n",
    "print(mean_loading_Dustcomm_20PM.shape)\n",
    "print(mean_loading_Dustcomm_20PM[0,0,1,2])\n",
    "#dimensions(sizes): source(9), diameter(6), lat(96), lon(144), bin(6)\n",
    "index_0W = []\n",
    "index_18N = []\n",
    "\n",
    "lat_0W = 0\n",
    "lon_18N = 18\n",
    "\n",
    "for ilat in range(0,len(loading_lat_Dustcomm_PM20)):\n",
    "    if np.round(loading_lat_Dustcomm_PM20[ilat]) -1 == lat_0W:\n",
    "        print(loading_lat_Dustcomm_PM20[ilat])\n",
    "        index_0W.append(ilat)\n",
    "\n",
    "for ilon in range(0,len(loading_lon_Dustcomm_PM20)):\n",
    "    if np.round(loading_lon_Dustcomm_PM20[ilon]) == lon_18N: \n",
    "        print(loading_lon_Dustcomm_PM20[ilon])\n",
    "        index_18N.append(ilon)\n",
    "print(index_0W,index_18N)"
   ]
  },
  {
   "cell_type": "code",
   "execution_count": 32,
   "id": "6f05297a-ca42-4663-94b8-ab1effad0089",
   "metadata": {
    "tags": []
   },
   "outputs": [
    {
     "name": "stdout",
     "output_type": "stream",
     "text": [
      "(96, 144, 6)\n"
     ]
    }
   ],
   "source": [
    "total_North_African_loading = mean_loading_Dustcomm_20PM[:,:,:,0] + mean_loading_Dustcomm_20PM[:,:,:,1] + mean_loading_Dustcomm_20PM[:,:,:,2]\n",
    "Sarahan_laoding = mean_loading_Dustcomm_20PM[:,:,:,0] + mean_loading_Dustcomm_20PM[:,:,:,1]\n",
    "Sahelian_loading = mean_loading_Dustcomm_20PM[:,:,:,2]\n",
    "print(total_North_African_loading.shape)"
   ]
  },
  {
   "cell_type": "code",
   "execution_count": 33,
   "id": "baf6399d-f3dd-433b-a539-51715ccc1203",
   "metadata": {
    "tags": []
   },
   "outputs": [
    {
     "name": "stdout",
     "output_type": "stream",
     "text": [
      "delta_m_Db [1.62389989e-07 1.35425729e-06 9.59961047e-06 1.60132874e-05\n",
      " 1.65492057e-05 6.35553976e-06]\n"
     ]
    }
   ],
   "source": [
    "#ρ_d=(2.5±0.2)×10^3 kg m-3 is the globally representative density of dust aerosols (Fratini et al., 2007; Reid et al., 2008; Kaaden et al., 2009; Sow et al., 2009)\n",
    "ρ_d = 2.5e3\n",
    "delta_m_Db = total_North_African_loading[48,78,:]\n",
    "print('delta_m_Db',delta_m_Db)\n",
    "\n",
    "Q_e_bulk_0W_18N_bin_num = np.zeros(6)\n",
    "Q_e_bulk_0W_18N_bin_den = np.zeros(6)\n",
    "SSA_bulk_0W_18N_bin_num = np.zeros(6)\n",
    "SSA_bulk_0W_18N_bin_den = np.zeros(6)\n",
    "Q_scat = np.zeros(6)\n",
    "g_bulk_0W_18N_bin_num = np.zeros(6)\n",
    "g_bulk_0W_18N_bin_den = np.zeros(6)\n",
    "\n",
    "#all_bins_opt_prop_array[i][0] = Q_e of bin i\n",
    "#all_bins_opt_prop_array[i][1] = SSA of bin i\n",
    "#all_bins_opt_prop_array[i][2] = g of bin i\n",
    "\n",
    "for i in range(0,len(all_bins_opt_prop_array)):\n",
    "    Q_e_bulk_0W_18N_bin_num[i] = (delta_m_Db[i]*(np.pi/4)*(mean_geometric_diameter_bin[i]**2)*all_bins_opt_prop_array[i][0])/((np.pi/6)*(mean_geometric_diameter_bin[i]**3)*ρ_d)\n",
    "    Q_e_bulk_0W_18N_bin_den[i] = (delta_m_Db[i]*(np.pi/4)*(mean_geometric_diameter_bin[i]**2))/((np.pi/6)*(mean_geometric_diameter_bin[i]**3)*ρ_d)\n",
    "    \n",
    "    SSA_bulk_0W_18N_bin_num[i] = (delta_m_Db[i]*(np.pi/4)*(mean_geometric_diameter_bin[i]**2)*all_bins_opt_prop_array[i][0]*all_bins_opt_prop_array[i][1])/((np.pi/6)*(mean_geometric_diameter_bin[i]**3)*ρ_d)\n",
    "    SSA_bulk_0W_18N_bin_den[i] = (delta_m_Db[i]*(np.pi/4)*(mean_geometric_diameter_bin[i]**2)*all_bins_opt_prop_array[i][0])/((np.pi/6)*(mean_geometric_diameter_bin[i]**3)*ρ_d)\n",
    "    \n",
    "    Q_scat[i] = all_bins_opt_prop_array[i][1] * all_bins_opt_prop_array[i][0]\n",
    "    \n",
    "    g_bulk_0W_18N_bin_num[i] = (delta_m_Db[i]*(np.pi/4)*(mean_geometric_diameter_bin[i]**2)*Q_scat[i]*all_bins_opt_prop_array[i][2])/((np.pi/6)*(mean_geometric_diameter_bin[i]**3)*ρ_d)\n",
    "    g_bulk_0W_18N_bin_den[i] = (delta_m_Db[i]*(np.pi/4)*(mean_geometric_diameter_bin[i]**2)*Q_scat[i])/((np.pi/6)*(mean_geometric_diameter_bin[i]**3)*ρ_d)\n",
    "    "
   ]
  },
  {
   "cell_type": "code",
   "execution_count": 34,
   "id": "465b9733-0880-4024-87f8-7c84c2945453",
   "metadata": {
    "tags": []
   },
   "outputs": [
    {
     "name": "stdout",
     "output_type": "stream",
     "text": [
      "Q_e_bulk_0W_18N_bulk:  0.031156609952558593\n",
      "SSA_bulk_0W_18N_bulk:  0.9626158560092655\n",
      "g_bulk_0W_18N_bulk:  0.24363933089699535\n"
     ]
    }
   ],
   "source": [
    "# Calculate values\n",
    "Q_e_bulk_0W_18N_bulk = np.sum(Q_e_bulk_0W_18N_bin_num) / np.sum(Q_e_bulk_0W_18N_bin_den)\n",
    "SSA_bulk_0W_18N_bulk = np.sum(SSA_bulk_0W_18N_bin_num) / np.sum(SSA_bulk_0W_18N_bin_den)\n",
    "g_bulk_0W_18N_bulk = np.sum(g_bulk_0W_18N_bin_num) / np.sum(g_bulk_0W_18N_bin_den)\n",
    "\n",
    "# Print the values\n",
    "print(\"Q_e_bulk_0W_18N_bulk: \", Q_e_bulk_0W_18N_bulk)\n",
    "print(\"SSA_bulk_0W_18N_bulk: \", SSA_bulk_0W_18N_bulk)\n",
    "print(\"g_bulk_0W_18N_bulk: \", g_bulk_0W_18N_bulk)"
   ]
  },
  {
   "cell_type": "markdown",
   "id": "f5ccfe69-3a9f-42ed-9452-fdadcf62f92c",
   "metadata": {
    "tags": []
   },
   "source": [
    "def create_if_not_exists(file_path):\n",
    "    if not os.path.exists(file_path):\n",
    "        with open(file_path, 'w') as file:\n",
    "            # You can optionally write initial content to the file\n",
    "            file.write(\"Wavelength\\tQ_e_bulk_0W_18N_bulk\\tSSA_bulk_0W_18N_bulk\\tg_bulk_0W_18N_bulk\\t\" + '\\n')\n",
    "            #file.write(f\"Q_e_bulk_0W_18N_bulk\\t\")\n",
    "            #file.write(f\"SSA_bulk_0W_18N_bulk\\t\")\n",
    "            #file.write(f\"g_bulk_0W_18N_bulk\\t\\n\")\n",
    "        print(f\"File '{file_path}' created.\")\n",
    "    else:\n",
    "        print(f\"File '{file_path}' already exists.\")\n",
    "\n",
    "# Check if dust optical properties txt file already exists\n",
    "file_path1 = 'bulk_dust_optical_properties.txt'\n",
    "file_path2 = 'bulk_dust_optical_properties_{}.txt'.format(wavelength)\n",
    "create_if_not_exists(file_path1)\n",
    "create_if_not_exists(file_path2)"
   ]
  },
  {
   "cell_type": "markdown",
   "id": "110c43cb-5e8d-467c-b66a-7118a2071934",
   "metadata": {
    "tags": []
   },
   "source": [
    "# Assuming Q_e_bulk_0W_18N_bulk, SSA_bulk_0W_18N_bulk, g_bulk_0W_18N_bulk are numpy arrays\n",
    "\n",
    "# Data to append\n",
    "data_to_append = np.column_stack((wavelength, Q_e_bulk_0W_18N_bulk, SSA_bulk_0W_18N_bulk, g_bulk_0W_18N_bulk))\n",
    "\n",
    "# Open the file in append mode and use np.savetxt to append data\n",
    "with open('bulk_dust_optical_properties_{}.txt'.format(wavelength), 'a') as file:\n",
    "    np.savetxt(file, data_to_append, fmt='%5.3f', delimiter='\\t', header='', comments='')\n",
    "    \n",
    "# Open the file in append mode and use np.savetxt to append data\n",
    "with open('bulk_dust_optical_properties.txt', 'a') as file:\n",
    "    np.savetxt(file, data_to_append, fmt='%5.3f', delimiter='\\t', header='', comments='')"
   ]
  },
  {
   "cell_type": "code",
   "execution_count": null,
   "id": "743b39cb-cda8-48ac-a980-f500984ee568",
   "metadata": {},
   "outputs": [],
   "source": []
  }
 ],
 "metadata": {
  "kernelspec": {
   "display_name": "rrtm_env",
   "language": "python",
   "name": "rrtm_env"
  },
  "language_info": {
   "codemirror_mode": {
    "name": "ipython",
    "version": 3
   },
   "file_extension": ".py",
   "mimetype": "text/x-python",
   "name": "python",
   "nbconvert_exporter": "python",
   "pygments_lexer": "ipython3",
   "version": "3.11.4"
  }
 },
 "nbformat": 4,
 "nbformat_minor": 5
}
