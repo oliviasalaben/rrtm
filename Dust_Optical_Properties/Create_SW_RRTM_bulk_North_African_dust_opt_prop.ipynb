{
 "cells": [
  {
   "cell_type": "markdown",
   "id": "a7b38a2a-5b0f-4b83-aceb-5a1dcb392932",
   "metadata": {},
   "source": [
    "\"\"\"\"\"\"\"\"\n",
    "Generates Dust Optical Properties txt files for SW RRTM Wrapper Code\n",
    "Written by Olivia Salaben, 2024"
   ]
  },
  {
   "cell_type": "code",
   "execution_count": 1,
   "id": "07d6c587",
   "metadata": {
    "tags": []
   },
   "outputs": [],
   "source": [
    "#Import python packages\n",
    "import os\n",
    "import scipy.io as io\n",
    "import numpy as np\n",
    "import pandas as pd\n",
    "from scipy.interpolate import interp1d\n",
    "import sys\n",
    "import math\n",
    "from netCDF4 import Dataset\n",
    "import scipy\n",
    "import os, calendar, sys, fnmatch, datetime"
   ]
  },
  {
   "cell_type": "code",
   "execution_count": 2,
   "id": "ad023b27",
   "metadata": {},
   "outputs": [],
   "source": [
    "def extract_unique_values(input_array):\n",
    "    unique_values = np.unique(input_array)\n",
    "    return unique_values"
   ]
  },
  {
   "cell_type": "markdown",
   "id": "f01c49b7",
   "metadata": {
    "tags": []
   },
   "source": [
    "# 1. Load Huang et al. 2023 Ellipsoidal dust optical properties files"
   ]
  },
  {
   "cell_type": "code",
   "execution_count": 3,
   "id": "12b2bf5a-76b6-47d0-aeca-a3b71daf7df7",
   "metadata": {
    "tags": []
   },
   "outputs": [],
   "source": [
    "# ===== Aerosol (e.g., dust) optical properties (i.e., Qext, SSA, g) =====\n",
    "# ***Note: The order of 14 bands is listed in TABLE 1 in RRTM_SW instruction (It is not monotonically increase or decrease)\n",
    "# ***Note: The order of spectral optical properties should be consistent with the order in TABLE 1\n",
    "\n",
    "def process_optical_properties(wavelength_band, txt_files):\n",
    "    wavelength = wavelength_range[wavelength_band]\n",
    "    #print(txt_files[wavelength_band])\n",
    "    opt_prop_sw_original = np.loadtxt(opt_dir + '{}'.format(txt_files[wavelength_band]))\n",
    "    #print(opt_prop_sw_original.shape)\n",
    "\n",
    "    wl = np.array(opt_prop_sw_original[:,0]) #in um \n",
    "    dust_d = np.array(opt_prop_sw_original[:,1]) #in um\n",
    "    size_parameter = np.pi * dust_d / wl #f'size_parameter_{wavelength:.4f}': size_parameter,\n",
    "    n_RI = np.array(opt_prop_sw_original[:,2])\n",
    "    k_RI = np.array(opt_prop_sw_original[:,3])\n",
    "    \n",
    "    qe_dust_sw = np.array(opt_prop_sw_original[:,4])\n",
    "    mask = qe_dust_sw > 10\n",
    "    qe_dust_sw[mask] = np.nan\n",
    "    ssa_dust_sw = np.array(opt_prop_sw_original[:,5])\n",
    "    ssa_dust_sw[mask] = np.nan\n",
    "    g_dust_sw = np.array(opt_prop_sw_original[:,6])\n",
    "    g_dust_sw[mask] = np.nan\n",
    "\n",
    "    # Create variable names dynamically\n",
    "    variables = {\n",
    "        f'wl_{wavelength:.4f}': wl,\n",
    "        f'dust_d_{wavelength:.4f}': dust_d,\n",
    "        f'size_parameter_{wavelength:.4f}': size_parameter,\n",
    "        f'n_RI_{wavelength:.4f}': n_RI,\n",
    "        f'k_RI_{wavelength:.4f}': k_RI,\n",
    "        f'qe_dust_sw_{wavelength:.4f}': qe_dust_sw,\n",
    "        f'ssa_dust_sw_{wavelength:.4f}': ssa_dust_sw,\n",
    "        f'g_dust_sw_{wavelength:.4f}': g_dust_sw,\n",
    "    }\n",
    "    return np.array((wl,dust_d,size_parameter,n_RI,k_RI,qe_dust_sw,ssa_dust_sw,g_dust_sw)) #variables\n"
   ]
  },
  {
   "cell_type": "code",
   "execution_count": 4,
   "id": "f0fb753a-937e-4661-996e-5d5d7c71d25e",
   "metadata": {
    "tags": []
   },
   "outputs": [],
   "source": [
    "# SW Wavelength range and files\n",
    "opt_dir = 'SW_Huang_Dust_Optics/'\n",
    "# Here we choose a range to 0.95 um, although the cutoff between SW and LW is 4 um, \n",
    "# because the Huang et al. 2023 incorrectly cuts off SW radiation at 0.95 um\n",
    "# so using the model for 2 and 4 um would be for LW radiation and incorrect \n",
    "wavelength_range = [0.35, 0.55, 0.75, 0.95] #, 2, 4, 6, 8, 10, 12, 14, 16, 35]\n",
    "Huang_2023_dust_opt_prop_txt_files = ['shapein_TAMU_0.3500.txt', 'shapein_TAMU_0.5500.txt', 'shapein_TAMU_0.7500.txt', 'shapein_TAMU_0.9500.txt'] # 'shapein_TAMU_2.0000.txt', 'shapein_TAMU_4.0000.txt', 'shapein_TAMU_6.0000.txt', 'shapein_TAMU_8.0000.txt', 'shapein_TAMU_10.0000.txt', 'shapein_TAMU_12.0000.txt', 'shapein_TAMU_14.0000.txt', 'shapein_TAMU_16.0000.txt', 'shapein_TAMU_35.0000.txt']\n",
    "\n",
    "# Array to store results\n",
    "opt_prop_sw_array = np.empty(len(wavelength_range), dtype=object)\n",
    "\n",
    "# Process optical properties for each wavelength band\n",
    "for i in range(len(wavelength_range)):\n",
    "    opt_prop_sw = process_optical_properties(i, Huang_2023_dust_opt_prop_txt_files)\n",
    "    opt_prop_sw_array[i] = opt_prop_sw"
   ]
  },
  {
   "cell_type": "code",
   "execution_count": 5,
   "id": "8945c847-ba97-4999-b8a3-82286a8f203a",
   "metadata": {},
   "outputs": [
    {
     "name": "stdout",
     "output_type": "stream",
     "text": [
      "(4,)\n"
     ]
    }
   ],
   "source": [
    "# Extract the uniwue size parameter values to use in our \"DustCOMM\" tuple\n",
    "opt_prop_sw_array[0][2].shape\n",
    "unique_size_param = np.empty(len(wavelength_range), dtype=object)\n",
    "for i in range(len(wavelength_range)):\n",
    "    unique_size_param[i] = extract_unique_values(opt_prop_sw_array[i][2])\n",
    "print(unique_size_param.shape) #300 for each wavelength \n",
    "#choose every 10 for each wavelength \n",
    "\n",
    "#then chose every 10, and sort them (it's okay that it is logarithmic)"
   ]
  },
  {
   "cell_type": "markdown",
   "id": "d9b10764-4c12-4dd7-997d-04193ac3169d",
   "metadata": {},
   "source": [
    "## 2. Create Yue Size parameter, real RI, and imaginary RI matrix"
   ]
  },
  {
   "cell_type": "markdown",
   "id": "df0d5937-0d34-4a92-a700-53c30372ca2d",
   "metadata": {},
   "source": [
    "Notes from Jasper: Create a file of the three dimensional grid, those three dimensions being size parameter, real RI, and imaginary RI. The second and third dimensions here are easier and would be those values relevant to your problem, so I'd suggest (1.50, 1.52, 1.53, 1.56) and (0.0005, 0.001, 0.002, 0.003). The first dimension is pretty annoying because there will be so many values since the data is finely spaced in D (300 values per wavelength) and you will have four different SW wavelengths to use (350, 550, 750, and 950 nm; don't use the other ones because the RI there is for the LW). So I'd suggest only using every 10th value to keep the size of the matrix reasonable (120 size parameter values). Once you've created this three-dimensional grid (120x4x4), "
   ]
  },
  {
   "cell_type": "code",
   "execution_count": 6,
   "id": "3802574f-f897-43c8-9e46-e5741879f9fd",
   "metadata": {},
   "outputs": [
    {
     "name": "stdout",
     "output_type": "stream",
     "text": [
      "[array([3.30693964e-01, 4.16674394e-01, 4.18879020e-01, 5.25142014e-01,\n",
      "        5.27787566e-01, 5.71198664e-01, 6.62049315e-01, 6.65179885e-01,\n",
      "        7.19710317e-01, 8.34340870e-01, 8.38595799e-01, 8.97597901e-01,\n",
      "        9.07063479e-01, 1.05160680e+00, 1.05683177e+00, 1.13097336e+00,\n",
      "        1.14353973e+00, 1.32542141e+00, 1.33203529e+00, 1.42538547e+00,\n",
      "        1.44113423e+00, 1.67033521e+00, 1.67886711e+00, 1.79699100e+00,\n",
      "        1.81641175e+00, 2.10519777e+00, 2.11575793e+00, 2.26463950e+00,\n",
      "        2.28936425e+00, 2.65315767e+00, 2.66658384e+00, 2.85436133e+00,\n",
      "        2.88512445e+00, 3.34397736e+00, 3.36066638e+00, 3.59757239e+00,\n",
      "        3.63625070e+00, 4.21436387e+00, 4.23570466e+00, 4.53376700e+00,\n",
      "        4.58272688e+00, 5.31127575e+00, 5.33819424e+00, 5.71410824e+00,\n",
      "        5.77596089e+00, 6.69390721e+00, 6.72761595e+00, 7.20142796e+00,\n",
      "        7.27935578e+00, 8.43666440e+00, 8.47894913e+00, 9.07650998e+00,\n",
      "        9.17402175e+00, 1.06328030e+01, 1.06864416e+01, 1.14389877e+01,\n",
      "        1.15622034e+01, 1.34007115e+01, 1.34682171e+01, 1.44163199e+01,\n",
      "        1.45724203e+01, 1.68895328e+01, 1.69742345e+01, 1.81691767e+01,\n",
      "        1.83657507e+01, 2.12861090e+01, 2.13934082e+01, 2.28995177e+01,\n",
      "        2.31466835e+01, 2.68272171e+01, 2.69624048e+01, 2.88604653e+01,\n",
      "        2.91728294e+01, 3.38111429e+01, 3.39811417e+01, 3.63733597e+01,\n",
      "        3.67669156e+01, 4.26128934e+01, 4.28274477e+01, 4.58430176e+01,\n",
      "        4.63379204e+01, 5.37060225e+01, 5.39763317e+01, 5.77765817e+01,\n",
      "        5.84010650e+01, 6.77922625e+01, 6.80276284e+01, 7.28167321e+01,\n",
      "        7.36040887e+01, 8.09985260e+01, 8.58701992e+01, 9.17731022e+01,\n",
      "        9.27649479e+01, 9.67772577e+01, 1.02598133e+02, 1.15629459e+02,\n",
      "        1.15663568e+02, 1.17095726e+02, 1.22584526e+02, 1.38154679e+02,\n",
      "        1.39906545e+02, 1.45773490e+02, 1.46463982e+02, 1.65067545e+02,\n",
      "        1.67160718e+02, 1.74995926e+02, 1.84007570e+02, 1.97222904e+02,\n",
      "        1.99723611e+02, 2.09085557e+02, 2.19853142e+02, 2.38630808e+02,\n",
      "        2.49815678e+02, 2.62681128e+02, 2.85116669e+02, 3.13851389e+02,\n",
      "        3.40657743e+02, 3.74991270e+02, 4.48040480e+02, 5.35319310e+02])\n",
      " array([1.5 , 1.52, 1.53, 1.56]) array([0.0005, 0.001 , 0.002 , 0.003 ])]\n"
     ]
    }
   ],
   "source": [
    "# Create our matric of real RI, imaginary RI, and size parameter\n",
    "Yue_real_RI_range = np.array([1.50, 1.52, 1.53, 1.56])\n",
    "Yue_imag_RI_range = np.array([0.0005, 0.001, 0.002, 0.003])\n",
    "Yue_size_parameter_range = [] #np.zeros(120, dtype=object)\n",
    "for i in range(0,len(wavelength_range)):\n",
    "    for j in range(0,len(unique_size_param[i]),10):\n",
    "        Yue_size_parameter_range.append(unique_size_param[i][j])\n",
    "Yue_size_parameter_range = np.sort(Yue_size_parameter_range)\n",
    "Yue_size_parameter_range = np.array(Yue_size_parameter_range)\n",
    "\n",
    "Yue_size_parameter_and_Ri_matrix = np.array((Yue_size_parameter_range, Yue_real_RI_range, Yue_imag_RI_range),dtype=object)\n",
    "io.savemat(\"coordinate_matrix_tuple.mat\", {\"array\": Yue_size_parameter_and_Ri_matrix})\n",
    "print(Yue_size_parameter_and_Ri_matrix)"
   ]
  },
  {
   "cell_type": "code",
   "execution_count": 7,
   "id": "a5094ec5-a254-406b-881a-44ebf1680ebf",
   "metadata": {},
   "outputs": [
    {
     "name": "stdout",
     "output_type": "stream",
     "text": [
      "<class 'numpy.ndarray'>\n"
     ]
    }
   ],
   "source": [
    "print(type(Yue_size_parameter_and_Ri_matrix))"
   ]
  },
  {
   "cell_type": "markdown",
   "id": "e875b8b6-e126-4b46-afac-3ef6d82f93db",
   "metadata": {},
   "source": [
    "# Now We Need to Create a Matrix for Each Optical Property (Qext, SSA, g)"
   ]
  },
  {
   "cell_type": "markdown",
   "id": "b24e77d3-69fa-4cfc-9962-3324d7d9b47a",
   "metadata": {},
   "source": [
    "## 3. Create Yue Q_e matrix"
   ]
  },
  {
   "cell_type": "markdown",
   "id": "00075d0d-a303-4b2d-8336-bbf6c0f8ddcc",
   "metadata": {},
   "source": [
    "Notes from Jasper: You need to create a matrix with the same dimensions as your three-dimensional grid that contains the values of Q_ext. You do this by creating a matrix with NaN values with those dimensions and then reading in all Yue's data (at the four wavelengths, using only every tenth data point) and writing each value to this new matrix at the corresponding coordinate."
   ]
  },
  {
   "cell_type": "code",
   "execution_count": 8,
   "id": "4c878a00-acd0-49f2-8b51-3a67dfa87e88",
   "metadata": {},
   "outputs": [],
   "source": [
    "#Create Qext matrix\n",
    "\n",
    "def populate_Qe_matrix(Qe_matrix, wavelength_range, Yue_size_parameter_and_Ri_matrix, opt_prop_sw_array):\n",
    "    \"\"\"\n",
    "    Populate Qe_matrix based on conditions for all wavelengths.\n",
    "\n",
    "    Parameters:\n",
    "    - Qe_matrix: numpy array\n",
    "    - wavelength_range: range\n",
    "    - Yue_size_parameter_and_Ri_matrix: list\n",
    "    - opt_prop_sw_array: list\n",
    "\n",
    "    Returns:\n",
    "    - Qe_matrix: numpy array, populated Qe_matrix\n",
    "    \"\"\"\n",
    "    #Qe_tuple =[]\n",
    "    for iwl in wavelength_range:\n",
    "        for i in range(len(Yue_size_parameter_and_Ri_matrix[0])):\n",
    "            for j in range(len(Yue_size_parameter_and_Ri_matrix[1])):\n",
    "                for k in range(len(Yue_size_parameter_and_Ri_matrix[2])):\n",
    "                    if np.isnan(Qe_matrix[i, j, k]):\n",
    "                        for w in range(0, len(opt_prop_sw_array[iwl][5]), 10):\n",
    "                            if (Yue_size_parameter_and_Ri_matrix[0][i] == opt_prop_sw_array[iwl][2][w] and\n",
    "                                Yue_size_parameter_and_Ri_matrix[1][j] == opt_prop_sw_array[iwl][3][w] and \n",
    "                                Yue_size_parameter_and_Ri_matrix[2][k] == opt_prop_sw_array[iwl][4][w]):\n",
    "                                    Qe_matrix[i, j, k] = opt_prop_sw_array[iwl][5][w]\n",
    "                                    #Qe_tuple.append(opt_prop_sw_array[iwl][5][w])\n",
    "    return Qe_matrix\n",
    "\n",
    "# Example data (replace with your actual data)\n",
    "wavelength_range = range(len(wavelength_range))\n",
    "\n",
    "# Set up Qe_matrix with nan values\n",
    "Qe_matrix = np.full((120, 4, 4), np.nan, dtype=float)\n",
    "\n",
    "# Populate Qe_matrix based on conditions for all wavelengths\n",
    "Qe_matrix = populate_Qe_matrix(Qe_matrix, wavelength_range, Yue_size_parameter_and_Ri_matrix, opt_prop_sw_array)\n",
    "io.savemat(\"Qe_matrix.mat\", {\"array\":Qe_matrix})"
   ]
  },
  {
   "cell_type": "code",
   "execution_count": 9,
   "id": "2e7d7117-37a9-449f-916c-145aa3f4f43f",
   "metadata": {},
   "outputs": [
    {
     "name": "stdout",
     "output_type": "stream",
     "text": [
      "Number of nan values: 80\n"
     ]
    }
   ],
   "source": [
    "# This is a sanity check to determine how many values have been filled\n",
    "def count_nan_values(matrix):\n",
    "    \"\"\"\n",
    "    Count the number of nan values in a multidimensional array.\n",
    "\n",
    "    Parameters:\n",
    "    - matrix: numpy array\n",
    "\n",
    "    Returns:\n",
    "    - count: int, number of nan values\n",
    "    \"\"\"\n",
    "    count = np.sum(np.isnan(matrix))\n",
    "    return count\n",
    "\n",
    "nan_count = count_nan_values(Qe_matrix )\n",
    "print(\"Number of nan values:\", nan_count)"
   ]
  },
  {
   "cell_type": "markdown",
   "id": "29df8a55-ce67-4894-b3a0-b200a4243e4a",
   "metadata": {},
   "source": [
    "## 4. Create Yue SSA Matrix"
   ]
  },
  {
   "cell_type": "code",
   "execution_count": 10,
   "id": "929e4b89-0506-47c3-9755-97412658e846",
   "metadata": {},
   "outputs": [],
   "source": [
    "#Create SSA matrix\n",
    "\n",
    "def populate_SSA_matrix(SSA_matrix, wavelength_range, Yue_size_parameter_and_Ri_matrix, opt_prop_sw_array):\n",
    "    \"\"\"\n",
    "    Populate SSA_matrix based on conditions for all wavelengths.\n",
    "\n",
    "    Parameters:\n",
    "    - SSA_matrix: numpy array\n",
    "    - wavelength_range: range\n",
    "    - Yue_size_parameter_and_Ri_matrix: list\n",
    "    - opt_prop_sw_array: list\n",
    "\n",
    "    Returns:\n",
    "    - SSA_matrix: numpy array, populated SSA_matrix\n",
    "    \"\"\"\n",
    "    #SSA_tuple =[]\n",
    "    for iwl in wavelength_range:\n",
    "        for i in range(len(Yue_size_parameter_and_Ri_matrix[0])):\n",
    "            for j in range(len(Yue_size_parameter_and_Ri_matrix[1])):\n",
    "                for k in range(len(Yue_size_parameter_and_Ri_matrix[2])):\n",
    "                    if np.isnan(SSA_matrix[i, j, k]):\n",
    "                        for w in range(0, len(opt_prop_sw_array[iwl][5]), 10):\n",
    "                            if (Yue_size_parameter_and_Ri_matrix[0][i] == opt_prop_sw_array[iwl][2][w] and\n",
    "                                Yue_size_parameter_and_Ri_matrix[1][j] == opt_prop_sw_array[iwl][3][w] and \n",
    "                                Yue_size_parameter_and_Ri_matrix[2][k] == opt_prop_sw_array[iwl][4][w]):\n",
    "                                    SSA_matrix[i, j, k] = opt_prop_sw_array[iwl][6][w]\n",
    "                                    #SSA_tuple.append(opt_prop_sw_array[iwl][6][w])\n",
    "    return SSA_matrix\n",
    "\n",
    "# Example data (replace with your actual data)\n",
    "wavelength_range = range(len(wavelength_range))\n",
    "\n",
    "# Set up SSA_matrix with nan values\n",
    "SSA_matrix = np.full((120, 4, 4), np.nan, dtype=float)\n",
    "\n",
    "# Populate SSA_matrix based on conditions for all wavelengths\n",
    "SSA_matrix = populate_SSA_matrix(SSA_matrix, wavelength_range, Yue_size_parameter_and_Ri_matrix, opt_prop_sw_array)\n",
    "io.savemat(\"SSA_matrix.mat\", {\"array\":SSA_matrix})"
   ]
  },
  {
   "cell_type": "code",
   "execution_count": 11,
   "id": "3f2405a7-691b-405c-ae40-e812390dbc9e",
   "metadata": {},
   "outputs": [
    {
     "name": "stdout",
     "output_type": "stream",
     "text": [
      "Number of nan values: 80\n"
     ]
    }
   ],
   "source": [
    "nan_count = count_nan_values(SSA_matrix )\n",
    "print(\"Number of nan values:\", nan_count)"
   ]
  },
  {
   "cell_type": "markdown",
   "id": "a4fabf3d-6e58-45ea-a683-17a526bf05c7",
   "metadata": {},
   "source": [
    "## 5. Create Yue g Matrix"
   ]
  },
  {
   "cell_type": "code",
   "execution_count": 12,
   "id": "b209f3e8-fc28-4800-bd62-0807e57bb1b0",
   "metadata": {},
   "outputs": [],
   "source": [
    " #Create g matrix\n",
    "def populate_g_matrix(g_matrix, wavelength_range, Yue_size_parameter_and_Ri_matrix, opt_prop_sw_array):\n",
    "    \"\"\"\n",
    "    Populate g_matrix based on conditions for all wavelengths.\n",
    "\n",
    "    Parameters:\n",
    "    - g_matrix: numpy array\n",
    "    - wavelength_range: range\n",
    "    - Yue_size_parameter_and_Ri_matrix: list\n",
    "    - opt_prop_sw_array: list\n",
    "\n",
    "    Returns:\n",
    "    - g_matrix: numpy array, populated g_matrix\n",
    "    \"\"\"\n",
    "    #g_tuple = []\n",
    "    for iwl in wavelength_range:\n",
    "        for i in range(len(Yue_size_parameter_and_Ri_matrix[0])):\n",
    "            for j in range(len(Yue_size_parameter_and_Ri_matrix[1])):\n",
    "                for k in range(len(Yue_size_parameter_and_Ri_matrix[2])):\n",
    "                    if np.isnan(g_matrix[i, j, k]):\n",
    "                        for w in range(0, len(opt_prop_sw_array[iwl][5]), 10):\n",
    "                            if (Yue_size_parameter_and_Ri_matrix[0][i] == opt_prop_sw_array[iwl][2][w] and\n",
    "                                Yue_size_parameter_and_Ri_matrix[1][j] == opt_prop_sw_array[iwl][3][w] and \n",
    "                                Yue_size_parameter_and_Ri_matrix[2][k] == opt_prop_sw_array[iwl][4][w]):\n",
    "                                    g_matrix[i, j, k] = opt_prop_sw_array[iwl][7][w]\n",
    "                                    #g_tuple.append(opt_prop_sw_array[iwl][7][w])\n",
    "    return g_matrix\n",
    "\n",
    "# Example data (replace with your actual data)\n",
    "wavelength_range = range(len(wavelength_range))\n",
    "\n",
    "# Set up SSA_matrix with nan values\n",
    "g_matrix = np.full((120, 4, 4), np.nan, dtype=float)\n",
    "\n",
    "# Populate g_matrix based on conditions for all wavelengths\n",
    "g_matrix = populate_g_matrix(g_matrix, wavelength_range, Yue_size_parameter_and_Ri_matrix, opt_prop_sw_array)\n",
    "io.savemat(\"g_matrix.mat\", {\"array\":g_matrix})"
   ]
  },
  {
   "cell_type": "code",
   "execution_count": 13,
   "id": "973c6eb6-5703-4223-b408-5e5c3667b337",
   "metadata": {},
   "outputs": [
    {
     "name": "stdout",
     "output_type": "stream",
     "text": [
      "Number of nan values: 80\n"
     ]
    }
   ],
   "source": [
    "nan_count = count_nan_values(g_matrix )\n",
    "print(\"Number of nan values:\", nan_count)"
   ]
  },
  {
   "cell_type": "markdown",
   "id": "bcf6456c-cc21-4945-be87-75e98bfd7cad",
   "metadata": {},
   "source": [
    "# Next, we need to Create our DustCOMM tuple to interpolate our matrix to the specific North African dust real RI, imagnary RI, and DustCOMM size parameters"
   ]
  },
  {
   "cell_type": "markdown",
   "id": "912f2506",
   "metadata": {},
   "source": [
    "## 6. Calculate DustCOMM mean geometric diamater of each bin"
   ]
  },
  {
   "cell_type": "markdown",
   "id": "9609e2cc-a4a9-4d68-ac5b-36a9e1e278cb",
   "metadata": {},
   "source": [
    "## Load DustCOMM Loading data"
   ]
  },
  {
   "cell_type": "code",
   "execution_count": 30,
   "id": "f2526a33",
   "metadata": {
    "tags": []
   },
   "outputs": [
    {
     "name": "stdout",
     "output_type": "stream",
     "text": [
      "<class 'netCDF4._netCDF4.Dataset'>\n",
      "root group (NETCDF4_CLASSIC data model, file format HDF5):\n",
      "    dimensions(sizes): source(9), diameter(6), lat(96), lon(144), bin(6)\n",
      "    variables(dimensions): float64 source(source), float64 bin_D_lower(diameter), float64 bin_D_upper(diameter), float64 lat(lat), float64 lon(lon), float64 Median(lat, lon, bin, source), float64 Mean(lat, lon, bin, source), float64 Neg1sigma(lat, lon, bin, source), float64 Pos1sigman(lat, lon, bin, source), float64 Neg2sigma(lat, lon, bin, source), float64 Pos2sigma(lat, lon, bin, source)\n",
      "    groups: \n"
     ]
    }
   ],
   "source": [
    "#----------\n",
    "# using DustCOMM 2021 papers b) https://dustcomm.atmos.ucla.edu/\n",
    "# specifically https://dustcomm.atmos.ucla.edu/data/K21b/ dataset DustCOMM_source_region_DAOD_seas_bin_abs.nc\n",
    "# assumes aspherical dust shape, PM20 dust\n",
    "#----------\n",
    "\n",
    "loading_Dustcomm_PM20_Dataset = Dataset('DustCOMM_source_region_dust_loading_annual_bin_abs.nc')\n",
    "print(loading_Dustcomm_PM20_Dataset) #[season,source,diameter,lat,lon,bin]\n",
    "\n",
    "lat_Dustcomm_PM20 = np.array(loading_Dustcomm_PM20_Dataset.variables['lat'][:])\n",
    "lon_Dustcomm_PM20 = np.array(loading_Dustcomm_PM20_Dataset.variables['lon'][:])\n",
    "mean_loading_Dustcomm_20PM = np.array(loading_Dustcomm_PM20_Dataset.variables['Mean'][:])\n",
    "#dustcomm_seas = np.array(daod_Dustcomm_PM20_Dataset.variables['season'][:])\n",
    "dustcomm_Sources_PM20 = np.array(loading_Dustcomm_PM20_Dataset.variables['source'][:]) \n",
    "dustcomm_bin_lower = np.array(loading_Dustcomm_PM20_Dataset.variables['bin_D_lower'][:])\n",
    "dustcomm_bin_upper = np.array(loading_Dustcomm_PM20_Dataset.variables['bin_D_upper'][:])"
   ]
  },
  {
   "cell_type": "code",
   "execution_count": 31,
   "id": "c4dc8610",
   "metadata": {},
   "outputs": [
    {
     "name": "stdout",
     "output_type": "stream",
     "text": [
      "[ 0.2  0.5  1.   2.5  5.  10. ]\n",
      "[ 0.5  1.   2.5  5.  10.  20. ]\n"
     ]
    }
   ],
   "source": [
    "print(dustcomm_bin_lower)\n",
    "print(dustcomm_bin_upper)"
   ]
  },
  {
   "cell_type": "code",
   "execution_count": 32,
   "id": "dafdd644",
   "metadata": {
    "tags": []
   },
   "outputs": [],
   "source": [
    "mean_geometric_diameter_bin = np.sqrt(dustcomm_bin_lower*dustcomm_bin_upper)"
   ]
  },
  {
   "cell_type": "code",
   "execution_count": 33,
   "id": "847f93bc",
   "metadata": {
    "tags": []
   },
   "outputs": [
    {
     "name": "stdout",
     "output_type": "stream",
     "text": [
      "[ 0.31622777  0.70710678  1.58113883  3.53553391  7.07106781 14.14213562]\n"
     ]
    }
   ],
   "source": [
    "print(mean_geometric_diameter_bin)"
   ]
  },
  {
   "cell_type": "markdown",
   "id": "33d95dbc",
   "metadata": {},
   "source": [
    "Notes: North African dust has a mean imaginary refractive index at 550 nm wavelength of 0.0012 (one standard error range of 0.0009–0.0016\n",
    "and a real dust refractive index, nr = 1.51 ± 0.03 (which is the same for Sahara and Sahel) (Di Biagio et al. 2019)\n",
    "We assume that RI is constant across particle size (Adebiyi et al. 2023, Obiso et al. 2023)"
   ]
  },
  {
   "cell_type": "markdown",
   "id": "bdf7d6ef-a7a1-4815-bc74-07d6f0cc3bc1",
   "metadata": {},
   "source": [
    "## 7. Create SW RRTM average waveband array to use with DustCOMM mean geometric diameters to calculate size parameters"
   ]
  },
  {
   "cell_type": "code",
   "execution_count": 34,
   "id": "64fe8cc2-4ad1-4e9f-b1fa-f238f3e24336",
   "metadata": {},
   "outputs": [
    {
     "name": "stdout",
     "output_type": "stream",
     "text": [
      "[0.2315 0.304  0.3935 0.5335 0.7015 1.01   1.2705 1.4625 1.784  2.0465\n",
      " 2.3255 2.7885 3.4615 8.0205]\n"
     ]
    }
   ],
   "source": [
    "# 14 RRTM SW bands - average wavelength of each band (in RRTM order)\n",
    "RRTM_SW_bands = [3.4615, 2.7885, 2.3255, 2.0465, 1.784, 1.4625, 1.2705, 1.01, 0.7015, 0.5335, 0.3935, 0.304, 0.2315, 8.0205]\n",
    "RRTM_SW_bands_sorted = np.sort(RRTM_SW_bands)\n",
    "print(RRTM_SW_bands_sorted)"
   ]
  },
  {
   "cell_type": "code",
   "execution_count": 35,
   "id": "f5f86f42",
   "metadata": {
    "tags": []
   },
   "outputs": [],
   "source": [
    "# Adebiyi et al. 2023 Average North African dust RI\n",
    "#grid_box = [0,18] #0W, 18N\n",
    "North_African_dust_adebiyi_k = 0.0012\n",
    "North_African_dust_adebiyi_nr = 1.51 "
   ]
  },
  {
   "cell_type": "markdown",
   "id": "4cbed0f8",
   "metadata": {},
   "source": [
    "# Interpolate  Huang et al. 2023 size parameter and dust optical properties that best match Adebiyi RI's, and DustCOMM size parameter of each bin"
   ]
  },
  {
   "cell_type": "markdown",
   "id": "d58a1d67-c093-41cb-bab5-f31e17186000",
   "metadata": {},
   "source": [
    "## 8. Interpolate Qe matrix"
   ]
  },
  {
   "cell_type": "code",
   "execution_count": 36,
   "id": "af05ded5-f0b9-416f-8fca-aeb1f2ac850f",
   "metadata": {},
   "outputs": [],
   "source": [
    "# Check if size_parameter is within the range of tuple_array\n",
    "min_size = Yue_size_parameter_and_Ri_matrix[0][0]\n",
    "max_size = Yue_size_parameter_and_Ri_matrix[0][-1]"
   ]
  },
  {
   "cell_type": "code",
   "execution_count": 37,
   "id": "2d59209e-2e72-4d73-91da-178d6adf211d",
   "metadata": {},
   "outputs": [
    {
     "name": "stdout",
     "output_type": "stream",
     "text": [
      "size_parameter is out of range: 0.2870024054830594\n",
      "size_parameter is out of range: 0.12386494938964031\n",
      "size_parameter is out of range: 0.2769704468648068\n"
     ]
    }
   ],
   "source": [
    "# Interpolate \n",
    "Qe_interp_matrix = [] #np.zeros(120, dtype=object)\n",
    "Qe_interp_only = []\n",
    "plot_range = []\n",
    "for irrtm in range(len(RRTM_SW_bands)):\n",
    "    for ibin in range(len(mean_geometric_diameter_bin)):\n",
    "        size_parameter = np.pi*mean_geometric_diameter_bin[ibin]/RRTM_SW_bands_sorted[irrtm] \n",
    "        #print(size_parameter)\n",
    "\n",
    "        if size_parameter < min_size or size_parameter > max_size:\n",
    "            print(\"size_parameter is out of range: \" +str(size_parameter))\n",
    "        else:\n",
    "            #print(\"size_parameter is within the range.\")\n",
    "            plot_range.append(mean_geometric_diameter_bin[ibin])\n",
    "            Qe_interp = scipy.interpolate.interpn(Yue_size_parameter_and_Ri_matrix, Qe_matrix,[size_parameter, North_African_dust_adebiyi_nr, North_African_dust_adebiyi_k])\n",
    "            Qe_interp_only.append(Qe_interp[0])\n",
    "            Qe_interp_matrix.append([size_parameter,RRTM_SW_bands_sorted[irrtm],mean_geometric_diameter_bin[ibin],Qe_interp[0]])"
   ]
  },
  {
   "cell_type": "code",
   "execution_count": 38,
   "id": "c21992b6-5916-4932-9d05-c0191f263df4",
   "metadata": {},
   "outputs": [
    {
     "name": "stdout",
     "output_type": "stream",
     "text": [
      "(81, 4)\n",
      "[[4.29139882e+00 2.31500000e-01 3.16227766e-01 5.22300645e+00]\n",
      " [9.59585948e+00 2.31500000e-01 7.07106781e-01 3.95553589e+00]\n",
      " [2.14569941e+01 2.31500000e-01 1.58113883e+00 3.51427623e+00]\n",
      " [4.79792974e+01 2.31500000e-01 3.53553391e+00 3.13534445e+00]\n",
      " [9.59585948e+01 2.31500000e-01 7.07106781e+00 2.95510050e+00]\n",
      " [1.91917190e+02 2.31500000e-01 1.41421356e+01 2.84462399e+00]\n",
      " [3.26795667e+00 3.04000000e-01 3.16227766e-01 4.44143317e+00]\n",
      " [7.30737325e+00 3.04000000e-01 7.07106781e-01 4.76637815e+00]\n",
      " [1.63397833e+01 3.04000000e-01 1.58113883e+00 3.70532419e+00]\n",
      " [3.65368663e+01 3.04000000e-01 3.53553391e+00 3.23906987e+00]\n",
      " [7.30737325e+01 3.04000000e-01 7.07106781e+00 3.02074932e+00]\n",
      " [1.46147465e+02 3.04000000e-01 1.41421356e+01 2.85858164e+00]\n",
      " [2.52467300e+00 3.93500000e-01 3.16227766e-01 3.30133812e+00]\n",
      " [5.64534046e+00 3.93500000e-01 7.07106781e-01 5.35521637e+00]\n",
      " [1.26233650e+01 3.93500000e-01 1.58113883e+00 3.67202677e+00]\n",
      " [2.82267023e+01 3.93500000e-01 3.53553391e+00 3.38065303e+00]\n",
      " [5.64534046e+01 3.93500000e-01 7.07106781e+00 3.08606673e+00]\n",
      " [1.12906809e+02 3.93500000e-01 1.41421356e+01 2.93557553e+00]\n",
      " [1.86215338e+00 5.33500000e-01 3.16227766e-01 1.90840692e+00]\n",
      " [4.16390154e+00 5.33500000e-01 7.07106781e-01 5.17863964e+00]\n",
      " [9.31076688e+00 5.33500000e-01 1.58113883e+00 4.01661723e+00]\n",
      " [2.08195077e+01 5.33500000e-01 3.53553391e+00 3.52903555e+00]\n",
      " [4.16390154e+01 5.33500000e-01 7.07106781e+00 3.20135432e+00]\n",
      " [8.32780307e+01 5.33500000e-01 1.41421356e+01 2.97984594e+00]\n",
      " [1.41619220e+00 7.01500000e-01 3.16227766e-01 1.01264986e+00]\n",
      " [3.16670202e+00 7.01500000e-01 7.07106781e-01 4.29448565e+00]\n",
      " [7.08096099e+00 7.01500000e-01 1.58113883e+00 4.88624397e+00]\n",
      " [1.58335101e+01 7.01500000e-01 3.53553391e+00 3.70568527e+00]\n",
      " [3.16670202e+01 7.01500000e-01 7.07106781e+00 3.30551751e+00]\n",
      " [6.33340405e+01 7.01500000e-01 1.41421356e+01 3.07796661e+00]\n",
      " [9.83622601e-01 1.01000000e+00 3.16227766e-01 3.79146653e-01]\n",
      " [2.19944700e+00 1.01000000e+00 7.07106781e-01 2.65908244e+00]\n",
      " [4.91811300e+00 1.01000000e+00 1.58113883e+00 5.32549486e+00]\n",
      " [1.09972350e+01 1.01000000e+00 3.53553391e+00 3.71192055e+00]\n",
      " [2.19944700e+01 1.01000000e+00 7.07106781e+00 3.49832867e+00]\n",
      " [4.39889400e+01 1.01000000e+00 1.41421356e+01 3.17365885e+00]\n",
      " [7.81943193e-01 1.27050000e+00 3.16227766e-01 1.77284188e-01]\n",
      " [1.74847813e+00 1.27050000e+00 7.07106781e-01 1.68329259e+00]\n",
      " [3.90971596e+00 1.27050000e+00 1.58113883e+00 5.00822399e+00]\n",
      " [8.74239067e+00 1.27050000e+00 3.53553391e+00 4.18021010e+00]\n",
      " [1.74847813e+01 1.27050000e+00 7.07106781e+00 3.67007139e+00]\n",
      " [3.49695627e+01 1.27050000e+00 1.41421356e+01 3.24747186e+00]\n",
      " [6.79288087e-01 1.46250000e+00 3.16227766e-01 1.06512869e-01]\n",
      " [1.51893434e+00 1.46250000e+00 7.07106781e-01 1.23213038e+00]\n",
      " [3.39644043e+00 1.46250000e+00 1.58113883e+00 4.59862803e+00]\n",
      " [7.59467169e+00 1.46250000e+00 3.53553391e+00 4.63934681e+00]\n",
      " [1.51893434e+01 1.46250000e+00 7.07106781e+00 3.70614470e+00]\n",
      " [3.03786868e+01 1.46250000e+00 1.41421356e+01 3.32853177e+00]\n",
      " [5.56871540e-01 1.78400000e+00 3.16227766e-01 5.68967185e-02]\n",
      " [1.24520262e+00 1.78400000e+00 7.07106781e-01 7.31252193e-01]\n",
      " [2.78435770e+00 1.78400000e+00 1.58113883e+00 3.74596267e+00]\n",
      " [6.22601309e+00 1.78400000e+00 3.53553391e+00 5.20163962e+00]\n",
      " [1.24520262e+01 1.78400000e+00 7.07106781e+00 3.66986315e+00]\n",
      " [2.49040523e+01 1.78400000e+00 1.41421356e+01 3.44734139e+00]\n",
      " [4.85442867e-01 2.04650000e+00 3.16227766e-01 3.70516288e-02]\n",
      " [1.08548325e+00 2.04650000e+00 7.07106781e-01 4.94699763e-01]\n",
      " [2.42721433e+00 2.04650000e+00 1.58113883e+00 3.11317707e+00]\n",
      " [5.42741625e+00 2.04650000e+00 3.53553391e+00 5.36574904e+00]\n",
      " [1.08548325e+01 2.04650000e+00 7.07106781e+00 3.72234417e+00]\n",
      " [2.17096650e+01 2.04650000e+00 1.41421356e+01 3.50677918e+00]\n",
      " [4.27202248e-01 2.32550000e+00 3.16227766e-01 2.17330044e-02]\n",
      " [9.55253266e-01 2.32550000e+00 7.07106781e-01 3.45822754e-01]\n",
      " [2.13601124e+00 2.32550000e+00 1.58113883e+00 2.54494861e+00]\n",
      " [4.77626633e+00 2.32550000e+00 3.53553391e+00 5.31356615e+00]\n",
      " [9.55253266e+00 2.32550000e+00 7.07106781e+00 3.96481870e+00]\n",
      " [1.91050653e+01 2.32550000e+00 1.41421356e+01 3.60016208e+00]\n",
      " [3.56269975e-01 2.78850000e+00 3.16227766e-01 1.27311234e-02]\n",
      " [7.96643883e-01 2.78850000e+00 7.07106781e-01 1.88711001e-01]\n",
      " [1.78134988e+00 2.78850000e+00 1.58113883e+00 1.75866656e+00]\n",
      " [3.98321942e+00 2.78850000e+00 3.53553391e+00 5.05750349e+00]\n",
      " [7.96643883e+00 2.78850000e+00 7.07106781e+00 4.47496695e+00]\n",
      " [1.59328777e+01 2.78850000e+00 1.41421356e+01 3.70561440e+00]\n",
      " [6.41756888e-01 3.46150000e+00 7.07106781e-01 9.05621908e-02]\n",
      " [1.43501203e+00 3.46150000e+00 1.58113883e+00 1.06319461e+00]\n",
      " [3.20878444e+00 3.46150000e+00 3.53553391e+00 4.35555847e+00]\n",
      " [6.41756888e+00 3.46150000e+00 7.07106781e+00 5.13722910e+00]\n",
      " [1.28351378e+01 3.46150000e+00 1.41421356e+01 3.67470098e+00]\n",
      " [6.19324747e-01 8.02050000e+00 1.58113883e+00 8.14788633e-02]\n",
      " [1.38485223e+00 8.02050000e+00 3.53553391e+00 9.66131278e-01]\n",
      " [2.76970447e+00 8.02050000e+00 7.07106781e+00 3.72227316e+00]\n",
      " [5.53940894e+00 8.02050000e+00 1.41421356e+01 5.36033623e+00]]\n"
     ]
    }
   ],
   "source": [
    "#Make the output into an array\n",
    "Qe_interp_matrix = np.array(Qe_interp_matrix)\n",
    "print(Qe_interp_matrix.shape)\n",
    "print(Qe_interp_matrix)"
   ]
  },
  {
   "cell_type": "markdown",
   "id": "8edec570-aec8-4098-b870-81e24a527116",
   "metadata": {},
   "source": [
    "## 9. Interpolate SSA Matrix"
   ]
  },
  {
   "cell_type": "code",
   "execution_count": 39,
   "id": "93e66e1d-b0ec-4ebd-a55e-fa4c049f5f54",
   "metadata": {},
   "outputs": [
    {
     "name": "stdout",
     "output_type": "stream",
     "text": [
      "size_parameter is out of range: 0.2870024054830594\n",
      "size_parameter is out of range: 0.12386494938964031\n",
      "size_parameter is out of range: 0.2769704468648068\n"
     ]
    }
   ],
   "source": [
    "SSA_interp_matrix = [] #np.zeros(120, dtype=object)\n",
    "SSA_interp_only = []\n",
    "plot_range = []\n",
    "for irrtm in range(len(RRTM_SW_bands)):\n",
    "    for ibin in range(len(mean_geometric_diameter_bin)):\n",
    "        size_parameter = np.pi*mean_geometric_diameter_bin[ibin]/RRTM_SW_bands_sorted[irrtm] \n",
    "        #print(size_parameter)\n",
    "\n",
    "        if size_parameter < min_size or size_parameter > max_size:\n",
    "            print(\"size_parameter is out of range: \" +str(size_parameter))\n",
    "        else:\n",
    "            #print(\"size_parameter is within the range.\")\n",
    "            plot_range.append(mean_geometric_diameter_bin[ibin])\n",
    "            SSA_interp = scipy.interpolate.interpn(Yue_size_parameter_and_Ri_matrix, SSA_matrix,[size_parameter, North_African_dust_adebiyi_nr, North_African_dust_adebiyi_k])\n",
    "            SSA_interp_only.append(SSA_interp[0])\n",
    "            SSA_interp_matrix.append([size_parameter,RRTM_SW_bands_sorted[irrtm],mean_geometric_diameter_bin[ibin],SSA_interp[0]])"
   ]
  },
  {
   "cell_type": "code",
   "execution_count": 40,
   "id": "51caff8b-8c42-4b2f-a13a-e4d96288e5bc",
   "metadata": {},
   "outputs": [
    {
     "name": "stdout",
     "output_type": "stream",
     "text": [
      "(81, 4)\n",
      "[0.9923496361410226, 0.9757432454331155, 0.9502864238984392, 0.9053339046931478, 0.8434335303731696, 0.76083836932033, 0.993480450602412, 0.9850135054017373, 0.9604830304174097, 0.9233512372812283, 0.8705801271792288, 0.7954577808345633, 0.9935702391573228, 0.9898287509262953, 0.9671171880813504, 0.9377431811862259, 0.8929216725285927, 0.8255872743443221, 0.9926446590547366, 0.9924989410949024, 0.9768297947902014, 0.9516321191078999, 0.915024538998319, 0.8580980246341423, 0.9905693830023082, 0.9935300393555464, 0.9857222854348526, 0.9614064611513585, 0.9318617605572276, 0.8832923025452032, 0.9840725741403161, 0.9933333930847627, 0.9913412246253281, 0.9706944477184744, 0.9492337507101208, 0.9113454714904665, 0.9750884436101845, 0.9922951034980801, 0.9928227839834416, 0.9792496455334762, 0.9583875344637033, 0.926153030201373, 0.9668981713614416, 0.9912071157234772, 0.9933916801773653, 0.983895641547517, 0.9625814065005356, 0.9340930099641266, 0.9499057045443671, 0.9888699109251212, 0.9936501859720192, 0.988253697542113, 0.9674426745258485, 0.9436453382330168, 0.9277803989723883, 0.9865723665658979, 0.9935099813924613, 0.9903257144036574, 0.9711133995665432, 0.9497915554431651, 0.9047685212160773, 0.9832636407892821, 0.9932461229644988, 0.9916019285313848, 0.9759083732957875, 0.9551617403367244, 0.8583135733131105, 0.9760773940375298, 0.9924164232923166, 0.9927291375564337, 0.9824491141642511, 0.9612252170106997, 0.9626138954022125, 0.9907338846360763, 0.993509429785345, 0.9877477498960013, 0.9667148907393809, 0.9595887211943435, 0.9903418757913979, 0.9936517927141433, 0.9900703215871437]\n"
     ]
    }
   ],
   "source": [
    "SSA_interp_matrix = np.array(SSA_interp_matrix)\n",
    "print(SSA_interp_matrix.shape)\n",
    "print(SSA_interp_only)"
   ]
  },
  {
   "cell_type": "markdown",
   "id": "19a3f84f-dd99-4285-ba50-babc164a40da",
   "metadata": {},
   "source": [
    "## 10. Interpolate g Matrix"
   ]
  },
  {
   "cell_type": "code",
   "execution_count": 41,
   "id": "01326b42-b1cc-403f-bc40-80d6638f74a9",
   "metadata": {},
   "outputs": [
    {
     "name": "stdout",
     "output_type": "stream",
     "text": [
      "size_parameter is out of range: 0.2870024054830594\n",
      "size_parameter is out of range: 0.12386494938964031\n",
      "size_parameter is out of range: 0.2769704468648068\n"
     ]
    }
   ],
   "source": [
    "g_interp_matrix = [] #np.zeros(120, dtype=object)\n",
    "g_interp_only = []\n",
    "plot_range = []\n",
    "for irrtm in range(len(RRTM_SW_bands)):\n",
    "    for ibin in range(len(mean_geometric_diameter_bin)):\n",
    "        size_parameter = np.pi*mean_geometric_diameter_bin[ibin]/RRTM_SW_bands_sorted[irrtm] \n",
    "        #print(size_parameter)\n",
    "\n",
    "        if size_parameter < min_size or size_parameter > max_size:\n",
    "            print(\"size_parameter is out of range: \" +str(size_parameter))\n",
    "        else:\n",
    "            #print(\"size_parameter is within the range.\")\n",
    "            plot_range.append(mean_geometric_diameter_bin[ibin])\n",
    "            g_interp = scipy.interpolate.interpn(Yue_size_parameter_and_Ri_matrix, g_matrix,[size_parameter, North_African_dust_adebiyi_nr, North_African_dust_adebiyi_k])\n",
    "            g_interp_only.append(g_interp[0])\n",
    "            g_interp_matrix.append([size_parameter,RRTM_SW_bands_sorted[irrtm],mean_geometric_diameter_bin[ibin],g_interp[0]])"
   ]
  },
  {
   "cell_type": "code",
   "execution_count": 42,
   "id": "7b83405a-9a18-455c-b566-272b3adb7d85",
   "metadata": {},
   "outputs": [
    {
     "name": "stdout",
     "output_type": "stream",
     "text": [
      "(81, 4)\n",
      "[0.766984639903052, 0.7077946231349127, 0.7931588233357276, 0.8294586001858253, 0.8596726995318179, 0.8939828158457642, 0.7471492920100817, 0.7342018383736271, 0.7772499425756789, 0.8183396742676589, 0.8472694894933632, 0.8801557563488741, 0.7024364085653273, 0.7611917096529747, 0.7395671078135891, 0.8069361886371701, 0.8361756498409026, 0.867370480687969, 0.5868539901365822, 0.7657489168825286, 0.7073368646298038, 0.7913969281141622, 0.8236652365518997, 0.8531376009079222, 0.4165041329889406, 0.7430493048461154, 0.7386565429882371, 0.7742395526147864, 0.8117934049770694, 0.8409462949022892, 0.21804510147874578, 0.66221901356565, 0.7665461782603176, 0.7141675011620939, 0.7946345335462166, 0.8259593371201781, 0.14197835673619255, 0.5531957085470386, 0.7618749418216427, 0.7111093357148331, 0.7821981114061628, 0.8163358413477843, 0.10871910984983398, 0.4614906536255809, 0.7516601449433024, 0.7291316036565199, 0.7704092234371617, 0.8099695169651295, 0.07516167136912148, 0.3344212136178174, 0.7252592029908486, 0.7530959835487794, 0.7367437627853165, 0.8011834579272524, 0.05856194515976397, 0.2605249739895597, 0.6918558812328144, 0.7634497702428529, 0.7122667626797315, 0.793852564223594, 0.04571812990301846, 0.20651389744145204, 0.6514398669453513, 0.7672521301400004, 0.7077250554865813, 0.7866524565223192, 0.032375244950900196, 0.14695110070972375, 0.5644225258725244, 0.7629951885079491, 0.72257066751909, 0.7748304096454772, 0.09797065145442477, 0.4253877820363292, 0.7447532995614411, 0.7502408109643005, 0.7430567284092753, 0.09184629207003721, 0.4013286204540869, 0.72428699758898, 0.7622893379773498]\n"
     ]
    }
   ],
   "source": [
    "g_interp_matrix = np.array(g_interp_matrix)\n",
    "print(g_interp_matrix.shape)\n",
    "print(g_interp_only)"
   ]
  },
  {
   "cell_type": "markdown",
   "id": "c15d35b4-f444-4be4-ad3f-8accd57c217c",
   "metadata": {},
   "source": [
    "# Now, Calculate bulk dust Optical properties for (0W, 18N) for each SW RRTM band"
   ]
  },
  {
   "cell_type": "markdown",
   "id": "51966565-17e3-41bc-9928-4f68b6dad2e1",
   "metadata": {},
   "source": [
    "Reorder dust optical properties so it is in order (Q_e, ssa, g)"
   ]
  },
  {
   "cell_type": "markdown",
   "id": "4f7db2f5-877a-4b0e-8a5a-ea37fd0b6873",
   "metadata": {},
   "source": [
    "## 11. Re-order interpolated optical properties to a matrix (optical property, band, bin) --> (3,14,6)"
   ]
  },
  {
   "cell_type": "code",
   "execution_count": 43,
   "id": "bc55a765-155c-4bdf-a673-755211a7b1d6",
   "metadata": {},
   "outputs": [],
   "source": [
    "# Define a function to handle processing for each band\n",
    "def process_band(Qe_band, SSA_band, g_band, iband):\n",
    "    for i in range(len(g_interp_matrix)):\n",
    "        for ibin in range(len(mean_geometric_diameter_bin)):\n",
    "            if mean_geometric_diameter_bin[ibin] == Qe_interp_matrix[i, 2] and \\\n",
    "               RRTM_SW_bands_sorted[iband] == Qe_interp_matrix[i, 1]:\n",
    "                Qe_band[iband, ibin] = Qe_interp_matrix[i, 3]\n",
    "            if mean_geometric_diameter_bin[ibin] == SSA_interp_matrix[i, 2] and \\\n",
    "               RRTM_SW_bands_sorted[iband] == SSA_interp_matrix[i, 1]:\n",
    "                SSA_band[iband, ibin] = SSA_interp_matrix[i, 3]\n",
    "            if mean_geometric_diameter_bin[ibin] == g_interp_matrix[i, 2] and \\\n",
    "               RRTM_SW_bands_sorted[iband] == g_interp_matrix[i, 1]:\n",
    "                g_band[iband, ibin] = g_interp_matrix[i, 3]\n",
    "    return (Qe_band, SSA_band, g_band)\n",
    "\n",
    "# Initialize arrays for each band\n",
    "num_bands = len(RRTM_SW_bands_sorted)\n",
    "Qe_bands = np.zeros((num_bands, len(mean_geometric_diameter_bin)))\n",
    "SSA_bands = np.zeros((num_bands, len(mean_geometric_diameter_bin)))\n",
    "g_bands = np.zeros((num_bands, len(mean_geometric_diameter_bin)))\n",
    "\n",
    "# Process each band\n",
    "for iband in range(num_bands):\n",
    "    bin_optical_properties = process_band(Qe_bands, SSA_bands, g_bands, iband)\n",
    "bin_optical_properties = np.array(bin_optical_properties)"
   ]
  },
  {
   "cell_type": "code",
   "execution_count": 44,
   "id": "2791806a-39b7-4bd9-ab70-bb9a5ce3ad61",
   "metadata": {},
   "outputs": [
    {
     "name": "stdout",
     "output_type": "stream",
     "text": [
      "(3, 14, 6)\n"
     ]
    }
   ],
   "source": [
    "print(bin_optical_properties.shape)"
   ]
  },
  {
   "cell_type": "code",
   "execution_count": 45,
   "id": "6f05297a-ca42-4663-94b8-ab1effad0089",
   "metadata": {
    "tags": []
   },
   "outputs": [
    {
     "name": "stdout",
     "output_type": "stream",
     "text": [
      "(96, 144, 6)\n"
     ]
    }
   ],
   "source": [
    "#Calculate bin-resolved annual total North African dust loading \n",
    "\n",
    "total_North_African_loading = mean_loading_Dustcomm_20PM[:,:,:,0] + mean_loading_Dustcomm_20PM[:,:,:,1] + mean_loading_Dustcomm_20PM[:,:,:,2]\n",
    "#Sarahan_laoding = mean_loading_Dustcomm_20PM[:,:,:,0] + mean_loading_Dustcomm_20PM[:,:,:,1]\n",
    "#Sahelian_loading = mean_loading_Dustcomm_20PM[:,:,:,2]\n",
    "print(total_North_African_loading.shape)"
   ]
  },
  {
   "cell_type": "markdown",
   "id": "dee8a8ee-9906-42c2-94b4-a190e7985be6",
   "metadata": {},
   "source": [
    "## 12. Calculate Bulk dust optical properties from interpolated size resolved optical properites "
   ]
  },
  {
   "cell_type": "code",
   "execution_count": null,
   "id": "6ad9ed99-6669-403a-b213-62b6f9e2df8c",
   "metadata": {},
   "outputs": [],
   "source": [
    "#Use mass weighted bulk equations of dust optical properties Qe, SSA, and g\n",
    "\n",
    "#ρ_d=(2.5±0.2)×10^3 kg m-3 is the globally representative density of dust aerosols (Fratini et al., 2007; Reid et al., 2008; Kaaden et al., 2009; Sow et al., 2009)\n",
    "ρ_d = 2.5e3\n",
    "delta_m_Db = total_North_African_loading[48,78,:] #Dust Mass Loading at (0W, 18N)\n",
    "print('delta_m_Db',delta_m_Db)\n",
    "\n",
    "Qe_bulk_0W_18N_bin_num = np.zeros((14,6)) #numerators of equations\n",
    "Qe_bulk_0W_18N_bin_den = np.zeros((14,6)) #denominators of equations\n",
    "SSA_bulk_0W_18N_bin_num = np.zeros((14,6))\n",
    "SSA_bulk_0W_18N_bin_den = np.zeros((14,6))\n",
    "Q_scat = np.zeros((14,6))\n",
    "g_bulk_0W_18N_bin_num = np.zeros((14,6))\n",
    "g_bulk_0W_18N_bin_den = np.zeros((14,6))\n",
    "\n",
    "#all_bins_opt_prop_array[i][0] = Q_e of bin i\n",
    "#all_bins_opt_prop_array[i][1] = SSA of bin i\n",
    "#all_bins_opt_prop_array[i][2] = g of bin i\n",
    "\n",
    "for iwl in range(len(RRTM_SW_bands_sorted)):\n",
    "    for ibin in range(len(bin_optical_properties[0][0])):\n",
    "        Qe_bulk_0W_18N_bin_num[iwl,ibin] = (delta_m_Db[ibin]*(np.pi/4)*(mean_geometric_diameter_bin[ibin]**2)*bin_optical_properties[0][iwl][ibin])/((np.pi/6)*(mean_geometric_diameter_bin[ibin]**3)*ρ_d)\n",
    "        Qe_bulk_0W_18N_bin_den[iwl,ibin] = (delta_m_Db[ibin]*(np.pi/4)*(mean_geometric_diameter_bin[ibin]**2))/((np.pi/6)*(mean_geometric_diameter_bin[ibin]**3)*ρ_d)\n",
    "        \n",
    "        Q_scat[iwl,ibin] = bin_optical_properties[0][iwl][ibin]*bin_optical_properties[1][iwl][ibin]\n",
    "\n",
    "        SSA_bulk_0W_18N_bin_num[iwl,ibin] = (delta_m_Db[ibin]*(np.pi/4)*(mean_geometric_diameter_bin[ibin]**2)*Q_scat[iwl,ibin])/((np.pi/6)*(mean_geometric_diameter_bin[ibin]**3)*ρ_d)\n",
    "        SSA_bulk_0W_18N_bin_den[iwl,ibin] = (delta_m_Db[ibin]*(np.pi/4)*(mean_geometric_diameter_bin[ibin]**2)*bin_optical_properties[0][iwl][ibin])/((np.pi/6)*(mean_geometric_diameter_bin[ibin]**3)*ρ_d)\n",
    "\n",
    "\n",
    "        g_bulk_0W_18N_bin_num[iwl,ibin] = (delta_m_Db[ibin]*(np.pi/4)*(mean_geometric_diameter_bin[ibin]**2)*Q_scat[iwl,ibin]*bin_optical_properties[2][iwl][ibin])/((np.pi/6)*(mean_geometric_diameter_bin[ibin]**3)*ρ_d)\n",
    "        g_bulk_0W_18N_bin_den[iwl,ibin] = (delta_m_Db[ibin]*(np.pi/4)*(mean_geometric_diameter_bin[ibin]**2)*Q_scat[iwl,ibin])/((np.pi/6)*(mean_geometric_diameter_bin[ibin]**3)*ρ_d)"
   ]
  },
  {
   "cell_type": "code",
   "execution_count": null,
   "id": "250be2d3-d870-48f7-a098-118a83094149",
   "metadata": {},
   "outputs": [],
   "source": [
    "# Calculate bulk values\n",
    "Qe_bulk_0W_18N_bulk = np.zeros(14)\n",
    "SSA_bulk_0W_18N_bulk = np.zeros(14)\n",
    "g_bulk_0W_18N_bulk = np.zeros(14)\n",
    "\n",
    "for iwl in range(len(RRTM_SW_bands_sorted)):\n",
    "    Qe_bulk_0W_18N_bulk[iwl] = np.sum(Qe_bulk_0W_18N_bin_num[iwl,:]) / np.sum(Qe_bulk_0W_18N_bin_den[iwl,:])\n",
    "    SSA_bulk_0W_18N_bulk[iwl] = np.sum(SSA_bulk_0W_18N_bin_num[iwl,:]) / np.sum(SSA_bulk_0W_18N_bin_den[iwl,:])\n",
    "    g_bulk_0W_18N_bulk[iwl] = np.sum(g_bulk_0W_18N_bin_num[iwl,:]) / np.sum(g_bulk_0W_18N_bin_den[iwl,:])\n",
    "\n",
    "# Print the values\n",
    "print(\"Qe_bulk_0W_18N_bulk: \", Qe_bulk_0W_18N_bulk)\n",
    "print(\"SSA_bulk_0W_18N_bulk: \", SSA_bulk_0W_18N_bulk)\n",
    "print(\"g_bulk_0W_18N_bulk: \", g_bulk_0W_18N_bulk)"
   ]
  },
  {
   "cell_type": "code",
   "execution_count": null,
   "id": "12143d1e-db72-43ba-a1cf-0400e6198f5a",
   "metadata": {},
   "outputs": [],
   "source": [
    "# Indices that would sort RRTM_SW_bands\n",
    "indices = np.argsort(RRTM_SW_bands)\n",
    "\n",
    "# Rearrange x according to the indices of RRTM_SW_bands\n",
    "Qe_reordered = Qe_bulk_0W_18N_bulk[indices]\n",
    "SSA_reordered = SSA_bulk_0W_18N_bulk[indices]\n",
    "g_reordered = g_bulk_0W_18N_bulk[indices]"
   ]
  },
  {
   "cell_type": "markdown",
   "id": "c515a142-9ffc-4525-b21b-5fa3d422a286",
   "metadata": {},
   "source": [
    "## 13. Generate Bulk Dust Optical Properties txt file"
   ]
  },
  {
   "cell_type": "code",
   "execution_count": 94,
   "id": "9275b49d-fb11-41ea-bf95-2905e3379da1",
   "metadata": {
    "tags": []
   },
   "outputs": [],
   "source": [
    "#Create dust optical properties file for every coordinate\n",
    "for i in range(len(sza_coord_list)):\n",
    "    for ilat in range(0,len(lat_Dustcomm_PM20)):\n",
    "        for ilon in range(0,len(lon_Dustcomm_PM20)):\n",
    "            if lat_Dustcomm_PM20[ilat] == numbers_list[i][0] and lon_Dustcomm_PM20[ilon] == numbers_list[i][1]:\n",
    "                Qe_reordered = Qe_bulk_dust_reordered[:,ilat,ilon]\n",
    "                SSA_reordered = SSA_bulk_dust_reordered[:,ilat,ilon]\n",
    "                g_reordered = g_bulk_dust_reordered[:,ilat,ilon]\n",
    "                data_to_append = np.column_stack((Qe_reordered, SSA_reordered, g_reordered))\n",
    "                # Open the file in append mode and use np.savetxt to append data with spaces between columns\n",
    "                with open('RRTM_bulk_dust_optical_properties_{}.txt'.format(sza_coord_list[i]), 'a') as file:\n",
    "                    # Write headers with spaces\n",
    "                    file.write(\"Qe_sw      SSA_sw      g_sw\\n\")\n",
    "\n",
    "                    # Write data with spaces between columns\n",
    "                    np.savetxt(file, data_to_append, fmt='%5.3f', delimiter='      ')"
   ]
  },
  {
   "cell_type": "markdown",
   "id": "671e1da7-3817-48d7-89ab-acff68f808f6",
   "metadata": {},
   "source": [
    "## The Code below is a work in progress to generate dust optical property txt files for every coordinate, not just (0W, 18N)"
   ]
  },
  {
   "cell_type": "raw",
   "id": "ca23be82-5edc-494c-a454-cdae58a62ebb",
   "metadata": {},
   "source": [
    "## Need to change for creating dust optical property txt files for each coordinate"
   ]
  },
  {
   "cell_type": "raw",
   "id": "4eb60bc0-69c8-40a9-8439-369747da3972",
   "metadata": {},
   "source": [
    "# Work in progress\n",
    "# Code to generate dust optical property txt files for every grid box\n",
    "#----------\n",
    "# using Ashok's isolation weighted data from 2006\n",
    "#----------\n",
    "\n",
    "sza_Dataset = Dataset('../RRTM_SW/RRTM_SW_Aerosol/Albedo_and_sza)_data/inso_weighted_SZA_seasonal_DustCOMMgrid.nc')\n",
    "print(sza_Dataset) #[DJF, JJA, MAM, SON,lat,lon]\n",
    "\n",
    "lat_sza = np.array(sza_Dataset.variables['lat'][:])\n",
    "lon_sza = np.array(sza_Dataset.variables['lon'][:])\n",
    "sza_weighted_DJF = np.array(sza_Dataset.variables['isza_DJF'][:])\n",
    "sza_weighted_JJA = np.array(sza_Dataset.variables['isza_JJA'][:])\n",
    "sza_weighted_MAM = np.array(sza_Dataset.variables['isza_MAM'][:])\n",
    "sza_weighted_SON = np.array(sza_Dataset.variables['isza_SON'][:])\n",
    "\n",
    "#Re-order -180 to be +180 and move to end of array and reorder sza data\n",
    "lon_sza[lon_sza == -180] = 180\n",
    "lon_sza = np.sort(lon_sza)\n",
    "\n",
    "sza_lat_lon_pairs = []\n",
    "sza_coord_list = []\n",
    "\n",
    "for ilat in range(len(lat_sza)):\n",
    "    for ilon in range(len(lon_sza)):\n",
    "        sza_lat_lon_pairs.append((lat_sza[ilat], lon_sza[ilon]))\n",
    "        sza_coord_list.append('lat_{:.2f}_lon_{:.2f}'.format(lat_sza[ilat], lon_sza[ilon]))\n",
    "\n",
    "print(sza_coord_list[0]) "
   ]
  },
  {
   "cell_type": "raw",
   "id": "55c493f4-0456-4bbf-9bfb-16172f0271a1",
   "metadata": {
    "tags": []
   },
   "source": [
    "#Work in Progress\n",
    "#ρ_d=(2.5±0.2)×10^3 kg m-3 is the globally representative density of dust aerosols (Fratini et al., 2007; Reid et al., 2008; Kaaden et al., 2009; Sow et al., 2009)\n",
    "ρ_d = 2.5e3\n",
    "\n",
    "Qe_bulk_bin_num = np.zeros((14,6,96,144))\n",
    "Qe_bulk_bin_den = np.zeros((14,6,96,144))\n",
    "SSA_bulk_bin_num = np.zeros((14,6,96,144))\n",
    "SSA_bulk_bin_den = np.zeros((14,6,96,144))\n",
    "Q_scat = np.zeros((14,6))\n",
    "g_bulk_bin_num = np.zeros((14,6,96,144))\n",
    "g_bulk_bin_den = np.zeros((14,6,96,144))\n",
    "\n",
    "#all_bins_opt_prop_array[i][0] = Q_e of bin i\n",
    "#all_bins_opt_prop_array[i][1] = SSA of bin i\n",
    "#all_bins_opt_prop_array[i][2] = g of bin i\n",
    "\n",
    "for iwl in range(len(RRTM_SW_bands_sorted)):\n",
    "    for ibin in range(len(bin_optical_properties[0][0])):\n",
    "        for ilat in range(len(lat_Dustcomm_PM20)):\n",
    "            for ilon in range(len(lon_Dustcomm_PM20)):\n",
    "                Qe_bulk_bin_num[iwl,ibin,ilat,ilon] = (total_North_African_loading[ilat,ilon,ibin]*(np.pi/4)*(mean_geometric_diameter_bin[ibin]**2)*bin_optical_properties[0][iwl][ibin])/((np.pi/6)*(mean_geometric_diameter_bin[ibin]**3)*ρ_d)\n",
    "                Qe_bulk_bin_den[iwl,ibin,ilat,ilon] = (total_North_African_loading[ilat,ilon,ibin]*(np.pi/4)*(mean_geometric_diameter_bin[ibin]**2))/((np.pi/6)*(mean_geometric_diameter_bin[ibin]**3)*ρ_d)\n",
    "\n",
    "                Q_scat[iwl,ibin] = bin_optical_properties[0][iwl][ibin]*bin_optical_properties[1][iwl][ibin]\n",
    "\n",
    "                SSA_bulk_bin_num[iwl,ibin,ilat,ilon] = (total_North_African_loading[ilat,ilon,ibin]*(np.pi/4)*(mean_geometric_diameter_bin[ibin]**2)*Q_scat[iwl,ibin])/((np.pi/6)*(mean_geometric_diameter_bin[ibin]**3)*ρ_d)\n",
    "                SSA_bulk_bin_den[iwl,ibin,ilat,ilon] = (total_North_African_loading[ilat,ilon,ibin]*(np.pi/4)*(mean_geometric_diameter_bin[ibin]**2)*bin_optical_properties[0][iwl][ibin])/((np.pi/6)*(mean_geometric_diameter_bin[ibin]**3)*ρ_d)\n",
    "\n",
    "\n",
    "                g_bulk_bin_num[iwl,ibin,ilat,ilon] = (total_North_African_loading[ilat,ilon,ibin]*(np.pi/4)*(mean_geometric_diameter_bin[ibin]**2)*Q_scat[iwl,ibin]*bin_optical_properties[2][iwl][ibin])/((np.pi/6)*(mean_geometric_diameter_bin[ibin]**3)*ρ_d)\n",
    "                g_bulk_bin_den[iwl,ibin,ilat,ilon] = (total_North_African_loading[ilat,ilon,ibin]*(np.pi/4)*(mean_geometric_diameter_bin[ibin]**2)*Q_scat[iwl,ibin])/((np.pi/6)*(mean_geometric_diameter_bin[ibin]**3)*ρ_d)\n"
   ]
  },
  {
   "cell_type": "raw",
   "id": "912bc690-99e4-4d66-b938-173186337327",
   "metadata": {
    "tags": []
   },
   "source": [
    "#Work in Progress\n",
    "# Calculate bulk values\n",
    "Qe_bulk_dust = np.zeros((14,96,144))\n",
    "SSA_bulk_dust = np.zeros((14,96,144))\n",
    "g_bulk_dust = np.zeros((14,96,144))\n",
    "\n",
    "for iwl in range(len(RRTM_SW_bands_sorted)):\n",
    "    for ilat in range(len(lat_Dustcomm_PM20)):\n",
    "        for ilon in range(len(lon_Dustcomm_PM20)):\n",
    "            Qe_bulk_dust[iwl,ilat,ilon] = np.sum(Qe_bulk_bin_num[iwl,:,ilat,ilon]) / np.sum(Qe_bulk_bin_den[iwl,:,ilat,ilon])\n",
    "            SSA_bulk_dust[iwl,ilat,ilon] = np.sum(SSA_bulk_bin_num[iwl,:,ilat,ilon]) / np.sum(SSA_bulk_bin_den[iwl,:,ilat,ilon])\n",
    "            g_bulk_dust[iwl,ilat,ilon] = np.sum(g_bulk_bin_num[iwl,:,ilat,ilon]) / np.sum(g_bulk_bin_den[iwl,:,ilat,ilon])\n",
    "\n",
    "# Print the values\n",
    "#print(\"Qe_bulk_dust: \", Qe_bulk_dus)\n",
    "#print(\"SSA_bulk_dust: \", SSA_bulk_dust)\n",
    "#print(\"g_bulk_dust: \", g_bulk_dust)"
   ]
  },
  {
   "cell_type": "raw",
   "id": "d562dbf9-0e36-4d1e-9d33-186a0a553ad6",
   "metadata": {},
   "source": [
    "#Work in Progress\n",
    "Qe_bulk_dust_reordered  = np.concatenate((Qe_bulk_dust[1:,:,:],Qe_bulk_dust[:1,:,:]), axis=0)\n",
    "SSA_bulk_dust_reordered  = np.concatenate((SSA_bulk_dust[1:,:,:],SSA_bulk_dust[:1,:,:]), axis=0)\n",
    "g_bulk_dust_reordered = np.concatenate((g_bulk_dust[1:,:,:],g_bulk_dust[:1,:,:]), axis=0)\n",
    "\n",
    "print(Qe_bulk_dust_reordered.shape)"
   ]
  },
  {
   "cell_type": "raw",
   "id": "d43522d9-a758-47d0-956a-4c8e0d1dbd91",
   "metadata": {
    "tags": []
   },
   "source": [
    "#Work in Progress\n",
    "import re\n",
    "# Regular expression pattern to match floating-point numbers\n",
    "pattern = r'[-+]?\\d*\\.\\d+|\\d+'\n",
    "\n",
    "# Extract numbers from each entry in the array\n",
    "numbers_list = []\n",
    "for entry in sza_coord_list:\n",
    "    numbers = re.findall(pattern, entry)\n",
    "    numbers_list.append([float(num) for num in numbers])\n",
    "\n",
    "# Print the extracted numbers\n",
    "print(numbers_list[2][1])"
   ]
  }
 ],
 "metadata": {
  "kernelspec": {
   "display_name": "rrtm_env",
   "language": "python",
   "name": "rrtm_env"
  },
  "language_info": {
   "codemirror_mode": {
    "name": "ipython",
    "version": 3
   },
   "file_extension": ".py",
   "mimetype": "text/x-python",
   "name": "python",
   "nbconvert_exporter": "python",
   "pygments_lexer": "ipython3",
   "version": "3.11.4"
  }
 },
 "nbformat": 4,
 "nbformat_minor": 5
}
