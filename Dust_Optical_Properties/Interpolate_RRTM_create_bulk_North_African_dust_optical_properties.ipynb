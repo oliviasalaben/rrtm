{
 "cells": [
  {
   "cell_type": "code",
   "execution_count": 21,
   "id": "07d6c587",
   "metadata": {
    "tags": []
   },
   "outputs": [],
   "source": [
    "import os\n",
    "import scipy.io as io\n",
    "import numpy as np\n",
    "import pandas as pd\n",
    "from scipy.interpolate import interp1d\n",
    "import sys\n",
    "import math\n",
    "from netCDF4 import Dataset\n",
    "import os, calendar, sys, fnmatch, datetime"
   ]
  },
  {
   "cell_type": "markdown",
   "id": "f01c49b7",
   "metadata": {
    "tags": []
   },
   "source": [
    "# Load Huang et al. 2023 Ellipsoidal dust optical properties files"
   ]
  },
  {
   "cell_type": "code",
   "execution_count": 22,
   "id": "12b2bf5a-76b6-47d0-aeca-a3b71daf7df7",
   "metadata": {
    "tags": []
   },
   "outputs": [],
   "source": [
    "# ===== Aerosol (e.g., dust) optical properties (i.e., Qext, SSA, g) =====\n",
    "# ***Note: The order of 14 bands is listed in TABLE 1 in RRTM_SW instruction (It is not monotonically increase or decrease)\n",
    "# ***Note: The order of spectral optical properties should be consistent with the order in TABLE 1\n",
    "\n",
    "def process_optical_properties(wavelength_band, txt_files):\n",
    "    wavelength = wavelength_range[wavelength_band]\n",
    "    #print(txt_files[wavelength_band])\n",
    "    opt_prop_sw_original = np.loadtxt(opt_dir + '{}'.format(txt_files[wavelength_band]))\n",
    "    #print(opt_prop_sw_original.shape)\n",
    "\n",
    "    wl = np.array(opt_prop_sw_original[:, 0][:])\n",
    "    dust_d = np.array(opt_prop_sw_original[:, 1][:])\n",
    "    size_parameter = np.pi * dust_d / wl #f'size_parameter_{wavelength:.4f}': size_parameter,\n",
    "    n_RI = np.array(opt_prop_sw_original[:, 2][:])\n",
    "    k_RI = np.array(opt_prop_sw_original[:, 3][:])\n",
    "    \n",
    "    qe_dust_sw = opt_prop_sw_original[:, 4]\n",
    "    ssa_dust_sw = opt_prop_sw_original[:, 5]\n",
    "    g_dust_sw = opt_prop_sw_original[:, 6]\n",
    "\n",
    "    # Create variable names dynamically\n",
    "    variables = {\n",
    "        f'wl_{wavelength:.4f}': wl,\n",
    "        f'dust_d_{wavelength:.4f}': dust_d,\n",
    "        f'size_parameter_{wavelength:.4f}': size_parameter,\n",
    "        f'n_RI_{wavelength:.4f}': n_RI,\n",
    "        f'k_RI_{wavelength:.4f}': k_RI,\n",
    "        f'qe_dust_sw_{wavelength:.4f}': qe_dust_sw,\n",
    "        f'ssa_dust_sw_{wavelength:.4f}': ssa_dust_sw,\n",
    "        f'g_dust_sw_{wavelength:.4f}': g_dust_sw,\n",
    "    }\n",
    "    return np.array((wl,dust_d,size_parameter,n_RI,k_RI,qe_dust_sw,ssa_dust_sw,g_dust_sw)) #variables\n"
   ]
  },
  {
   "cell_type": "code",
   "execution_count": 23,
   "id": "f0fb753a-937e-4661-996e-5d5d7c71d25e",
   "metadata": {
    "tags": []
   },
   "outputs": [],
   "source": [
    "# SW Wavelength range and files\n",
    "opt_dir = 'SW_Huang_Dust_Optics/'\n",
    "wavelength_range = [0.35, 0.55, 0.75, 0.95] #, 2, 4, 6, 8, 10, 12, 14, 16, 35]\n",
    "Huang_2023_dust_opt_prop_txt_files = ['shapein_TAMU_0.3500.txt', 'shapein_TAMU_0.5500.txt', 'shapein_TAMU_0.7500.txt', 'shapein_TAMU_0.9500.txt'] # 'shapein_TAMU_2.0000.txt', 'shapein_TAMU_4.0000.txt', 'shapein_TAMU_6.0000.txt', 'shapein_TAMU_8.0000.txt', 'shapein_TAMU_10.0000.txt', 'shapein_TAMU_12.0000.txt', 'shapein_TAMU_14.0000.txt', 'shapein_TAMU_16.0000.txt', 'shapein_TAMU_35.0000.txt']\n",
    "\n",
    "# Array to store results\n",
    "opt_prop_sw_array = np.empty(len(wavelength_range), dtype=object)\n",
    "\n",
    "# Process optical properties for each wavelength band\n",
    "for i in range(len(wavelength_range)):\n",
    "    opt_prop_sw = process_optical_properties(i, Huang_2023_dust_opt_prop_txt_files)\n",
    "    opt_prop_sw_array[i] = opt_prop_sw"
   ]
  },
  {
   "cell_type": "code",
   "execution_count": 24,
   "id": "bc62e150-408c-4060-8daa-637875d4f10a",
   "metadata": {},
   "outputs": [
    {
     "name": "stdout",
     "output_type": "stream",
     "text": [
      "(8, 14400)\n"
     ]
    }
   ],
   "source": [
    "print(opt_prop_sw_array[0].shape)"
   ]
  },
  {
   "cell_type": "code",
   "execution_count": 25,
   "id": "8945c847-ba97-4999-b8a3-82286a8f203a",
   "metadata": {},
   "outputs": [
    {
     "data": {
      "text/plain": [
       "(14400,)"
      ]
     },
     "execution_count": 25,
     "metadata": {},
     "output_type": "execute_result"
    }
   ],
   "source": [
    "opt_prop_sw_array[0][5].shape"
   ]
  },
  {
   "cell_type": "markdown",
   "id": "d9b10764-4c12-4dd7-997d-04193ac3169d",
   "metadata": {},
   "source": [
    "## Create Yue Size parameter, real RI, and imaginary RI matrix"
   ]
  },
  {
   "cell_type": "markdown",
   "id": "df0d5937-0d34-4a92-a700-53c30372ca2d",
   "metadata": {},
   "source": [
    "create a file of the three dimensional grid, those three dimensions being size parameter, real RI, and imaginary RI. The second and third dimensions here are easier and would be those values relevant to your problem, so I'd suggest (1.50, 1.52, 1.53, 1.56) and (0.0005, 0.001, 0.002, 0.003). The first dimension is pretty annoying because there will be so many values since the data is finely spaced in D (300 values per wavelength) and you will have four different SW wavelengths to use (350, 550, 750, and 950 nm; don't use the other ones because the RI there is for the LW). So I'd suggest only using every 10th value to keep the size of the matrix reasonable (120 size parameter values). Once you've created this three-dimensional grid (120x4x4), "
   ]
  },
  {
   "cell_type": "code",
   "execution_count": 47,
   "id": "3802574f-f897-43c8-9e46-e5741879f9fd",
   "metadata": {},
   "outputs": [
    {
     "name": "stdout",
     "output_type": "stream",
     "text": [
      "1440\n",
      "(1440,) [array([  0.8975979 ,   0.91824265,   0.939785  , ..., 606.3462317 ,\n",
      "        617.23499184, 628.31853072])                                 0 0\n",
      " ... 0 0 0]\n",
      "(3,) [array([array([  0.8975979 ,   0.91824265,   0.939785  , ..., 606.3462317 ,\n",
      "               617.23499184, 628.31853072])                                ,\n",
      "        0, 0, ..., 0, 0, 0], dtype=object)\n",
      " array([1.5 , 1.52, 1.53, 1.56]) array([0.0005, 0.001 , 0.002 , 0.003 ])]\n"
     ]
    }
   ],
   "source": [
    "Yue_real_RI_range = np.array([1.50, 1.52, 1.53, 1.56])\n",
    "Yue_imag_RI_range = np.array([0.0005, 0.001, 0.002, 0.003])\n",
    "size_param_array_length = int(len(opt_prop_sw_array[0][0])/10)\n",
    "print(size_param_array_length)\n",
    "Yue_size_parameter_range = np.zeros(size_param_array_length, dtype=object)\n",
    "for i in range(0,len(wavelength_range),10):\n",
    "    Yue_size_parameter_range[i] = opt_prop_sw_array[i][2]\n",
    "print(Yue_size_parameter_range.shape,Yue_size_parameter_range)\n",
    "\n",
    "Yue_size_parameter_and_Ri_matrix = np.array((Yue_size_parameter_range, Yue_real_RI_range, Yue_imag_RI_range), dtype=object)\n",
    "print(Yue_size_parameter_and_Ri_matrix.shape,Yue_size_parameter_and_Ri_matrix)\n",
    "\n",
    "io.savemat(\"Yue_size_parameter_and_Ri_matrix.mat\", {\"array\": Yue_size_parameter_and_Ri_matrix})"
   ]
  },
  {
   "cell_type": "code",
   "execution_count": 27,
   "id": "32a35592-750f-4738-a7aa-846ed869a2a7",
   "metadata": {},
   "outputs": [
    {
     "data": {
      "text/plain": [
       "array([array([  0.8975979 ,   0.91824265,   0.939785  , ..., 606.3462317 ,\n",
       "              617.23499184, 628.31853072])                                ,\n",
       "       0, 0, ..., 0, 0, 0], dtype=object)"
      ]
     },
     "execution_count": 27,
     "metadata": {},
     "output_type": "execute_result"
    }
   ],
   "source": [
    "Yue_size_parameter_and_Ri_matrix[0]"
   ]
  },
  {
   "cell_type": "markdown",
   "id": "b24e77d3-69fa-4cfc-9962-3324d7d9b47a",
   "metadata": {},
   "source": [
    "## Create Yue Q_e matrix"
   ]
  },
  {
   "cell_type": "markdown",
   "id": "00075d0d-a303-4b2d-8336-bbf6c0f8ddcc",
   "metadata": {},
   "source": [
    " you need to create a matrix with the same dimensions as your three-dimensional grid that contains the values of Q_ext. You do this by creating a matrix with NaN values with those dimensions and then reading in all Yue's data (at the four wavelengths, using only every tenth data point) and writing each value to this new matrix at the corresponding coordinate. Once you're done, you'll end with a matrix that has a lot of values filled in, but ~75% of the values will be NaNs. "
   ]
  },
  {
   "cell_type": "code",
   "execution_count": null,
   "id": "a9cfa23a-832a-451b-a658-b28e73163d38",
   "metadata": {},
   "outputs": [],
   "source": []
  },
  {
   "cell_type": "markdown",
   "id": "912f2506",
   "metadata": {},
   "source": [
    "# Calculate DustCOMM mean geometric diamater of each bin"
   ]
  },
  {
   "cell_type": "code",
   "execution_count": 8,
   "id": "f2526a33",
   "metadata": {
    "tags": []
   },
   "outputs": [
    {
     "name": "stdout",
     "output_type": "stream",
     "text": [
      "<class 'netCDF4._netCDF4.Dataset'>\n",
      "root group (NETCDF4_CLASSIC data model, file format HDF5):\n",
      "    dimensions(sizes): source(9), diameter(6), lat(96), lon(144), bin(6)\n",
      "    variables(dimensions): float64 source(source), float64 bin_D_lower(diameter), float64 bin_D_upper(diameter), float64 lat(lat), float64 lon(lon), float64 Median(lat, lon, bin, source), float64 Mean(lat, lon, bin, source), float64 Neg1sigma(lat, lon, bin, source), float64 Pos1sigman(lat, lon, bin, source), float64 Neg2sigma(lat, lon, bin, source), float64 Pos2sigma(lat, lon, bin, source)\n",
      "    groups: \n"
     ]
    }
   ],
   "source": [
    "#----------\n",
    "# using DustCOMM 2021 papers b) https://dustcomm.atmos.ucla.edu/\n",
    "# specifically https://dustcomm.atmos.ucla.edu/data/K21b/ dataset DustCOMM_source_region_DAOD_seas_bin_abs.nc\n",
    "# assumes aspherical dust shape, PM20 dust\n",
    "#----------\n",
    "\n",
    "daod_Dustcomm_PM20_Dataset = Dataset('DustCOMM_source_region_DAOD_annual_bin_abs.nc')\n",
    "print(daod_Dustcomm_PM20_Dataset) #[season,source,diameter,lat,lon,bin]\n",
    "\n",
    "lat_Dustcomm_PM20 = np.array(daod_Dustcomm_PM20_Dataset.variables['lat'][:])\n",
    "lon_Dustcomm_PM20 = np.array(daod_Dustcomm_PM20_Dataset.variables['lon'][:])\n",
    "mean_Daod_Dustcomm_20PM = np.array(daod_Dustcomm_PM20_Dataset.variables['Mean'][:])\n",
    "#dustcomm_seas = np.array(daod_Dustcomm_PM20_Dataset.variables['season'][:])\n",
    "dustcomm_Sources_PM20 = np.array(daod_Dustcomm_PM20_Dataset.variables['source'][:]) \n",
    "dustcomm_bin_lower = np.array(daod_Dustcomm_PM20_Dataset.variables['bin_D_lower'][:])\n",
    "dustcomm_bin_upper = np.array(daod_Dustcomm_PM20_Dataset.variables['bin_D_upper'][:])"
   ]
  },
  {
   "cell_type": "code",
   "execution_count": 9,
   "id": "b6e21893-7a30-4397-a160-32c2c8414320",
   "metadata": {
    "tags": []
   },
   "outputs": [
    {
     "name": "stdout",
     "output_type": "stream",
     "text": [
      "<class 'netCDF4._netCDF4.Dataset'>\n",
      "root group (NETCDF4_CLASSIC data model, file format HDF5):\n",
      "    dimensions(sizes): source(9), diameter(6), lat(96), lon(144), bin(6)\n",
      "    variables(dimensions): float64 source(source), float64 bin_D_lower(diameter), float64 bin_D_upper(diameter), float64 lat(lat), float64 lon(lon), float64 Median(lat, lon, bin, source), float64 Mean(lat, lon, bin, source), float64 Neg1sigma(lat, lon, bin, source), float64 Pos1sigman(lat, lon, bin, source), float64 Neg2sigma(lat, lon, bin, source), float64 Pos2sigma(lat, lon, bin, source)\n",
      "    groups: \n"
     ]
    }
   ],
   "source": [
    "#----------\n",
    "# using DustCOMM 2021 papers b) https://dustcomm.atmos.ucla.edu/\n",
    "# specifically https://dustcomm.atmos.ucla.edu/data/K21b/ dataset DustCOMM_source_region_DAOD_seas_bin_abs.nc\n",
    "# assumes aspherical dust shape, PM20 dust\n",
    "#----------\n",
    "\n",
    "loading_Dustcomm_PM20_Dataset = Dataset('DustCOMM_source_region_dust_loading_annual_bin_abs.nc')\n",
    "print(loading_Dustcomm_PM20_Dataset) #[season,source,diameter,lat,lon,bin]\n",
    "\n",
    "loading_lat_Dustcomm_PM20 = np.array(loading_Dustcomm_PM20_Dataset.variables['lat'][:])\n",
    "loading_lon_Dustcomm_PM20 = np.array(loading_Dustcomm_PM20_Dataset.variables['lon'][:])\n",
    "mean_loading_Dustcomm_20PM = np.array(loading_Dustcomm_PM20_Dataset.variables['Mean'][:])\n",
    "#dustcomm_seas = np.array(daod_Dustcomm_PM20_Dataset.variables['season'][:])\n",
    "loading_dustcomm_Sources_PM20 = np.array(loading_Dustcomm_PM20_Dataset.variables['source'][:]) \n",
    "loading_dustcomm_bin_lower = np.array(loading_Dustcomm_PM20_Dataset.variables['bin_D_lower'][:])\n",
    "loading_dustcomm_bin_upper = np.array(loading_Dustcomm_PM20_Dataset.variables['bin_D_upper'][:])"
   ]
  },
  {
   "cell_type": "code",
   "execution_count": 10,
   "id": "c4dc8610",
   "metadata": {},
   "outputs": [
    {
     "name": "stdout",
     "output_type": "stream",
     "text": [
      "[ 0.2  0.5  1.   2.5  5.  10. ]\n",
      "[ 0.5  1.   2.5  5.  10.  20. ]\n"
     ]
    }
   ],
   "source": [
    "print(dustcomm_bin_lower)\n",
    "print(dustcomm_bin_upper)"
   ]
  },
  {
   "cell_type": "code",
   "execution_count": 11,
   "id": "dafdd644",
   "metadata": {
    "tags": []
   },
   "outputs": [],
   "source": [
    "mean_geometric_diameter_bin = np.sqrt(dustcomm_bin_lower*dustcomm_bin_upper)"
   ]
  },
  {
   "cell_type": "code",
   "execution_count": 12,
   "id": "847f93bc",
   "metadata": {
    "tags": []
   },
   "outputs": [
    {
     "name": "stdout",
     "output_type": "stream",
     "text": [
      "[ 0.31622777  0.70710678  1.58113883  3.53553391  7.07106781 14.14213562]\n"
     ]
    }
   ],
   "source": [
    "print(mean_geometric_diameter_bin)"
   ]
  },
  {
   "cell_type": "markdown",
   "id": "4cbed0f8",
   "metadata": {},
   "source": [
    "# Interpolate  Huang et al. 2023 size parameter and dust optical properties that best match Adebiyi RI's, and DustCOMM size parameter of each bin"
   ]
  },
  {
   "cell_type": "markdown",
   "id": "54e6578d",
   "metadata": {},
   "source": [
    "use DustCOMM Saharan and Sahelian dust partition in a grid box, in the DAOD. sum the two sahara sources, to calculate my own spatially resolved RI (Later)"
   ]
  },
  {
   "cell_type": "markdown",
   "id": "33d95dbc",
   "metadata": {},
   "source": [
    "match_d_opt_prop_sw = []\n",
    "match_n_RI_opt_prop_sw = []\n",
    "match_k_RI_opt_prop_sw = []\n",
    "n_RI_index = []\n",
    "k_RI_index = []North African dust has a mean imaginary refractive index at 550 nm wavelength of 0.0012 (one standard error range of 0.0009–0.0016\n",
    "and a real dust refractive index, nr = 1.51 ± 0.03 (which is the same for Sahara and Sahel) (Di Biagio et al. 2019)\n",
    "We assume that RI is constant across particle size (Adebiyi et al. 2023, Obiso et al. 2023)"
   ]
  },
  {
   "cell_type": "code",
   "execution_count": 79,
   "id": "64fe8cc2-4ad1-4e9f-b1fa-f238f3e24336",
   "metadata": {},
   "outputs": [],
   "source": [
    "# 14 RRTM SW bands - average wavelength of each band (in RRTM order)\n",
    "RRTM_SW_bands = [3.4615, 2.7885, 2.3255, 2.0465, 1.784, 1.4625, 1.2705, 1.01, 0.7015, 0.5335, 0.3935, 0.304, 0.2315, 8.0205]\n",
    "RRTM_SW_bands_sorted = np.sort(RRTM_SW_bands)"
   ]
  },
  {
   "cell_type": "code",
   "execution_count": 120,
   "id": "f5f86f42",
   "metadata": {
    "tags": []
   },
   "outputs": [],
   "source": [
    "#grid_box = [0,18] #0W, 18N\n",
    "North_African_dust_adebiyi_k = np.full(len(mean_geometric_diameter_bin),0.0012)\n",
    "North_African_dust_adebiyi_nr = np.full(len(mean_geometric_diameter_bin),1.51)"
   ]
  },
  {
   "cell_type": "code",
   "execution_count": 121,
   "id": "a545adcf-5000-4028-94f6-fcdf7624ee92",
   "metadata": {},
   "outputs": [
    {
     "name": "stdout",
     "output_type": "stream",
     "text": [
      "[1.51 1.51 1.51 1.51 1.51 1.51]\n"
     ]
    }
   ],
   "source": [
    "print(North_African_dust_adebiyi_nr)"
   ]
  },
  {
   "cell_type": "markdown",
   "id": "4d86460d-8df4-422c-bdc4-740119fd3896",
   "metadata": {},
   "source": [
    "Meeting Notes 1/4/24:\n",
    "\n",
    "Look at how solar zenith angle variation effects \"DRE\" (difference between the two fluxes)\n",
    "Send Jasper bulk dust optical properties by end of day tomorrow (plus text file)\n",
    "write script to run SW RRTM for different solar zenith angles"
   ]
  },
  {
   "cell_type": "code",
   "execution_count": 127,
   "id": "f52ceaa3-12ac-480f-89e7-fe77c6d9ad6e",
   "metadata": {
    "tags": []
   },
   "outputs": [
    {
     "name": "stdout",
     "output_type": "stream",
     "text": [
      "[array([ 0.28700241,  0.64175689,  1.43501203,  3.20878444,  6.41756888,\n",
      "        12.83513777])\n",
      " array([ 0.35626998,  0.79664388,  1.78134988,  3.98321942,  7.96643883,\n",
      "        15.93287767])\n",
      " array([ 0.42720225,  0.95525327,  2.13601124,  4.77626633,  9.55253266,\n",
      "        19.10506531])\n",
      " array([ 0.48544287,  1.08548325,  2.42721433,  5.42741625, 10.85483249,\n",
      "        21.70966498])\n",
      " array([ 0.55687154,  1.24520262,  2.7843577 ,  6.22601309, 12.45202617,\n",
      "        24.90405234])\n",
      " array([ 0.67928809,  1.51893434,  3.39644043,  7.59467169, 15.18934338,\n",
      "        30.37868676])\n",
      " array([ 0.78194319,  1.74847813,  3.90971596,  8.74239067, 17.48478134,\n",
      "        34.96956268])\n",
      " array([ 0.9836226 ,  2.199447  ,  4.918113  , 10.997235  , 21.99446999,\n",
      "        43.98893998])\n",
      " array([ 1.4161922 ,  3.16670202,  7.08096099, 15.83351011, 31.66702023,\n",
      "        63.33404046])\n",
      " array([ 1.86215338,  4.16390154,  9.31076688, 20.81950768, 41.63901535,\n",
      "        83.27803071])\n",
      " array([  2.524673  ,   5.64534046,  12.62336501,  28.22670228,\n",
      "         56.45340455, 112.9068091 ])\n",
      " array([  3.26795667,   7.30737325,  16.33978333,  36.53686627,\n",
      "         73.07373254, 146.14746507])\n",
      " array([  4.29139882,   9.59585948,  21.45699409,  47.97929739,\n",
      "         95.95859478, 191.91718955])\n",
      " array([0.12386495, 0.27697045, 0.61932475, 1.38485223, 2.76970447,\n",
      "        5.53940894])                                               ]\n"
     ]
    }
   ],
   "source": [
    "size_parameter_geometric_diameter_bin = np.zeros(len(opt_prop_sw_array)+1, dtype=object)\n",
    "\n",
    "for irrtm in range(len(opt_prop_sw_array)+1):\n",
    "    size_parameter_geometric_diameter_bin[irrtm] = np.pi*mean_geometric_diameter_bin/RRTM_SW_bands[irrtm] #not sorted, in RRTM order\n",
    "print(size_parameter_geometric_diameter_bin)"
   ]
  },
  {
   "cell_type": "markdown",
   "id": "d58a1d67-c093-41cb-bab5-f31e17186000",
   "metadata": {},
   "source": [
    "## 1/22/24 Interpolate for each dust optical property"
   ]
  },
  {
   "cell_type": "code",
   "execution_count": 123,
   "id": "af05ded5-f0b9-416f-8fca-aeb1f2ac850f",
   "metadata": {},
   "outputs": [],
   "source": [
    "from scipy.interpolate import RegularGridInterpolator"
   ]
  },
  {
   "cell_type": "code",
   "execution_count": 124,
   "id": "2d59209e-2e72-4d73-91da-178d6adf211d",
   "metadata": {},
   "outputs": [
    {
     "data": {
      "text/plain": [
       "array([  0.8975979 ,   0.91824265,   0.939785  , ..., 606.3462317 ,\n",
       "       617.23499184, 628.31853072])"
      ]
     },
     "execution_count": 124,
     "metadata": {},
     "output_type": "execute_result"
    }
   ],
   "source": [
    "opt_prop_sw_array[0][2]"
   ]
  },
  {
   "cell_type": "code",
   "execution_count": 125,
   "id": "6e7b6131-9e84-4791-af4d-63590a88875a",
   "metadata": {},
   "outputs": [
    {
     "data": {
      "text/plain": [
       "array([ 0.78194319,  1.74847813,  3.90971596,  8.74239067, 17.48478134,\n",
       "       34.96956268])"
      ]
     },
     "execution_count": 125,
     "metadata": {},
     "output_type": "execute_result"
    }
   ],
   "source": [
    "size_parameter_geometric_diameter_bin[6]"
   ]
  },
  {
   "cell_type": "code",
   "execution_count": 137,
   "id": "bdd72766-c50b-4c08-b7a0-1b03a5277a30",
   "metadata": {
    "tags": []
   },
   "outputs": [
    {
     "name": "stdout",
     "output_type": "stream",
     "text": [
      "Interpolated Qe Values: [       nan        nan 1.0453977  4.33971603 5.17817266 3.65934204]\n",
      "Interpolated Qe Values: [       nan        nan 1.76099469 5.07836835 4.48590485 3.69420447]\n",
      "Interpolated Qe Values: [       nan 0.34371527 2.52618736 5.34368378 3.9378878  3.60314327]\n",
      "Interpolated Qe Values: [       nan 0.50243592 3.12630312 5.36334701 3.72727989 3.49771888]\n",
      "Interpolated Qe Values: [       nan 0.72649966 3.7296873  5.21001789 3.66724195 3.4198482 ]\n",
      "Interpolated Qe Values: [       nan 1.20994309 4.57627027 4.64087842 3.72972444 3.33047059]\n",
      "Interpolated Qe Values: [       nan 1.69588056 4.98978869 4.18339518 3.6697722  3.28100217]\n",
      "Interpolated Qe Values: [0.36361828 2.67060382 5.43334262 3.70634405 3.49556094 3.18085632]\n",
      "Interpolated Qe Values: [1.01335823 4.31551542 4.86343423 3.69034112 3.32740056 3.05778172]\n",
      "Interpolated Qe Values: [1.91902789 5.19239671 3.98291121 3.55727662 3.18251315 3.01462116]\n",
      "Interpolated Qe Values: [3.30838527 5.36369982 3.66248712 3.35973818 3.09783609 2.91418799]\n",
      "Interpolated Qe Values: [4.43035305 4.79502825 3.69556634 3.23319051 3.02693378 2.86211373]\n",
      "Interpolated Qe Values: [5.24622981 3.92183577 3.50130678 3.14057861 2.96413438 2.8276577 ]\n",
      "Interpolated Qe Values: [       nan        nan        nan 0.95983291 3.7182128  5.358718  ]\n",
      "Interpolated Qe Values: [       nan 0.08791129 1.06819446 4.40750444 5.14992173 3.67506967]\n",
      "Interpolated Qe Values: [       nan 0.19376827 1.78480962 5.02864321 4.51726983 3.67945197]\n",
      "Interpolated Qe Values: [       nan 0.34027321 2.51854204 5.38153188 3.92017484 3.61623981]\n",
      "Interpolated Qe Values: [       nan 0.48548335 3.13948647 5.38069291 3.70670241 3.51577646]\n",
      "Interpolated Qe Values: [       nan 0.72837835 3.76994455 5.21637306 3.66471139 3.44625549]\n",
      "Interpolated Qe Values: [0.11038325 1.19778304 4.62517125 4.69676461 3.69870247 3.31365972]\n",
      "Interpolated Qe Values: [0.18297263 1.69794244 5.03003632 4.19466021 3.66408364 3.25367246]\n",
      "Interpolated Qe Values: [0.38254821 2.65068233 5.35737977 3.71639808 3.48388407 3.18816953]\n",
      "Interpolated Qe Values: [1.00581085 4.31532187 4.88788618 3.68480506 3.32672106 3.04773338]\n",
      "Interpolated Qe Values: [1.93298128 5.20965361 3.98133973 3.55904668 3.19987432 2.97428224]\n",
      "Interpolated Qe Values: [3.27021784 5.35187563 3.67063179 3.37811622 3.08064843 2.92373546]\n",
      "Interpolated Qe Values: [4.44849624 4.76923611 3.68872007 3.25425337 3.00783853 2.86977204]\n",
      "Interpolated Qe Values: [5.20082406 3.91588395 3.52947704 3.15285344 2.94606403 2.83183564]\n",
      "Interpolated Qe Values: [       nan        nan 0.08570215 0.97656123 3.74453204 5.36091036]\n",
      "Interpolated Qe Values: [       nan 0.09711114 1.05501911 4.33739385 5.17087553 3.65688158]\n",
      "Interpolated Qe Values: [       nan 0.18561536 1.75267581 5.06939634 4.48337707 3.69679655]\n",
      "Interpolated Qe Values: [0.02199821 0.35403581 2.53154804 5.34284347 3.93776092 3.60085111]\n",
      "Interpolated Qe Values: [0.03662803 0.51187778 3.12089628 5.36086884 3.71813156 3.50540369]\n",
      "Interpolated Qe Values: [0.05771672 0.73478061 3.73463629 5.19753936 3.66807125 3.41478814]\n",
      "Interpolated Qe Values: [0.11475159 1.2324248  4.5809878  4.63663023 3.71942359 3.32390697]\n",
      "Interpolated Qe Values: [0.18454607 1.69155168 5.00684734 4.17731089 3.67091904 3.27884304]\n",
      "Interpolated Qe Values: [0.36863812 2.65947424 5.41589417 3.70141426 3.49833331 3.17376425]\n",
      "Interpolated Qe Values: [1.0204937  4.30139072 4.86420257 3.68820016 3.32951463 3.05150391]\n",
      "Interpolated Qe Values: [1.92315219 5.19849893 3.98018399 3.56608884 3.18475199 2.9997588 ]\n",
      "Interpolated Qe Values: [3.30289645 5.35772084 3.65851019 3.35692167 3.10278743 2.92950781]\n",
      "Interpolated Qe Values: [4.42316709 4.78940974 3.70149547 3.23009011 3.01710558 2.85766494]\n",
      "Interpolated Qe Values: [5.23093321 3.92807266 3.51560136 3.14168088 2.937369   2.82740856]\n",
      "Interpolated Qe Values: [       nan        nan 0.07953732 0.95247434 3.72609676 5.35803828]\n",
      "Interpolated Qe Values: [       nan 0.08806441 1.05249816 4.348151   5.15396336 3.66214272]\n",
      "Interpolated Qe Values: [0.01114679 0.18388595 1.76061291 5.06851614 4.49501251 3.70648973]\n",
      "Interpolated Qe Values: [0.02172262 0.32814387 2.51638921 5.35873953 3.93903168 3.61256285]\n",
      "Interpolated Qe Values: [0.03275449 0.50541855 3.11648109 5.3641517  3.72319619 3.50553587]\n",
      "Interpolated Qe Values: [0.05473124 0.73589464 3.73964151 5.20331182 3.6480863  3.42665935]\n",
      "Interpolated Qe Values: [0.12390665 1.18836225 4.58814122 4.65165868 3.70524023 3.33258032]\n",
      "Interpolated Qe Values: [0.19514762 1.66040018 5.00429068 4.19705764 3.65985282 3.26796541]\n"
     ]
    },
    {
     "ename": "KeyboardInterrupt",
     "evalue": "",
     "output_type": "error",
     "traceback": [
      "\u001b[0;31m---------------------------------------------------------------------------\u001b[0m",
      "\u001b[0;31mKeyboardInterrupt\u001b[0m                         Traceback (most recent call last)",
      "Cell \u001b[0;32mIn[137], line 41\u001b[0m\n\u001b[1;32m     39\u001b[0m \u001b[38;5;28;01mfor\u001b[39;00m iwl \u001b[38;5;129;01min\u001b[39;00m \u001b[38;5;28mrange\u001b[39m(\u001b[38;5;28mlen\u001b[39m(opt_prop_sw_array)):\n\u001b[1;32m     40\u001b[0m     \u001b[38;5;28;01mfor\u001b[39;00m irrtm \u001b[38;5;129;01min\u001b[39;00m \u001b[38;5;28mrange\u001b[39m(\u001b[38;5;28mlen\u001b[39m(size_parameter_geometric_diameter_bin)):\n\u001b[0;32m---> 41\u001b[0m         arrayy[irrtm,iwl] \u001b[38;5;241m=\u001b[39m interpolate_bin_size_param_Qe(opt_prop_sw_array, iwl,irrtm)\n\u001b[1;32m     42\u001b[0m interpolate_bin_size_param_Qe(opt_prop_sw_array, \u001b[38;5;241m0\u001b[39m,\u001b[38;5;241m0\u001b[39m)\n",
      "Cell \u001b[0;32mIn[137], line 28\u001b[0m, in \u001b[0;36minterpolate_bin_size_param_Qe\u001b[0;34m(bin_data, iwl, irrtm)\u001b[0m\n\u001b[1;32m     26\u001b[0m \u001b[38;5;66;03m# Interpolate the values using griddata and handle nan values with fill_value\u001b[39;00m\n\u001b[1;32m     27\u001b[0m fill_value \u001b[38;5;241m=\u001b[39m np\u001b[38;5;241m.\u001b[39mnan  \u001b[38;5;66;03m# specify the fill_value for nan\u001b[39;00m\n\u001b[0;32m---> 28\u001b[0m result \u001b[38;5;241m=\u001b[39m griddata((x\u001b[38;5;241m.\u001b[39mflatten(), y\u001b[38;5;241m.\u001b[39mflatten(), z\u001b[38;5;241m.\u001b[39mflatten()), Q_e\u001b[38;5;241m.\u001b[39mflatten(), points, method\u001b[38;5;241m=\u001b[39m\u001b[38;5;124m'\u001b[39m\u001b[38;5;124mlinear\u001b[39m\u001b[38;5;124m'\u001b[39m, fill_value\u001b[38;5;241m=\u001b[39mfill_value)\n\u001b[1;32m     30\u001b[0m \u001b[38;5;66;03m# Reshape the result to match the shape of the input meshgrid\u001b[39;00m\n\u001b[1;32m     31\u001b[0m result \u001b[38;5;241m=\u001b[39m result\u001b[38;5;241m.\u001b[39mreshape(x_interp\u001b[38;5;241m.\u001b[39mshape)\n",
      "File \u001b[0;32m/opt/anaconda3/envs/rrtm_env/lib/python3.11/site-packages/scipy/interpolate/_ndgriddata.py:264\u001b[0m, in \u001b[0;36mgriddata\u001b[0;34m(points, values, xi, method, fill_value, rescale)\u001b[0m\n\u001b[1;32m    262\u001b[0m     \u001b[38;5;28;01mreturn\u001b[39;00m ip(xi)\n\u001b[1;32m    263\u001b[0m \u001b[38;5;28;01melif\u001b[39;00m method \u001b[38;5;241m==\u001b[39m \u001b[38;5;124m'\u001b[39m\u001b[38;5;124mlinear\u001b[39m\u001b[38;5;124m'\u001b[39m:\n\u001b[0;32m--> 264\u001b[0m     ip \u001b[38;5;241m=\u001b[39m LinearNDInterpolator(points, values, fill_value\u001b[38;5;241m=\u001b[39mfill_value,\n\u001b[1;32m    265\u001b[0m                               rescale\u001b[38;5;241m=\u001b[39mrescale)\n\u001b[1;32m    266\u001b[0m     \u001b[38;5;28;01mreturn\u001b[39;00m ip(xi)\n\u001b[1;32m    267\u001b[0m \u001b[38;5;28;01melif\u001b[39;00m method \u001b[38;5;241m==\u001b[39m \u001b[38;5;124m'\u001b[39m\u001b[38;5;124mcubic\u001b[39m\u001b[38;5;124m'\u001b[39m \u001b[38;5;129;01mand\u001b[39;00m ndim \u001b[38;5;241m==\u001b[39m \u001b[38;5;241m2\u001b[39m:\n",
      "File \u001b[0;32minterpnd.pyx:281\u001b[0m, in \u001b[0;36mscipy.interpolate.interpnd.LinearNDInterpolator.__init__\u001b[0;34m()\u001b[0m\n",
      "File \u001b[0;32m_qhull.pyx:1843\u001b[0m, in \u001b[0;36mscipy.spatial._qhull.Delaunay.__init__\u001b[0;34m()\u001b[0m\n",
      "File \u001b[0;32m_qhull.pyx:1548\u001b[0m, in \u001b[0;36mscipy.spatial._qhull._QhullUser.__init__\u001b[0;34m()\u001b[0m\n",
      "File \u001b[0;32m_qhull.pyx:1864\u001b[0m, in \u001b[0;36mscipy.spatial._qhull.Delaunay._update\u001b[0;34m()\u001b[0m\n",
      "File \u001b[0;32m_qhull.pyx:1577\u001b[0m, in \u001b[0;36mscipy.spatial._qhull._QhullUser._update\u001b[0;34m()\u001b[0m\n",
      "File \u001b[0;32m/opt/anaconda3/envs/rrtm_env/lib/python3.11/site-packages/numpy/core/_methods.py:43\u001b[0m, in \u001b[0;36m_amin\u001b[0;34m(a, axis, out, keepdims, initial, where)\u001b[0m\n\u001b[1;32m     39\u001b[0m \u001b[38;5;28;01mdef\u001b[39;00m \u001b[38;5;21m_amax\u001b[39m(a, axis\u001b[38;5;241m=\u001b[39m\u001b[38;5;28;01mNone\u001b[39;00m, out\u001b[38;5;241m=\u001b[39m\u001b[38;5;28;01mNone\u001b[39;00m, keepdims\u001b[38;5;241m=\u001b[39m\u001b[38;5;28;01mFalse\u001b[39;00m,\n\u001b[1;32m     40\u001b[0m           initial\u001b[38;5;241m=\u001b[39m_NoValue, where\u001b[38;5;241m=\u001b[39m\u001b[38;5;28;01mTrue\u001b[39;00m):\n\u001b[1;32m     41\u001b[0m     \u001b[38;5;28;01mreturn\u001b[39;00m umr_maximum(a, axis, \u001b[38;5;28;01mNone\u001b[39;00m, out, keepdims, initial, where)\n\u001b[0;32m---> 43\u001b[0m \u001b[38;5;28;01mdef\u001b[39;00m \u001b[38;5;21m_amin\u001b[39m(a, axis\u001b[38;5;241m=\u001b[39m\u001b[38;5;28;01mNone\u001b[39;00m, out\u001b[38;5;241m=\u001b[39m\u001b[38;5;28;01mNone\u001b[39;00m, keepdims\u001b[38;5;241m=\u001b[39m\u001b[38;5;28;01mFalse\u001b[39;00m,\n\u001b[1;32m     44\u001b[0m           initial\u001b[38;5;241m=\u001b[39m_NoValue, where\u001b[38;5;241m=\u001b[39m\u001b[38;5;28;01mTrue\u001b[39;00m):\n\u001b[1;32m     45\u001b[0m     \u001b[38;5;28;01mreturn\u001b[39;00m umr_minimum(a, axis, \u001b[38;5;28;01mNone\u001b[39;00m, out, keepdims, initial, where)\n\u001b[1;32m     47\u001b[0m \u001b[38;5;28;01mdef\u001b[39;00m \u001b[38;5;21m_sum\u001b[39m(a, axis\u001b[38;5;241m=\u001b[39m\u001b[38;5;28;01mNone\u001b[39;00m, dtype\u001b[38;5;241m=\u001b[39m\u001b[38;5;28;01mNone\u001b[39;00m, out\u001b[38;5;241m=\u001b[39m\u001b[38;5;28;01mNone\u001b[39;00m, keepdims\u001b[38;5;241m=\u001b[39m\u001b[38;5;28;01mFalse\u001b[39;00m,\n\u001b[1;32m     48\u001b[0m          initial\u001b[38;5;241m=\u001b[39m_NoValue, where\u001b[38;5;241m=\u001b[39m\u001b[38;5;28;01mTrue\u001b[39;00m):\n",
      "\u001b[0;31mKeyboardInterrupt\u001b[0m: "
     ]
    }
   ],
   "source": [
    "from scipy.interpolate import griddata \n",
    "\n",
    "def interpolate_bin_size_param_Qe(bin_data, iwl, irrtm):\n",
    "    x = bin_data[iwl][2]  # size parameter\n",
    "    y = bin_data[iwl][3]  # real RI\n",
    "    z = bin_data[iwl][4]  # imaginary RI\n",
    "    Q_e = bin_data[iwl][5]\n",
    "\n",
    "    # Check for nan values and handle them (fill with a specific value, e.g., 0)\n",
    "    x = np.nan_to_num(x, nan=0.0)\n",
    "    y = np.nan_to_num(y, nan=0.0)\n",
    "    z = np.nan_to_num(z, nan=0.0)\n",
    "    Q_e = np.nan_to_num(Q_e, nan=0.0)\n",
    "\n",
    "    # Define points where you want to interpolate\n",
    "    x_interp = size_parameter_geometric_diameter_bin[irrtm]\n",
    "    y_interp = North_African_dust_adebiyi_nr\n",
    "    z_interp = North_African_dust_adebiyi_k\n",
    "\n",
    "    # Create a meshgrid from interpolation points\n",
    "    x_interp, y_interp, z_interp = np.meshgrid(x_interp, y_interp, z_interp, indexing='ij')\n",
    "\n",
    "    # Combine the coordinates into a 2D array of points\n",
    "    points = np.column_stack((x_interp.flatten(), y_interp.flatten(), z_interp.flatten()))\n",
    "\n",
    "    # Interpolate the values using griddata and handle nan values with fill_value\n",
    "    fill_value = np.nan  # specify the fill_value for nan\n",
    "    result = griddata((x.flatten(), y.flatten(), z.flatten()), Q_e.flatten(), points, method='linear', fill_value=fill_value)\n",
    "\n",
    "    # Reshape the result to match the shape of the input meshgrid\n",
    "    result = result.reshape(x_interp.shape)\n",
    "\n",
    "    # Print the interpolated values\n",
    "    print(\"Interpolated Qe Values:\", np.array((result[0][0][0],result[1][0][0],result[2][0][0],result[3][0][0],result[4][0][0],result[5][0][0])))\n",
    "    return np.array((result[0][0][0],result[1][0][0],result[2][0][0],result[3][0][0],result[4][0][0],result[5][0][0]))\n",
    "\n",
    "arrayy = np.zeros((len(opt_prop_sw_array)+1, len(opt_prop_sw_array)), dtype=object)\n",
    "# Example usage\n",
    "for iwl in range(len(opt_prop_sw_array)):\n",
    "    for irrtm in range(len(size_parameter_geometric_diameter_bin)):\n",
    "        arrayy[irrtm,iwl] = interpolate_bin_size_param_Qe(opt_prop_sw_array, iwl,irrtm)\n",
    "#interpolate_bin_size_param_Qe(opt_prop_sw_array, 0,0)"
   ]
  },
  {
   "cell_type": "markdown",
   "id": "c15d35b4-f444-4be4-ad3f-8accd57c217c",
   "metadata": {},
   "source": [
    "# Calculate bulk dust Optical properties for (0W, 18N)"
   ]
  },
  {
   "cell_type": "markdown",
   "id": "51966565-17e3-41bc-9928-4f68b6dad2e1",
   "metadata": {},
   "source": [
    "Reorder dust optical properties so it is in order (Q_e, ssa, g)"
   ]
  },
  {
   "cell_type": "code",
   "execution_count": null,
   "id": "24677810-49f0-462b-a826-93880f19a963",
   "metadata": {
    "tags": []
   },
   "outputs": [],
   "source": [
    "# Calculate and print for each bin\n",
    "all_bins_opt_prop_array = []\n",
    "\n",
    "# Convert the list to a NumPy array\n",
    "all_bins_opt_prop_array = np.array((bin1_opt_prop_interp_size_param_y, bin2_opt_prop_interp_size_param_y, bin3_opt_prop_interp_size_param_y, bin4_opt_prop_interp_size_param_y, bin5_opt_prop_interp_size_param_y, bin6_opt_prop_interp_size_param_y))\n",
    "print(all_bins_opt_prop_array)"
   ]
  },
  {
   "cell_type": "code",
   "execution_count": null,
   "id": "7e01b6c3-b334-4859-9c51-197189a4e936",
   "metadata": {
    "tags": []
   },
   "outputs": [],
   "source": [
    "print(loading_lat_Dustcomm_PM20.shape)\n",
    "print(loading_lon_Dustcomm_PM20.shape)\n",
    "print(mean_loading_Dustcomm_20PM.shape)\n",
    "print(mean_loading_Dustcomm_20PM[0,0,1,2])\n",
    "#dimensions(sizes): source(9), diameter(6), lat(96), lon(144), bin(6)\n",
    "index_0W = []\n",
    "index_18N = []\n",
    "\n",
    "lat_0W = 0\n",
    "lon_18N = 18\n",
    "\n",
    "for ilat in range(0,len(loading_lat_Dustcomm_PM20)):\n",
    "    if np.round(loading_lat_Dustcomm_PM20[ilat]) -1 == lat_0W:\n",
    "        print(loading_lat_Dustcomm_PM20[ilat])\n",
    "        index_0W.append(ilat)\n",
    "\n",
    "for ilon in range(0,len(loading_lon_Dustcomm_PM20)):\n",
    "    if np.round(loading_lon_Dustcomm_PM20[ilon]) == lon_18N: \n",
    "        print(loading_lon_Dustcomm_PM20[ilon])\n",
    "        index_18N.append(ilon)\n",
    "print(index_0W,index_18N)"
   ]
  },
  {
   "cell_type": "code",
   "execution_count": null,
   "id": "6f05297a-ca42-4663-94b8-ab1effad0089",
   "metadata": {
    "tags": []
   },
   "outputs": [],
   "source": [
    "total_North_African_loading = mean_loading_Dustcomm_20PM[:,:,:,0] + mean_loading_Dustcomm_20PM[:,:,:,1] + mean_loading_Dustcomm_20PM[:,:,:,2]\n",
    "Sarahan_laoding = mean_loading_Dustcomm_20PM[:,:,:,0] + mean_loading_Dustcomm_20PM[:,:,:,1]\n",
    "Sahelian_loading = mean_loading_Dustcomm_20PM[:,:,:,2]\n",
    "print(total_North_African_loading.shape)"
   ]
  },
  {
   "cell_type": "code",
   "execution_count": null,
   "id": "baf6399d-f3dd-433b-a539-51715ccc1203",
   "metadata": {
    "tags": []
   },
   "outputs": [],
   "source": [
    "#ρ_d=(2.5±0.2)×10^3 kg m-3 is the globally representative density of dust aerosols (Fratini et al., 2007; Reid et al., 2008; Kaaden et al., 2009; Sow et al., 2009)\n",
    "ρ_d = 2.5e3\n",
    "delta_m_Db = total_North_African_loading[48,78,:]\n",
    "print('delta_m_Db',delta_m_Db)\n",
    "\n",
    "Q_e_bulk_0W_18N_bin_num = np.zeros(6)\n",
    "Q_e_bulk_0W_18N_bin_den = np.zeros(6)\n",
    "SSA_bulk_0W_18N_bin_num = np.zeros(6)\n",
    "SSA_bulk_0W_18N_bin_den = np.zeros(6)\n",
    "Q_scat = np.zeros(6)\n",
    "g_bulk_0W_18N_bin_num = np.zeros(6)\n",
    "g_bulk_0W_18N_bin_den = np.zeros(6)\n",
    "\n",
    "#all_bins_opt_prop_array[i][0] = Q_e of bin i\n",
    "#all_bins_opt_prop_array[i][1] = SSA of bin i\n",
    "#all_bins_opt_prop_array[i][2] = g of bin i\n",
    "\n",
    "for i in range(0,len(all_bins_opt_prop_array)):\n",
    "    Q_e_bulk_0W_18N_bin_num[i] = (delta_m_Db[i]*(np.pi/4)*(mean_geometric_diameter_bin[i]**2)*all_bins_opt_prop_array[i][0])/((np.pi/6)*(mean_geometric_diameter_bin[i]**3)*ρ_d)\n",
    "    Q_e_bulk_0W_18N_bin_den[i] = (delta_m_Db[i]*(np.pi/4)*(mean_geometric_diameter_bin[i]**2))/((np.pi/6)*(mean_geometric_diameter_bin[i]**3)*ρ_d)\n",
    "    \n",
    "    SSA_bulk_0W_18N_bin_num[i] = (delta_m_Db[i]*(np.pi/4)*(mean_geometric_diameter_bin[i]**2)*all_bins_opt_prop_array[i][0]*all_bins_opt_prop_array[i][1])/((np.pi/6)*(mean_geometric_diameter_bin[i]**3)*ρ_d)\n",
    "    SSA_bulk_0W_18N_bin_den[i] = (delta_m_Db[i]*(np.pi/4)*(mean_geometric_diameter_bin[i]**2)*all_bins_opt_prop_array[i][0])/((np.pi/6)*(mean_geometric_diameter_bin[i]**3)*ρ_d)\n",
    "    \n",
    "    Q_scat[i] = all_bins_opt_prop_array[i][1] * all_bins_opt_prop_array[i][0]\n",
    "    \n",
    "    g_bulk_0W_18N_bin_num[i] = (delta_m_Db[i]*(np.pi/4)*(mean_geometric_diameter_bin[i]**2)*Q_scat[i]*all_bins_opt_prop_array[i][2])/((np.pi/6)*(mean_geometric_diameter_bin[i]**3)*ρ_d)\n",
    "    g_bulk_0W_18N_bin_den[i] = (delta_m_Db[i]*(np.pi/4)*(mean_geometric_diameter_bin[i]**2)*Q_scat[i])/((np.pi/6)*(mean_geometric_diameter_bin[i]**3)*ρ_d)\n",
    "    "
   ]
  },
  {
   "cell_type": "code",
   "execution_count": null,
   "id": "465b9733-0880-4024-87f8-7c84c2945453",
   "metadata": {
    "tags": []
   },
   "outputs": [],
   "source": [
    "# Calculate values\n",
    "Q_e_bulk_0W_18N_bulk = np.sum(Q_e_bulk_0W_18N_bin_num) / np.sum(Q_e_bulk_0W_18N_bin_den)\n",
    "SSA_bulk_0W_18N_bulk = np.sum(SSA_bulk_0W_18N_bin_num) / np.sum(SSA_bulk_0W_18N_bin_den)\n",
    "g_bulk_0W_18N_bulk = np.sum(g_bulk_0W_18N_bin_num) / np.sum(g_bulk_0W_18N_bin_den)\n",
    "\n",
    "# Print the values\n",
    "print(\"Q_e_bulk_0W_18N_bulk: \", Q_e_bulk_0W_18N_bulk)\n",
    "print(\"SSA_bulk_0W_18N_bulk: \", SSA_bulk_0W_18N_bulk)\n",
    "print(\"g_bulk_0W_18N_bulk: \", g_bulk_0W_18N_bulk)"
   ]
  },
  {
   "cell_type": "code",
   "execution_count": null,
   "id": "9275b49d-fb11-41ea-bf95-2905e3379da1",
   "metadata": {
    "tags": []
   },
   "outputs": [],
   "source": [
    "def create_if_not_exists(file_path):\n",
    "    if not os.path.exists(file_path):\n",
    "        with open(file_path, 'w') as file:\n",
    "            # You can optionally write initial content to the file\n",
    "            file.write(\"Wavelength\\tQ_e_bulk_0W_18N_bulk\\tSSA_bulk_0W_18N_bulk\\tg_bulk_0W_18N_bulk\\t\" + '\\n')\n",
    "            #file.write(f\"Q_e_bulk_0W_18N_bulk\\t\")\n",
    "            #file.write(f\"SSA_bulk_0W_18N_bulk\\t\")\n",
    "            #file.write(f\"g_bulk_0W_18N_bulk\\t\\n\")\n",
    "        print(f\"File '{file_path}' created.\")\n",
    "    else:\n",
    "        print(f\"File '{file_path}' already exists.\")\n",
    "\n",
    "# Check if dust optical properties txt file already exists\n",
    "file_path1 = 'RRTM_bulk_dust_optical_properties.txt'\n",
    "file_path2 = 'RRTM_bulk_dust_optical_properties_{}.txt'.format(wavelength)\n",
    "create_if_not_exists(file_path1)\n",
    "create_if_not_exists(file_path2)"
   ]
  },
  {
   "cell_type": "code",
   "execution_count": null,
   "id": "a0d24f11-1cc7-4616-9768-da145934ddb3",
   "metadata": {
    "tags": []
   },
   "outputs": [],
   "source": [
    "# Assuming Q_e_bulk_0W_18N_bulk, SSA_bulk_0W_18N_bulk, g_bulk_0W_18N_bulk are numpy arrays\n",
    "\n",
    "# Data to append\n",
    "data_to_append = np.column_stack((wavelength, Q_e_bulk_0W_18N_bulk, SSA_bulk_0W_18N_bulk, g_bulk_0W_18N_bulk))\n",
    "\n",
    "# Open the file in append mode and use np.savetxt to append data\n",
    "with open('bulk_dust_optical_properties_{}.txt'.format(wavelength), 'a') as file:\n",
    "    np.savetxt(file, data_to_append, fmt='%5.3f', delimiter='\\t', header='', comments='')\n",
    "    \n",
    "# Open the file in append mode and use np.savetxt to append data\n",
    "with open('bulk_dust_optical_properties.txt', 'a') as file:\n",
    "    np.savetxt(file, data_to_append, fmt='%5.3f', delimiter='\\t', header='', comments='')"
   ]
  },
  {
   "cell_type": "code",
   "execution_count": null,
   "id": "743b39cb-cda8-48ac-a980-f500984ee568",
   "metadata": {},
   "outputs": [],
   "source": []
  }
 ],
 "metadata": {
  "kernelspec": {
   "display_name": "rrtm_env",
   "language": "python",
   "name": "rrtm_env"
  },
  "language_info": {
   "codemirror_mode": {
    "name": "ipython",
    "version": 3
   },
   "file_extension": ".py",
   "mimetype": "text/x-python",
   "name": "python",
   "nbconvert_exporter": "python",
   "pygments_lexer": "ipython3",
   "version": "3.11.4"
  }
 },
 "nbformat": 4,
 "nbformat_minor": 5
}
