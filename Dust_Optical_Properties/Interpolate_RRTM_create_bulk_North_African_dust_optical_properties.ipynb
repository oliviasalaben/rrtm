{
 "cells": [
  {
   "cell_type": "code",
   "execution_count": 4,
   "id": "07d6c587",
   "metadata": {
    "tags": []
   },
   "outputs": [],
   "source": [
    "import os\n",
    "import numpy as np\n",
    "import pandas as pd\n",
    "from scipy.interpolate import interp1d\n",
    "import sys\n",
    "import math\n",
    "from netCDF4 import Dataset\n",
    "import os, calendar, sys, fnmatch, datetime"
   ]
  },
  {
   "cell_type": "markdown",
   "id": "f01c49b7",
   "metadata": {
    "jupyter": {
     "source_hidden": true
    },
    "tags": []
   },
   "source": [
    "# Load Huang et al. 2023 Ellipsoidal dust optical properties files"
   ]
  },
  {
   "cell_type": "code",
   "execution_count": 29,
   "id": "12b2bf5a-76b6-47d0-aeca-a3b71daf7df7",
   "metadata": {
    "tags": []
   },
   "outputs": [],
   "source": [
    "# ===== Aerosol (e.g., dust) optical properties (i.e., Qext, SSA, g) =====\n",
    "# ***Note: The order of 14 bands is listed in TABLE 1 in RRTM_SW instruction (It is not monotonically increase or decrease)\n",
    "# ***Note: The order of spectral optical properties should be consistent with the order in TABLE 1\n",
    "\n",
    "def process_optical_properties(wavelength_band, txt_files):\n",
    "    wavelength = wavelength_range[wavelength_band]\n",
    "    #print(txt_files[wavelength_band])\n",
    "    opt_prop_sw_original = np.loadtxt(opt_dir + '{}'.format(txt_files[wavelength_band]))\n",
    "    #print(opt_prop_sw_original.shape)\n",
    "\n",
    "    wl = np.array(opt_prop_sw_original[:, 0][:])\n",
    "    dust_d = np.array(opt_prop_sw_original[:, 1][:])\n",
    "    size_parameter = np.pi * dust_d / wl #f'size_parameter_{wavelength:.4f}': size_parameter,\n",
    "    n_RI = np.array(opt_prop_sw_original[:, 2][:])\n",
    "    k_RI = np.array(opt_prop_sw_original[:, 3][:])\n",
    "    \n",
    "    qe_dust_sw = opt_prop_sw_original[:, 4]\n",
    "    ssa_dust_sw = opt_prop_sw_original[:, 5]\n",
    "    g_dust_sw = opt_prop_sw_original[:, 6]\n",
    "\n",
    "    # Create variable names dynamically\n",
    "    variables = {\n",
    "        f'wl_{wavelength:.4f}': wl,\n",
    "        f'dust_d_{wavelength:.4f}': dust_d,\n",
    "        f'size_parameter_{wavelength:.4f}': size_parameter,\n",
    "        f'n_RI_{wavelength:.4f}': n_RI,\n",
    "        f'k_RI_{wavelength:.4f}': k_RI,\n",
    "        f'qe_dust_sw_{wavelength:.4f}': qe_dust_sw,\n",
    "        f'ssa_dust_sw_{wavelength:.4f}': ssa_dust_sw,\n",
    "        f'g_dust_sw_{wavelength:.4f}': g_dust_sw,\n",
    "    }\n",
    "    return np.array((wl,dust_d,size_parameter,n_RI,k_RI,qe_dust_sw,ssa_dust_sw,g_dust_sw)) #variables\n"
   ]
  },
  {
   "cell_type": "code",
   "execution_count": 30,
   "id": "f0fb753a-937e-4661-996e-5d5d7c71d25e",
   "metadata": {
    "tags": []
   },
   "outputs": [],
   "source": [
    "# Wavelength range and files\n",
    "opt_dir = 'SW_Huang_Dust_Optics/'\n",
    "wavelength_range = [0.35, 0.55, 0.75, 0.95, 2, 4, 6, 8, 10, 12, 14, 16, 35]\n",
    "Huang_2023_dust_opt_prop_txt_files = ['shapein_TAMU_0.3500.txt', 'shapein_TAMU_0.5500.txt', 'shapein_TAMU_0.7500.txt', 'shapein_TAMU_0.9500.txt', 'shapein_TAMU_2.0000.txt', 'shapein_TAMU_4.0000.txt', 'shapein_TAMU_6.0000.txt', 'shapein_TAMU_8.0000.txt', 'shapein_TAMU_10.0000.txt', 'shapein_TAMU_12.0000.txt', 'shapein_TAMU_14.0000.txt', 'shapein_TAMU_16.0000.txt', 'shapein_TAMU_35.0000.txt']\n",
    "\n",
    "# Array to store results\n",
    "opt_prop_sw_array = np.empty((len(wavelength_range),), dtype=object)\n",
    "\n",
    "# Process optical properties for each wavelength band\n",
    "for i in range(len(wavelength_range)):\n",
    "    opt_prop_sw = process_optical_properties(i, Huang_2023_dust_opt_prop_txt_files)\n",
    "    opt_prop_sw_array[i] = opt_prop_sw"
   ]
  },
  {
   "cell_type": "code",
   "execution_count": 32,
   "id": "bc62e150-408c-4060-8daa-637875d4f10a",
   "metadata": {},
   "outputs": [
    {
     "name": "stdout",
     "output_type": "stream",
     "text": [
      "(8, 14400)\n"
     ]
    }
   ],
   "source": [
    "print(opt_prop_sw_array[0].shape)"
   ]
  },
  {
   "cell_type": "markdown",
   "id": "912f2506",
   "metadata": {},
   "source": [
    "# Calculate DustCOMM mean geometric diamater of each bin"
   ]
  },
  {
   "cell_type": "code",
   "execution_count": 8,
   "id": "f2526a33",
   "metadata": {
    "tags": []
   },
   "outputs": [
    {
     "name": "stdout",
     "output_type": "stream",
     "text": [
      "<class 'netCDF4._netCDF4.Dataset'>\n",
      "root group (NETCDF4_CLASSIC data model, file format HDF5):\n",
      "    dimensions(sizes): source(9), diameter(6), lat(96), lon(144), bin(6)\n",
      "    variables(dimensions): float64 source(source), float64 bin_D_lower(diameter), float64 bin_D_upper(diameter), float64 lat(lat), float64 lon(lon), float64 Median(lat, lon, bin, source), float64 Mean(lat, lon, bin, source), float64 Neg1sigma(lat, lon, bin, source), float64 Pos1sigman(lat, lon, bin, source), float64 Neg2sigma(lat, lon, bin, source), float64 Pos2sigma(lat, lon, bin, source)\n",
      "    groups: \n"
     ]
    }
   ],
   "source": [
    "#----------\n",
    "# using DustCOMM 2021 papers b) https://dustcomm.atmos.ucla.edu/\n",
    "# specifically https://dustcomm.atmos.ucla.edu/data/K21b/ dataset DustCOMM_source_region_DAOD_seas_bin_abs.nc\n",
    "# assumes aspherical dust shape, PM20 dust\n",
    "#----------\n",
    "\n",
    "daod_Dustcomm_PM20_Dataset = Dataset('DustCOMM_source_region_DAOD_annual_bin_abs.nc')\n",
    "print(daod_Dustcomm_PM20_Dataset) #[season,source,diameter,lat,lon,bin]\n",
    "\n",
    "lat_Dustcomm_PM20 = np.array(daod_Dustcomm_PM20_Dataset.variables['lat'][:])\n",
    "lon_Dustcomm_PM20 = np.array(daod_Dustcomm_PM20_Dataset.variables['lon'][:])\n",
    "mean_Daod_Dustcomm_20PM = np.array(daod_Dustcomm_PM20_Dataset.variables['Mean'][:])\n",
    "#dustcomm_seas = np.array(daod_Dustcomm_PM20_Dataset.variables['season'][:])\n",
    "dustcomm_Sources_PM20 = np.array(daod_Dustcomm_PM20_Dataset.variables['source'][:]) \n",
    "dustcomm_bin_lower = np.array(daod_Dustcomm_PM20_Dataset.variables['bin_D_lower'][:])\n",
    "dustcomm_bin_upper = np.array(daod_Dustcomm_PM20_Dataset.variables['bin_D_upper'][:])"
   ]
  },
  {
   "cell_type": "code",
   "execution_count": 9,
   "id": "b6e21893-7a30-4397-a160-32c2c8414320",
   "metadata": {
    "tags": []
   },
   "outputs": [
    {
     "name": "stdout",
     "output_type": "stream",
     "text": [
      "<class 'netCDF4._netCDF4.Dataset'>\n",
      "root group (NETCDF4_CLASSIC data model, file format HDF5):\n",
      "    dimensions(sizes): source(9), diameter(6), lat(96), lon(144), bin(6)\n",
      "    variables(dimensions): float64 source(source), float64 bin_D_lower(diameter), float64 bin_D_upper(diameter), float64 lat(lat), float64 lon(lon), float64 Median(lat, lon, bin, source), float64 Mean(lat, lon, bin, source), float64 Neg1sigma(lat, lon, bin, source), float64 Pos1sigman(lat, lon, bin, source), float64 Neg2sigma(lat, lon, bin, source), float64 Pos2sigma(lat, lon, bin, source)\n",
      "    groups: \n"
     ]
    }
   ],
   "source": [
    "#----------\n",
    "# using DustCOMM 2021 papers b) https://dustcomm.atmos.ucla.edu/\n",
    "# specifically https://dustcomm.atmos.ucla.edu/data/K21b/ dataset DustCOMM_source_region_DAOD_seas_bin_abs.nc\n",
    "# assumes aspherical dust shape, PM20 dust\n",
    "#----------\n",
    "\n",
    "loading_Dustcomm_PM20_Dataset = Dataset('DustCOMM_source_region_dust_loading_annual_bin_abs.nc')\n",
    "print(loading_Dustcomm_PM20_Dataset) #[season,source,diameter,lat,lon,bin]\n",
    "\n",
    "loading_lat_Dustcomm_PM20 = np.array(loading_Dustcomm_PM20_Dataset.variables['lat'][:])\n",
    "loading_lon_Dustcomm_PM20 = np.array(loading_Dustcomm_PM20_Dataset.variables['lon'][:])\n",
    "mean_loading_Dustcomm_20PM = np.array(loading_Dustcomm_PM20_Dataset.variables['Mean'][:])\n",
    "#dustcomm_seas = np.array(daod_Dustcomm_PM20_Dataset.variables['season'][:])\n",
    "loading_dustcomm_Sources_PM20 = np.array(loading_Dustcomm_PM20_Dataset.variables['source'][:]) \n",
    "loading_dustcomm_bin_lower = np.array(loading_Dustcomm_PM20_Dataset.variables['bin_D_lower'][:])\n",
    "loading_dustcomm_bin_upper = np.array(loading_Dustcomm_PM20_Dataset.variables['bin_D_upper'][:])"
   ]
  },
  {
   "cell_type": "code",
   "execution_count": 10,
   "id": "c4dc8610",
   "metadata": {},
   "outputs": [
    {
     "name": "stdout",
     "output_type": "stream",
     "text": [
      "[ 0.2  0.5  1.   2.5  5.  10. ]\n",
      "[ 0.5  1.   2.5  5.  10.  20. ]\n"
     ]
    }
   ],
   "source": [
    "print(dustcomm_bin_lower)\n",
    "print(dustcomm_bin_upper)"
   ]
  },
  {
   "cell_type": "code",
   "execution_count": 11,
   "id": "dafdd644",
   "metadata": {
    "tags": []
   },
   "outputs": [],
   "source": [
    "mean_geometric_diameter_bin = np.sqrt(dustcomm_bin_lower*dustcomm_bin_upper)"
   ]
  },
  {
   "cell_type": "code",
   "execution_count": 12,
   "id": "847f93bc",
   "metadata": {
    "tags": []
   },
   "outputs": [
    {
     "name": "stdout",
     "output_type": "stream",
     "text": [
      "[ 0.31622777  0.70710678  1.58113883  3.53553391  7.07106781 14.14213562]\n"
     ]
    }
   ],
   "source": [
    "print(mean_geometric_diameter_bin)"
   ]
  },
  {
   "cell_type": "markdown",
   "id": "4cbed0f8",
   "metadata": {},
   "source": [
    "# Interpolate  Huang et al. 2023 size parameter and dust optical properties that best match Adebiyi RI's, and DustCOMM size parameter of each bin"
   ]
  },
  {
   "cell_type": "code",
   "execution_count": 13,
   "id": "f5f86f42",
   "metadata": {
    "tags": []
   },
   "outputs": [],
   "source": [
    "#grid_box = [0,18] #0W, 18N\n",
    "North_African_dust_adebiyi_k = [0.0012,0.0012,0.0012,0.0012,0.0012,0.0012]\n",
    "North_African_dust_adebiyi_nr = [1.51,1.51,1.51,1.51,1.51,1.51]"
   ]
  },
  {
   "cell_type": "markdown",
   "id": "54e6578d",
   "metadata": {},
   "source": [
    "use DustCOMM Saharan and Sahelian dust partition in a grid box, in the DAOD. sum the two sahara sources, to calculate my own spatially resolved RI (Later)"
   ]
  },
  {
   "cell_type": "markdown",
   "id": "33d95dbc",
   "metadata": {},
   "source": [
    "match_d_opt_prop_sw = []\n",
    "match_n_RI_opt_prop_sw = []\n",
    "match_k_RI_opt_prop_sw = []\n",
    "n_RI_index = []\n",
    "k_RI_index = []North African dust has a mean imaginary refractive index at 550 nm wavelength of 0.0012 (one standard error range of 0.0009–0.0016\n",
    "and a real dust refractive index, nr = 1.51 ± 0.03 (which is the same for Sahara and Sahel) (Di Biagio et al. 2019)\n",
    "We assume that RI is constant across particle size (Adebiyi et al. 2023, Obiso et al. 2023)"
   ]
  },
  {
   "cell_type": "code",
   "execution_count": 41,
   "id": "64fe8cc2-4ad1-4e9f-b1fa-f238f3e24336",
   "metadata": {},
   "outputs": [],
   "source": [
    "# RRTM SW bands - average wavelength of each band (in RRTM order)\n",
    "RRTM_SW_bands = [3.4615, 2.7885, 2.3255, 2.0465, 1.784, 1.4625, 1.2705, 1.01, 0.7015, 0.5335, 0.3935, 0.304, 0.2315, 8.0205]\n",
    "RRTM_SW_bands_sorted = np.sort(RRTM_SW_bands)"
   ]
  },
  {
   "cell_type": "markdown",
   "id": "4d86460d-8df4-422c-bdc4-740119fd3896",
   "metadata": {},
   "source": [
    "Meeting Notes 1/4/24:\n",
    "\n",
    "Look at how solar zenith angle variation effects \"DRE\" (difference between the two fluxes)\n",
    "Send Jasper bulk dust optical properties by end of day tomorrow (plus text file)\n",
    "write script to run SW RRTM for different solar zenith angles"
   ]
  },
  {
   "cell_type": "code",
   "execution_count": 47,
   "id": "f52ceaa3-12ac-480f-89e7-fe77c6d9ad6e",
   "metadata": {
    "tags": []
   },
   "outputs": [
    {
     "name": "stdout",
     "output_type": "stream",
     "text": [
      "[array([ 0.28700241,  0.64175689,  1.43501203,  3.20878444,  6.41756888,\n",
      "        12.83513777])\n",
      " array([ 0.35626998,  0.79664388,  1.78134988,  3.98321942,  7.96643883,\n",
      "        15.93287767])\n",
      " array([ 0.42720225,  0.95525327,  2.13601124,  4.77626633,  9.55253266,\n",
      "        19.10506531])\n",
      " array([ 0.48544287,  1.08548325,  2.42721433,  5.42741625, 10.85483249,\n",
      "        21.70966498])\n",
      " array([ 0.55687154,  1.24520262,  2.7843577 ,  6.22601309, 12.45202617,\n",
      "        24.90405234])\n",
      " array([ 0.67928809,  1.51893434,  3.39644043,  7.59467169, 15.18934338,\n",
      "        30.37868676])\n",
      " array([ 0.78194319,  1.74847813,  3.90971596,  8.74239067, 17.48478134,\n",
      "        34.96956268])\n",
      " array([ 0.9836226 ,  2.199447  ,  4.918113  , 10.997235  , 21.99446999,\n",
      "        43.98893998])\n",
      " array([ 1.4161922 ,  3.16670202,  7.08096099, 15.83351011, 31.66702023,\n",
      "        63.33404046])\n",
      " array([ 1.86215338,  4.16390154,  9.31076688, 20.81950768, 41.63901535,\n",
      "        83.27803071])\n",
      " array([  2.524673  ,   5.64534046,  12.62336501,  28.22670228,\n",
      "         56.45340455, 112.9068091 ])\n",
      " array([  3.26795667,   7.30737325,  16.33978333,  36.53686627,\n",
      "         73.07373254, 146.14746507])\n",
      " array([  4.29139882,   9.59585948,  21.45699409,  47.97929739,\n",
      "         95.95859478, 191.91718955])                           ]\n"
     ]
    }
   ],
   "source": [
    "size_parameter_geometric_diameter_bin = np.zeros(len(opt_prop_sw_array), dtype=object)\n",
    "\n",
    "for iwl in range(len(opt_prop_sw_array)):\n",
    "    size_parameter_geometric_diameter_bin[iwl] = np.pi*mean_geometric_diameter_bin/RRTM_SW_bands[iwl] #not sorted, in RRTM order\n",
    "print(size_parameter_geometric_diameter_bin)"
   ]
  },
  {
   "cell_type": "markdown",
   "id": "d58a1d67-c093-41cb-bab5-f31e17186000",
   "metadata": {},
   "source": [
    "## 1/22/24 Interpolate for each dust optical property"
   ]
  },
  {
   "cell_type": "code",
   "execution_count": 48,
   "id": "af05ded5-f0b9-416f-8fca-aeb1f2ac850f",
   "metadata": {},
   "outputs": [],
   "source": [
    "from scipy.interpolate import RegularGridInterpolator"
   ]
  },
  {
   "cell_type": "code",
   "execution_count": 60,
   "id": "2d59209e-2e72-4d73-91da-178d6adf211d",
   "metadata": {},
   "outputs": [
    {
     "data": {
      "text/plain": [
       "array([  0.8975979 ,   0.91824265,   0.939785  , ..., 606.3462317 ,\n",
       "       617.23499184, 628.31853072])"
      ]
     },
     "execution_count": 60,
     "metadata": {},
     "output_type": "execute_result"
    }
   ],
   "source": [
    "opt_prop_sw_array[0][2]"
   ]
  },
  {
   "cell_type": "code",
   "execution_count": 61,
   "id": "6e7b6131-9e84-4791-af4d-63590a88875a",
   "metadata": {},
   "outputs": [
    {
     "data": {
      "text/plain": [
       "array([ 0.28700241,  0.64175689,  1.43501203,  3.20878444,  6.41756888,\n",
       "       12.83513777])"
      ]
     },
     "execution_count": 61,
     "metadata": {},
     "output_type": "execute_result"
    }
   ],
   "source": [
    "size_parameter_geometric_diameter_bin[0]"
   ]
  },
  {
   "cell_type": "code",
   "execution_count": 56,
   "id": "bdd72766-c50b-4c08-b7a0-1b03a5277a30",
   "metadata": {
    "tags": []
   },
   "outputs": [
    {
     "ename": "ValueError",
     "evalue": "The points in dimension 0 must be strictly ascending or descending",
     "output_type": "error",
     "traceback": [
      "\u001b[0;31m---------------------------------------------------------------------------\u001b[0m",
      "\u001b[0;31mValueError\u001b[0m                                Traceback (most recent call last)",
      "Cell \u001b[0;32mIn[56], line 40\u001b[0m\n\u001b[1;32m     37\u001b[0m     \u001b[38;5;28;01mreturn\u001b[39;00m result\n\u001b[1;32m     39\u001b[0m \u001b[38;5;28;01mfor\u001b[39;00m iwl \u001b[38;5;129;01min\u001b[39;00m \u001b[38;5;28mrange\u001b[39m(\u001b[38;5;28mlen\u001b[39m(opt_prop_sw_array)):\n\u001b[0;32m---> 40\u001b[0m     interpolate_bin_size_param_Qe(opt_prop_sw_array,iwl)\n",
      "Cell \u001b[0;32mIn[56], line 16\u001b[0m, in \u001b[0;36minterpolate_bin_size_param_Qe\u001b[0;34m(bin_data, iwl)\u001b[0m\n\u001b[1;32m     13\u001b[0m z_sorted \u001b[38;5;241m=\u001b[39m z[sort_indices]\n\u001b[1;32m     15\u001b[0m \u001b[38;5;66;03m# Create the interpolator\u001b[39;00m\n\u001b[0;32m---> 16\u001b[0m interpolator \u001b[38;5;241m=\u001b[39m RegularGridInterpolator((x_sorted, y_sorted, z_sorted), Q_e[sort_indices])\n\u001b[1;32m     18\u001b[0m \u001b[38;5;66;03m# Define points where you want to interpolate\u001b[39;00m\n\u001b[1;32m     19\u001b[0m x_interp \u001b[38;5;241m=\u001b[39m size_parameter_geometric_diameter_bin[iwl] \u001b[38;5;66;03m#1[bin_number-1]\u001b[39;00m\n",
      "File \u001b[0;32m/opt/anaconda3/envs/rrtm_env/lib/python3.11/site-packages/scipy/interpolate/_rgi.py:240\u001b[0m, in \u001b[0;36mRegularGridInterpolator.__init__\u001b[0;34m(self, points, values, method, bounds_error, fill_value)\u001b[0m\n\u001b[1;32m    238\u001b[0m \u001b[38;5;28mself\u001b[39m\u001b[38;5;241m.\u001b[39mmethod \u001b[38;5;241m=\u001b[39m method\n\u001b[1;32m    239\u001b[0m \u001b[38;5;28mself\u001b[39m\u001b[38;5;241m.\u001b[39mbounds_error \u001b[38;5;241m=\u001b[39m bounds_error\n\u001b[0;32m--> 240\u001b[0m \u001b[38;5;28mself\u001b[39m\u001b[38;5;241m.\u001b[39mgrid, \u001b[38;5;28mself\u001b[39m\u001b[38;5;241m.\u001b[39m_descending_dimensions \u001b[38;5;241m=\u001b[39m _check_points(points)\n\u001b[1;32m    241\u001b[0m \u001b[38;5;28mself\u001b[39m\u001b[38;5;241m.\u001b[39mvalues \u001b[38;5;241m=\u001b[39m \u001b[38;5;28mself\u001b[39m\u001b[38;5;241m.\u001b[39m_check_values(values)\n\u001b[1;32m    242\u001b[0m \u001b[38;5;28mself\u001b[39m\u001b[38;5;241m.\u001b[39m_check_dimensionality(\u001b[38;5;28mself\u001b[39m\u001b[38;5;241m.\u001b[39mgrid, \u001b[38;5;28mself\u001b[39m\u001b[38;5;241m.\u001b[39mvalues)\n",
      "File \u001b[0;32m/opt/anaconda3/envs/rrtm_env/lib/python3.11/site-packages/scipy/interpolate/_rgi.py:27\u001b[0m, in \u001b[0;36m_check_points\u001b[0;34m(points)\u001b[0m\n\u001b[1;32m     25\u001b[0m         p \u001b[38;5;241m=\u001b[39m np\u001b[38;5;241m.\u001b[39mflip(p)\n\u001b[1;32m     26\u001b[0m     \u001b[38;5;28;01melse\u001b[39;00m:\n\u001b[0;32m---> 27\u001b[0m         \u001b[38;5;28;01mraise\u001b[39;00m \u001b[38;5;167;01mValueError\u001b[39;00m(\n\u001b[1;32m     28\u001b[0m             \u001b[38;5;124m\"\u001b[39m\u001b[38;5;124mThe points in dimension \u001b[39m\u001b[38;5;132;01m%d\u001b[39;00m\u001b[38;5;124m must be strictly \u001b[39m\u001b[38;5;124m\"\u001b[39m\n\u001b[1;32m     29\u001b[0m             \u001b[38;5;124m\"\u001b[39m\u001b[38;5;124mascending or descending\u001b[39m\u001b[38;5;124m\"\u001b[39m \u001b[38;5;241m%\u001b[39m i)\n\u001b[1;32m     30\u001b[0m \u001b[38;5;66;03m# see https://github.com/scipy/scipy/issues/17716\u001b[39;00m\n\u001b[1;32m     31\u001b[0m p \u001b[38;5;241m=\u001b[39m np\u001b[38;5;241m.\u001b[39mascontiguousarray(p)\n",
      "\u001b[0;31mValueError\u001b[0m: The points in dimension 0 must be strictly ascending or descending"
     ]
    }
   ],
   "source": [
    "def interpolate_bin_size_param_Qe(bin_data, iwl):\n",
    "    x = bin_data[iwl][2] #size parameter\n",
    "    y = bin_data[iwl][3] #real RI\n",
    "    z = bin_data[iwl][4] #imaginary RI)\n",
    "    #Yue_dust_optical_properties_bin = np.array([bin_data[iwl][5], bin_data[iwl][6], bin_data[iwl][7]]) #(Q_e, SSA, g)\n",
    "    Q_e = bin_data[iwl][5]\n",
    "\n",
    "    # Sort the x values\n",
    "    sort_indices = np.argsort(x)\n",
    "    x_sorted = x[sort_indices]\n",
    "    y_sorted = y[sort_indices]\n",
    "    z_sorted = z[sort_indices]\n",
    "    \n",
    "    # Create the interpolator\n",
    "    interpolator = RegularGridInterpolator((x_sorted, y_sorted, z_sorted), Q_e[sort_indices])\n",
    "\n",
    "    # Define points where you want to interpolate\n",
    "    x_interp = size_parameter_geometric_diameter_bin[iwl] #1[bin_number-1]\n",
    "    y_interp = North_African_dust_adebiyi_nr\n",
    "    z_interp = North_African_dust_adebiyi_k\n",
    "    \n",
    "    # Combine the coordinates into a list of points\n",
    "    points = np.array([[x_interp, y_interp, z_interp]])\n",
    "\n",
    "    # Interpolate the values\n",
    "    result = interpolator(points)\n",
    "    \n",
    "    # Restore the original order of x,y,z\n",
    "    original_order_y = np.argsort(x_sorted)\n",
    "    y_interp_original_order = y_interp[original_order_y]\n",
    "    x_interp_original_order = x_interp[original_order_y]\n",
    "    z_interp_original_order = z_interp[original_order_y]\n",
    "\n",
    "    # Print the interpolated values\n",
    "    print(\"Interpolated Values:\", result)\n",
    "    return result\n",
    "\n",
    "for iwl in range(len(opt_prop_sw_array)):\n",
    "    interpolate_bin_size_param_Qe(opt_prop_sw_array,iwl)"
   ]
  },
  {
   "cell_type": "code",
   "execution_count": 53,
   "id": "5bdc2a5b-d7bc-4349-8d60-034d2fb187ed",
   "metadata": {},
   "outputs": [
    {
     "ename": "IndexError",
     "evalue": "too many indices for array: array is 0-dimensional, but 1 were indexed",
     "output_type": "error",
     "traceback": [
      "\u001b[0;31m---------------------------------------------------------------------------\u001b[0m",
      "\u001b[0;31mIndexError\u001b[0m                                Traceback (most recent call last)",
      "Cell \u001b[0;32mIn[53], line 2\u001b[0m\n\u001b[1;32m      1\u001b[0m \u001b[38;5;28;01mfor\u001b[39;00m iwl \u001b[38;5;129;01min\u001b[39;00m \u001b[38;5;28mrange\u001b[39m(\u001b[38;5;28mlen\u001b[39m(opt_prop_sw_array)):\n\u001b[0;32m----> 2\u001b[0m     interpolate_bin_size_param_Qe(opt_prop_sw_array[iwl],iwl)\n",
      "Cell \u001b[0;32mIn[52], line 10\u001b[0m, in \u001b[0;36minterpolate_bin_size_param_Qe\u001b[0;34m(bin_data, iwl)\u001b[0m\n\u001b[1;32m      7\u001b[0m Q_e \u001b[38;5;241m=\u001b[39m bin_data[iwl][\u001b[38;5;241m5\u001b[39m]\n\u001b[1;32m      9\u001b[0m \u001b[38;5;66;03m# Create the interpolator\u001b[39;00m\n\u001b[0;32m---> 10\u001b[0m interpolator \u001b[38;5;241m=\u001b[39m RegularGridInterpolator((x, y, z), Q_e)\n\u001b[1;32m     12\u001b[0m \u001b[38;5;66;03m# Define points where you want to interpolate\u001b[39;00m\n\u001b[1;32m     13\u001b[0m x_interp \u001b[38;5;241m=\u001b[39m size_parameter_geometric_diameter_bin[iwl] \u001b[38;5;66;03m#1[bin_number-1]\u001b[39;00m\n",
      "File \u001b[0;32m/opt/anaconda3/envs/rrtm_env/lib/python3.11/site-packages/scipy/interpolate/_rgi.py:240\u001b[0m, in \u001b[0;36mRegularGridInterpolator.__init__\u001b[0;34m(self, points, values, method, bounds_error, fill_value)\u001b[0m\n\u001b[1;32m    238\u001b[0m \u001b[38;5;28mself\u001b[39m\u001b[38;5;241m.\u001b[39mmethod \u001b[38;5;241m=\u001b[39m method\n\u001b[1;32m    239\u001b[0m \u001b[38;5;28mself\u001b[39m\u001b[38;5;241m.\u001b[39mbounds_error \u001b[38;5;241m=\u001b[39m bounds_error\n\u001b[0;32m--> 240\u001b[0m \u001b[38;5;28mself\u001b[39m\u001b[38;5;241m.\u001b[39mgrid, \u001b[38;5;28mself\u001b[39m\u001b[38;5;241m.\u001b[39m_descending_dimensions \u001b[38;5;241m=\u001b[39m _check_points(points)\n\u001b[1;32m    241\u001b[0m \u001b[38;5;28mself\u001b[39m\u001b[38;5;241m.\u001b[39mvalues \u001b[38;5;241m=\u001b[39m \u001b[38;5;28mself\u001b[39m\u001b[38;5;241m.\u001b[39m_check_values(values)\n\u001b[1;32m    242\u001b[0m \u001b[38;5;28mself\u001b[39m\u001b[38;5;241m.\u001b[39m_check_dimensionality(\u001b[38;5;28mself\u001b[39m\u001b[38;5;241m.\u001b[39mgrid, \u001b[38;5;28mself\u001b[39m\u001b[38;5;241m.\u001b[39mvalues)\n",
      "File \u001b[0;32m/opt/anaconda3/envs/rrtm_env/lib/python3.11/site-packages/scipy/interpolate/_rgi.py:21\u001b[0m, in \u001b[0;36m_check_points\u001b[0;34m(points)\u001b[0m\n\u001b[1;32m     17\u001b[0m \u001b[38;5;28;01mfor\u001b[39;00m i, p \u001b[38;5;129;01min\u001b[39;00m \u001b[38;5;28menumerate\u001b[39m(points):\n\u001b[1;32m     18\u001b[0m     \u001b[38;5;66;03m# early make points float\u001b[39;00m\n\u001b[1;32m     19\u001b[0m     \u001b[38;5;66;03m# see https://github.com/scipy/scipy/pull/17230\u001b[39;00m\n\u001b[1;32m     20\u001b[0m     p \u001b[38;5;241m=\u001b[39m np\u001b[38;5;241m.\u001b[39masarray(p, dtype\u001b[38;5;241m=\u001b[39m\u001b[38;5;28mfloat\u001b[39m)\n\u001b[0;32m---> 21\u001b[0m     \u001b[38;5;28;01mif\u001b[39;00m \u001b[38;5;129;01mnot\u001b[39;00m np\u001b[38;5;241m.\u001b[39mall(p[\u001b[38;5;241m1\u001b[39m:] \u001b[38;5;241m>\u001b[39m p[:\u001b[38;5;241m-\u001b[39m\u001b[38;5;241m1\u001b[39m]):\n\u001b[1;32m     22\u001b[0m         \u001b[38;5;28;01mif\u001b[39;00m np\u001b[38;5;241m.\u001b[39mall(p[\u001b[38;5;241m1\u001b[39m:] \u001b[38;5;241m<\u001b[39m p[:\u001b[38;5;241m-\u001b[39m\u001b[38;5;241m1\u001b[39m]):\n\u001b[1;32m     23\u001b[0m             \u001b[38;5;66;03m# input is descending, so make it ascending\u001b[39;00m\n\u001b[1;32m     24\u001b[0m             descending_dimensions\u001b[38;5;241m.\u001b[39mappend(i)\n",
      "\u001b[0;31mIndexError\u001b[0m: too many indices for array: array is 0-dimensional, but 1 were indexed"
     ]
    }
   ],
   "source": [
    "for iwl in range(len(opt_prop_sw_array)):\n",
    "    interpolate_bin_size_param_Qe(opt_prop_sw_array[iwl],iwl)"
   ]
  },
  {
   "cell_type": "markdown",
   "id": "c15d35b4-f444-4be4-ad3f-8accd57c217c",
   "metadata": {},
   "source": [
    "# Calculate bulk dust Optical properties for (0W, 18N)"
   ]
  },
  {
   "cell_type": "markdown",
   "id": "51966565-17e3-41bc-9928-4f68b6dad2e1",
   "metadata": {},
   "source": [
    "Reorder dust optical properties so it is in order (Q_e, ssa, g)"
   ]
  },
  {
   "cell_type": "code",
   "execution_count": null,
   "id": "24677810-49f0-462b-a826-93880f19a963",
   "metadata": {
    "tags": []
   },
   "outputs": [],
   "source": [
    "# Calculate and print for each bin\n",
    "all_bins_opt_prop_array = []\n",
    "\n",
    "# Convert the list to a NumPy array\n",
    "all_bins_opt_prop_array = np.array((bin1_opt_prop_interp_size_param_y, bin2_opt_prop_interp_size_param_y, bin3_opt_prop_interp_size_param_y, bin4_opt_prop_interp_size_param_y, bin5_opt_prop_interp_size_param_y, bin6_opt_prop_interp_size_param_y))\n",
    "print(all_bins_opt_prop_array)"
   ]
  },
  {
   "cell_type": "code",
   "execution_count": null,
   "id": "7e01b6c3-b334-4859-9c51-197189a4e936",
   "metadata": {
    "tags": []
   },
   "outputs": [],
   "source": [
    "print(loading_lat_Dustcomm_PM20.shape)\n",
    "print(loading_lon_Dustcomm_PM20.shape)\n",
    "print(mean_loading_Dustcomm_20PM.shape)\n",
    "print(mean_loading_Dustcomm_20PM[0,0,1,2])\n",
    "#dimensions(sizes): source(9), diameter(6), lat(96), lon(144), bin(6)\n",
    "index_0W = []\n",
    "index_18N = []\n",
    "\n",
    "lat_0W = 0\n",
    "lon_18N = 18\n",
    "\n",
    "for ilat in range(0,len(loading_lat_Dustcomm_PM20)):\n",
    "    if np.round(loading_lat_Dustcomm_PM20[ilat]) -1 == lat_0W:\n",
    "        print(loading_lat_Dustcomm_PM20[ilat])\n",
    "        index_0W.append(ilat)\n",
    "\n",
    "for ilon in range(0,len(loading_lon_Dustcomm_PM20)):\n",
    "    if np.round(loading_lon_Dustcomm_PM20[ilon]) == lon_18N: \n",
    "        print(loading_lon_Dustcomm_PM20[ilon])\n",
    "        index_18N.append(ilon)\n",
    "print(index_0W,index_18N)"
   ]
  },
  {
   "cell_type": "code",
   "execution_count": null,
   "id": "6f05297a-ca42-4663-94b8-ab1effad0089",
   "metadata": {
    "tags": []
   },
   "outputs": [],
   "source": [
    "total_North_African_loading = mean_loading_Dustcomm_20PM[:,:,:,0] + mean_loading_Dustcomm_20PM[:,:,:,1] + mean_loading_Dustcomm_20PM[:,:,:,2]\n",
    "Sarahan_laoding = mean_loading_Dustcomm_20PM[:,:,:,0] + mean_loading_Dustcomm_20PM[:,:,:,1]\n",
    "Sahelian_loading = mean_loading_Dustcomm_20PM[:,:,:,2]\n",
    "print(total_North_African_loading.shape)"
   ]
  },
  {
   "cell_type": "code",
   "execution_count": null,
   "id": "baf6399d-f3dd-433b-a539-51715ccc1203",
   "metadata": {
    "tags": []
   },
   "outputs": [],
   "source": [
    "#ρ_d=(2.5±0.2)×10^3 kg m-3 is the globally representative density of dust aerosols (Fratini et al., 2007; Reid et al., 2008; Kaaden et al., 2009; Sow et al., 2009)\n",
    "ρ_d = 2.5e3\n",
    "delta_m_Db = total_North_African_loading[48,78,:]\n",
    "print('delta_m_Db',delta_m_Db)\n",
    "\n",
    "Q_e_bulk_0W_18N_bin_num = np.zeros(6)\n",
    "Q_e_bulk_0W_18N_bin_den = np.zeros(6)\n",
    "SSA_bulk_0W_18N_bin_num = np.zeros(6)\n",
    "SSA_bulk_0W_18N_bin_den = np.zeros(6)\n",
    "Q_scat = np.zeros(6)\n",
    "g_bulk_0W_18N_bin_num = np.zeros(6)\n",
    "g_bulk_0W_18N_bin_den = np.zeros(6)\n",
    "\n",
    "#all_bins_opt_prop_array[i][0] = Q_e of bin i\n",
    "#all_bins_opt_prop_array[i][1] = SSA of bin i\n",
    "#all_bins_opt_prop_array[i][2] = g of bin i\n",
    "\n",
    "for i in range(0,len(all_bins_opt_prop_array)):\n",
    "    Q_e_bulk_0W_18N_bin_num[i] = (delta_m_Db[i]*(np.pi/4)*(mean_geometric_diameter_bin[i]**2)*all_bins_opt_prop_array[i][0])/((np.pi/6)*(mean_geometric_diameter_bin[i]**3)*ρ_d)\n",
    "    Q_e_bulk_0W_18N_bin_den[i] = (delta_m_Db[i]*(np.pi/4)*(mean_geometric_diameter_bin[i]**2))/((np.pi/6)*(mean_geometric_diameter_bin[i]**3)*ρ_d)\n",
    "    \n",
    "    SSA_bulk_0W_18N_bin_num[i] = (delta_m_Db[i]*(np.pi/4)*(mean_geometric_diameter_bin[i]**2)*all_bins_opt_prop_array[i][0]*all_bins_opt_prop_array[i][1])/((np.pi/6)*(mean_geometric_diameter_bin[i]**3)*ρ_d)\n",
    "    SSA_bulk_0W_18N_bin_den[i] = (delta_m_Db[i]*(np.pi/4)*(mean_geometric_diameter_bin[i]**2)*all_bins_opt_prop_array[i][0])/((np.pi/6)*(mean_geometric_diameter_bin[i]**3)*ρ_d)\n",
    "    \n",
    "    Q_scat[i] = all_bins_opt_prop_array[i][1] * all_bins_opt_prop_array[i][0]\n",
    "    \n",
    "    g_bulk_0W_18N_bin_num[i] = (delta_m_Db[i]*(np.pi/4)*(mean_geometric_diameter_bin[i]**2)*Q_scat[i]*all_bins_opt_prop_array[i][2])/((np.pi/6)*(mean_geometric_diameter_bin[i]**3)*ρ_d)\n",
    "    g_bulk_0W_18N_bin_den[i] = (delta_m_Db[i]*(np.pi/4)*(mean_geometric_diameter_bin[i]**2)*Q_scat[i])/((np.pi/6)*(mean_geometric_diameter_bin[i]**3)*ρ_d)\n",
    "    "
   ]
  },
  {
   "cell_type": "code",
   "execution_count": null,
   "id": "465b9733-0880-4024-87f8-7c84c2945453",
   "metadata": {
    "tags": []
   },
   "outputs": [],
   "source": [
    "# Calculate values\n",
    "Q_e_bulk_0W_18N_bulk = np.sum(Q_e_bulk_0W_18N_bin_num) / np.sum(Q_e_bulk_0W_18N_bin_den)\n",
    "SSA_bulk_0W_18N_bulk = np.sum(SSA_bulk_0W_18N_bin_num) / np.sum(SSA_bulk_0W_18N_bin_den)\n",
    "g_bulk_0W_18N_bulk = np.sum(g_bulk_0W_18N_bin_num) / np.sum(g_bulk_0W_18N_bin_den)\n",
    "\n",
    "# Print the values\n",
    "print(\"Q_e_bulk_0W_18N_bulk: \", Q_e_bulk_0W_18N_bulk)\n",
    "print(\"SSA_bulk_0W_18N_bulk: \", SSA_bulk_0W_18N_bulk)\n",
    "print(\"g_bulk_0W_18N_bulk: \", g_bulk_0W_18N_bulk)"
   ]
  },
  {
   "cell_type": "code",
   "execution_count": null,
   "id": "9275b49d-fb11-41ea-bf95-2905e3379da1",
   "metadata": {
    "tags": []
   },
   "outputs": [],
   "source": [
    "def create_if_not_exists(file_path):\n",
    "    if not os.path.exists(file_path):\n",
    "        with open(file_path, 'w') as file:\n",
    "            # You can optionally write initial content to the file\n",
    "            file.write(\"Wavelength\\tQ_e_bulk_0W_18N_bulk\\tSSA_bulk_0W_18N_bulk\\tg_bulk_0W_18N_bulk\\t\" + '\\n')\n",
    "            #file.write(f\"Q_e_bulk_0W_18N_bulk\\t\")\n",
    "            #file.write(f\"SSA_bulk_0W_18N_bulk\\t\")\n",
    "            #file.write(f\"g_bulk_0W_18N_bulk\\t\\n\")\n",
    "        print(f\"File '{file_path}' created.\")\n",
    "    else:\n",
    "        print(f\"File '{file_path}' already exists.\")\n",
    "\n",
    "# Check if dust optical properties txt file already exists\n",
    "file_path1 = 'RRTM_bulk_dust_optical_properties.txt'\n",
    "file_path2 = 'RRTM_bulk_dust_optical_properties_{}.txt'.format(wavelength)\n",
    "create_if_not_exists(file_path1)\n",
    "create_if_not_exists(file_path2)"
   ]
  },
  {
   "cell_type": "code",
   "execution_count": null,
   "id": "a0d24f11-1cc7-4616-9768-da145934ddb3",
   "metadata": {
    "tags": []
   },
   "outputs": [],
   "source": [
    "# Assuming Q_e_bulk_0W_18N_bulk, SSA_bulk_0W_18N_bulk, g_bulk_0W_18N_bulk are numpy arrays\n",
    "\n",
    "# Data to append\n",
    "data_to_append = np.column_stack((wavelength, Q_e_bulk_0W_18N_bulk, SSA_bulk_0W_18N_bulk, g_bulk_0W_18N_bulk))\n",
    "\n",
    "# Open the file in append mode and use np.savetxt to append data\n",
    "with open('bulk_dust_optical_properties_{}.txt'.format(wavelength), 'a') as file:\n",
    "    np.savetxt(file, data_to_append, fmt='%5.3f', delimiter='\\t', header='', comments='')\n",
    "    \n",
    "# Open the file in append mode and use np.savetxt to append data\n",
    "with open('bulk_dust_optical_properties.txt', 'a') as file:\n",
    "    np.savetxt(file, data_to_append, fmt='%5.3f', delimiter='\\t', header='', comments='')"
   ]
  },
  {
   "cell_type": "code",
   "execution_count": null,
   "id": "743b39cb-cda8-48ac-a980-f500984ee568",
   "metadata": {},
   "outputs": [],
   "source": []
  }
 ],
 "metadata": {
  "kernelspec": {
   "display_name": "rrtm_env",
   "language": "python",
   "name": "rrtm_env"
  },
  "language_info": {
   "codemirror_mode": {
    "name": "ipython",
    "version": 3
   },
   "file_extension": ".py",
   "mimetype": "text/x-python",
   "name": "python",
   "nbconvert_exporter": "python",
   "pygments_lexer": "ipython3",
   "version": "3.11.4"
  }
 },
 "nbformat": 4,
 "nbformat_minor": 5
}
