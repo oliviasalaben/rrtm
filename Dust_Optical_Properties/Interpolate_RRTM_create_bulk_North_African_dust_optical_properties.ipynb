{
 "cells": [
  {
   "cell_type": "code",
   "execution_count": 1,
   "id": "07d6c587",
   "metadata": {
    "tags": []
   },
   "outputs": [],
   "source": [
    "import os\n",
    "import scipy.io as io\n",
    "import numpy as np\n",
    "import pandas as pd\n",
    "from scipy.interpolate import interp1d\n",
    "import sys\n",
    "import math\n",
    "from netCDF4 import Dataset\n",
    "import os, calendar, sys, fnmatch, datetime"
   ]
  },
  {
   "cell_type": "code",
   "execution_count": 2,
   "id": "ad023b27",
   "metadata": {},
   "outputs": [],
   "source": [
    "def extract_unique_values(input_array):\n",
    "    unique_values = np.unique(input_array)\n",
    "    return unique_values"
   ]
  },
  {
   "cell_type": "markdown",
   "id": "f01c49b7",
   "metadata": {
    "tags": []
   },
   "source": [
    "# Load Huang et al. 2023 Ellipsoidal dust optical properties files"
   ]
  },
  {
   "cell_type": "code",
   "execution_count": 3,
   "id": "12b2bf5a-76b6-47d0-aeca-a3b71daf7df7",
   "metadata": {
    "tags": []
   },
   "outputs": [],
   "source": [
    "# ===== Aerosol (e.g., dust) optical properties (i.e., Qext, SSA, g) =====\n",
    "# ***Note: The order of 14 bands is listed in TABLE 1 in RRTM_SW instruction (It is not monotonically increase or decrease)\n",
    "# ***Note: The order of spectral optical properties should be consistent with the order in TABLE 1\n",
    "\n",
    "def process_optical_properties(wavelength_band, txt_files):\n",
    "    wavelength = wavelength_range[wavelength_band]\n",
    "    #print(txt_files[wavelength_band])\n",
    "    opt_prop_sw_original = np.loadtxt(opt_dir + '{}'.format(txt_files[wavelength_band]))\n",
    "    #print(opt_prop_sw_original.shape)\n",
    "\n",
    "    wl = np.array(opt_prop_sw_original[:,0]) #in um \n",
    "    dust_d = np.array(opt_prop_sw_original[:,1]) #in um\n",
    "    size_parameter = np.pi * dust_d / wl #f'size_parameter_{wavelength:.4f}': size_parameter,\n",
    "    n_RI = np.array(opt_prop_sw_original[:,2])\n",
    "    k_RI = np.array(opt_prop_sw_original[:,3])\n",
    "    \n",
    "    qe_dust_sw = np.array(opt_prop_sw_original[:,4])\n",
    "    mask = qe_dust_sw > 10\n",
    "    qe_dust_sw[mask] = np.nan\n",
    "    ssa_dust_sw = np.array(opt_prop_sw_original[:,5])\n",
    "    ssa_dust_sw[mask] = np.nan\n",
    "    g_dust_sw = np.array(opt_prop_sw_original[:,6])\n",
    "    g_dust_sw[mask] = np.nan\n",
    "\n",
    "    # Create variable names dynamically\n",
    "    variables = {\n",
    "        f'wl_{wavelength:.4f}': wl,\n",
    "        f'dust_d_{wavelength:.4f}': dust_d,\n",
    "        f'size_parameter_{wavelength:.4f}': size_parameter,\n",
    "        f'n_RI_{wavelength:.4f}': n_RI,\n",
    "        f'k_RI_{wavelength:.4f}': k_RI,\n",
    "        f'qe_dust_sw_{wavelength:.4f}': qe_dust_sw,\n",
    "        f'ssa_dust_sw_{wavelength:.4f}': ssa_dust_sw,\n",
    "        f'g_dust_sw_{wavelength:.4f}': g_dust_sw,\n",
    "    }\n",
    "    return np.array((wl,dust_d,size_parameter,n_RI,k_RI,qe_dust_sw,ssa_dust_sw,g_dust_sw)) #variables\n"
   ]
  },
  {
   "cell_type": "code",
   "execution_count": 4,
   "id": "f0fb753a-937e-4661-996e-5d5d7c71d25e",
   "metadata": {
    "tags": []
   },
   "outputs": [],
   "source": [
    "# SW Wavelength range and files\n",
    "opt_dir = 'SW_Huang_Dust_Optics/'\n",
    "wavelength_range = [0.35, 0.55, 0.75, 0.95] #, 2, 4, 6, 8, 10, 12, 14, 16, 35]\n",
    "Huang_2023_dust_opt_prop_txt_files = ['shapein_TAMU_0.3500.txt', 'shapein_TAMU_0.5500.txt', 'shapein_TAMU_0.7500.txt', 'shapein_TAMU_0.9500.txt'] # 'shapein_TAMU_2.0000.txt', 'shapein_TAMU_4.0000.txt', 'shapein_TAMU_6.0000.txt', 'shapein_TAMU_8.0000.txt', 'shapein_TAMU_10.0000.txt', 'shapein_TAMU_12.0000.txt', 'shapein_TAMU_14.0000.txt', 'shapein_TAMU_16.0000.txt', 'shapein_TAMU_35.0000.txt']\n",
    "\n",
    "# Array to store results\n",
    "opt_prop_sw_array = np.empty(len(wavelength_range), dtype=object)\n",
    "\n",
    "# Process optical properties for each wavelength band\n",
    "for i in range(len(wavelength_range)):\n",
    "    opt_prop_sw = process_optical_properties(i, Huang_2023_dust_opt_prop_txt_files)\n",
    "    opt_prop_sw_array[i] = opt_prop_sw"
   ]
  },
  {
   "cell_type": "code",
   "execution_count": 5,
   "id": "8945c847-ba97-4999-b8a3-82286a8f203a",
   "metadata": {},
   "outputs": [
    {
     "name": "stdout",
     "output_type": "stream",
     "text": [
      "(4,)\n"
     ]
    }
   ],
   "source": [
    "opt_prop_sw_array[0][2].shape\n",
    "unique_size_param = np.empty(len(wavelength_range), dtype=object)\n",
    "for i in range(len(wavelength_range)):\n",
    "    unique_size_param[i] = extract_unique_values(opt_prop_sw_array[i][2])\n",
    "print(unique_size_param.shape) #300 for each wavelength \n",
    "#choose every 10 for each wavelength \n",
    "\n",
    "#then chose every 10, and sort them (it's okay that it is logarithmic)"
   ]
  },
  {
   "cell_type": "markdown",
   "id": "d9b10764-4c12-4dd7-997d-04193ac3169d",
   "metadata": {},
   "source": [
    "## Create Yue Size parameter, real RI, and imaginary RI matrix"
   ]
  },
  {
   "cell_type": "markdown",
   "id": "df0d5937-0d34-4a92-a700-53c30372ca2d",
   "metadata": {},
   "source": [
    "create a file of the three dimensional grid, those three dimensions being size parameter, real RI, and imaginary RI. The second and third dimensions here are easier and would be those values relevant to your problem, so I'd suggest (1.50, 1.52, 1.53, 1.56) and (0.0005, 0.001, 0.002, 0.003). The first dimension is pretty annoying because there will be so many values since the data is finely spaced in D (300 values per wavelength) and you will have four different SW wavelengths to use (350, 550, 750, and 950 nm; don't use the other ones because the RI there is for the LW). So I'd suggest only using every 10th value to keep the size of the matrix reasonable (120 size parameter values). Once you've created this three-dimensional grid (120x4x4), "
   ]
  },
  {
   "cell_type": "code",
   "execution_count": 25,
   "id": "3802574f-f897-43c8-9e46-e5741879f9fd",
   "metadata": {},
   "outputs": [
    {
     "name": "stdout",
     "output_type": "stream",
     "text": [
      "[array([3.30693964e-01, 4.16674394e-01, 4.18879020e-01, 5.25142014e-01,\n",
      "        5.27787566e-01, 5.71198664e-01, 6.62049315e-01, 6.65179885e-01,\n",
      "        7.19710317e-01, 8.34340870e-01, 8.38595799e-01, 8.97597901e-01,\n",
      "        9.07063479e-01, 1.05160680e+00, 1.05683177e+00, 1.13097336e+00,\n",
      "        1.14353973e+00, 1.32542141e+00, 1.33203529e+00, 1.42538547e+00,\n",
      "        1.44113423e+00, 1.67033521e+00, 1.67886711e+00, 1.79699100e+00,\n",
      "        1.81641175e+00, 2.10519777e+00, 2.11575793e+00, 2.26463950e+00,\n",
      "        2.28936425e+00, 2.65315767e+00, 2.66658384e+00, 2.85436133e+00,\n",
      "        2.88512445e+00, 3.34397736e+00, 3.36066638e+00, 3.59757239e+00,\n",
      "        3.63625070e+00, 4.21436387e+00, 4.23570466e+00, 4.53376700e+00,\n",
      "        4.58272688e+00, 5.31127575e+00, 5.33819424e+00, 5.71410824e+00,\n",
      "        5.77596089e+00, 6.69390721e+00, 6.72761595e+00, 7.20142796e+00,\n",
      "        7.27935578e+00, 8.43666440e+00, 8.47894913e+00, 9.07650998e+00,\n",
      "        9.17402175e+00, 1.06328030e+01, 1.06864416e+01, 1.14389877e+01,\n",
      "        1.15622034e+01, 1.34007115e+01, 1.34682171e+01, 1.44163199e+01,\n",
      "        1.45724203e+01, 1.68895328e+01, 1.69742345e+01, 1.81691767e+01,\n",
      "        1.83657507e+01, 2.12861090e+01, 2.13934082e+01, 2.28995177e+01,\n",
      "        2.31466835e+01, 2.68272171e+01, 2.69624048e+01, 2.88604653e+01,\n",
      "        2.91728294e+01, 3.38111429e+01, 3.39811417e+01, 3.63733597e+01,\n",
      "        3.67669156e+01, 4.26128934e+01, 4.28274477e+01, 4.58430176e+01,\n",
      "        4.63379204e+01, 5.37060225e+01, 5.39763317e+01, 5.77765817e+01,\n",
      "        5.84010650e+01, 6.77922625e+01, 6.80276284e+01, 7.28167321e+01,\n",
      "        7.36040887e+01, 8.09985260e+01, 8.58701992e+01, 9.17731022e+01,\n",
      "        9.27649479e+01, 9.67772577e+01, 1.02598133e+02, 1.15629459e+02,\n",
      "        1.15663568e+02, 1.17095726e+02, 1.22584526e+02, 1.38154679e+02,\n",
      "        1.39906545e+02, 1.45773490e+02, 1.46463982e+02, 1.65067545e+02,\n",
      "        1.67160718e+02, 1.74995926e+02, 1.84007570e+02, 1.97222904e+02,\n",
      "        1.99723611e+02, 2.09085557e+02, 2.19853142e+02, 2.38630808e+02,\n",
      "        2.49815678e+02, 2.62681128e+02, 2.85116669e+02, 3.13851389e+02,\n",
      "        3.40657743e+02, 3.74991270e+02, 4.48040480e+02, 5.35319310e+02])\n",
      " array([1.5 , 1.52, 1.53, 1.56]) array([0.0005, 0.001 , 0.002 , 0.003 ])]\n"
     ]
    }
   ],
   "source": [
    "Yue_real_RI_range = np.array([1.50, 1.52, 1.53, 1.56])\n",
    "Yue_imag_RI_range = np.array([0.0005, 0.001, 0.002, 0.003])\n",
    "Yue_size_parameter_range = [] #np.zeros(120, dtype=object)\n",
    "for i in range(0,len(wavelength_range)):\n",
    "    for j in range(0,len(unique_size_param[i]),10):\n",
    "        Yue_size_parameter_range.append(unique_size_param[i][j])\n",
    "Yue_size_parameter_range = np.sort(Yue_size_parameter_range)\n",
    "Yue_size_parameter_range = np.array(Yue_size_parameter_range)\n",
    "#print(Yue_size_parameter_range)\n",
    "\n",
    "#Yue_size_parameter_and_Ri_matrix = (Yue_size_parameter_range, Yue_real_RI_range, Yue_imag_RI_range)\n",
    "\n",
    "Yue_size_parameter_and_Ri_matrix = np.array((Yue_size_parameter_range, Yue_real_RI_range, Yue_imag_RI_range),dtype=object)\n",
    "io.savemat(\"coordinate_matrix_tuple.mat\", {\"array\": Yue_size_parameter_and_Ri_matrix})\n",
    "print(Yue_size_parameter_and_Ri_matrix)"
   ]
  },
  {
   "cell_type": "code",
   "execution_count": 24,
   "id": "a5094ec5-a254-406b-881a-44ebf1680ebf",
   "metadata": {},
   "outputs": [
    {
     "name": "stdout",
     "output_type": "stream",
     "text": [
      "<class 'tuple'>\n"
     ]
    }
   ],
   "source": [
    "print(type(Yue_size_parameter_and_Ri_matrix))"
   ]
  },
  {
   "cell_type": "markdown",
   "id": "b9406302-cbf1-4fc2-8fef-a9bbaa8c512b",
   "metadata": {},
   "source": [
    "Yue_coord = np.zeros((len(Yue_size_parameter_range),len(Yue_real_RI_range),len(Yue_imag_RI_range)), dtype=object)\n",
    "for i in range(len(Yue_size_parameter_range)):\n",
    "    for j in range(len(Yue_real_RI_range)):\n",
    "        for k in range(len(Yue_imag_RI_range)):\n",
    "            Yue_coord[i,j,k] = (Yue_size_parameter_range[i],Yue_real_RI_range[j],Yue_imag_RI_range[k])\n",
    "print(Yue_coord.shape, Yue_coord)\n",
    "io.savemat(\"Yue_coord.mat\", {\"array\": Yue_coord})"
   ]
  },
  {
   "cell_type": "markdown",
   "id": "b24e77d3-69fa-4cfc-9962-3324d7d9b47a",
   "metadata": {},
   "source": [
    "## Create Yue Q_e matrix"
   ]
  },
  {
   "cell_type": "markdown",
   "id": "00075d0d-a303-4b2d-8336-bbf6c0f8ddcc",
   "metadata": {},
   "source": [
    " you need to create a matrix with the same dimensions as your three-dimensional grid that contains the values of Q_ext. You do this by creating a matrix with NaN values with those dimensions and then reading in all Yue's data (at the four wavelengths, using only every tenth data point) and writing each value to this new matrix at the corresponding coordinate. Once you're done, you'll end with a matrix that has a lot of values filled in, but ~75% of the values will be NaNs. "
   ]
  },
  {
   "cell_type": "code",
   "execution_count": 21,
   "id": "a7db72ec-2a16-4e61-a69c-95941fc15846",
   "metadata": {},
   "outputs": [
    {
     "data": {
      "text/plain": [
       "14400"
      ]
     },
     "execution_count": 21,
     "metadata": {},
     "output_type": "execute_result"
    }
   ],
   "source": [
    "len(opt_prop_sw_array[0][5])"
   ]
  },
  {
   "cell_type": "code",
   "execution_count": 22,
   "id": "68502934-cdcb-4f0d-a2fa-aaf53f575c25",
   "metadata": {},
   "outputs": [],
   "source": [
    "#print(coordinate_matrix)"
   ]
  },
  {
   "cell_type": "code",
   "execution_count": 23,
   "id": "4c878a00-acd0-49f2-8b51-3a67dfa87e88",
   "metadata": {},
   "outputs": [],
   "source": [
    "def populate_Qe_matrix(Qe_matrix, wavelength_range, Yue_size_parameter_and_Ri_matrix, opt_prop_sw_array):\n",
    "    \"\"\"\n",
    "    Populate Qe_matrix based on conditions for all wavelengths.\n",
    "\n",
    "    Parameters:\n",
    "    - Qe_matrix: numpy array\n",
    "    - wavelength_range: range\n",
    "    - Yue_size_parameter_and_Ri_matrix: list\n",
    "    - opt_prop_sw_array: list\n",
    "\n",
    "    Returns:\n",
    "    - Qe_matrix: numpy array, populated Qe_matrix\n",
    "    \"\"\"\n",
    "    #Qe_tuple =[]\n",
    "    for iwl in wavelength_range:\n",
    "        for i in range(len(Yue_size_parameter_and_Ri_matrix[0])):\n",
    "            for j in range(len(Yue_size_parameter_and_Ri_matrix[1])):\n",
    "                for k in range(len(Yue_size_parameter_and_Ri_matrix[2])):\n",
    "                    if np.isnan(Qe_matrix[i, j, k]):\n",
    "                        for w in range(0, len(opt_prop_sw_array[iwl][5]), 10):\n",
    "                            if (Yue_size_parameter_and_Ri_matrix[0][i] == opt_prop_sw_array[iwl][2][w] and\n",
    "                                Yue_size_parameter_and_Ri_matrix[1][j] == opt_prop_sw_array[iwl][3][w] and \n",
    "                                Yue_size_parameter_and_Ri_matrix[2][k] == opt_prop_sw_array[iwl][4][w]):\n",
    "                                    Qe_matrix[i, j, k] = opt_prop_sw_array[iwl][5][w]\n",
    "                                    #Qe_tuple.append(opt_prop_sw_array[iwl][5][w])\n",
    "    return Qe_matrix\n",
    "\n",
    "# Example data (replace with your actual data)\n",
    "wavelength_range = range(len(wavelength_range))\n",
    "\n",
    "# Set up Qe_matrix with nan values\n",
    "Qe_matrix = np.full((120, 4, 4), np.nan, dtype=float)\n",
    "\n",
    "# Populate Qe_matrix based on conditions for all wavelengths\n",
    "Qe_matrix = populate_Qe_matrix(Qe_matrix, wavelength_range, Yue_size_parameter_and_Ri_matrix, opt_prop_sw_array)\n",
    "io.savemat(\"Qe_matrix.mat\", {\"array\":Qe_matrix})"
   ]
  },
  {
   "cell_type": "code",
   "execution_count": 15,
   "id": "2e7d7117-37a9-449f-916c-145aa3f4f43f",
   "metadata": {},
   "outputs": [
    {
     "name": "stdout",
     "output_type": "stream",
     "text": [
      "Number of nan values: 80\n"
     ]
    }
   ],
   "source": [
    "def count_nan_values(matrix):\n",
    "    \"\"\"\n",
    "    Count the number of nan values in a multidimensional array.\n",
    "\n",
    "    Parameters:\n",
    "    - matrix: numpy array\n",
    "\n",
    "    Returns:\n",
    "    - count: int, number of nan values\n",
    "    \"\"\"\n",
    "    count = np.sum(np.isnan(matrix))\n",
    "    return count\n",
    "\n",
    "nan_count = count_nan_values(Qe_matrix )\n",
    "print(\"Number of nan values:\", nan_count)"
   ]
  },
  {
   "cell_type": "code",
   "execution_count": 16,
   "id": "929e4b89-0506-47c3-9755-97412658e846",
   "metadata": {},
   "outputs": [],
   "source": [
    "def populate_SSA_matrix(SSA_matrix, wavelength_range, Yue_size_parameter_and_Ri_matrix, opt_prop_sw_array):\n",
    "    \"\"\"\n",
    "    Populate SSA_matrix based on conditions for all wavelengths.\n",
    "\n",
    "    Parameters:\n",
    "    - SSA_matrix: numpy array\n",
    "    - wavelength_range: range\n",
    "    - Yue_size_parameter_and_Ri_matrix: list\n",
    "    - opt_prop_sw_array: list\n",
    "\n",
    "    Returns:\n",
    "    - SSA_matrix: numpy array, populated SSA_matrix\n",
    "    \"\"\"\n",
    "    #SSA_tuple =[]\n",
    "    for iwl in wavelength_range:\n",
    "        for i in range(len(Yue_size_parameter_and_Ri_matrix[0])):\n",
    "            for j in range(len(Yue_size_parameter_and_Ri_matrix[1])):\n",
    "                for k in range(len(Yue_size_parameter_and_Ri_matrix[2])):\n",
    "                    if np.isnan(SSA_matrix[i, j, k]):\n",
    "                        for w in range(0, len(opt_prop_sw_array[iwl][5]), 10):\n",
    "                            if (Yue_size_parameter_and_Ri_matrix[0][i] == opt_prop_sw_array[iwl][2][w] and\n",
    "                                Yue_size_parameter_and_Ri_matrix[1][j] == opt_prop_sw_array[iwl][3][w] and \n",
    "                                Yue_size_parameter_and_Ri_matrix[2][k] == opt_prop_sw_array[iwl][4][w]):\n",
    "                                    SSA_matrix[i, j, k] = opt_prop_sw_array[iwl][6][w]\n",
    "                                    #SSA_tuple.append(opt_prop_sw_array[iwl][6][w])\n",
    "    return SSA_matrix\n",
    "\n",
    "# Example data (replace with your actual data)\n",
    "wavelength_range = range(len(wavelength_range))\n",
    "\n",
    "# Set up SSA_matrix with nan values\n",
    "SSA_matrix = np.full((120, 4, 4), np.nan, dtype=float)\n",
    "\n",
    "# Populate SSA_matrix based on conditions for all wavelengths\n",
    "SSA_matrix = populate_SSA_matrix(SSA_matrix, wavelength_range, Yue_size_parameter_and_Ri_matrix, opt_prop_sw_array)\n",
    "io.savemat(\"SSA_matrix.mat\", {\"array\":SSA_matrix})"
   ]
  },
  {
   "cell_type": "code",
   "execution_count": 17,
   "id": "3f2405a7-691b-405c-ae40-e812390dbc9e",
   "metadata": {},
   "outputs": [
    {
     "name": "stdout",
     "output_type": "stream",
     "text": [
      "Number of nan values: 80\n"
     ]
    }
   ],
   "source": [
    "nan_count = count_nan_values(SSA_matrix )\n",
    "print(\"Number of nan values:\", nan_count)"
   ]
  },
  {
   "cell_type": "code",
   "execution_count": 18,
   "id": "b209f3e8-fc28-4800-bd62-0807e57bb1b0",
   "metadata": {},
   "outputs": [],
   "source": [
    "def populate_g_matrix(g_matrix, wavelength_range, Yue_size_parameter_and_Ri_matrix, opt_prop_sw_array):\n",
    "    \"\"\"\n",
    "    Populate g_matrix based on conditions for all wavelengths.\n",
    "\n",
    "    Parameters:\n",
    "    - g_matrix: numpy array\n",
    "    - wavelength_range: range\n",
    "    - Yue_size_parameter_and_Ri_matrix: list\n",
    "    - opt_prop_sw_array: list\n",
    "\n",
    "    Returns:\n",
    "    - g_matrix: numpy array, populated g_matrix\n",
    "    \"\"\"\n",
    "    #g_tuple = []\n",
    "    for iwl in wavelength_range:\n",
    "        for i in range(len(Yue_size_parameter_and_Ri_matrix[0])):\n",
    "            for j in range(len(Yue_size_parameter_and_Ri_matrix[1])):\n",
    "                for k in range(len(Yue_size_parameter_and_Ri_matrix[2])):\n",
    "                    if np.isnan(g_matrix[i, j, k]):\n",
    "                        for w in range(0, len(opt_prop_sw_array[iwl][5]), 10):\n",
    "                            if (Yue_size_parameter_and_Ri_matrix[0][i] == opt_prop_sw_array[iwl][2][w] and\n",
    "                                Yue_size_parameter_and_Ri_matrix[1][j] == opt_prop_sw_array[iwl][3][w] and \n",
    "                                Yue_size_parameter_and_Ri_matrix[2][k] == opt_prop_sw_array[iwl][4][w]):\n",
    "                                    g_matrix[i, j, k] = opt_prop_sw_array[iwl][7][w]\n",
    "                                    #g_tuple.append(opt_prop_sw_array[iwl][7][w])\n",
    "    return g_matrix\n",
    "\n",
    "# Example data (replace with your actual data)\n",
    "wavelength_range = range(len(wavelength_range))\n",
    "\n",
    "# Set up SSA_matrix with nan values\n",
    "g_matrix = np.full((120, 4, 4), np.nan, dtype=float)\n",
    "\n",
    "# Populate g_matrix based on conditions for all wavelengths\n",
    "g_matrix = populate_g_matrix(g_matrix, wavelength_range, Yue_size_parameter_and_Ri_matrix, opt_prop_sw_array)\n",
    "io.savemat(\"g_matrix.mat\", {\"array\":g_matrix})"
   ]
  },
  {
   "cell_type": "code",
   "execution_count": 19,
   "id": "973c6eb6-5703-4223-b408-5e5c3667b337",
   "metadata": {},
   "outputs": [
    {
     "name": "stdout",
     "output_type": "stream",
     "text": [
      "Number of nan values: 80\n"
     ]
    }
   ],
   "source": [
    "nan_count = count_nan_values(g_matrix )\n",
    "print(\"Number of nan values:\", nan_count)"
   ]
  },
  {
   "cell_type": "markdown",
   "id": "912f2506",
   "metadata": {},
   "source": [
    "# Calculate DustCOMM mean geometric diamater of each bin"
   ]
  },
  {
   "cell_type": "code",
   "execution_count": null,
   "id": "f2526a33",
   "metadata": {
    "tags": []
   },
   "outputs": [],
   "source": [
    "#----------\n",
    "# using DustCOMM 2021 papers b) https://dustcomm.atmos.ucla.edu/\n",
    "# specifically https://dustcomm.atmos.ucla.edu/data/K21b/ dataset DustCOMM_source_region_DAOD_seas_bin_abs.nc\n",
    "# assumes aspherical dust shape, PM20 dust\n",
    "#----------\n",
    "\n",
    "daod_Dustcomm_PM20_Dataset = Dataset('DustCOMM_source_region_DAOD_annual_bin_abs.nc')\n",
    "print(daod_Dustcomm_PM20_Dataset) #[season,source,diameter,lat,lon,bin]\n",
    "\n",
    "lat_Dustcomm_PM20 = np.array(daod_Dustcomm_PM20_Dataset.variables['lat'][:])\n",
    "lon_Dustcomm_PM20 = np.array(daod_Dustcomm_PM20_Dataset.variables['lon'][:])\n",
    "mean_Daod_Dustcomm_20PM = np.array(daod_Dustcomm_PM20_Dataset.variables['Mean'][:])\n",
    "#dustcomm_seas = np.array(daod_Dustcomm_PM20_Dataset.variables['season'][:])\n",
    "dustcomm_Sources_PM20 = np.array(daod_Dustcomm_PM20_Dataset.variables['source'][:]) \n",
    "dustcomm_bin_lower = np.array(daod_Dustcomm_PM20_Dataset.variables['bin_D_lower'][:])\n",
    "dustcomm_bin_upper = np.array(daod_Dustcomm_PM20_Dataset.variables['bin_D_upper'][:])"
   ]
  },
  {
   "cell_type": "code",
   "execution_count": null,
   "id": "b6e21893-7a30-4397-a160-32c2c8414320",
   "metadata": {
    "tags": []
   },
   "outputs": [],
   "source": [
    "#----------\n",
    "# using DustCOMM 2021 papers b) https://dustcomm.atmos.ucla.edu/\n",
    "# specifically https://dustcomm.atmos.ucla.edu/data/K21b/ dataset DustCOMM_source_region_DAOD_seas_bin_abs.nc\n",
    "# assumes aspherical dust shape, PM20 dust\n",
    "#----------\n",
    "\n",
    "loading_Dustcomm_PM20_Dataset = Dataset('DustCOMM_source_region_dust_loading_annual_bin_abs.nc')\n",
    "print(loading_Dustcomm_PM20_Dataset) #[season,source,diameter,lat,lon,bin]\n",
    "\n",
    "loading_lat_Dustcomm_PM20 = np.array(loading_Dustcomm_PM20_Dataset.variables['lat'][:])\n",
    "loading_lon_Dustcomm_PM20 = np.array(loading_Dustcomm_PM20_Dataset.variables['lon'][:])\n",
    "mean_loading_Dustcomm_20PM = np.array(loading_Dustcomm_PM20_Dataset.variables['Mean'][:])\n",
    "#dustcomm_seas = np.array(daod_Dustcomm_PM20_Dataset.variables['season'][:])\n",
    "loading_dustcomm_Sources_PM20 = np.array(loading_Dustcomm_PM20_Dataset.variables['source'][:]) \n",
    "loading_dustcomm_bin_lower = np.array(loading_Dustcomm_PM20_Dataset.variables['bin_D_lower'][:])\n",
    "loading_dustcomm_bin_upper = np.array(loading_Dustcomm_PM20_Dataset.variables['bin_D_upper'][:])"
   ]
  },
  {
   "cell_type": "code",
   "execution_count": null,
   "id": "c4dc8610",
   "metadata": {},
   "outputs": [],
   "source": [
    "print(dustcomm_bin_lower)\n",
    "print(dustcomm_bin_upper)"
   ]
  },
  {
   "cell_type": "code",
   "execution_count": null,
   "id": "dafdd644",
   "metadata": {
    "tags": []
   },
   "outputs": [],
   "source": [
    "mean_geometric_diameter_bin = np.sqrt(dustcomm_bin_lower*dustcomm_bin_upper)"
   ]
  },
  {
   "cell_type": "code",
   "execution_count": null,
   "id": "847f93bc",
   "metadata": {
    "tags": []
   },
   "outputs": [],
   "source": [
    "print(mean_geometric_diameter_bin)"
   ]
  },
  {
   "cell_type": "markdown",
   "id": "4cbed0f8",
   "metadata": {},
   "source": [
    "# Interpolate  Huang et al. 2023 size parameter and dust optical properties that best match Adebiyi RI's, and DustCOMM size parameter of each bin"
   ]
  },
  {
   "cell_type": "markdown",
   "id": "54e6578d",
   "metadata": {},
   "source": [
    "use DustCOMM Saharan and Sahelian dust partition in a grid box, in the DAOD. sum the two sahara sources, to calculate my own spatially resolved RI (Later)"
   ]
  },
  {
   "cell_type": "markdown",
   "id": "33d95dbc",
   "metadata": {},
   "source": [
    "match_d_opt_prop_sw = []\n",
    "match_n_RI_opt_prop_sw = []\n",
    "match_k_RI_opt_prop_sw = []\n",
    "n_RI_index = []\n",
    "k_RI_index = []North African dust has a mean imaginary refractive index at 550 nm wavelength of 0.0012 (one standard error range of 0.0009–0.0016\n",
    "and a real dust refractive index, nr = 1.51 ± 0.03 (which is the same for Sahara and Sahel) (Di Biagio et al. 2019)\n",
    "We assume that RI is constant across particle size (Adebiyi et al. 2023, Obiso et al. 2023)"
   ]
  },
  {
   "cell_type": "code",
   "execution_count": null,
   "id": "64fe8cc2-4ad1-4e9f-b1fa-f238f3e24336",
   "metadata": {},
   "outputs": [],
   "source": [
    "# 14 RRTM SW bands - average wavelength of each band (in RRTM order)\n",
    "RRTM_SW_bands = [3.4615, 2.7885, 2.3255, 2.0465, 1.784, 1.4625, 1.2705, 1.01, 0.7015, 0.5335, 0.3935, 0.304, 0.2315, 8.0205]\n",
    "RRTM_SW_bands_sorted = np.sort(RRTM_SW_bands)"
   ]
  },
  {
   "cell_type": "code",
   "execution_count": null,
   "id": "f5f86f42",
   "metadata": {
    "tags": []
   },
   "outputs": [],
   "source": [
    "#grid_box = [0,18] #0W, 18N\n",
    "North_African_dust_adebiyi_k = 0.0012\n",
    "North_African_dust_adebiyi_nr = 1.51 "
   ]
  },
  {
   "cell_type": "markdown",
   "id": "4d86460d-8df4-422c-bdc4-740119fd3896",
   "metadata": {},
   "source": [
    "Meeting Notes 1/4/24:\n",
    "\n",
    "Look at how solar zenith angle variation effects \"DRE\" (difference between the two fluxes)\n",
    "Send Jasper bulk dust optical properties by end of day tomorrow (plus text file)\n",
    "write script to run SW RRTM for different solar zenith angles"
   ]
  },
  {
   "cell_type": "markdown",
   "id": "d58a1d67-c093-41cb-bab5-f31e17186000",
   "metadata": {},
   "source": [
    "## 1/22/24 Interpolate for each dust optical property"
   ]
  },
  {
   "cell_type": "code",
   "execution_count": null,
   "id": "af05ded5-f0b9-416f-8fca-aeb1f2ac850f",
   "metadata": {},
   "outputs": [],
   "source": [
    "#from scipy.interpolate import RegularGridInterpolator\n",
    "#from scipy.interpolate import griddata \n",
    "import scipy"
   ]
  },
  {
   "cell_type": "code",
   "execution_count": null,
   "id": "2d59209e-2e72-4d73-91da-178d6adf211d",
   "metadata": {},
   "outputs": [],
   "source": [
    "Yue_coordinate_matrix = Yue_size_parameter_and_Ri_matrix\n",
    "print(Yue_coord_matrix.shape)\n",
    "print(Qe_matrix.shape)\n",
    "print(SSA_matrix.shape)\n",
    "print(g_matrix.shape)"
   ]
  },
  {
   "cell_type": "code",
   "execution_count": null,
   "id": "c21992b6-5916-4932-9d05-c0191f263df4",
   "metadata": {},
   "outputs": [],
   "source": [
    "Qe_interp_bin_wavelength_array = np.zeros((len(mean_geometric_diameter_bin),len(RRTM_SW_bands)), dtype=object)\n",
    "for ibin in range(len(mean_geometric_diameter_bin)):\n",
    "    for irrtm in range(len(RRTM_SW_bands)):\n",
    "        size_param_RRTM = np.pi*mean_geometric_diameter_bin[ibin]/RRTM_SW_bands_sorted[irrtm] #not sorted, in RRTM order\n",
    "        point =  (size_param_RRTM, North_African_dust_adebiyi_nr, North_African_dust_adebiyi_k)\n",
    "        Qe_interp = scipy.interpolate.interpn(Yue_coord, Qe_matrix, point , method='linear')\n",
    "        #Qe_interp = scipy.interpolate.interpn(Yue_coord_matrix, Qe_matrix, point , method='linear')\n",
    "        #Qe_interp = scipy.interpolate.interpn(Yue_size_parameter_and_Ri_matrix,Qe_matrix, point , method='linear')\n",
    "        Qe_interp_bin_wavelength_array[ibin,irrtm] =  Qe_interp                                    "
   ]
  },
  {
   "cell_type": "markdown",
   "id": "c15d35b4-f444-4be4-ad3f-8accd57c217c",
   "metadata": {},
   "source": [
    "# Calculate bulk dust Optical properties for (0W, 18N)"
   ]
  },
  {
   "cell_type": "markdown",
   "id": "51966565-17e3-41bc-9928-4f68b6dad2e1",
   "metadata": {},
   "source": [
    "Reorder dust optical properties so it is in order (Q_e, ssa, g)"
   ]
  },
  {
   "cell_type": "code",
   "execution_count": null,
   "id": "24677810-49f0-462b-a826-93880f19a963",
   "metadata": {
    "tags": []
   },
   "outputs": [],
   "source": [
    "# Calculate and print for each bin\n",
    "all_bins_opt_prop_array = []\n",
    "\n",
    "# Convert the list to a NumPy array\n",
    "all_bins_opt_prop_array = np.array((bin1_opt_prop_interp_size_param_y, bin2_opt_prop_interp_size_param_y, bin3_opt_prop_interp_size_param_y, bin4_opt_prop_interp_size_param_y, bin5_opt_prop_interp_size_param_y, bin6_opt_prop_interp_size_param_y))\n",
    "print(all_bins_opt_prop_array)"
   ]
  },
  {
   "cell_type": "code",
   "execution_count": null,
   "id": "7e01b6c3-b334-4859-9c51-197189a4e936",
   "metadata": {
    "tags": []
   },
   "outputs": [],
   "source": [
    "print(loading_lat_Dustcomm_PM20.shape)\n",
    "print(loading_lon_Dustcomm_PM20.shape)\n",
    "print(mean_loading_Dustcomm_20PM.shape)\n",
    "print(mean_loading_Dustcomm_20PM[0,0,1,2])\n",
    "#dimensions(sizes): source(9), diameter(6), lat(96), lon(144), bin(6)\n",
    "index_0W = []\n",
    "index_18N = []\n",
    "\n",
    "lat_0W = 0\n",
    "lon_18N = 18\n",
    "\n",
    "for ilat in range(0,len(loading_lat_Dustcomm_PM20)):\n",
    "    if np.round(loading_lat_Dustcomm_PM20[ilat]) -1 == lat_0W:\n",
    "        print(loading_lat_Dustcomm_PM20[ilat])\n",
    "        index_0W.append(ilat)\n",
    "\n",
    "for ilon in range(0,len(loading_lon_Dustcomm_PM20)):\n",
    "    if np.round(loading_lon_Dustcomm_PM20[ilon]) == lon_18N: \n",
    "        print(loading_lon_Dustcomm_PM20[ilon])\n",
    "        index_18N.append(ilon)\n",
    "print(index_0W,index_18N)"
   ]
  },
  {
   "cell_type": "code",
   "execution_count": null,
   "id": "6f05297a-ca42-4663-94b8-ab1effad0089",
   "metadata": {
    "tags": []
   },
   "outputs": [],
   "source": [
    "total_North_African_loading = mean_loading_Dustcomm_20PM[:,:,:,0] + mean_loading_Dustcomm_20PM[:,:,:,1] + mean_loading_Dustcomm_20PM[:,:,:,2]\n",
    "Sarahan_laoding = mean_loading_Dustcomm_20PM[:,:,:,0] + mean_loading_Dustcomm_20PM[:,:,:,1]\n",
    "Sahelian_loading = mean_loading_Dustcomm_20PM[:,:,:,2]\n",
    "print(total_North_African_loading.shape)"
   ]
  },
  {
   "cell_type": "code",
   "execution_count": null,
   "id": "baf6399d-f3dd-433b-a539-51715ccc1203",
   "metadata": {
    "tags": []
   },
   "outputs": [],
   "source": [
    "#ρ_d=(2.5±0.2)×10^3 kg m-3 is the globally representative density of dust aerosols (Fratini et al., 2007; Reid et al., 2008; Kaaden et al., 2009; Sow et al., 2009)\n",
    "ρ_d = 2.5e3\n",
    "delta_m_Db = total_North_African_loading[48,78,:]\n",
    "print('delta_m_Db',delta_m_Db)\n",
    "\n",
    "Q_e_bulk_0W_18N_bin_num = np.zeros(6)\n",
    "Q_e_bulk_0W_18N_bin_den = np.zeros(6)\n",
    "SSA_bulk_0W_18N_bin_num = np.zeros(6)\n",
    "SSA_bulk_0W_18N_bin_den = np.zeros(6)\n",
    "Q_scat = np.zeros(6)\n",
    "g_bulk_0W_18N_bin_num = np.zeros(6)\n",
    "g_bulk_0W_18N_bin_den = np.zeros(6)\n",
    "\n",
    "#all_bins_opt_prop_array[i][0] = Q_e of bin i\n",
    "#all_bins_opt_prop_array[i][1] = SSA of bin i\n",
    "#all_bins_opt_prop_array[i][2] = g of bin i\n",
    "\n",
    "for i in range(0,len(all_bins_opt_prop_array)):\n",
    "    Q_e_bulk_0W_18N_bin_num[i] = (delta_m_Db[i]*(np.pi/4)*(mean_geometric_diameter_bin[i]**2)*all_bins_opt_prop_array[i][0])/((np.pi/6)*(mean_geometric_diameter_bin[i]**3)*ρ_d)\n",
    "    Q_e_bulk_0W_18N_bin_den[i] = (delta_m_Db[i]*(np.pi/4)*(mean_geometric_diameter_bin[i]**2))/((np.pi/6)*(mean_geometric_diameter_bin[i]**3)*ρ_d)\n",
    "    \n",
    "    SSA_bulk_0W_18N_bin_num[i] = (delta_m_Db[i]*(np.pi/4)*(mean_geometric_diameter_bin[i]**2)*all_bins_opt_prop_array[i][0]*all_bins_opt_prop_array[i][1])/((np.pi/6)*(mean_geometric_diameter_bin[i]**3)*ρ_d)\n",
    "    SSA_bulk_0W_18N_bin_den[i] = (delta_m_Db[i]*(np.pi/4)*(mean_geometric_diameter_bin[i]**2)*all_bins_opt_prop_array[i][0])/((np.pi/6)*(mean_geometric_diameter_bin[i]**3)*ρ_d)\n",
    "    \n",
    "    Q_scat[i] = all_bins_opt_prop_array[i][1] * all_bins_opt_prop_array[i][0]\n",
    "    \n",
    "    g_bulk_0W_18N_bin_num[i] = (delta_m_Db[i]*(np.pi/4)*(mean_geometric_diameter_bin[i]**2)*Q_scat[i]*all_bins_opt_prop_array[i][2])/((np.pi/6)*(mean_geometric_diameter_bin[i]**3)*ρ_d)\n",
    "    g_bulk_0W_18N_bin_den[i] = (delta_m_Db[i]*(np.pi/4)*(mean_geometric_diameter_bin[i]**2)*Q_scat[i])/((np.pi/6)*(mean_geometric_diameter_bin[i]**3)*ρ_d)\n",
    "    "
   ]
  },
  {
   "cell_type": "code",
   "execution_count": null,
   "id": "465b9733-0880-4024-87f8-7c84c2945453",
   "metadata": {
    "tags": []
   },
   "outputs": [],
   "source": [
    "# Calculate values\n",
    "Q_e_bulk_0W_18N_bulk = np.sum(Q_e_bulk_0W_18N_bin_num) / np.sum(Q_e_bulk_0W_18N_bin_den)\n",
    "SSA_bulk_0W_18N_bulk = np.sum(SSA_bulk_0W_18N_bin_num) / np.sum(SSA_bulk_0W_18N_bin_den)\n",
    "g_bulk_0W_18N_bulk = np.sum(g_bulk_0W_18N_bin_num) / np.sum(g_bulk_0W_18N_bin_den)\n",
    "\n",
    "# Print the values\n",
    "print(\"Q_e_bulk_0W_18N_bulk: \", Q_e_bulk_0W_18N_bulk)\n",
    "print(\"SSA_bulk_0W_18N_bulk: \", SSA_bulk_0W_18N_bulk)\n",
    "print(\"g_bulk_0W_18N_bulk: \", g_bulk_0W_18N_bulk)"
   ]
  },
  {
   "cell_type": "code",
   "execution_count": null,
   "id": "9275b49d-fb11-41ea-bf95-2905e3379da1",
   "metadata": {
    "tags": []
   },
   "outputs": [],
   "source": [
    "def create_if_not_exists(file_path):\n",
    "    if not os.path.exists(file_path):\n",
    "        with open(file_path, 'w') as file:\n",
    "            # You can optionally write initial content to the file\n",
    "            file.write(\"Wavelength\\tQ_e_bulk_0W_18N_bulk\\tSSA_bulk_0W_18N_bulk\\tg_bulk_0W_18N_bulk\\t\" + '\\n')\n",
    "            #file.write(f\"Q_e_bulk_0W_18N_bulk\\t\")\n",
    "            #file.write(f\"SSA_bulk_0W_18N_bulk\\t\")\n",
    "            #file.write(f\"g_bulk_0W_18N_bulk\\t\\n\")\n",
    "        print(f\"File '{file_path}' created.\")\n",
    "    else:\n",
    "        print(f\"File '{file_path}' already exists.\")\n",
    "\n",
    "# Check if dust optical properties txt file already exists\n",
    "file_path1 = 'RRTM_bulk_dust_optical_properties.txt'\n",
    "file_path2 = 'RRTM_bulk_dust_optical_properties_{}.txt'.format(wavelength)\n",
    "create_if_not_exists(file_path1)\n",
    "create_if_not_exists(file_path2)"
   ]
  },
  {
   "cell_type": "code",
   "execution_count": null,
   "id": "a0d24f11-1cc7-4616-9768-da145934ddb3",
   "metadata": {
    "tags": []
   },
   "outputs": [],
   "source": [
    "# Assuming Q_e_bulk_0W_18N_bulk, SSA_bulk_0W_18N_bulk, g_bulk_0W_18N_bulk are numpy arrays\n",
    "\n",
    "# Data to append\n",
    "data_to_append = np.column_stack((wavelength, Q_e_bulk_0W_18N_bulk, SSA_bulk_0W_18N_bulk, g_bulk_0W_18N_bulk))\n",
    "\n",
    "# Open the file in append mode and use np.savetxt to append data\n",
    "with open('bulk_dust_optical_properties_{}.txt'.format(wavelength), 'a') as file:\n",
    "    np.savetxt(file, data_to_append, fmt='%5.3f', delimiter='\\t', header='', comments='')\n",
    "    \n",
    "# Open the file in append mode and use np.savetxt to append data\n",
    "with open('bulk_dust_optical_properties.txt', 'a') as file:\n",
    "    np.savetxt(file, data_to_append, fmt='%5.3f', delimiter='\\t', header='', comments='')"
   ]
  },
  {
   "cell_type": "code",
   "execution_count": null,
   "id": "743b39cb-cda8-48ac-a980-f500984ee568",
   "metadata": {},
   "outputs": [],
   "source": []
  }
 ],
 "metadata": {
  "kernelspec": {
   "display_name": "rrtm_env",
   "language": "python",
   "name": "rrtm_env"
  },
  "language_info": {
   "codemirror_mode": {
    "name": "ipython",
    "version": 3
   },
   "file_extension": ".py",
   "mimetype": "text/x-python",
   "name": "python",
   "nbconvert_exporter": "python",
   "pygments_lexer": "ipython3",
   "version": "3.11.4"
  }
 },
 "nbformat": 4,
 "nbformat_minor": 5
}
