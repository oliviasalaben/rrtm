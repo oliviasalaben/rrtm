{
 "cells": [
  {
   "cell_type": "code",
   "execution_count": 1,
   "id": "2d33dc51-939a-4123-b01f-7bd65c60dfa8",
   "metadata": {},
   "outputs": [],
   "source": [
    "import os\n",
    "import scipy.io as io\n",
    "import numpy as np\n",
    "import pandas as pd\n",
    "from scipy.interpolate import interp1d\n",
    "import sys\n",
    "import math\n",
    "from netCDF4 import Dataset\n",
    "import os, calendar, sys, fnmatch, datetime\n",
    "import scipy"
   ]
  },
  {
   "cell_type": "markdown",
   "id": "86db6141-042d-43b8-89e3-39ca0756806a",
   "metadata": {},
   "source": [
    "## Read in Yue coordinate matrix and Yue dust optical properties matrices"
   ]
  },
  {
   "cell_type": "code",
   "execution_count": 16,
   "id": "d9b61513-d519-431f-9ccd-06c1defc41e6",
   "metadata": {},
   "outputs": [],
   "source": [
    "Qe_matrix = io.loadmat('Qe_matrix.mat')\n",
    "Qe_matrix = Qe_matrix['array']\n",
    "SSA_matrix = io.loadmat('SSA_matrix.mat')\n",
    "SSA_matrix = SSA_matrix['array']\n",
    "g_matrix = io.loadmat('g_matrix.mat')\n",
    "g_matrix = g_matrix['array']"
   ]
  },
  {
   "cell_type": "code",
   "execution_count": 17,
   "id": "93706357-20c6-4b6d-aa63-6fd37fc7bc42",
   "metadata": {},
   "outputs": [],
   "source": [
    "# coordinate matrix\n",
    "\n",
    "Yue_coord_matrix = io.loadmat('Yue_coord_matrix.mat')\n",
    "Yue_coord_matrix = Yue_coord_matrix['array']\n",
    "\n",
    "Yue_coord_matrix1 = io.loadmat('Yue_size_parameter_and_Ri_matrix.mat')\n",
    "Yue_coord_matrix1 = Yue_coord_matrix1['array']\n",
    "\n",
    "Yue_coord = io.loadmat('Yue_coord.mat')\n",
    "Yue_coord = Yue_coord['array']\n",
    "\n",
    "coordinate_matrix = io.loadmat('coordinate_matrix.mat')\n",
    "coordinate_matrix = coordinate_matrix['array']"
   ]
  },
  {
   "cell_type": "code",
   "execution_count": 18,
   "id": "2d866823-d59f-4cd3-a376-7ac70673d80d",
   "metadata": {},
   "outputs": [
    {
     "name": "stdout",
     "output_type": "stream",
     "text": [
      "(120, 4, 4)\n",
      "(120, 4, 4)\n",
      "(120, 4, 4)\n",
      "(120, 4, 4)\n",
      "(120, 4, 4)\n",
      "(120, 4, 4, 3)\n"
     ]
    }
   ],
   "source": [
    "print(Qe_matrix.shape)\n",
    "print(SSA_matrix.shape)\n",
    "print(g_matrix.shape)\n",
    "print(Yue_coord_matrix.shape)\n",
    "print(Yue_coord.shape)\n",
    "print(coordinate_matrix.shape)"
   ]
  },
  {
   "cell_type": "code",
   "execution_count": 19,
   "id": "924b5845-9e58-4bc3-8a13-4e929ed9fd58",
   "metadata": {},
   "outputs": [
    {
     "name": "stdout",
     "output_type": "stream",
     "text": [
      "<class 'numpy.ndarray'>\n"
     ]
    }
   ],
   "source": [
    "print(type(coordinate_matrix))"
   ]
  },
  {
   "cell_type": "code",
   "execution_count": 20,
   "id": "733d58ec-548b-4dd3-8f50-e9243b2f5070",
   "metadata": {},
   "outputs": [
    {
     "data": {
      "text/plain": [
       "array([3.30693964e-01, 1.50000000e+00, 5.00000000e-04])"
      ]
     },
     "execution_count": 20,
     "metadata": {},
     "output_type": "execute_result"
    }
   ],
   "source": [
    "coordinate_matrix[0,0,0]"
   ]
  },
  {
   "cell_type": "markdown",
   "id": "162f1777-4949-4540-8298-f43527d81b34",
   "metadata": {},
   "source": [
    "## Use these matrices to interpolate the values of Qext, SSA, and g and compare the results against Figure 2 in Huang et al. (2023)? The results plotted there were obtained for n =1.53 and k = 10^(-2.75) (except for panel c). If they agree we know the procedure was successful."
   ]
  },
  {
   "cell_type": "code",
   "execution_count": 21,
   "id": "35d88262-f44b-4f28-9980-bdcbe6b6ad05",
   "metadata": {},
   "outputs": [
    {
     "name": "stdout",
     "output_type": "stream",
     "text": [
      "<class 'float'>\n",
      "<class 'float'>\n",
      "<class 'float'>\n"
     ]
    }
   ],
   "source": [
    "n =1.53\n",
    "print(type(n))\n",
    "k = 10**(-2.750)\n",
    "print(type(k))\n",
    "wavelength_550 = float(550*10^-3) #500nm *10^-3 = um\n",
    "wavelength_10um = float(10) #10 um = 10 * 10^3 nm\n",
    "print(type(wavelength_550))"
   ]
  },
  {
   "cell_type": "code",
   "execution_count": 22,
   "id": "d682baae-a652-4ad7-975b-164c6c50d46b",
   "metadata": {},
   "outputs": [
    {
     "name": "stdout",
     "output_type": "stream",
     "text": [
      "300\n"
     ]
    }
   ],
   "source": [
    "# Define the Yue dust diamater range arrays\n",
    "diameter_range_1 = np.logspace(np.log(0.1), np.log(20), 230) #in um\n",
    "diameter_range_2 = np.logspace(np.log(20.5), np.log(70), 70) #in um\n",
    "\n",
    "# Concatenate the arrays\n",
    "diameter_range = np.concatenate((diameter_range_1, diameter_range_2))\n",
    "print(len(diameter_range))"
   ]
  },
  {
   "cell_type": "code",
   "execution_count": 23,
   "id": "ada51cd4-6039-468c-9388-dcac016ef891",
   "metadata": {},
   "outputs": [
    {
     "data": {
      "text/plain": [
       "120"
      ]
     },
     "execution_count": 23,
     "metadata": {},
     "output_type": "execute_result"
    }
   ],
   "source": [
    "len(Yue_coord_matrix)"
   ]
  },
  {
   "cell_type": "code",
   "execution_count": 24,
   "id": "1795a40b-16e1-4d87-aa44-8795eac85950",
   "metadata": {},
   "outputs": [
    {
     "name": "stdout",
     "output_type": "stream",
     "text": [
      "(120, 4, 4) [[[0.00579967 0.00632022 0.00770392 0.0086648 ]\n",
      "  [0.01248496 0.01330467 0.01139741 0.01176294]\n",
      "  [0.01326303 0.01411491 0.01287314 0.01318581]\n",
      "  [0.0149366  0.01585537 0.01647204 0.01705219]]\n",
      "\n",
      " [[0.01340117 0.014065   0.01592071 0.01716373]\n",
      "  [0.02430584 0.02540136 0.02369377 0.02403838]\n",
      "  [0.02728247 0.02849257 0.02702707 0.02725993]\n",
      "  [0.03362425 0.03507405 0.03559898 0.03619906]]\n",
      "\n",
      " [[0.0135232  0.01418854 0.01615054 0.01741957]\n",
      "  [0.02362136 0.0246824  0.02380374 0.02430806]\n",
      "  [0.02674221 0.02792281 0.02715652 0.0275623 ]\n",
      "  [0.03367749 0.03512014 0.03594494 0.03667028]]\n",
      "\n",
      " ...\n",
      "\n",
      " [[       nan        nan        nan        nan]\n",
      "  [       nan        nan        nan        nan]\n",
      "  [       nan        nan        nan        nan]\n",
      "  [       nan        nan        nan        nan]]\n",
      "\n",
      " [[       nan        nan        nan        nan]\n",
      "  [       nan        nan        nan        nan]\n",
      "  [       nan        nan        nan        nan]\n",
      "  [       nan        nan        nan        nan]]\n",
      "\n",
      " [[       nan        nan        nan        nan]\n",
      "  [       nan        nan        nan        nan]\n",
      "  [       nan        nan        nan        nan]\n",
      "  [       nan        nan        nan        nan]]]\n"
     ]
    }
   ],
   "source": [
    "print(Qe_matrix.shape, Qe_matrix)"
   ]
  },
  {
   "cell_type": "code",
   "execution_count": 25,
   "id": "b752933d-14cc-40db-aa76-f8507e7db127",
   "metadata": {},
   "outputs": [],
   "source": [
    "#print(Yue_coord.shape, Yue_coord)"
   ]
  },
  {
   "cell_type": "markdown",
   "id": "85097f3e-bad0-4f47-b3ac-c48b3c2b319d",
   "metadata": {},
   "source": [
    "# 550 nm wavelength Qe plots"
   ]
  },
  {
   "cell_type": "code",
   "execution_count": 33,
   "id": "fe5983fc-9d60-4454-97ca-5070f48afd1c",
   "metadata": {},
   "outputs": [
    {
     "ename": "ValueError",
     "evalue": "There are 120 point arrays, but values has 3 dimensions",
     "output_type": "error",
     "traceback": [
      "\u001b[0;31m---------------------------------------------------------------------------\u001b[0m",
      "\u001b[0;31mValueError\u001b[0m                                Traceback (most recent call last)",
      "Cell \u001b[0;32mIn[33], line 6\u001b[0m\n\u001b[1;32m      4\u001b[0m point \u001b[38;5;241m=\u001b[39m (size_param, n, k)\n\u001b[1;32m      5\u001b[0m \u001b[38;5;66;03m#Qe_interp = scipy.interpolate.interpn(Yue_coord_matrix1, Qe_matrix, point , method='linear')\u001b[39;00m\n\u001b[0;32m----> 6\u001b[0m Qe_interp \u001b[38;5;241m=\u001b[39m scipy\u001b[38;5;241m.\u001b[39minterpolate\u001b[38;5;241m.\u001b[39minterpn(coordinate_matrix, Qe_matrix, point , method\u001b[38;5;241m=\u001b[39m\u001b[38;5;124m'\u001b[39m\u001b[38;5;124mlinear\u001b[39m\u001b[38;5;124m'\u001b[39m)\n",
      "File \u001b[0;32m/opt/anaconda3/envs/rrtm_env/lib/python3.11/site-packages/scipy/interpolate/_rgi.py:631\u001b[0m, in \u001b[0;36minterpn\u001b[0;34m(points, values, xi, method, bounds_error, fill_value)\u001b[0m\n\u001b[1;32m    629\u001b[0m \u001b[38;5;66;03m# sanity check consistency of input dimensions\u001b[39;00m\n\u001b[1;32m    630\u001b[0m \u001b[38;5;28;01mif\u001b[39;00m \u001b[38;5;28mlen\u001b[39m(points) \u001b[38;5;241m>\u001b[39m ndim:\n\u001b[0;32m--> 631\u001b[0m     \u001b[38;5;28;01mraise\u001b[39;00m \u001b[38;5;167;01mValueError\u001b[39;00m(\u001b[38;5;124m\"\u001b[39m\u001b[38;5;124mThere are \u001b[39m\u001b[38;5;132;01m%d\u001b[39;00m\u001b[38;5;124m point arrays, but values has \u001b[39m\u001b[38;5;132;01m%d\u001b[39;00m\u001b[38;5;124m \u001b[39m\u001b[38;5;124m\"\u001b[39m\n\u001b[1;32m    632\u001b[0m                      \u001b[38;5;124m\"\u001b[39m\u001b[38;5;124mdimensions\u001b[39m\u001b[38;5;124m\"\u001b[39m \u001b[38;5;241m%\u001b[39m (\u001b[38;5;28mlen\u001b[39m(points), ndim))\n\u001b[1;32m    633\u001b[0m \u001b[38;5;28;01mif\u001b[39;00m \u001b[38;5;28mlen\u001b[39m(points) \u001b[38;5;241m!=\u001b[39m ndim \u001b[38;5;129;01mand\u001b[39;00m method \u001b[38;5;241m==\u001b[39m \u001b[38;5;124m'\u001b[39m\u001b[38;5;124msplinef2d\u001b[39m\u001b[38;5;124m'\u001b[39m:\n\u001b[1;32m    634\u001b[0m     \u001b[38;5;28;01mraise\u001b[39;00m \u001b[38;5;167;01mValueError\u001b[39;00m(\u001b[38;5;124m\"\u001b[39m\u001b[38;5;124mThe method splinef2d can only be used for \u001b[39m\u001b[38;5;124m\"\u001b[39m\n\u001b[1;32m    635\u001b[0m                      \u001b[38;5;124m\"\u001b[39m\u001b[38;5;124mscalar data with one point per coordinate\u001b[39m\u001b[38;5;124m\"\u001b[39m)\n",
      "\u001b[0;31mValueError\u001b[0m: There are 120 point arrays, but values has 3 dimensions"
     ]
    }
   ],
   "source": [
    "for i in range(len(diameter_range)):\n",
    "    size_param = float((np.pi * diameter_range[i])/wavelength_550)\n",
    "    #print(type(size_param))\n",
    "    point = (size_param, n, k)\n",
    "    #Qe_interp = scipy.interpolate.interpn(Yue_coord_matrix1, Qe_matrix, point , method='linear')\n",
    "    Qe_interp = scipy.interpolate.interpn(coordinate_matrix, Qe_matrix, point , method='linear')"
   ]
  },
  {
   "cell_type": "code",
   "execution_count": null,
   "id": "fff45d92-e8ca-44f8-a21a-dd03848ba8b9",
   "metadata": {},
   "outputs": [],
   "source": []
  }
 ],
 "metadata": {
  "kernelspec": {
   "display_name": "rrtm_env",
   "language": "python",
   "name": "rrtm_env"
  },
  "language_info": {
   "codemirror_mode": {
    "name": "ipython",
    "version": 3
   },
   "file_extension": ".py",
   "mimetype": "text/x-python",
   "name": "python",
   "nbconvert_exporter": "python",
   "pygments_lexer": "ipython3",
   "version": "3.11.4"
  }
 },
 "nbformat": 4,
 "nbformat_minor": 5
}
