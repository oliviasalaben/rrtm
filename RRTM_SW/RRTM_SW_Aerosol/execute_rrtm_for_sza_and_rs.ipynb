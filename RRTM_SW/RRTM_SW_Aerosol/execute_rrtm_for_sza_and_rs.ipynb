{
 "cells": [
  {
   "cell_type": "code",
   "execution_count": 1,
   "id": "ce01a81a-dc24-4a23-ad19-ec3b3adf40fd",
   "metadata": {},
   "outputs": [],
   "source": [
    "import numpy as np"
   ]
  },
  {
   "cell_type": "markdown",
   "id": "039959ea-eb58-44b4-87ea-9971862a7575",
   "metadata": {
    "tags": []
   },
   "source": [
    "from nbconvert.preprocessors import ExecutePreprocessor\n",
    "import nbformat\n",
    "\n",
    "def execute_notebook(notebook_path):\n",
    "    with open(notebook_path) as f:\n",
    "        nb = nbformat.read(f, as_version=4)\n",
    "    \n",
    "    # Create an instance of the ExecutePreprocessor class\n",
    "    executor = ExecutePreprocessor(timeout=-1)\n",
    "    \n",
    "    # Execute the notebook\n",
    "    executor.preprocess(nb, {'metadata': {'path': '.'}})\n",
    "    \n",
    "    print(\"Notebook executed successfully.\")\n",
    "\n",
    "# Specify the path to the notebook you want to execute\n",
    "notebook_path = \"/my_run_rrtm_sw.ipynb\"\n",
    "\n",
    "# Call the execute_notebook function with the notebook path\n",
    "execute_notebook(notebook_path)"
   ]
  },
  {
   "cell_type": "code",
   "execution_count": 2,
   "id": "64b9de25-8e55-4015-b103-0cc732cc5259",
   "metadata": {},
   "outputs": [],
   "source": [
    "sza_values = np.arange(0,100,10)\n",
    "Rs_values = np.arange(0,1.1,0.1)"
   ]
  },
  {
   "cell_type": "code",
   "execution_count": 3,
   "id": "edefede8-272a-49c9-bfda-ba17e11e3a91",
   "metadata": {},
   "outputs": [
    {
     "name": "stdout",
     "output_type": "stream",
     "text": [
      "10 [ 0 10 20 30 40 50 60 70 80 90]\n",
      "11 [0.  0.1 0.2 0.3 0.4 0.5 0.6 0.7 0.8 0.9 1. ]\n"
     ]
    }
   ],
   "source": [
    "print(len(sza_values), sza_values)\n",
    "print(len(Rs_values), Rs_values)"
   ]
  },
  {
   "cell_type": "code",
   "execution_count": 4,
   "id": "fc964224-6497-4684-8ae1-892b8f42aa2f",
   "metadata": {},
   "outputs": [
    {
     "data": {
      "application/vnd.jupyter.widget-view+json": {
       "model_id": "3d9b016d86f24d579c207c6434d454aa",
       "version_major": 2,
       "version_minor": 0
      },
      "text/plain": [
       "Executing:   0%|          | 0/9 [00:00<?, ?cell/s]"
      ]
     },
     "metadata": {},
     "output_type": "display_data"
    },
    {
     "name": "stderr",
     "output_type": "stream",
     "text": [
      "This version of python seems to be incorrectly compiled\n",
      "(internal generated filenames are not absolute).\n",
      "This may make the debugger miss breakpoints.\n",
      "Related bug: http://bugs.python.org/issue1666807\n"
     ]
    },
    {
     "name": "stdout",
     "output_type": "stream",
     "text": [
      "Notebook executed successfully with parameters x=0.0, y=0.0. Output saved as 'abs_notebook_x0.00_y0.00.ipynb'.\n"
     ]
    },
    {
     "data": {
      "application/vnd.jupyter.widget-view+json": {
       "model_id": "7121332422564fdea9468be4181e8c26",
       "version_major": 2,
       "version_minor": 0
      },
      "text/plain": [
       "Executing:   0%|          | 0/9 [00:00<?, ?cell/s]"
      ]
     },
     "metadata": {},
     "output_type": "display_data"
    },
    {
     "name": "stderr",
     "output_type": "stream",
     "text": [
      "This version of python seems to be incorrectly compiled\n",
      "(internal generated filenames are not absolute).\n",
      "This may make the debugger miss breakpoints.\n",
      "Related bug: http://bugs.python.org/issue1666807\n"
     ]
    },
    {
     "name": "stdout",
     "output_type": "stream",
     "text": [
      "Notebook executed successfully with parameters x=0.0, y=10.0. Output saved as 'abs_notebook_x0.00_y10.00.ipynb'.\n"
     ]
    },
    {
     "data": {
      "application/vnd.jupyter.widget-view+json": {
       "model_id": "bea84df407dd4b659290c3ac889bc710",
       "version_major": 2,
       "version_minor": 0
      },
      "text/plain": [
       "Executing:   0%|          | 0/9 [00:00<?, ?cell/s]"
      ]
     },
     "metadata": {},
     "output_type": "display_data"
    },
    {
     "name": "stderr",
     "output_type": "stream",
     "text": [
      "This version of python seems to be incorrectly compiled\n",
      "(internal generated filenames are not absolute).\n",
      "This may make the debugger miss breakpoints.\n",
      "Related bug: http://bugs.python.org/issue1666807\n"
     ]
    },
    {
     "name": "stdout",
     "output_type": "stream",
     "text": [
      "Notebook executed successfully with parameters x=0.0, y=20.0. Output saved as 'abs_notebook_x0.00_y20.00.ipynb'.\n"
     ]
    },
    {
     "data": {
      "application/vnd.jupyter.widget-view+json": {
       "model_id": "ff81094381654fd7b1e9707e83451099",
       "version_major": 2,
       "version_minor": 0
      },
      "text/plain": [
       "Executing:   0%|          | 0/9 [00:00<?, ?cell/s]"
      ]
     },
     "metadata": {},
     "output_type": "display_data"
    },
    {
     "name": "stderr",
     "output_type": "stream",
     "text": [
      "This version of python seems to be incorrectly compiled\n",
      "(internal generated filenames are not absolute).\n",
      "This may make the debugger miss breakpoints.\n",
      "Related bug: http://bugs.python.org/issue1666807\n"
     ]
    },
    {
     "name": "stdout",
     "output_type": "stream",
     "text": [
      "Notebook executed successfully with parameters x=0.0, y=30.0. Output saved as 'abs_notebook_x0.00_y30.00.ipynb'.\n"
     ]
    },
    {
     "data": {
      "application/vnd.jupyter.widget-view+json": {
       "model_id": "20ad077c0f47474480e7fdc0e014f26f",
       "version_major": 2,
       "version_minor": 0
      },
      "text/plain": [
       "Executing:   0%|          | 0/9 [00:00<?, ?cell/s]"
      ]
     },
     "metadata": {},
     "output_type": "display_data"
    },
    {
     "name": "stderr",
     "output_type": "stream",
     "text": [
      "This version of python seems to be incorrectly compiled\n",
      "(internal generated filenames are not absolute).\n",
      "This may make the debugger miss breakpoints.\n",
      "Related bug: http://bugs.python.org/issue1666807\n"
     ]
    },
    {
     "name": "stdout",
     "output_type": "stream",
     "text": [
      "Notebook executed successfully with parameters x=0.0, y=40.0. Output saved as 'abs_notebook_x0.00_y40.00.ipynb'.\n"
     ]
    },
    {
     "data": {
      "application/vnd.jupyter.widget-view+json": {
       "model_id": "b83732f2eb52497aa133503936916447",
       "version_major": 2,
       "version_minor": 0
      },
      "text/plain": [
       "Executing:   0%|          | 0/9 [00:00<?, ?cell/s]"
      ]
     },
     "metadata": {},
     "output_type": "display_data"
    },
    {
     "name": "stderr",
     "output_type": "stream",
     "text": [
      "This version of python seems to be incorrectly compiled\n",
      "(internal generated filenames are not absolute).\n",
      "This may make the debugger miss breakpoints.\n",
      "Related bug: http://bugs.python.org/issue1666807\n"
     ]
    },
    {
     "name": "stdout",
     "output_type": "stream",
     "text": [
      "Notebook executed successfully with parameters x=0.0, y=50.0. Output saved as 'abs_notebook_x0.00_y50.00.ipynb'.\n"
     ]
    },
    {
     "data": {
      "application/vnd.jupyter.widget-view+json": {
       "model_id": "076acb11390a4ec89c25d5dac5ac6b41",
       "version_major": 2,
       "version_minor": 0
      },
      "text/plain": [
       "Executing:   0%|          | 0/9 [00:00<?, ?cell/s]"
      ]
     },
     "metadata": {},
     "output_type": "display_data"
    },
    {
     "name": "stderr",
     "output_type": "stream",
     "text": [
      "This version of python seems to be incorrectly compiled\n",
      "(internal generated filenames are not absolute).\n",
      "This may make the debugger miss breakpoints.\n",
      "Related bug: http://bugs.python.org/issue1666807\n"
     ]
    },
    {
     "name": "stdout",
     "output_type": "stream",
     "text": [
      "Notebook executed successfully with parameters x=0.0, y=60.0. Output saved as 'abs_notebook_x0.00_y60.00.ipynb'.\n"
     ]
    },
    {
     "data": {
      "application/vnd.jupyter.widget-view+json": {
       "model_id": "f97c005724034005858d197eacab1323",
       "version_major": 2,
       "version_minor": 0
      },
      "text/plain": [
       "Executing:   0%|          | 0/9 [00:00<?, ?cell/s]"
      ]
     },
     "metadata": {},
     "output_type": "display_data"
    },
    {
     "name": "stderr",
     "output_type": "stream",
     "text": [
      "This version of python seems to be incorrectly compiled\n",
      "(internal generated filenames are not absolute).\n",
      "This may make the debugger miss breakpoints.\n",
      "Related bug: http://bugs.python.org/issue1666807\n"
     ]
    },
    {
     "name": "stdout",
     "output_type": "stream",
     "text": [
      "Notebook executed successfully with parameters x=0.0, y=70.0. Output saved as 'abs_notebook_x0.00_y70.00.ipynb'.\n"
     ]
    },
    {
     "data": {
      "application/vnd.jupyter.widget-view+json": {
       "model_id": "a85af944b3f94fcc9baeebac8d2f6295",
       "version_major": 2,
       "version_minor": 0
      },
      "text/plain": [
       "Executing:   0%|          | 0/9 [00:00<?, ?cell/s]"
      ]
     },
     "metadata": {},
     "output_type": "display_data"
    },
    {
     "name": "stderr",
     "output_type": "stream",
     "text": [
      "This version of python seems to be incorrectly compiled\n",
      "(internal generated filenames are not absolute).\n",
      "This may make the debugger miss breakpoints.\n",
      "Related bug: http://bugs.python.org/issue1666807\n"
     ]
    },
    {
     "name": "stdout",
     "output_type": "stream",
     "text": [
      "Notebook executed successfully with parameters x=0.0, y=80.0. Output saved as 'abs_notebook_x0.00_y80.00.ipynb'.\n"
     ]
    },
    {
     "data": {
      "application/vnd.jupyter.widget-view+json": {
       "model_id": "e0b504a65f454700a644c456e600194d",
       "version_major": 2,
       "version_minor": 0
      },
      "text/plain": [
       "Executing:   0%|          | 0/9 [00:00<?, ?cell/s]"
      ]
     },
     "metadata": {},
     "output_type": "display_data"
    },
    {
     "name": "stderr",
     "output_type": "stream",
     "text": [
      "This version of python seems to be incorrectly compiled\n",
      "(internal generated filenames are not absolute).\n",
      "This may make the debugger miss breakpoints.\n",
      "Related bug: http://bugs.python.org/issue1666807\n"
     ]
    },
    {
     "name": "stdout",
     "output_type": "stream",
     "text": [
      "Notebook executed successfully with parameters x=0.0, y=90.0. Output saved as 'abs_notebook_x0.00_y90.00.ipynb'.\n"
     ]
    },
    {
     "data": {
      "application/vnd.jupyter.widget-view+json": {
       "model_id": "efbd2c503c924a59bf720f8d94270273",
       "version_major": 2,
       "version_minor": 0
      },
      "text/plain": [
       "Executing:   0%|          | 0/9 [00:00<?, ?cell/s]"
      ]
     },
     "metadata": {},
     "output_type": "display_data"
    },
    {
     "name": "stderr",
     "output_type": "stream",
     "text": [
      "This version of python seems to be incorrectly compiled\n",
      "(internal generated filenames are not absolute).\n",
      "This may make the debugger miss breakpoints.\n",
      "Related bug: http://bugs.python.org/issue1666807\n"
     ]
    },
    {
     "name": "stdout",
     "output_type": "stream",
     "text": [
      "Notebook executed successfully with parameters x=0.1, y=0.0. Output saved as 'abs_notebook_x0.10_y0.00.ipynb'.\n"
     ]
    },
    {
     "data": {
      "application/vnd.jupyter.widget-view+json": {
       "model_id": "9ece745e0a7f4ecb9a8a2d62c95a9b85",
       "version_major": 2,
       "version_minor": 0
      },
      "text/plain": [
       "Executing:   0%|          | 0/9 [00:00<?, ?cell/s]"
      ]
     },
     "metadata": {},
     "output_type": "display_data"
    },
    {
     "name": "stderr",
     "output_type": "stream",
     "text": [
      "This version of python seems to be incorrectly compiled\n",
      "(internal generated filenames are not absolute).\n",
      "This may make the debugger miss breakpoints.\n",
      "Related bug: http://bugs.python.org/issue1666807\n"
     ]
    },
    {
     "name": "stdout",
     "output_type": "stream",
     "text": [
      "Notebook executed successfully with parameters x=0.1, y=10.0. Output saved as 'abs_notebook_x0.10_y10.00.ipynb'.\n"
     ]
    },
    {
     "data": {
      "application/vnd.jupyter.widget-view+json": {
       "model_id": "f9358b175340449db1e8f21c79162506",
       "version_major": 2,
       "version_minor": 0
      },
      "text/plain": [
       "Executing:   0%|          | 0/9 [00:00<?, ?cell/s]"
      ]
     },
     "metadata": {},
     "output_type": "display_data"
    },
    {
     "name": "stderr",
     "output_type": "stream",
     "text": [
      "This version of python seems to be incorrectly compiled\n",
      "(internal generated filenames are not absolute).\n",
      "This may make the debugger miss breakpoints.\n",
      "Related bug: http://bugs.python.org/issue1666807\n"
     ]
    },
    {
     "name": "stdout",
     "output_type": "stream",
     "text": [
      "Notebook executed successfully with parameters x=0.1, y=20.0. Output saved as 'abs_notebook_x0.10_y20.00.ipynb'.\n"
     ]
    },
    {
     "data": {
      "application/vnd.jupyter.widget-view+json": {
       "model_id": "f9a5d3c71f1946b3808039e6a7446454",
       "version_major": 2,
       "version_minor": 0
      },
      "text/plain": [
       "Executing:   0%|          | 0/9 [00:00<?, ?cell/s]"
      ]
     },
     "metadata": {},
     "output_type": "display_data"
    },
    {
     "name": "stderr",
     "output_type": "stream",
     "text": [
      "This version of python seems to be incorrectly compiled\n",
      "(internal generated filenames are not absolute).\n",
      "This may make the debugger miss breakpoints.\n",
      "Related bug: http://bugs.python.org/issue1666807\n"
     ]
    },
    {
     "name": "stdout",
     "output_type": "stream",
     "text": [
      "Notebook executed successfully with parameters x=0.1, y=30.0. Output saved as 'abs_notebook_x0.10_y30.00.ipynb'.\n"
     ]
    },
    {
     "data": {
      "application/vnd.jupyter.widget-view+json": {
       "model_id": "846c97cd60444b05841d4ef2a579e293",
       "version_major": 2,
       "version_minor": 0
      },
      "text/plain": [
       "Executing:   0%|          | 0/9 [00:00<?, ?cell/s]"
      ]
     },
     "metadata": {},
     "output_type": "display_data"
    },
    {
     "name": "stderr",
     "output_type": "stream",
     "text": [
      "This version of python seems to be incorrectly compiled\n",
      "(internal generated filenames are not absolute).\n",
      "This may make the debugger miss breakpoints.\n",
      "Related bug: http://bugs.python.org/issue1666807\n"
     ]
    },
    {
     "name": "stdout",
     "output_type": "stream",
     "text": [
      "Notebook executed successfully with parameters x=0.1, y=40.0. Output saved as 'abs_notebook_x0.10_y40.00.ipynb'.\n"
     ]
    },
    {
     "data": {
      "application/vnd.jupyter.widget-view+json": {
       "model_id": "6adb6be2a4284cdd8758c1aed8d698e0",
       "version_major": 2,
       "version_minor": 0
      },
      "text/plain": [
       "Executing:   0%|          | 0/9 [00:00<?, ?cell/s]"
      ]
     },
     "metadata": {},
     "output_type": "display_data"
    },
    {
     "name": "stderr",
     "output_type": "stream",
     "text": [
      "This version of python seems to be incorrectly compiled\n",
      "(internal generated filenames are not absolute).\n",
      "This may make the debugger miss breakpoints.\n",
      "Related bug: http://bugs.python.org/issue1666807\n"
     ]
    },
    {
     "name": "stdout",
     "output_type": "stream",
     "text": [
      "Notebook executed successfully with parameters x=0.1, y=50.0. Output saved as 'abs_notebook_x0.10_y50.00.ipynb'.\n"
     ]
    },
    {
     "data": {
      "application/vnd.jupyter.widget-view+json": {
       "model_id": "2f75f8355f884179ba44a668a40c15f4",
       "version_major": 2,
       "version_minor": 0
      },
      "text/plain": [
       "Executing:   0%|          | 0/9 [00:00<?, ?cell/s]"
      ]
     },
     "metadata": {},
     "output_type": "display_data"
    },
    {
     "name": "stderr",
     "output_type": "stream",
     "text": [
      "This version of python seems to be incorrectly compiled\n",
      "(internal generated filenames are not absolute).\n",
      "This may make the debugger miss breakpoints.\n",
      "Related bug: http://bugs.python.org/issue1666807\n"
     ]
    },
    {
     "name": "stdout",
     "output_type": "stream",
     "text": [
      "Notebook executed successfully with parameters x=0.1, y=60.0. Output saved as 'abs_notebook_x0.10_y60.00.ipynb'.\n"
     ]
    },
    {
     "data": {
      "application/vnd.jupyter.widget-view+json": {
       "model_id": "32d4c4d0623d425592d561863ed4def2",
       "version_major": 2,
       "version_minor": 0
      },
      "text/plain": [
       "Executing:   0%|          | 0/9 [00:00<?, ?cell/s]"
      ]
     },
     "metadata": {},
     "output_type": "display_data"
    },
    {
     "name": "stderr",
     "output_type": "stream",
     "text": [
      "This version of python seems to be incorrectly compiled\n",
      "(internal generated filenames are not absolute).\n",
      "This may make the debugger miss breakpoints.\n",
      "Related bug: http://bugs.python.org/issue1666807\n"
     ]
    },
    {
     "name": "stdout",
     "output_type": "stream",
     "text": [
      "Notebook executed successfully with parameters x=0.1, y=70.0. Output saved as 'abs_notebook_x0.10_y70.00.ipynb'.\n"
     ]
    },
    {
     "data": {
      "application/vnd.jupyter.widget-view+json": {
       "model_id": "6d5fa85c53db4428a8fa5c46e0d2a360",
       "version_major": 2,
       "version_minor": 0
      },
      "text/plain": [
       "Executing:   0%|          | 0/9 [00:00<?, ?cell/s]"
      ]
     },
     "metadata": {},
     "output_type": "display_data"
    },
    {
     "name": "stderr",
     "output_type": "stream",
     "text": [
      "This version of python seems to be incorrectly compiled\n",
      "(internal generated filenames are not absolute).\n",
      "This may make the debugger miss breakpoints.\n",
      "Related bug: http://bugs.python.org/issue1666807\n"
     ]
    },
    {
     "name": "stdout",
     "output_type": "stream",
     "text": [
      "Notebook executed successfully with parameters x=0.1, y=80.0. Output saved as 'abs_notebook_x0.10_y80.00.ipynb'.\n"
     ]
    },
    {
     "data": {
      "application/vnd.jupyter.widget-view+json": {
       "model_id": "2990a95ddf754d428c719c4f5d674ee2",
       "version_major": 2,
       "version_minor": 0
      },
      "text/plain": [
       "Executing:   0%|          | 0/9 [00:00<?, ?cell/s]"
      ]
     },
     "metadata": {},
     "output_type": "display_data"
    },
    {
     "name": "stderr",
     "output_type": "stream",
     "text": [
      "This version of python seems to be incorrectly compiled\n",
      "(internal generated filenames are not absolute).\n",
      "This may make the debugger miss breakpoints.\n",
      "Related bug: http://bugs.python.org/issue1666807\n"
     ]
    },
    {
     "name": "stdout",
     "output_type": "stream",
     "text": [
      "Notebook executed successfully with parameters x=0.1, y=90.0. Output saved as 'abs_notebook_x0.10_y90.00.ipynb'.\n"
     ]
    },
    {
     "data": {
      "application/vnd.jupyter.widget-view+json": {
       "model_id": "2e2830ced829474eb7ddaf176b5f93c8",
       "version_major": 2,
       "version_minor": 0
      },
      "text/plain": [
       "Executing:   0%|          | 0/9 [00:00<?, ?cell/s]"
      ]
     },
     "metadata": {},
     "output_type": "display_data"
    },
    {
     "name": "stderr",
     "output_type": "stream",
     "text": [
      "This version of python seems to be incorrectly compiled\n",
      "(internal generated filenames are not absolute).\n",
      "This may make the debugger miss breakpoints.\n",
      "Related bug: http://bugs.python.org/issue1666807\n"
     ]
    },
    {
     "name": "stdout",
     "output_type": "stream",
     "text": [
      "Notebook executed successfully with parameters x=0.2, y=0.0. Output saved as 'abs_notebook_x0.20_y0.00.ipynb'.\n"
     ]
    },
    {
     "data": {
      "application/vnd.jupyter.widget-view+json": {
       "model_id": "95bd13cf5f20489f8f84edfdda5586bf",
       "version_major": 2,
       "version_minor": 0
      },
      "text/plain": [
       "Executing:   0%|          | 0/9 [00:00<?, ?cell/s]"
      ]
     },
     "metadata": {},
     "output_type": "display_data"
    },
    {
     "name": "stderr",
     "output_type": "stream",
     "text": [
      "This version of python seems to be incorrectly compiled\n",
      "(internal generated filenames are not absolute).\n",
      "This may make the debugger miss breakpoints.\n",
      "Related bug: http://bugs.python.org/issue1666807\n"
     ]
    },
    {
     "name": "stdout",
     "output_type": "stream",
     "text": [
      "Notebook executed successfully with parameters x=0.2, y=10.0. Output saved as 'abs_notebook_x0.20_y10.00.ipynb'.\n"
     ]
    },
    {
     "data": {
      "application/vnd.jupyter.widget-view+json": {
       "model_id": "19acc61b6ff54633b5152e662a101dd8",
       "version_major": 2,
       "version_minor": 0
      },
      "text/plain": [
       "Executing:   0%|          | 0/9 [00:00<?, ?cell/s]"
      ]
     },
     "metadata": {},
     "output_type": "display_data"
    },
    {
     "name": "stderr",
     "output_type": "stream",
     "text": [
      "This version of python seems to be incorrectly compiled\n",
      "(internal generated filenames are not absolute).\n",
      "This may make the debugger miss breakpoints.\n",
      "Related bug: http://bugs.python.org/issue1666807\n"
     ]
    },
    {
     "name": "stdout",
     "output_type": "stream",
     "text": [
      "Notebook executed successfully with parameters x=0.2, y=20.0. Output saved as 'abs_notebook_x0.20_y20.00.ipynb'.\n"
     ]
    },
    {
     "data": {
      "application/vnd.jupyter.widget-view+json": {
       "model_id": "64faf7f1b3104fa8ab602501c5ca237f",
       "version_major": 2,
       "version_minor": 0
      },
      "text/plain": [
       "Executing:   0%|          | 0/9 [00:00<?, ?cell/s]"
      ]
     },
     "metadata": {},
     "output_type": "display_data"
    },
    {
     "name": "stderr",
     "output_type": "stream",
     "text": [
      "This version of python seems to be incorrectly compiled\n",
      "(internal generated filenames are not absolute).\n",
      "This may make the debugger miss breakpoints.\n",
      "Related bug: http://bugs.python.org/issue1666807\n"
     ]
    },
    {
     "name": "stdout",
     "output_type": "stream",
     "text": [
      "Notebook executed successfully with parameters x=0.2, y=30.0. Output saved as 'abs_notebook_x0.20_y30.00.ipynb'.\n"
     ]
    },
    {
     "data": {
      "application/vnd.jupyter.widget-view+json": {
       "model_id": "ba212efb51c84700aca0ccd24fd60530",
       "version_major": 2,
       "version_minor": 0
      },
      "text/plain": [
       "Executing:   0%|          | 0/9 [00:00<?, ?cell/s]"
      ]
     },
     "metadata": {},
     "output_type": "display_data"
    },
    {
     "name": "stderr",
     "output_type": "stream",
     "text": [
      "This version of python seems to be incorrectly compiled\n",
      "(internal generated filenames are not absolute).\n",
      "This may make the debugger miss breakpoints.\n",
      "Related bug: http://bugs.python.org/issue1666807\n"
     ]
    },
    {
     "name": "stdout",
     "output_type": "stream",
     "text": [
      "Notebook executed successfully with parameters x=0.2, y=40.0. Output saved as 'abs_notebook_x0.20_y40.00.ipynb'.\n"
     ]
    },
    {
     "data": {
      "application/vnd.jupyter.widget-view+json": {
       "model_id": "b2f3414f8ba3463ab36f49c8ff4be8a2",
       "version_major": 2,
       "version_minor": 0
      },
      "text/plain": [
       "Executing:   0%|          | 0/9 [00:00<?, ?cell/s]"
      ]
     },
     "metadata": {},
     "output_type": "display_data"
    },
    {
     "name": "stderr",
     "output_type": "stream",
     "text": [
      "This version of python seems to be incorrectly compiled\n",
      "(internal generated filenames are not absolute).\n",
      "This may make the debugger miss breakpoints.\n",
      "Related bug: http://bugs.python.org/issue1666807\n"
     ]
    },
    {
     "name": "stdout",
     "output_type": "stream",
     "text": [
      "Notebook executed successfully with parameters x=0.2, y=50.0. Output saved as 'abs_notebook_x0.20_y50.00.ipynb'.\n"
     ]
    },
    {
     "data": {
      "application/vnd.jupyter.widget-view+json": {
       "model_id": "872024a028d7444fbcc69b28980ed31e",
       "version_major": 2,
       "version_minor": 0
      },
      "text/plain": [
       "Executing:   0%|          | 0/9 [00:00<?, ?cell/s]"
      ]
     },
     "metadata": {},
     "output_type": "display_data"
    },
    {
     "name": "stderr",
     "output_type": "stream",
     "text": [
      "This version of python seems to be incorrectly compiled\n",
      "(internal generated filenames are not absolute).\n",
      "This may make the debugger miss breakpoints.\n",
      "Related bug: http://bugs.python.org/issue1666807\n"
     ]
    },
    {
     "name": "stdout",
     "output_type": "stream",
     "text": [
      "Notebook executed successfully with parameters x=0.2, y=60.0. Output saved as 'abs_notebook_x0.20_y60.00.ipynb'.\n"
     ]
    },
    {
     "data": {
      "application/vnd.jupyter.widget-view+json": {
       "model_id": "0359e6af7c644f1e8374400c289c749b",
       "version_major": 2,
       "version_minor": 0
      },
      "text/plain": [
       "Executing:   0%|          | 0/9 [00:00<?, ?cell/s]"
      ]
     },
     "metadata": {},
     "output_type": "display_data"
    },
    {
     "name": "stderr",
     "output_type": "stream",
     "text": [
      "This version of python seems to be incorrectly compiled\n",
      "(internal generated filenames are not absolute).\n",
      "This may make the debugger miss breakpoints.\n",
      "Related bug: http://bugs.python.org/issue1666807\n"
     ]
    },
    {
     "name": "stdout",
     "output_type": "stream",
     "text": [
      "Notebook executed successfully with parameters x=0.2, y=70.0. Output saved as 'abs_notebook_x0.20_y70.00.ipynb'.\n"
     ]
    },
    {
     "data": {
      "application/vnd.jupyter.widget-view+json": {
       "model_id": "aecd79de3f4649e88bcead96b7dc03a1",
       "version_major": 2,
       "version_minor": 0
      },
      "text/plain": [
       "Executing:   0%|          | 0/9 [00:00<?, ?cell/s]"
      ]
     },
     "metadata": {},
     "output_type": "display_data"
    },
    {
     "name": "stderr",
     "output_type": "stream",
     "text": [
      "This version of python seems to be incorrectly compiled\n",
      "(internal generated filenames are not absolute).\n",
      "This may make the debugger miss breakpoints.\n",
      "Related bug: http://bugs.python.org/issue1666807\n"
     ]
    },
    {
     "name": "stdout",
     "output_type": "stream",
     "text": [
      "Notebook executed successfully with parameters x=0.2, y=80.0. Output saved as 'abs_notebook_x0.20_y80.00.ipynb'.\n"
     ]
    },
    {
     "data": {
      "application/vnd.jupyter.widget-view+json": {
       "model_id": "37393d82b2ec4f6f9fce48f82e5af237",
       "version_major": 2,
       "version_minor": 0
      },
      "text/plain": [
       "Executing:   0%|          | 0/9 [00:00<?, ?cell/s]"
      ]
     },
     "metadata": {},
     "output_type": "display_data"
    },
    {
     "name": "stderr",
     "output_type": "stream",
     "text": [
      "This version of python seems to be incorrectly compiled\n",
      "(internal generated filenames are not absolute).\n",
      "This may make the debugger miss breakpoints.\n",
      "Related bug: http://bugs.python.org/issue1666807\n"
     ]
    },
    {
     "name": "stdout",
     "output_type": "stream",
     "text": [
      "Notebook executed successfully with parameters x=0.2, y=90.0. Output saved as 'abs_notebook_x0.20_y90.00.ipynb'.\n"
     ]
    },
    {
     "data": {
      "application/vnd.jupyter.widget-view+json": {
       "model_id": "aa4fcb642f36410eae613c2327beae9d",
       "version_major": 2,
       "version_minor": 0
      },
      "text/plain": [
       "Executing:   0%|          | 0/9 [00:00<?, ?cell/s]"
      ]
     },
     "metadata": {},
     "output_type": "display_data"
    },
    {
     "name": "stderr",
     "output_type": "stream",
     "text": [
      "This version of python seems to be incorrectly compiled\n",
      "(internal generated filenames are not absolute).\n",
      "This may make the debugger miss breakpoints.\n",
      "Related bug: http://bugs.python.org/issue1666807\n"
     ]
    },
    {
     "name": "stdout",
     "output_type": "stream",
     "text": [
      "Notebook executed successfully with parameters x=0.30000000000000004, y=0.0. Output saved as 'abs_notebook_x0.30_y0.00.ipynb'.\n"
     ]
    },
    {
     "data": {
      "application/vnd.jupyter.widget-view+json": {
       "model_id": "7b2ab3c36e6e4cbab79d6263c997a05a",
       "version_major": 2,
       "version_minor": 0
      },
      "text/plain": [
       "Executing:   0%|          | 0/9 [00:00<?, ?cell/s]"
      ]
     },
     "metadata": {},
     "output_type": "display_data"
    },
    {
     "name": "stderr",
     "output_type": "stream",
     "text": [
      "This version of python seems to be incorrectly compiled\n",
      "(internal generated filenames are not absolute).\n",
      "This may make the debugger miss breakpoints.\n",
      "Related bug: http://bugs.python.org/issue1666807\n"
     ]
    },
    {
     "name": "stdout",
     "output_type": "stream",
     "text": [
      "Notebook executed successfully with parameters x=0.30000000000000004, y=10.0. Output saved as 'abs_notebook_x0.30_y10.00.ipynb'.\n"
     ]
    },
    {
     "data": {
      "application/vnd.jupyter.widget-view+json": {
       "model_id": "cdbcdc5c2fd644df990b438cd928f602",
       "version_major": 2,
       "version_minor": 0
      },
      "text/plain": [
       "Executing:   0%|          | 0/9 [00:00<?, ?cell/s]"
      ]
     },
     "metadata": {},
     "output_type": "display_data"
    },
    {
     "name": "stderr",
     "output_type": "stream",
     "text": [
      "This version of python seems to be incorrectly compiled\n",
      "(internal generated filenames are not absolute).\n",
      "This may make the debugger miss breakpoints.\n",
      "Related bug: http://bugs.python.org/issue1666807\n"
     ]
    },
    {
     "name": "stdout",
     "output_type": "stream",
     "text": [
      "Notebook executed successfully with parameters x=0.30000000000000004, y=20.0. Output saved as 'abs_notebook_x0.30_y20.00.ipynb'.\n"
     ]
    },
    {
     "data": {
      "application/vnd.jupyter.widget-view+json": {
       "model_id": "41dbcfaa3b8c4681b7b0275406c39c57",
       "version_major": 2,
       "version_minor": 0
      },
      "text/plain": [
       "Executing:   0%|          | 0/9 [00:00<?, ?cell/s]"
      ]
     },
     "metadata": {},
     "output_type": "display_data"
    },
    {
     "name": "stderr",
     "output_type": "stream",
     "text": [
      "This version of python seems to be incorrectly compiled\n",
      "(internal generated filenames are not absolute).\n",
      "This may make the debugger miss breakpoints.\n",
      "Related bug: http://bugs.python.org/issue1666807\n"
     ]
    },
    {
     "name": "stdout",
     "output_type": "stream",
     "text": [
      "Notebook executed successfully with parameters x=0.30000000000000004, y=30.0. Output saved as 'abs_notebook_x0.30_y30.00.ipynb'.\n"
     ]
    },
    {
     "data": {
      "application/vnd.jupyter.widget-view+json": {
       "model_id": "89495e4579c44ae794e35314867da5eb",
       "version_major": 2,
       "version_minor": 0
      },
      "text/plain": [
       "Executing:   0%|          | 0/9 [00:00<?, ?cell/s]"
      ]
     },
     "metadata": {},
     "output_type": "display_data"
    },
    {
     "name": "stderr",
     "output_type": "stream",
     "text": [
      "This version of python seems to be incorrectly compiled\n",
      "(internal generated filenames are not absolute).\n",
      "This may make the debugger miss breakpoints.\n",
      "Related bug: http://bugs.python.org/issue1666807\n"
     ]
    },
    {
     "name": "stdout",
     "output_type": "stream",
     "text": [
      "Notebook executed successfully with parameters x=0.30000000000000004, y=40.0. Output saved as 'abs_notebook_x0.30_y40.00.ipynb'.\n"
     ]
    },
    {
     "data": {
      "application/vnd.jupyter.widget-view+json": {
       "model_id": "04ad9b0501964032aece0dfa6d6a4b07",
       "version_major": 2,
       "version_minor": 0
      },
      "text/plain": [
       "Executing:   0%|          | 0/9 [00:00<?, ?cell/s]"
      ]
     },
     "metadata": {},
     "output_type": "display_data"
    },
    {
     "name": "stderr",
     "output_type": "stream",
     "text": [
      "This version of python seems to be incorrectly compiled\n",
      "(internal generated filenames are not absolute).\n",
      "This may make the debugger miss breakpoints.\n",
      "Related bug: http://bugs.python.org/issue1666807\n"
     ]
    },
    {
     "name": "stdout",
     "output_type": "stream",
     "text": [
      "Notebook executed successfully with parameters x=0.30000000000000004, y=50.0. Output saved as 'abs_notebook_x0.30_y50.00.ipynb'.\n"
     ]
    },
    {
     "data": {
      "application/vnd.jupyter.widget-view+json": {
       "model_id": "8226a29ea02449c690e4007caddc73f5",
       "version_major": 2,
       "version_minor": 0
      },
      "text/plain": [
       "Executing:   0%|          | 0/9 [00:00<?, ?cell/s]"
      ]
     },
     "metadata": {},
     "output_type": "display_data"
    },
    {
     "name": "stderr",
     "output_type": "stream",
     "text": [
      "This version of python seems to be incorrectly compiled\n",
      "(internal generated filenames are not absolute).\n",
      "This may make the debugger miss breakpoints.\n",
      "Related bug: http://bugs.python.org/issue1666807\n"
     ]
    },
    {
     "name": "stdout",
     "output_type": "stream",
     "text": [
      "Notebook executed successfully with parameters x=0.30000000000000004, y=60.0. Output saved as 'abs_notebook_x0.30_y60.00.ipynb'.\n"
     ]
    },
    {
     "data": {
      "application/vnd.jupyter.widget-view+json": {
       "model_id": "c336a941f4cd485eb2b44b43b8fcd022",
       "version_major": 2,
       "version_minor": 0
      },
      "text/plain": [
       "Executing:   0%|          | 0/9 [00:00<?, ?cell/s]"
      ]
     },
     "metadata": {},
     "output_type": "display_data"
    },
    {
     "name": "stderr",
     "output_type": "stream",
     "text": [
      "This version of python seems to be incorrectly compiled\n",
      "(internal generated filenames are not absolute).\n",
      "This may make the debugger miss breakpoints.\n",
      "Related bug: http://bugs.python.org/issue1666807\n"
     ]
    },
    {
     "name": "stdout",
     "output_type": "stream",
     "text": [
      "Notebook executed successfully with parameters x=0.30000000000000004, y=70.0. Output saved as 'abs_notebook_x0.30_y70.00.ipynb'.\n"
     ]
    },
    {
     "data": {
      "application/vnd.jupyter.widget-view+json": {
       "model_id": "6c1bbcddb34b47209c8a8dc787516656",
       "version_major": 2,
       "version_minor": 0
      },
      "text/plain": [
       "Executing:   0%|          | 0/9 [00:00<?, ?cell/s]"
      ]
     },
     "metadata": {},
     "output_type": "display_data"
    },
    {
     "name": "stderr",
     "output_type": "stream",
     "text": [
      "This version of python seems to be incorrectly compiled\n",
      "(internal generated filenames are not absolute).\n",
      "This may make the debugger miss breakpoints.\n",
      "Related bug: http://bugs.python.org/issue1666807\n"
     ]
    },
    {
     "name": "stdout",
     "output_type": "stream",
     "text": [
      "Notebook executed successfully with parameters x=0.30000000000000004, y=80.0. Output saved as 'abs_notebook_x0.30_y80.00.ipynb'.\n"
     ]
    },
    {
     "data": {
      "application/vnd.jupyter.widget-view+json": {
       "model_id": "fb400537b0f74765a1ac796762aab58d",
       "version_major": 2,
       "version_minor": 0
      },
      "text/plain": [
       "Executing:   0%|          | 0/9 [00:00<?, ?cell/s]"
      ]
     },
     "metadata": {},
     "output_type": "display_data"
    },
    {
     "name": "stderr",
     "output_type": "stream",
     "text": [
      "This version of python seems to be incorrectly compiled\n",
      "(internal generated filenames are not absolute).\n",
      "This may make the debugger miss breakpoints.\n",
      "Related bug: http://bugs.python.org/issue1666807\n"
     ]
    },
    {
     "name": "stdout",
     "output_type": "stream",
     "text": [
      "Notebook executed successfully with parameters x=0.30000000000000004, y=90.0. Output saved as 'abs_notebook_x0.30_y90.00.ipynb'.\n"
     ]
    },
    {
     "data": {
      "application/vnd.jupyter.widget-view+json": {
       "model_id": "8e66115d1120461c97405a6fee26d371",
       "version_major": 2,
       "version_minor": 0
      },
      "text/plain": [
       "Executing:   0%|          | 0/9 [00:00<?, ?cell/s]"
      ]
     },
     "metadata": {},
     "output_type": "display_data"
    },
    {
     "name": "stderr",
     "output_type": "stream",
     "text": [
      "This version of python seems to be incorrectly compiled\n",
      "(internal generated filenames are not absolute).\n",
      "This may make the debugger miss breakpoints.\n",
      "Related bug: http://bugs.python.org/issue1666807\n"
     ]
    },
    {
     "name": "stdout",
     "output_type": "stream",
     "text": [
      "Notebook executed successfully with parameters x=0.4, y=0.0. Output saved as 'abs_notebook_x0.40_y0.00.ipynb'.\n"
     ]
    },
    {
     "data": {
      "application/vnd.jupyter.widget-view+json": {
       "model_id": "1dd3f76b424c41aa9f000d260684fcbe",
       "version_major": 2,
       "version_minor": 0
      },
      "text/plain": [
       "Executing:   0%|          | 0/9 [00:00<?, ?cell/s]"
      ]
     },
     "metadata": {},
     "output_type": "display_data"
    },
    {
     "name": "stderr",
     "output_type": "stream",
     "text": [
      "This version of python seems to be incorrectly compiled\n",
      "(internal generated filenames are not absolute).\n",
      "This may make the debugger miss breakpoints.\n",
      "Related bug: http://bugs.python.org/issue1666807\n"
     ]
    },
    {
     "name": "stdout",
     "output_type": "stream",
     "text": [
      "Notebook executed successfully with parameters x=0.4, y=10.0. Output saved as 'abs_notebook_x0.40_y10.00.ipynb'.\n"
     ]
    },
    {
     "data": {
      "application/vnd.jupyter.widget-view+json": {
       "model_id": "258eb086f40e4642896b39134d0aef01",
       "version_major": 2,
       "version_minor": 0
      },
      "text/plain": [
       "Executing:   0%|          | 0/9 [00:00<?, ?cell/s]"
      ]
     },
     "metadata": {},
     "output_type": "display_data"
    },
    {
     "name": "stderr",
     "output_type": "stream",
     "text": [
      "This version of python seems to be incorrectly compiled\n",
      "(internal generated filenames are not absolute).\n",
      "This may make the debugger miss breakpoints.\n",
      "Related bug: http://bugs.python.org/issue1666807\n"
     ]
    },
    {
     "name": "stdout",
     "output_type": "stream",
     "text": [
      "Notebook executed successfully with parameters x=0.4, y=20.0. Output saved as 'abs_notebook_x0.40_y20.00.ipynb'.\n"
     ]
    },
    {
     "data": {
      "application/vnd.jupyter.widget-view+json": {
       "model_id": "4a20bf6a42fb4e7b8f7fe94aee55d3bf",
       "version_major": 2,
       "version_minor": 0
      },
      "text/plain": [
       "Executing:   0%|          | 0/9 [00:00<?, ?cell/s]"
      ]
     },
     "metadata": {},
     "output_type": "display_data"
    },
    {
     "name": "stderr",
     "output_type": "stream",
     "text": [
      "This version of python seems to be incorrectly compiled\n",
      "(internal generated filenames are not absolute).\n",
      "This may make the debugger miss breakpoints.\n",
      "Related bug: http://bugs.python.org/issue1666807\n"
     ]
    },
    {
     "name": "stdout",
     "output_type": "stream",
     "text": [
      "Notebook executed successfully with parameters x=0.4, y=30.0. Output saved as 'abs_notebook_x0.40_y30.00.ipynb'.\n"
     ]
    },
    {
     "data": {
      "application/vnd.jupyter.widget-view+json": {
       "model_id": "e105c1eff4e74d749f1a592263964cc9",
       "version_major": 2,
       "version_minor": 0
      },
      "text/plain": [
       "Executing:   0%|          | 0/9 [00:00<?, ?cell/s]"
      ]
     },
     "metadata": {},
     "output_type": "display_data"
    },
    {
     "name": "stderr",
     "output_type": "stream",
     "text": [
      "This version of python seems to be incorrectly compiled\n",
      "(internal generated filenames are not absolute).\n",
      "This may make the debugger miss breakpoints.\n",
      "Related bug: http://bugs.python.org/issue1666807\n"
     ]
    },
    {
     "name": "stdout",
     "output_type": "stream",
     "text": [
      "Notebook executed successfully with parameters x=0.4, y=40.0. Output saved as 'abs_notebook_x0.40_y40.00.ipynb'.\n"
     ]
    },
    {
     "data": {
      "application/vnd.jupyter.widget-view+json": {
       "model_id": "1786ff22fd5c4e0c949fc8138da86d46",
       "version_major": 2,
       "version_minor": 0
      },
      "text/plain": [
       "Executing:   0%|          | 0/9 [00:00<?, ?cell/s]"
      ]
     },
     "metadata": {},
     "output_type": "display_data"
    },
    {
     "name": "stderr",
     "output_type": "stream",
     "text": [
      "This version of python seems to be incorrectly compiled\n",
      "(internal generated filenames are not absolute).\n",
      "This may make the debugger miss breakpoints.\n",
      "Related bug: http://bugs.python.org/issue1666807\n"
     ]
    },
    {
     "name": "stdout",
     "output_type": "stream",
     "text": [
      "Notebook executed successfully with parameters x=0.4, y=50.0. Output saved as 'abs_notebook_x0.40_y50.00.ipynb'.\n"
     ]
    },
    {
     "data": {
      "application/vnd.jupyter.widget-view+json": {
       "model_id": "faf379f918ea4a15a79766975d141234",
       "version_major": 2,
       "version_minor": 0
      },
      "text/plain": [
       "Executing:   0%|          | 0/9 [00:00<?, ?cell/s]"
      ]
     },
     "metadata": {},
     "output_type": "display_data"
    },
    {
     "name": "stderr",
     "output_type": "stream",
     "text": [
      "This version of python seems to be incorrectly compiled\n",
      "(internal generated filenames are not absolute).\n",
      "This may make the debugger miss breakpoints.\n",
      "Related bug: http://bugs.python.org/issue1666807\n"
     ]
    },
    {
     "name": "stdout",
     "output_type": "stream",
     "text": [
      "Notebook executed successfully with parameters x=0.4, y=60.0. Output saved as 'abs_notebook_x0.40_y60.00.ipynb'.\n"
     ]
    },
    {
     "data": {
      "application/vnd.jupyter.widget-view+json": {
       "model_id": "3adbdc287b28431ba0498d1298d18c15",
       "version_major": 2,
       "version_minor": 0
      },
      "text/plain": [
       "Executing:   0%|          | 0/9 [00:00<?, ?cell/s]"
      ]
     },
     "metadata": {},
     "output_type": "display_data"
    },
    {
     "name": "stderr",
     "output_type": "stream",
     "text": [
      "This version of python seems to be incorrectly compiled\n",
      "(internal generated filenames are not absolute).\n",
      "This may make the debugger miss breakpoints.\n",
      "Related bug: http://bugs.python.org/issue1666807\n"
     ]
    },
    {
     "name": "stdout",
     "output_type": "stream",
     "text": [
      "Notebook executed successfully with parameters x=0.4, y=70.0. Output saved as 'abs_notebook_x0.40_y70.00.ipynb'.\n"
     ]
    },
    {
     "data": {
      "application/vnd.jupyter.widget-view+json": {
       "model_id": "38e5bdc0289e4dfc8d822fc3ff52b528",
       "version_major": 2,
       "version_minor": 0
      },
      "text/plain": [
       "Executing:   0%|          | 0/9 [00:00<?, ?cell/s]"
      ]
     },
     "metadata": {},
     "output_type": "display_data"
    },
    {
     "name": "stderr",
     "output_type": "stream",
     "text": [
      "This version of python seems to be incorrectly compiled\n",
      "(internal generated filenames are not absolute).\n",
      "This may make the debugger miss breakpoints.\n",
      "Related bug: http://bugs.python.org/issue1666807\n"
     ]
    },
    {
     "name": "stdout",
     "output_type": "stream",
     "text": [
      "Notebook executed successfully with parameters x=0.4, y=80.0. Output saved as 'abs_notebook_x0.40_y80.00.ipynb'.\n"
     ]
    },
    {
     "data": {
      "application/vnd.jupyter.widget-view+json": {
       "model_id": "d460388ccc3d4a72afc90a85dc5e58db",
       "version_major": 2,
       "version_minor": 0
      },
      "text/plain": [
       "Executing:   0%|          | 0/9 [00:00<?, ?cell/s]"
      ]
     },
     "metadata": {},
     "output_type": "display_data"
    },
    {
     "name": "stderr",
     "output_type": "stream",
     "text": [
      "This version of python seems to be incorrectly compiled\n",
      "(internal generated filenames are not absolute).\n",
      "This may make the debugger miss breakpoints.\n",
      "Related bug: http://bugs.python.org/issue1666807\n"
     ]
    },
    {
     "name": "stdout",
     "output_type": "stream",
     "text": [
      "Notebook executed successfully with parameters x=0.4, y=90.0. Output saved as 'abs_notebook_x0.40_y90.00.ipynb'.\n"
     ]
    },
    {
     "data": {
      "application/vnd.jupyter.widget-view+json": {
       "model_id": "f324ffefec5c4d49bc97cce23da9e35b",
       "version_major": 2,
       "version_minor": 0
      },
      "text/plain": [
       "Executing:   0%|          | 0/9 [00:00<?, ?cell/s]"
      ]
     },
     "metadata": {},
     "output_type": "display_data"
    },
    {
     "name": "stderr",
     "output_type": "stream",
     "text": [
      "This version of python seems to be incorrectly compiled\n",
      "(internal generated filenames are not absolute).\n",
      "This may make the debugger miss breakpoints.\n",
      "Related bug: http://bugs.python.org/issue1666807\n"
     ]
    },
    {
     "name": "stdout",
     "output_type": "stream",
     "text": [
      "Notebook executed successfully with parameters x=0.5, y=0.0. Output saved as 'abs_notebook_x0.50_y0.00.ipynb'.\n"
     ]
    },
    {
     "data": {
      "application/vnd.jupyter.widget-view+json": {
       "model_id": "5232ec1b1b6a4fd6a526f3dff35b20c2",
       "version_major": 2,
       "version_minor": 0
      },
      "text/plain": [
       "Executing:   0%|          | 0/9 [00:00<?, ?cell/s]"
      ]
     },
     "metadata": {},
     "output_type": "display_data"
    },
    {
     "name": "stderr",
     "output_type": "stream",
     "text": [
      "This version of python seems to be incorrectly compiled\n",
      "(internal generated filenames are not absolute).\n",
      "This may make the debugger miss breakpoints.\n",
      "Related bug: http://bugs.python.org/issue1666807\n"
     ]
    },
    {
     "name": "stdout",
     "output_type": "stream",
     "text": [
      "Notebook executed successfully with parameters x=0.5, y=10.0. Output saved as 'abs_notebook_x0.50_y10.00.ipynb'.\n"
     ]
    },
    {
     "data": {
      "application/vnd.jupyter.widget-view+json": {
       "model_id": "e9269081e5de4271bfd71da38e14097e",
       "version_major": 2,
       "version_minor": 0
      },
      "text/plain": [
       "Executing:   0%|          | 0/9 [00:00<?, ?cell/s]"
      ]
     },
     "metadata": {},
     "output_type": "display_data"
    },
    {
     "name": "stderr",
     "output_type": "stream",
     "text": [
      "This version of python seems to be incorrectly compiled\n",
      "(internal generated filenames are not absolute).\n",
      "This may make the debugger miss breakpoints.\n",
      "Related bug: http://bugs.python.org/issue1666807\n"
     ]
    },
    {
     "name": "stdout",
     "output_type": "stream",
     "text": [
      "Notebook executed successfully with parameters x=0.5, y=20.0. Output saved as 'abs_notebook_x0.50_y20.00.ipynb'.\n"
     ]
    },
    {
     "data": {
      "application/vnd.jupyter.widget-view+json": {
       "model_id": "da97ef7d5c4349ed8b038dd6a9a035b5",
       "version_major": 2,
       "version_minor": 0
      },
      "text/plain": [
       "Executing:   0%|          | 0/9 [00:00<?, ?cell/s]"
      ]
     },
     "metadata": {},
     "output_type": "display_data"
    },
    {
     "name": "stderr",
     "output_type": "stream",
     "text": [
      "This version of python seems to be incorrectly compiled\n",
      "(internal generated filenames are not absolute).\n",
      "This may make the debugger miss breakpoints.\n",
      "Related bug: http://bugs.python.org/issue1666807\n"
     ]
    },
    {
     "name": "stdout",
     "output_type": "stream",
     "text": [
      "Notebook executed successfully with parameters x=0.5, y=30.0. Output saved as 'abs_notebook_x0.50_y30.00.ipynb'.\n"
     ]
    },
    {
     "data": {
      "application/vnd.jupyter.widget-view+json": {
       "model_id": "06a1b3bd1c5941f3bac8a430c454f36d",
       "version_major": 2,
       "version_minor": 0
      },
      "text/plain": [
       "Executing:   0%|          | 0/9 [00:00<?, ?cell/s]"
      ]
     },
     "metadata": {},
     "output_type": "display_data"
    },
    {
     "name": "stderr",
     "output_type": "stream",
     "text": [
      "This version of python seems to be incorrectly compiled\n",
      "(internal generated filenames are not absolute).\n",
      "This may make the debugger miss breakpoints.\n",
      "Related bug: http://bugs.python.org/issue1666807\n"
     ]
    },
    {
     "name": "stdout",
     "output_type": "stream",
     "text": [
      "Notebook executed successfully with parameters x=0.5, y=40.0. Output saved as 'abs_notebook_x0.50_y40.00.ipynb'.\n"
     ]
    },
    {
     "data": {
      "application/vnd.jupyter.widget-view+json": {
       "model_id": "4fd3116cc67747a38f15141ac03e71b3",
       "version_major": 2,
       "version_minor": 0
      },
      "text/plain": [
       "Executing:   0%|          | 0/9 [00:00<?, ?cell/s]"
      ]
     },
     "metadata": {},
     "output_type": "display_data"
    },
    {
     "name": "stderr",
     "output_type": "stream",
     "text": [
      "This version of python seems to be incorrectly compiled\n",
      "(internal generated filenames are not absolute).\n",
      "This may make the debugger miss breakpoints.\n",
      "Related bug: http://bugs.python.org/issue1666807\n"
     ]
    },
    {
     "name": "stdout",
     "output_type": "stream",
     "text": [
      "Notebook executed successfully with parameters x=0.5, y=50.0. Output saved as 'abs_notebook_x0.50_y50.00.ipynb'.\n"
     ]
    },
    {
     "data": {
      "application/vnd.jupyter.widget-view+json": {
       "model_id": "ccd2dd3408a7450ca3087eb35f7c11b8",
       "version_major": 2,
       "version_minor": 0
      },
      "text/plain": [
       "Executing:   0%|          | 0/9 [00:00<?, ?cell/s]"
      ]
     },
     "metadata": {},
     "output_type": "display_data"
    },
    {
     "name": "stderr",
     "output_type": "stream",
     "text": [
      "This version of python seems to be incorrectly compiled\n",
      "(internal generated filenames are not absolute).\n",
      "This may make the debugger miss breakpoints.\n",
      "Related bug: http://bugs.python.org/issue1666807\n"
     ]
    },
    {
     "name": "stdout",
     "output_type": "stream",
     "text": [
      "Notebook executed successfully with parameters x=0.5, y=60.0. Output saved as 'abs_notebook_x0.50_y60.00.ipynb'.\n"
     ]
    },
    {
     "data": {
      "application/vnd.jupyter.widget-view+json": {
       "model_id": "df730b1e1ae648778c22535115d10c85",
       "version_major": 2,
       "version_minor": 0
      },
      "text/plain": [
       "Executing:   0%|          | 0/9 [00:00<?, ?cell/s]"
      ]
     },
     "metadata": {},
     "output_type": "display_data"
    },
    {
     "name": "stderr",
     "output_type": "stream",
     "text": [
      "This version of python seems to be incorrectly compiled\n",
      "(internal generated filenames are not absolute).\n",
      "This may make the debugger miss breakpoints.\n",
      "Related bug: http://bugs.python.org/issue1666807\n"
     ]
    },
    {
     "name": "stdout",
     "output_type": "stream",
     "text": [
      "Notebook executed successfully with parameters x=0.5, y=70.0. Output saved as 'abs_notebook_x0.50_y70.00.ipynb'.\n"
     ]
    },
    {
     "data": {
      "application/vnd.jupyter.widget-view+json": {
       "model_id": "4a3d96f9087944d18eb987978019d50b",
       "version_major": 2,
       "version_minor": 0
      },
      "text/plain": [
       "Executing:   0%|          | 0/9 [00:00<?, ?cell/s]"
      ]
     },
     "metadata": {},
     "output_type": "display_data"
    },
    {
     "name": "stderr",
     "output_type": "stream",
     "text": [
      "This version of python seems to be incorrectly compiled\n",
      "(internal generated filenames are not absolute).\n",
      "This may make the debugger miss breakpoints.\n",
      "Related bug: http://bugs.python.org/issue1666807\n"
     ]
    },
    {
     "name": "stdout",
     "output_type": "stream",
     "text": [
      "Notebook executed successfully with parameters x=0.5, y=80.0. Output saved as 'abs_notebook_x0.50_y80.00.ipynb'.\n"
     ]
    },
    {
     "data": {
      "application/vnd.jupyter.widget-view+json": {
       "model_id": "e72fe1ca604947b2bc98e7f77b2ddad7",
       "version_major": 2,
       "version_minor": 0
      },
      "text/plain": [
       "Executing:   0%|          | 0/9 [00:00<?, ?cell/s]"
      ]
     },
     "metadata": {},
     "output_type": "display_data"
    },
    {
     "name": "stderr",
     "output_type": "stream",
     "text": [
      "This version of python seems to be incorrectly compiled\n",
      "(internal generated filenames are not absolute).\n",
      "This may make the debugger miss breakpoints.\n",
      "Related bug: http://bugs.python.org/issue1666807\n"
     ]
    },
    {
     "name": "stdout",
     "output_type": "stream",
     "text": [
      "Notebook executed successfully with parameters x=0.5, y=90.0. Output saved as 'abs_notebook_x0.50_y90.00.ipynb'.\n"
     ]
    },
    {
     "data": {
      "application/vnd.jupyter.widget-view+json": {
       "model_id": "8981c4a6e0e74a8ba308fe7a508543c5",
       "version_major": 2,
       "version_minor": 0
      },
      "text/plain": [
       "Executing:   0%|          | 0/9 [00:00<?, ?cell/s]"
      ]
     },
     "metadata": {},
     "output_type": "display_data"
    },
    {
     "name": "stderr",
     "output_type": "stream",
     "text": [
      "This version of python seems to be incorrectly compiled\n",
      "(internal generated filenames are not absolute).\n",
      "This may make the debugger miss breakpoints.\n",
      "Related bug: http://bugs.python.org/issue1666807\n"
     ]
    },
    {
     "name": "stdout",
     "output_type": "stream",
     "text": [
      "Notebook executed successfully with parameters x=0.6000000000000001, y=0.0. Output saved as 'abs_notebook_x0.60_y0.00.ipynb'.\n"
     ]
    },
    {
     "data": {
      "application/vnd.jupyter.widget-view+json": {
       "model_id": "30edb677a8944fd9b59a17122b2d292b",
       "version_major": 2,
       "version_minor": 0
      },
      "text/plain": [
       "Executing:   0%|          | 0/9 [00:00<?, ?cell/s]"
      ]
     },
     "metadata": {},
     "output_type": "display_data"
    },
    {
     "name": "stderr",
     "output_type": "stream",
     "text": [
      "This version of python seems to be incorrectly compiled\n",
      "(internal generated filenames are not absolute).\n",
      "This may make the debugger miss breakpoints.\n",
      "Related bug: http://bugs.python.org/issue1666807\n"
     ]
    },
    {
     "name": "stdout",
     "output_type": "stream",
     "text": [
      "Notebook executed successfully with parameters x=0.6000000000000001, y=10.0. Output saved as 'abs_notebook_x0.60_y10.00.ipynb'.\n"
     ]
    },
    {
     "data": {
      "application/vnd.jupyter.widget-view+json": {
       "model_id": "9d646029fbb44f69982c1ee3070a9536",
       "version_major": 2,
       "version_minor": 0
      },
      "text/plain": [
       "Executing:   0%|          | 0/9 [00:00<?, ?cell/s]"
      ]
     },
     "metadata": {},
     "output_type": "display_data"
    },
    {
     "name": "stderr",
     "output_type": "stream",
     "text": [
      "This version of python seems to be incorrectly compiled\n",
      "(internal generated filenames are not absolute).\n",
      "This may make the debugger miss breakpoints.\n",
      "Related bug: http://bugs.python.org/issue1666807\n"
     ]
    },
    {
     "name": "stdout",
     "output_type": "stream",
     "text": [
      "Notebook executed successfully with parameters x=0.6000000000000001, y=20.0. Output saved as 'abs_notebook_x0.60_y20.00.ipynb'.\n"
     ]
    },
    {
     "data": {
      "application/vnd.jupyter.widget-view+json": {
       "model_id": "e005678115f44aca8f14154edde0427d",
       "version_major": 2,
       "version_minor": 0
      },
      "text/plain": [
       "Executing:   0%|          | 0/9 [00:00<?, ?cell/s]"
      ]
     },
     "metadata": {},
     "output_type": "display_data"
    },
    {
     "name": "stderr",
     "output_type": "stream",
     "text": [
      "This version of python seems to be incorrectly compiled\n",
      "(internal generated filenames are not absolute).\n",
      "This may make the debugger miss breakpoints.\n",
      "Related bug: http://bugs.python.org/issue1666807\n"
     ]
    },
    {
     "name": "stdout",
     "output_type": "stream",
     "text": [
      "Notebook executed successfully with parameters x=0.6000000000000001, y=30.0. Output saved as 'abs_notebook_x0.60_y30.00.ipynb'.\n"
     ]
    },
    {
     "data": {
      "application/vnd.jupyter.widget-view+json": {
       "model_id": "2fea9793e3e24c5b85d6208d7516b7b2",
       "version_major": 2,
       "version_minor": 0
      },
      "text/plain": [
       "Executing:   0%|          | 0/9 [00:00<?, ?cell/s]"
      ]
     },
     "metadata": {},
     "output_type": "display_data"
    },
    {
     "name": "stderr",
     "output_type": "stream",
     "text": [
      "This version of python seems to be incorrectly compiled\n",
      "(internal generated filenames are not absolute).\n",
      "This may make the debugger miss breakpoints.\n",
      "Related bug: http://bugs.python.org/issue1666807\n"
     ]
    },
    {
     "name": "stdout",
     "output_type": "stream",
     "text": [
      "Notebook executed successfully with parameters x=0.6000000000000001, y=40.0. Output saved as 'abs_notebook_x0.60_y40.00.ipynb'.\n"
     ]
    },
    {
     "data": {
      "application/vnd.jupyter.widget-view+json": {
       "model_id": "ec37820bfad243f4a43c279c167e353e",
       "version_major": 2,
       "version_minor": 0
      },
      "text/plain": [
       "Executing:   0%|          | 0/9 [00:00<?, ?cell/s]"
      ]
     },
     "metadata": {},
     "output_type": "display_data"
    },
    {
     "name": "stderr",
     "output_type": "stream",
     "text": [
      "This version of python seems to be incorrectly compiled\n",
      "(internal generated filenames are not absolute).\n",
      "This may make the debugger miss breakpoints.\n",
      "Related bug: http://bugs.python.org/issue1666807\n"
     ]
    },
    {
     "name": "stdout",
     "output_type": "stream",
     "text": [
      "Notebook executed successfully with parameters x=0.6000000000000001, y=50.0. Output saved as 'abs_notebook_x0.60_y50.00.ipynb'.\n"
     ]
    },
    {
     "data": {
      "application/vnd.jupyter.widget-view+json": {
       "model_id": "b7631d7915f747028c028545850b8293",
       "version_major": 2,
       "version_minor": 0
      },
      "text/plain": [
       "Executing:   0%|          | 0/9 [00:00<?, ?cell/s]"
      ]
     },
     "metadata": {},
     "output_type": "display_data"
    },
    {
     "name": "stderr",
     "output_type": "stream",
     "text": [
      "This version of python seems to be incorrectly compiled\n",
      "(internal generated filenames are not absolute).\n",
      "This may make the debugger miss breakpoints.\n",
      "Related bug: http://bugs.python.org/issue1666807\n"
     ]
    },
    {
     "name": "stdout",
     "output_type": "stream",
     "text": [
      "Notebook executed successfully with parameters x=0.6000000000000001, y=60.0. Output saved as 'abs_notebook_x0.60_y60.00.ipynb'.\n"
     ]
    },
    {
     "data": {
      "application/vnd.jupyter.widget-view+json": {
       "model_id": "906e6d6d35394bdb9f0d0c54ae039dac",
       "version_major": 2,
       "version_minor": 0
      },
      "text/plain": [
       "Executing:   0%|          | 0/9 [00:00<?, ?cell/s]"
      ]
     },
     "metadata": {},
     "output_type": "display_data"
    },
    {
     "name": "stderr",
     "output_type": "stream",
     "text": [
      "This version of python seems to be incorrectly compiled\n",
      "(internal generated filenames are not absolute).\n",
      "This may make the debugger miss breakpoints.\n",
      "Related bug: http://bugs.python.org/issue1666807\n"
     ]
    },
    {
     "name": "stdout",
     "output_type": "stream",
     "text": [
      "Notebook executed successfully with parameters x=0.6000000000000001, y=70.0. Output saved as 'abs_notebook_x0.60_y70.00.ipynb'.\n"
     ]
    },
    {
     "data": {
      "application/vnd.jupyter.widget-view+json": {
       "model_id": "6b84c347aef7474cac7ecbbe59411cb4",
       "version_major": 2,
       "version_minor": 0
      },
      "text/plain": [
       "Executing:   0%|          | 0/9 [00:00<?, ?cell/s]"
      ]
     },
     "metadata": {},
     "output_type": "display_data"
    },
    {
     "name": "stderr",
     "output_type": "stream",
     "text": [
      "This version of python seems to be incorrectly compiled\n",
      "(internal generated filenames are not absolute).\n",
      "This may make the debugger miss breakpoints.\n",
      "Related bug: http://bugs.python.org/issue1666807\n"
     ]
    },
    {
     "name": "stdout",
     "output_type": "stream",
     "text": [
      "Notebook executed successfully with parameters x=0.6000000000000001, y=80.0. Output saved as 'abs_notebook_x0.60_y80.00.ipynb'.\n"
     ]
    },
    {
     "data": {
      "application/vnd.jupyter.widget-view+json": {
       "model_id": "a2ff925dbe504d22933c62c2c6ac2683",
       "version_major": 2,
       "version_minor": 0
      },
      "text/plain": [
       "Executing:   0%|          | 0/9 [00:00<?, ?cell/s]"
      ]
     },
     "metadata": {},
     "output_type": "display_data"
    },
    {
     "name": "stderr",
     "output_type": "stream",
     "text": [
      "This version of python seems to be incorrectly compiled\n",
      "(internal generated filenames are not absolute).\n",
      "This may make the debugger miss breakpoints.\n",
      "Related bug: http://bugs.python.org/issue1666807\n"
     ]
    },
    {
     "name": "stdout",
     "output_type": "stream",
     "text": [
      "Notebook executed successfully with parameters x=0.6000000000000001, y=90.0. Output saved as 'abs_notebook_x0.60_y90.00.ipynb'.\n"
     ]
    },
    {
     "data": {
      "application/vnd.jupyter.widget-view+json": {
       "model_id": "c434a1156e1d4365bf0720df8f261789",
       "version_major": 2,
       "version_minor": 0
      },
      "text/plain": [
       "Executing:   0%|          | 0/9 [00:00<?, ?cell/s]"
      ]
     },
     "metadata": {},
     "output_type": "display_data"
    },
    {
     "name": "stderr",
     "output_type": "stream",
     "text": [
      "This version of python seems to be incorrectly compiled\n",
      "(internal generated filenames are not absolute).\n",
      "This may make the debugger miss breakpoints.\n",
      "Related bug: http://bugs.python.org/issue1666807\n"
     ]
    },
    {
     "name": "stdout",
     "output_type": "stream",
     "text": [
      "Notebook executed successfully with parameters x=0.7000000000000001, y=0.0. Output saved as 'abs_notebook_x0.70_y0.00.ipynb'.\n"
     ]
    },
    {
     "data": {
      "application/vnd.jupyter.widget-view+json": {
       "model_id": "27ff0459ce1148b5821d7ea97dc582a9",
       "version_major": 2,
       "version_minor": 0
      },
      "text/plain": [
       "Executing:   0%|          | 0/9 [00:00<?, ?cell/s]"
      ]
     },
     "metadata": {},
     "output_type": "display_data"
    },
    {
     "name": "stderr",
     "output_type": "stream",
     "text": [
      "This version of python seems to be incorrectly compiled\n",
      "(internal generated filenames are not absolute).\n",
      "This may make the debugger miss breakpoints.\n",
      "Related bug: http://bugs.python.org/issue1666807\n"
     ]
    },
    {
     "name": "stdout",
     "output_type": "stream",
     "text": [
      "Notebook executed successfully with parameters x=0.7000000000000001, y=10.0. Output saved as 'abs_notebook_x0.70_y10.00.ipynb'.\n"
     ]
    },
    {
     "data": {
      "application/vnd.jupyter.widget-view+json": {
       "model_id": "44e6014fe3ed4dd8bda5f5a25a7f5992",
       "version_major": 2,
       "version_minor": 0
      },
      "text/plain": [
       "Executing:   0%|          | 0/9 [00:00<?, ?cell/s]"
      ]
     },
     "metadata": {},
     "output_type": "display_data"
    },
    {
     "name": "stderr",
     "output_type": "stream",
     "text": [
      "This version of python seems to be incorrectly compiled\n",
      "(internal generated filenames are not absolute).\n",
      "This may make the debugger miss breakpoints.\n",
      "Related bug: http://bugs.python.org/issue1666807\n"
     ]
    },
    {
     "name": "stdout",
     "output_type": "stream",
     "text": [
      "Notebook executed successfully with parameters x=0.7000000000000001, y=20.0. Output saved as 'abs_notebook_x0.70_y20.00.ipynb'.\n"
     ]
    },
    {
     "data": {
      "application/vnd.jupyter.widget-view+json": {
       "model_id": "51fed38aaec246089ed570907bf1741a",
       "version_major": 2,
       "version_minor": 0
      },
      "text/plain": [
       "Executing:   0%|          | 0/9 [00:00<?, ?cell/s]"
      ]
     },
     "metadata": {},
     "output_type": "display_data"
    },
    {
     "name": "stderr",
     "output_type": "stream",
     "text": [
      "This version of python seems to be incorrectly compiled\n",
      "(internal generated filenames are not absolute).\n",
      "This may make the debugger miss breakpoints.\n",
      "Related bug: http://bugs.python.org/issue1666807\n"
     ]
    },
    {
     "name": "stdout",
     "output_type": "stream",
     "text": [
      "Notebook executed successfully with parameters x=0.7000000000000001, y=30.0. Output saved as 'abs_notebook_x0.70_y30.00.ipynb'.\n"
     ]
    },
    {
     "data": {
      "application/vnd.jupyter.widget-view+json": {
       "model_id": "caa5a2d192dc48cda846b140219e89c0",
       "version_major": 2,
       "version_minor": 0
      },
      "text/plain": [
       "Executing:   0%|          | 0/9 [00:00<?, ?cell/s]"
      ]
     },
     "metadata": {},
     "output_type": "display_data"
    },
    {
     "name": "stderr",
     "output_type": "stream",
     "text": [
      "This version of python seems to be incorrectly compiled\n",
      "(internal generated filenames are not absolute).\n",
      "This may make the debugger miss breakpoints.\n",
      "Related bug: http://bugs.python.org/issue1666807\n"
     ]
    },
    {
     "name": "stdout",
     "output_type": "stream",
     "text": [
      "Notebook executed successfully with parameters x=0.7000000000000001, y=40.0. Output saved as 'abs_notebook_x0.70_y40.00.ipynb'.\n"
     ]
    },
    {
     "data": {
      "application/vnd.jupyter.widget-view+json": {
       "model_id": "803328e067d44c2eafd66f8d11870083",
       "version_major": 2,
       "version_minor": 0
      },
      "text/plain": [
       "Executing:   0%|          | 0/9 [00:00<?, ?cell/s]"
      ]
     },
     "metadata": {},
     "output_type": "display_data"
    },
    {
     "name": "stderr",
     "output_type": "stream",
     "text": [
      "This version of python seems to be incorrectly compiled\n",
      "(internal generated filenames are not absolute).\n",
      "This may make the debugger miss breakpoints.\n",
      "Related bug: http://bugs.python.org/issue1666807\n"
     ]
    },
    {
     "name": "stdout",
     "output_type": "stream",
     "text": [
      "Notebook executed successfully with parameters x=0.7000000000000001, y=50.0. Output saved as 'abs_notebook_x0.70_y50.00.ipynb'.\n"
     ]
    },
    {
     "data": {
      "application/vnd.jupyter.widget-view+json": {
       "model_id": "79350fd59dc34544991ccc2e185017d5",
       "version_major": 2,
       "version_minor": 0
      },
      "text/plain": [
       "Executing:   0%|          | 0/9 [00:00<?, ?cell/s]"
      ]
     },
     "metadata": {},
     "output_type": "display_data"
    },
    {
     "name": "stderr",
     "output_type": "stream",
     "text": [
      "This version of python seems to be incorrectly compiled\n",
      "(internal generated filenames are not absolute).\n",
      "This may make the debugger miss breakpoints.\n",
      "Related bug: http://bugs.python.org/issue1666807\n"
     ]
    },
    {
     "name": "stdout",
     "output_type": "stream",
     "text": [
      "Notebook executed successfully with parameters x=0.7000000000000001, y=60.0. Output saved as 'abs_notebook_x0.70_y60.00.ipynb'.\n"
     ]
    },
    {
     "data": {
      "application/vnd.jupyter.widget-view+json": {
       "model_id": "8b98f678692c4327bd9c6e778ff1830a",
       "version_major": 2,
       "version_minor": 0
      },
      "text/plain": [
       "Executing:   0%|          | 0/9 [00:00<?, ?cell/s]"
      ]
     },
     "metadata": {},
     "output_type": "display_data"
    },
    {
     "name": "stderr",
     "output_type": "stream",
     "text": [
      "This version of python seems to be incorrectly compiled\n",
      "(internal generated filenames are not absolute).\n",
      "This may make the debugger miss breakpoints.\n",
      "Related bug: http://bugs.python.org/issue1666807\n"
     ]
    },
    {
     "name": "stdout",
     "output_type": "stream",
     "text": [
      "Notebook executed successfully with parameters x=0.7000000000000001, y=70.0. Output saved as 'abs_notebook_x0.70_y70.00.ipynb'.\n"
     ]
    },
    {
     "data": {
      "application/vnd.jupyter.widget-view+json": {
       "model_id": "e2c0200d87654f6aa36802811b202420",
       "version_major": 2,
       "version_minor": 0
      },
      "text/plain": [
       "Executing:   0%|          | 0/9 [00:00<?, ?cell/s]"
      ]
     },
     "metadata": {},
     "output_type": "display_data"
    },
    {
     "name": "stderr",
     "output_type": "stream",
     "text": [
      "This version of python seems to be incorrectly compiled\n",
      "(internal generated filenames are not absolute).\n",
      "This may make the debugger miss breakpoints.\n",
      "Related bug: http://bugs.python.org/issue1666807\n"
     ]
    },
    {
     "name": "stdout",
     "output_type": "stream",
     "text": [
      "Notebook executed successfully with parameters x=0.7000000000000001, y=80.0. Output saved as 'abs_notebook_x0.70_y80.00.ipynb'.\n"
     ]
    },
    {
     "data": {
      "application/vnd.jupyter.widget-view+json": {
       "model_id": "e6bc69627d164266ab78fa72e16936e6",
       "version_major": 2,
       "version_minor": 0
      },
      "text/plain": [
       "Executing:   0%|          | 0/9 [00:00<?, ?cell/s]"
      ]
     },
     "metadata": {},
     "output_type": "display_data"
    },
    {
     "name": "stderr",
     "output_type": "stream",
     "text": [
      "This version of python seems to be incorrectly compiled\n",
      "(internal generated filenames are not absolute).\n",
      "This may make the debugger miss breakpoints.\n",
      "Related bug: http://bugs.python.org/issue1666807\n"
     ]
    },
    {
     "name": "stdout",
     "output_type": "stream",
     "text": [
      "Notebook executed successfully with parameters x=0.7000000000000001, y=90.0. Output saved as 'abs_notebook_x0.70_y90.00.ipynb'.\n"
     ]
    },
    {
     "data": {
      "application/vnd.jupyter.widget-view+json": {
       "model_id": "d756c14f50d7435da4762c04bd46889f",
       "version_major": 2,
       "version_minor": 0
      },
      "text/plain": [
       "Executing:   0%|          | 0/9 [00:00<?, ?cell/s]"
      ]
     },
     "metadata": {},
     "output_type": "display_data"
    },
    {
     "name": "stderr",
     "output_type": "stream",
     "text": [
      "This version of python seems to be incorrectly compiled\n",
      "(internal generated filenames are not absolute).\n",
      "This may make the debugger miss breakpoints.\n",
      "Related bug: http://bugs.python.org/issue1666807\n"
     ]
    },
    {
     "name": "stdout",
     "output_type": "stream",
     "text": [
      "Notebook executed successfully with parameters x=0.8, y=0.0. Output saved as 'abs_notebook_x0.80_y0.00.ipynb'.\n"
     ]
    },
    {
     "data": {
      "application/vnd.jupyter.widget-view+json": {
       "model_id": "66595f68a09646618ad0217891e7c5cf",
       "version_major": 2,
       "version_minor": 0
      },
      "text/plain": [
       "Executing:   0%|          | 0/9 [00:00<?, ?cell/s]"
      ]
     },
     "metadata": {},
     "output_type": "display_data"
    },
    {
     "name": "stderr",
     "output_type": "stream",
     "text": [
      "This version of python seems to be incorrectly compiled\n",
      "(internal generated filenames are not absolute).\n",
      "This may make the debugger miss breakpoints.\n",
      "Related bug: http://bugs.python.org/issue1666807\n"
     ]
    },
    {
     "name": "stdout",
     "output_type": "stream",
     "text": [
      "Notebook executed successfully with parameters x=0.8, y=10.0. Output saved as 'abs_notebook_x0.80_y10.00.ipynb'.\n"
     ]
    },
    {
     "data": {
      "application/vnd.jupyter.widget-view+json": {
       "model_id": "f195472a22644adb971f2c71133251f7",
       "version_major": 2,
       "version_minor": 0
      },
      "text/plain": [
       "Executing:   0%|          | 0/9 [00:00<?, ?cell/s]"
      ]
     },
     "metadata": {},
     "output_type": "display_data"
    },
    {
     "name": "stderr",
     "output_type": "stream",
     "text": [
      "This version of python seems to be incorrectly compiled\n",
      "(internal generated filenames are not absolute).\n",
      "This may make the debugger miss breakpoints.\n",
      "Related bug: http://bugs.python.org/issue1666807\n"
     ]
    },
    {
     "name": "stdout",
     "output_type": "stream",
     "text": [
      "Notebook executed successfully with parameters x=0.8, y=20.0. Output saved as 'abs_notebook_x0.80_y20.00.ipynb'.\n"
     ]
    },
    {
     "data": {
      "application/vnd.jupyter.widget-view+json": {
       "model_id": "5b6b9f478a294e928db01130a834e937",
       "version_major": 2,
       "version_minor": 0
      },
      "text/plain": [
       "Executing:   0%|          | 0/9 [00:00<?, ?cell/s]"
      ]
     },
     "metadata": {},
     "output_type": "display_data"
    },
    {
     "name": "stderr",
     "output_type": "stream",
     "text": [
      "This version of python seems to be incorrectly compiled\n",
      "(internal generated filenames are not absolute).\n",
      "This may make the debugger miss breakpoints.\n",
      "Related bug: http://bugs.python.org/issue1666807\n"
     ]
    },
    {
     "name": "stdout",
     "output_type": "stream",
     "text": [
      "Notebook executed successfully with parameters x=0.8, y=30.0. Output saved as 'abs_notebook_x0.80_y30.00.ipynb'.\n"
     ]
    },
    {
     "data": {
      "application/vnd.jupyter.widget-view+json": {
       "model_id": "ccfd9dbb97784eaa92e6565b7260aa5a",
       "version_major": 2,
       "version_minor": 0
      },
      "text/plain": [
       "Executing:   0%|          | 0/9 [00:00<?, ?cell/s]"
      ]
     },
     "metadata": {},
     "output_type": "display_data"
    },
    {
     "name": "stderr",
     "output_type": "stream",
     "text": [
      "This version of python seems to be incorrectly compiled\n",
      "(internal generated filenames are not absolute).\n",
      "This may make the debugger miss breakpoints.\n",
      "Related bug: http://bugs.python.org/issue1666807\n"
     ]
    },
    {
     "name": "stdout",
     "output_type": "stream",
     "text": [
      "Notebook executed successfully with parameters x=0.8, y=40.0. Output saved as 'abs_notebook_x0.80_y40.00.ipynb'.\n"
     ]
    },
    {
     "data": {
      "application/vnd.jupyter.widget-view+json": {
       "model_id": "a658916eada74db8affa0f969d505db3",
       "version_major": 2,
       "version_minor": 0
      },
      "text/plain": [
       "Executing:   0%|          | 0/9 [00:00<?, ?cell/s]"
      ]
     },
     "metadata": {},
     "output_type": "display_data"
    },
    {
     "name": "stderr",
     "output_type": "stream",
     "text": [
      "This version of python seems to be incorrectly compiled\n",
      "(internal generated filenames are not absolute).\n",
      "This may make the debugger miss breakpoints.\n",
      "Related bug: http://bugs.python.org/issue1666807\n"
     ]
    },
    {
     "name": "stdout",
     "output_type": "stream",
     "text": [
      "Notebook executed successfully with parameters x=0.8, y=50.0. Output saved as 'abs_notebook_x0.80_y50.00.ipynb'.\n"
     ]
    },
    {
     "data": {
      "application/vnd.jupyter.widget-view+json": {
       "model_id": "6c08e4642f85400dbd0a31ceec988005",
       "version_major": 2,
       "version_minor": 0
      },
      "text/plain": [
       "Executing:   0%|          | 0/9 [00:00<?, ?cell/s]"
      ]
     },
     "metadata": {},
     "output_type": "display_data"
    },
    {
     "name": "stderr",
     "output_type": "stream",
     "text": [
      "This version of python seems to be incorrectly compiled\n",
      "(internal generated filenames are not absolute).\n",
      "This may make the debugger miss breakpoints.\n",
      "Related bug: http://bugs.python.org/issue1666807\n"
     ]
    },
    {
     "name": "stdout",
     "output_type": "stream",
     "text": [
      "Notebook executed successfully with parameters x=0.8, y=60.0. Output saved as 'abs_notebook_x0.80_y60.00.ipynb'.\n"
     ]
    },
    {
     "data": {
      "application/vnd.jupyter.widget-view+json": {
       "model_id": "086931822a6e438fa1f917bc4831d2aa",
       "version_major": 2,
       "version_minor": 0
      },
      "text/plain": [
       "Executing:   0%|          | 0/9 [00:00<?, ?cell/s]"
      ]
     },
     "metadata": {},
     "output_type": "display_data"
    },
    {
     "name": "stderr",
     "output_type": "stream",
     "text": [
      "This version of python seems to be incorrectly compiled\n",
      "(internal generated filenames are not absolute).\n",
      "This may make the debugger miss breakpoints.\n",
      "Related bug: http://bugs.python.org/issue1666807\n"
     ]
    },
    {
     "name": "stdout",
     "output_type": "stream",
     "text": [
      "Notebook executed successfully with parameters x=0.8, y=70.0. Output saved as 'abs_notebook_x0.80_y70.00.ipynb'.\n"
     ]
    },
    {
     "data": {
      "application/vnd.jupyter.widget-view+json": {
       "model_id": "d3661e4685b341e2966f04c664ea93e2",
       "version_major": 2,
       "version_minor": 0
      },
      "text/plain": [
       "Executing:   0%|          | 0/9 [00:00<?, ?cell/s]"
      ]
     },
     "metadata": {},
     "output_type": "display_data"
    },
    {
     "name": "stderr",
     "output_type": "stream",
     "text": [
      "This version of python seems to be incorrectly compiled\n",
      "(internal generated filenames are not absolute).\n",
      "This may make the debugger miss breakpoints.\n",
      "Related bug: http://bugs.python.org/issue1666807\n"
     ]
    },
    {
     "name": "stdout",
     "output_type": "stream",
     "text": [
      "Notebook executed successfully with parameters x=0.8, y=80.0. Output saved as 'abs_notebook_x0.80_y80.00.ipynb'.\n"
     ]
    },
    {
     "data": {
      "application/vnd.jupyter.widget-view+json": {
       "model_id": "19c353d977d8413d91e3507f3e6407e0",
       "version_major": 2,
       "version_minor": 0
      },
      "text/plain": [
       "Executing:   0%|          | 0/9 [00:00<?, ?cell/s]"
      ]
     },
     "metadata": {},
     "output_type": "display_data"
    },
    {
     "name": "stderr",
     "output_type": "stream",
     "text": [
      "This version of python seems to be incorrectly compiled\n",
      "(internal generated filenames are not absolute).\n",
      "This may make the debugger miss breakpoints.\n",
      "Related bug: http://bugs.python.org/issue1666807\n"
     ]
    },
    {
     "name": "stdout",
     "output_type": "stream",
     "text": [
      "Notebook executed successfully with parameters x=0.8, y=90.0. Output saved as 'abs_notebook_x0.80_y90.00.ipynb'.\n"
     ]
    },
    {
     "data": {
      "application/vnd.jupyter.widget-view+json": {
       "model_id": "0b162a934caa4ba89c1fca4a570106eb",
       "version_major": 2,
       "version_minor": 0
      },
      "text/plain": [
       "Executing:   0%|          | 0/9 [00:00<?, ?cell/s]"
      ]
     },
     "metadata": {},
     "output_type": "display_data"
    },
    {
     "name": "stderr",
     "output_type": "stream",
     "text": [
      "This version of python seems to be incorrectly compiled\n",
      "(internal generated filenames are not absolute).\n",
      "This may make the debugger miss breakpoints.\n",
      "Related bug: http://bugs.python.org/issue1666807\n"
     ]
    },
    {
     "name": "stdout",
     "output_type": "stream",
     "text": [
      "Notebook executed successfully with parameters x=0.9, y=0.0. Output saved as 'abs_notebook_x0.90_y0.00.ipynb'.\n"
     ]
    },
    {
     "data": {
      "application/vnd.jupyter.widget-view+json": {
       "model_id": "ebe3928750c74a7a9bde6ca4f07a67eb",
       "version_major": 2,
       "version_minor": 0
      },
      "text/plain": [
       "Executing:   0%|          | 0/9 [00:00<?, ?cell/s]"
      ]
     },
     "metadata": {},
     "output_type": "display_data"
    },
    {
     "name": "stderr",
     "output_type": "stream",
     "text": [
      "This version of python seems to be incorrectly compiled\n",
      "(internal generated filenames are not absolute).\n",
      "This may make the debugger miss breakpoints.\n",
      "Related bug: http://bugs.python.org/issue1666807\n"
     ]
    },
    {
     "name": "stdout",
     "output_type": "stream",
     "text": [
      "Notebook executed successfully with parameters x=0.9, y=10.0. Output saved as 'abs_notebook_x0.90_y10.00.ipynb'.\n"
     ]
    },
    {
     "data": {
      "application/vnd.jupyter.widget-view+json": {
       "model_id": "fea26dd67ca541249e48a6b86bb046e7",
       "version_major": 2,
       "version_minor": 0
      },
      "text/plain": [
       "Executing:   0%|          | 0/9 [00:00<?, ?cell/s]"
      ]
     },
     "metadata": {},
     "output_type": "display_data"
    },
    {
     "name": "stderr",
     "output_type": "stream",
     "text": [
      "This version of python seems to be incorrectly compiled\n",
      "(internal generated filenames are not absolute).\n",
      "This may make the debugger miss breakpoints.\n",
      "Related bug: http://bugs.python.org/issue1666807\n"
     ]
    },
    {
     "name": "stdout",
     "output_type": "stream",
     "text": [
      "Notebook executed successfully with parameters x=0.9, y=20.0. Output saved as 'abs_notebook_x0.90_y20.00.ipynb'.\n"
     ]
    },
    {
     "data": {
      "application/vnd.jupyter.widget-view+json": {
       "model_id": "f1789ed6bed84aedbdf0bb12068b320f",
       "version_major": 2,
       "version_minor": 0
      },
      "text/plain": [
       "Executing:   0%|          | 0/9 [00:00<?, ?cell/s]"
      ]
     },
     "metadata": {},
     "output_type": "display_data"
    },
    {
     "name": "stderr",
     "output_type": "stream",
     "text": [
      "This version of python seems to be incorrectly compiled\n",
      "(internal generated filenames are not absolute).\n",
      "This may make the debugger miss breakpoints.\n",
      "Related bug: http://bugs.python.org/issue1666807\n"
     ]
    },
    {
     "name": "stdout",
     "output_type": "stream",
     "text": [
      "Notebook executed successfully with parameters x=0.9, y=30.0. Output saved as 'abs_notebook_x0.90_y30.00.ipynb'.\n"
     ]
    },
    {
     "data": {
      "application/vnd.jupyter.widget-view+json": {
       "model_id": "e615ca3080694be99bce2b9ef02d0bf6",
       "version_major": 2,
       "version_minor": 0
      },
      "text/plain": [
       "Executing:   0%|          | 0/9 [00:00<?, ?cell/s]"
      ]
     },
     "metadata": {},
     "output_type": "display_data"
    },
    {
     "name": "stderr",
     "output_type": "stream",
     "text": [
      "This version of python seems to be incorrectly compiled\n",
      "(internal generated filenames are not absolute).\n",
      "This may make the debugger miss breakpoints.\n",
      "Related bug: http://bugs.python.org/issue1666807\n"
     ]
    },
    {
     "name": "stdout",
     "output_type": "stream",
     "text": [
      "Notebook executed successfully with parameters x=0.9, y=40.0. Output saved as 'abs_notebook_x0.90_y40.00.ipynb'.\n"
     ]
    },
    {
     "data": {
      "application/vnd.jupyter.widget-view+json": {
       "model_id": "32a3c7eb39c64de1bfa7a271fe7bec4e",
       "version_major": 2,
       "version_minor": 0
      },
      "text/plain": [
       "Executing:   0%|          | 0/9 [00:00<?, ?cell/s]"
      ]
     },
     "metadata": {},
     "output_type": "display_data"
    },
    {
     "name": "stderr",
     "output_type": "stream",
     "text": [
      "This version of python seems to be incorrectly compiled\n",
      "(internal generated filenames are not absolute).\n",
      "This may make the debugger miss breakpoints.\n",
      "Related bug: http://bugs.python.org/issue1666807\n"
     ]
    },
    {
     "name": "stdout",
     "output_type": "stream",
     "text": [
      "Notebook executed successfully with parameters x=0.9, y=50.0. Output saved as 'abs_notebook_x0.90_y50.00.ipynb'.\n"
     ]
    },
    {
     "data": {
      "application/vnd.jupyter.widget-view+json": {
       "model_id": "e7a34b0e48c6473ab4429b4694831191",
       "version_major": 2,
       "version_minor": 0
      },
      "text/plain": [
       "Executing:   0%|          | 0/9 [00:00<?, ?cell/s]"
      ]
     },
     "metadata": {},
     "output_type": "display_data"
    },
    {
     "name": "stderr",
     "output_type": "stream",
     "text": [
      "This version of python seems to be incorrectly compiled\n",
      "(internal generated filenames are not absolute).\n",
      "This may make the debugger miss breakpoints.\n",
      "Related bug: http://bugs.python.org/issue1666807\n"
     ]
    },
    {
     "name": "stdout",
     "output_type": "stream",
     "text": [
      "Notebook executed successfully with parameters x=0.9, y=60.0. Output saved as 'abs_notebook_x0.90_y60.00.ipynb'.\n"
     ]
    },
    {
     "data": {
      "application/vnd.jupyter.widget-view+json": {
       "model_id": "632f3ac72ad24f3590027e66af74f1ab",
       "version_major": 2,
       "version_minor": 0
      },
      "text/plain": [
       "Executing:   0%|          | 0/9 [00:00<?, ?cell/s]"
      ]
     },
     "metadata": {},
     "output_type": "display_data"
    },
    {
     "name": "stderr",
     "output_type": "stream",
     "text": [
      "This version of python seems to be incorrectly compiled\n",
      "(internal generated filenames are not absolute).\n",
      "This may make the debugger miss breakpoints.\n",
      "Related bug: http://bugs.python.org/issue1666807\n"
     ]
    },
    {
     "name": "stdout",
     "output_type": "stream",
     "text": [
      "Notebook executed successfully with parameters x=0.9, y=70.0. Output saved as 'abs_notebook_x0.90_y70.00.ipynb'.\n"
     ]
    },
    {
     "data": {
      "application/vnd.jupyter.widget-view+json": {
       "model_id": "76c04667495a496e9f0d69b104132fee",
       "version_major": 2,
       "version_minor": 0
      },
      "text/plain": [
       "Executing:   0%|          | 0/9 [00:00<?, ?cell/s]"
      ]
     },
     "metadata": {},
     "output_type": "display_data"
    },
    {
     "name": "stderr",
     "output_type": "stream",
     "text": [
      "This version of python seems to be incorrectly compiled\n",
      "(internal generated filenames are not absolute).\n",
      "This may make the debugger miss breakpoints.\n",
      "Related bug: http://bugs.python.org/issue1666807\n"
     ]
    },
    {
     "name": "stdout",
     "output_type": "stream",
     "text": [
      "Notebook executed successfully with parameters x=0.9, y=80.0. Output saved as 'abs_notebook_x0.90_y80.00.ipynb'.\n"
     ]
    },
    {
     "data": {
      "application/vnd.jupyter.widget-view+json": {
       "model_id": "8ce855a40ae54c4693a8df28e71b965a",
       "version_major": 2,
       "version_minor": 0
      },
      "text/plain": [
       "Executing:   0%|          | 0/9 [00:00<?, ?cell/s]"
      ]
     },
     "metadata": {},
     "output_type": "display_data"
    },
    {
     "name": "stderr",
     "output_type": "stream",
     "text": [
      "This version of python seems to be incorrectly compiled\n",
      "(internal generated filenames are not absolute).\n",
      "This may make the debugger miss breakpoints.\n",
      "Related bug: http://bugs.python.org/issue1666807\n"
     ]
    },
    {
     "name": "stdout",
     "output_type": "stream",
     "text": [
      "Notebook executed successfully with parameters x=0.9, y=90.0. Output saved as 'abs_notebook_x0.90_y90.00.ipynb'.\n"
     ]
    },
    {
     "data": {
      "application/vnd.jupyter.widget-view+json": {
       "model_id": "aaeb1f2d3d1c478e9680f791a50d57ee",
       "version_major": 2,
       "version_minor": 0
      },
      "text/plain": [
       "Executing:   0%|          | 0/9 [00:00<?, ?cell/s]"
      ]
     },
     "metadata": {},
     "output_type": "display_data"
    },
    {
     "name": "stderr",
     "output_type": "stream",
     "text": [
      "This version of python seems to be incorrectly compiled\n",
      "(internal generated filenames are not absolute).\n",
      "This may make the debugger miss breakpoints.\n",
      "Related bug: http://bugs.python.org/issue1666807\n"
     ]
    },
    {
     "name": "stdout",
     "output_type": "stream",
     "text": [
      "Notebook executed successfully with parameters x=1.0, y=0.0. Output saved as 'abs_notebook_x1.00_y0.00.ipynb'.\n"
     ]
    },
    {
     "data": {
      "application/vnd.jupyter.widget-view+json": {
       "model_id": "945b6031828046408a302f48930559c4",
       "version_major": 2,
       "version_minor": 0
      },
      "text/plain": [
       "Executing:   0%|          | 0/9 [00:00<?, ?cell/s]"
      ]
     },
     "metadata": {},
     "output_type": "display_data"
    },
    {
     "name": "stderr",
     "output_type": "stream",
     "text": [
      "This version of python seems to be incorrectly compiled\n",
      "(internal generated filenames are not absolute).\n",
      "This may make the debugger miss breakpoints.\n",
      "Related bug: http://bugs.python.org/issue1666807\n"
     ]
    },
    {
     "name": "stdout",
     "output_type": "stream",
     "text": [
      "Notebook executed successfully with parameters x=1.0, y=10.0. Output saved as 'abs_notebook_x1.00_y10.00.ipynb'.\n"
     ]
    },
    {
     "data": {
      "application/vnd.jupyter.widget-view+json": {
       "model_id": "552165a2c9fe43c094bdc46e6d7284d6",
       "version_major": 2,
       "version_minor": 0
      },
      "text/plain": [
       "Executing:   0%|          | 0/9 [00:00<?, ?cell/s]"
      ]
     },
     "metadata": {},
     "output_type": "display_data"
    },
    {
     "name": "stderr",
     "output_type": "stream",
     "text": [
      "This version of python seems to be incorrectly compiled\n",
      "(internal generated filenames are not absolute).\n",
      "This may make the debugger miss breakpoints.\n",
      "Related bug: http://bugs.python.org/issue1666807\n"
     ]
    },
    {
     "name": "stdout",
     "output_type": "stream",
     "text": [
      "Notebook executed successfully with parameters x=1.0, y=20.0. Output saved as 'abs_notebook_x1.00_y20.00.ipynb'.\n"
     ]
    },
    {
     "data": {
      "application/vnd.jupyter.widget-view+json": {
       "model_id": "079c1bcd9669448680e51c7ae19fd3a4",
       "version_major": 2,
       "version_minor": 0
      },
      "text/plain": [
       "Executing:   0%|          | 0/9 [00:00<?, ?cell/s]"
      ]
     },
     "metadata": {},
     "output_type": "display_data"
    },
    {
     "name": "stderr",
     "output_type": "stream",
     "text": [
      "This version of python seems to be incorrectly compiled\n",
      "(internal generated filenames are not absolute).\n",
      "This may make the debugger miss breakpoints.\n",
      "Related bug: http://bugs.python.org/issue1666807\n"
     ]
    },
    {
     "name": "stdout",
     "output_type": "stream",
     "text": [
      "Notebook executed successfully with parameters x=1.0, y=30.0. Output saved as 'abs_notebook_x1.00_y30.00.ipynb'.\n"
     ]
    },
    {
     "data": {
      "application/vnd.jupyter.widget-view+json": {
       "model_id": "b8d6b52ce25f4e85ac8233fdf3a5730c",
       "version_major": 2,
       "version_minor": 0
      },
      "text/plain": [
       "Executing:   0%|          | 0/9 [00:00<?, ?cell/s]"
      ]
     },
     "metadata": {},
     "output_type": "display_data"
    },
    {
     "name": "stderr",
     "output_type": "stream",
     "text": [
      "This version of python seems to be incorrectly compiled\n",
      "(internal generated filenames are not absolute).\n",
      "This may make the debugger miss breakpoints.\n",
      "Related bug: http://bugs.python.org/issue1666807\n"
     ]
    },
    {
     "name": "stdout",
     "output_type": "stream",
     "text": [
      "Notebook executed successfully with parameters x=1.0, y=40.0. Output saved as 'abs_notebook_x1.00_y40.00.ipynb'.\n"
     ]
    },
    {
     "data": {
      "application/vnd.jupyter.widget-view+json": {
       "model_id": "34eaab9d7e7c490bbb349006acc3c135",
       "version_major": 2,
       "version_minor": 0
      },
      "text/plain": [
       "Executing:   0%|          | 0/9 [00:00<?, ?cell/s]"
      ]
     },
     "metadata": {},
     "output_type": "display_data"
    },
    {
     "name": "stderr",
     "output_type": "stream",
     "text": [
      "This version of python seems to be incorrectly compiled\n",
      "(internal generated filenames are not absolute).\n",
      "This may make the debugger miss breakpoints.\n",
      "Related bug: http://bugs.python.org/issue1666807\n"
     ]
    },
    {
     "name": "stdout",
     "output_type": "stream",
     "text": [
      "Notebook executed successfully with parameters x=1.0, y=50.0. Output saved as 'abs_notebook_x1.00_y50.00.ipynb'.\n"
     ]
    },
    {
     "data": {
      "application/vnd.jupyter.widget-view+json": {
       "model_id": "0ecf406cdc8e46ba88da6a0fe5c3cace",
       "version_major": 2,
       "version_minor": 0
      },
      "text/plain": [
       "Executing:   0%|          | 0/9 [00:00<?, ?cell/s]"
      ]
     },
     "metadata": {},
     "output_type": "display_data"
    },
    {
     "name": "stderr",
     "output_type": "stream",
     "text": [
      "This version of python seems to be incorrectly compiled\n",
      "(internal generated filenames are not absolute).\n",
      "This may make the debugger miss breakpoints.\n",
      "Related bug: http://bugs.python.org/issue1666807\n"
     ]
    },
    {
     "name": "stdout",
     "output_type": "stream",
     "text": [
      "Notebook executed successfully with parameters x=1.0, y=60.0. Output saved as 'abs_notebook_x1.00_y60.00.ipynb'.\n"
     ]
    },
    {
     "data": {
      "application/vnd.jupyter.widget-view+json": {
       "model_id": "854951f0face4de39b0c5f8ff4bd840f",
       "version_major": 2,
       "version_minor": 0
      },
      "text/plain": [
       "Executing:   0%|          | 0/9 [00:00<?, ?cell/s]"
      ]
     },
     "metadata": {},
     "output_type": "display_data"
    },
    {
     "name": "stderr",
     "output_type": "stream",
     "text": [
      "This version of python seems to be incorrectly compiled\n",
      "(internal generated filenames are not absolute).\n",
      "This may make the debugger miss breakpoints.\n",
      "Related bug: http://bugs.python.org/issue1666807\n"
     ]
    },
    {
     "name": "stdout",
     "output_type": "stream",
     "text": [
      "Notebook executed successfully with parameters x=1.0, y=70.0. Output saved as 'abs_notebook_x1.00_y70.00.ipynb'.\n"
     ]
    },
    {
     "data": {
      "application/vnd.jupyter.widget-view+json": {
       "model_id": "4b4de49d3a3e423da400b4bacb315c4b",
       "version_major": 2,
       "version_minor": 0
      },
      "text/plain": [
       "Executing:   0%|          | 0/9 [00:00<?, ?cell/s]"
      ]
     },
     "metadata": {},
     "output_type": "display_data"
    },
    {
     "name": "stderr",
     "output_type": "stream",
     "text": [
      "This version of python seems to be incorrectly compiled\n",
      "(internal generated filenames are not absolute).\n",
      "This may make the debugger miss breakpoints.\n",
      "Related bug: http://bugs.python.org/issue1666807\n"
     ]
    },
    {
     "name": "stdout",
     "output_type": "stream",
     "text": [
      "Notebook executed successfully with parameters x=1.0, y=80.0. Output saved as 'abs_notebook_x1.00_y80.00.ipynb'.\n"
     ]
    },
    {
     "data": {
      "application/vnd.jupyter.widget-view+json": {
       "model_id": "24da266a58e24b4391f3eed425517021",
       "version_major": 2,
       "version_minor": 0
      },
      "text/plain": [
       "Executing:   0%|          | 0/9 [00:00<?, ?cell/s]"
      ]
     },
     "metadata": {},
     "output_type": "display_data"
    },
    {
     "name": "stderr",
     "output_type": "stream",
     "text": [
      "This version of python seems to be incorrectly compiled\n",
      "(internal generated filenames are not absolute).\n",
      "This may make the debugger miss breakpoints.\n",
      "Related bug: http://bugs.python.org/issue1666807\n"
     ]
    },
    {
     "name": "stdout",
     "output_type": "stream",
     "text": [
      "Notebook executed successfully with parameters x=1.0, y=90.0. Output saved as 'abs_notebook_x1.00_y90.00.ipynb'.\n"
     ]
    }
   ],
   "source": [
    "import numpy as np\n",
    "import papermill as pm\n",
    "\n",
    "# Define a list of values for the parameters\n",
    "sza_values = np.linspace(0, 90, 10).tolist()  # Convert to a list\n",
    "Rs_values = np.linspace(0, 1, 11).tolist()   # Convert to a list\n",
    "\n",
    "# Path to the notebook you want to execute\n",
    "notebook_path = \"my_run_rrtm_sw.ipynb\"\n",
    "\n",
    "# Loop through the values and execute the notebook with each combination\n",
    "for Rs in Rs_values:\n",
    "    for sza in sza_values:\n",
    "        #output_notebook_path = f\"scat_notebook_x{Rs:.2f}_y{sza:.2f}.ipynb\"\n",
    "        output_notebook_path = f\"abs_notebook_x{Rs:.2f}_y{sza:.2f}.ipynb\"\n",
    "        pm.execute_notebook(\n",
    "            notebook_path,\n",
    "            output_notebook_path,\n",
    "            parameters=dict(Rs=float(Rs), sza=float(sza))  # Convert to float\n",
    "        )\n",
    "        print(f\"Notebook executed successfully with parameters x={Rs}, y={sza}. Output saved as '{output_notebook_path}'.\")"
   ]
  },
  {
   "cell_type": "code",
   "execution_count": 5,
   "id": "5ef57daa-03f3-4231-88c9-61db6430d6b8",
   "metadata": {
    "tags": []
   },
   "outputs": [],
   "source": [
    "#load abs_TOA txt file"
   ]
  },
  {
   "cell_type": "code",
   "execution_count": 18,
   "id": "86b43c79-d3a8-4578-a96a-2a6db151369b",
   "metadata": {
    "tags": []
   },
   "outputs": [],
   "source": [
    "abs_TOA = np.loadtxt('abs_TOA_file.txt', skiprows=1)\n",
    "abs_Rs = []\n",
    "abs_sza = []\n",
    "abs_aerosol = []\n",
    "abs_clear = []\n",
    "abs_net = []\n",
    "for i in range(len(abs_TOA)):\n",
    "    abs_Rs.append(abs_TOA[i][0])\n",
    "    abs_sza.append(abs_TOA[i][1])\n",
    "    abs_aerosol.append(abs_TOA[i][2])\n",
    "    abs_clear.append(abs_TOA[i][3])\n",
    "    abs_net.append(abs_TOA[i][4])\n",
    "\n",
    "scat_TOA = np.loadtxt('scat_TOA_file.txt', skiprows=1)\n",
    "scat_Rs = []\n",
    "scat_sza = []\n",
    "scat_aerosol = []\n",
    "scat_clear = []\n",
    "scat_net = []\n",
    "for i in range(len(scat_TOA)):\n",
    "    scat_Rs.append(scat_TOA[i][0])\n",
    "    scat_sza.append(scat_TOA[i][1])\n",
    "    scat_aerosol.append(scat_TOA[i][2])\n",
    "    scat_clear.append(scat_TOA[i][3])\n",
    "    scat_net.append(scat_TOA[i][4])\n"
   ]
  },
  {
   "cell_type": "code",
   "execution_count": 23,
   "id": "4cf275ca-dc69-4450-abdc-2542d4ea545f",
   "metadata": {
    "tags": []
   },
   "outputs": [
    {
     "data": {
      "text/plain": [
       "[<matplotlib.lines.Line2D at 0x10c3b4250>]"
      ]
     },
     "execution_count": 23,
     "metadata": {},
     "output_type": "execute_result"
    },
    {
     "data": {
      "image/png": "[encoded data removed]",
      "text/plain": [
       "<Figure size 640x480 with 1 Axes>"
      ]
     },
     "metadata": {},
     "output_type": "display_data"
    }
   ],
   "source": [
    "import matplotlib.pyplot as plt\n",
    "plt.plot(scat_net[10:20],scat_Rs[10:20])"
   ]
  },
  {
   "cell_type": "code",
   "execution_count": null,
   "id": "ff24d7d0-f01a-4190-85b5-60d116b0671a",
   "metadata": {},
   "outputs": [],
   "source": []
  }
 ],
 "metadata": {
  "kernelspec": {
   "display_name": "rrtm_env",
   "language": "python",
   "name": "rrtm_env"
  },
  "language_info": {
   "codemirror_mode": {
    "name": "ipython",
    "version": 3
   },
   "file_extension": ".py",
   "mimetype": "text/x-python",
   "name": "python",
   "nbconvert_exporter": "python",
   "pygments_lexer": "ipython3",
   "version": "3.11.4"
  }
 },
 "nbformat": 4,
 "nbformat_minor": 5
}
