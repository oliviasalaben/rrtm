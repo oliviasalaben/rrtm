{
 "cells": [
  {
   "cell_type": "code",
   "execution_count": 24,
   "id": "ce01a81a-dc24-4a23-ad19-ec3b3adf40fd",
   "metadata": {},
   "outputs": [],
   "source": [
    "import numpy as np"
   ]
  },
  {
   "cell_type": "markdown",
   "id": "039959ea-eb58-44b4-87ea-9971862a7575",
   "metadata": {
    "tags": []
   },
   "source": [
    "from nbconvert.preprocessors import ExecutePreprocessor\n",
    "import nbformat\n",
    "\n",
    "def execute_notebook(notebook_path):\n",
    "    with open(notebook_path) as f:\n",
    "        nb = nbformat.read(f, as_version=4)\n",
    "    \n",
    "    # Create an instance of the ExecutePreprocessor class\n",
    "    executor = ExecutePreprocessor(timeout=-1)\n",
    "    \n",
    "    # Execute the notebook\n",
    "    executor.preprocess(nb, {'metadata': {'path': '.'}})\n",
    "    \n",
    "    print(\"Notebook executed successfully.\")\n",
    "\n",
    "# Specify the path to the notebook you want to execute\n",
    "notebook_path = \"/my_run_rrtm_sw.ipynb\"\n",
    "\n",
    "# Call the execute_notebook function with the notebook path\n",
    "execute_notebook(notebook_path)"
   ]
  },
  {
   "cell_type": "code",
   "execution_count": 25,
   "id": "64b9de25-8e55-4015-b103-0cc732cc5259",
   "metadata": {},
   "outputs": [],
   "source": [
    "sza_values = np.arange(0,100,10)\n",
    "Rs_values = np.arange(0,1.1,0.1)"
   ]
  },
  {
   "cell_type": "code",
   "execution_count": 26,
   "id": "edefede8-272a-49c9-bfda-ba17e11e3a91",
   "metadata": {},
   "outputs": [
    {
     "name": "stdout",
     "output_type": "stream",
     "text": [
      "10 [ 0 10 20 30 40 50 60 70 80 90]\n",
      "11 [0.  0.1 0.2 0.3 0.4 0.5 0.6 0.7 0.8 0.9 1. ]\n"
     ]
    }
   ],
   "source": [
    "print(len(sza_values), sza_values)\n",
    "print(len(Rs_values), Rs_values)"
   ]
  },
  {
   "cell_type": "code",
   "execution_count": null,
   "id": "f7478d11-1b04-4b20-aa10-07ee8798be56",
   "metadata": {},
   "outputs": [],
   "source": [
    "import numpy as np\n",
    "import papermill as pm\n",
    "\n",
    "# Define a list of values for the parameters\n",
    "sza_values = np.linspace(0, 90, 10).tolist()  # Convert to a list\n",
    "Rs_values = np.linspace(0, 1, 11).tolist()   # Convert to a list\n",
    "\n",
    "# Path to the notebook you want to execute\n",
    "notebook_path = \"my_run_rrtm_sw.ipynb\"\n",
    "\n",
    "# Loop through the values and execute the notebook with each combination\n",
    "for Rs in Rs_values:\n",
    "    for sza in sza_values:\n",
    "        #output_notebook_path = f\"scat_notebook_x{Rs:.2f}_y{sza:.2f}.ipynb\"\n",
    "        output_notebook_path = f\"abs_notebook_x{Rs:.2f}_y{sza:.2f}.ipynb\"\n",
    "        pm.execute_notebook(\n",
    "            notebook_path,\n",
    "            output_notebook_path,\n",
    "            parameters=dict(Rs=float(Rs), sza=float(sza))  # Convert to float\n",
    "        )\n",
    "        print(f\"Notebook executed successfully with parameters x={Rs}, y={sza}. Output saved as '{output_notebook_path}'.\")"
   ]
  }
 ],
 "metadata": {
  "kernelspec": {
   "display_name": "rrtm_env",
   "language": "python",
   "name": "rrtm_env"
  },
  "language_info": {
   "codemirror_mode": {
    "name": "ipython",
    "version": 3
   },
   "file_extension": ".py",
   "mimetype": "text/x-python",
   "name": "python",
   "nbconvert_exporter": "python",
   "pygments_lexer": "ipython3",
   "version": "3.11.4"
  }
 },
 "nbformat": 4,
 "nbformat_minor": 5
}
