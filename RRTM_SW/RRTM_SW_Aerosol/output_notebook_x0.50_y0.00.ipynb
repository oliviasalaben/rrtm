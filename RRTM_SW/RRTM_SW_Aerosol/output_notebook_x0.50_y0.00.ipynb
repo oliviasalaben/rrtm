{
 "cells": [
  {
   "cell_type": "code",
   "execution_count": 1,
   "id": "6cfcfca3",
   "metadata": {
    "execution": {
     "iopub.execute_input": "2024-03-05T00:38:30.509498Z",
     "iopub.status.busy": "2024-03-05T00:38:30.509147Z",
     "iopub.status.idle": "2024-03-05T00:38:30.516437Z",
     "shell.execute_reply": "2024-03-05T00:38:30.515797Z"
    },
    "papermill": {
     "duration": 0.012591,
     "end_time": "2024-03-05T00:38:30.518523",
     "exception": false,
     "start_time": "2024-03-05T00:38:30.505932",
     "status": "completed"
    },
    "tags": [
     "parameters"
    ]
   },
   "outputs": [],
   "source": [
    "# Parameters\n",
    "Rs = None\n",
    "sza = None\n",
    "# papermill parameters"
   ]
  },
  {
   "cell_type": "code",
   "execution_count": 2,
   "id": "0ae93026",
   "metadata": {
    "execution": {
     "iopub.execute_input": "2024-03-05T00:38:30.525178Z",
     "iopub.status.busy": "2024-03-05T00:38:30.524875Z",
     "iopub.status.idle": "2024-03-05T00:38:30.528791Z",
     "shell.execute_reply": "2024-03-05T00:38:30.528015Z"
    },
    "papermill": {
     "duration": 0.009322,
     "end_time": "2024-03-05T00:38:30.530713",
     "exception": false,
     "start_time": "2024-03-05T00:38:30.521391",
     "status": "completed"
    },
    "tags": [
     "injected-parameters"
    ]
   },
   "outputs": [],
   "source": [
    "# Parameters\n",
    "Rs = 0.5\n",
    "sza = 0.0\n"
   ]
  },
  {
   "cell_type": "code",
   "execution_count": 3,
   "id": "ecf62463",
   "metadata": {
    "execution": {
     "iopub.execute_input": "2024-03-05T00:38:30.535326Z",
     "iopub.status.busy": "2024-03-05T00:38:30.535082Z",
     "iopub.status.idle": "2024-03-05T00:38:31.903970Z",
     "shell.execute_reply": "2024-03-05T00:38:31.903148Z"
    },
    "papermill": {
     "duration": 1.373527,
     "end_time": "2024-03-05T00:38:31.906156",
     "exception": false,
     "start_time": "2024-03-05T00:38:30.532629",
     "status": "completed"
    },
    "tags": []
   },
   "outputs": [],
   "source": [
    "import os\n",
    "import numpy as np\n",
    "import pandas as pd\n",
    "from scipy.interpolate import interp1d\n",
    "import sys\n",
    "import math\n",
    "from netCDF4 import Dataset\n",
    "import os, calendar, sys, fnmatch, datetime\n",
    "from sur_spec_alb_interpolate import sur_spec_alb_interpolate\n",
    "\n",
    "#python scrapes\n",
    "from INPUT_RRTM_sw import *\n",
    "from INPUT_CLD_RRTM_sw import *\n",
    "from INPUT_AER_RRTM_sw import *\n",
    "from read_output_rrtm import *"
   ]
  },
  {
   "cell_type": "raw",
   "id": "accdd061",
   "metadata": {
    "papermill": {
     "duration": 0.005398,
     "end_time": "2024-03-05T00:38:31.913668",
     "exception": false,
     "start_time": "2024-03-05T00:38:31.908270",
     "status": "completed"
    },
    "tags": []
   },
   "source": [
    "Run this script in Downloads/RRTM/RRTM-Wrapper/RRTM_SW/RRTM_SW_Aerosol/"
   ]
  },
  {
   "cell_type": "code",
   "execution_count": 4,
   "id": "73b15f9f",
   "metadata": {
    "execution": {
     "iopub.execute_input": "2024-03-05T00:38:31.918743Z",
     "iopub.status.busy": "2024-03-05T00:38:31.918379Z",
     "iopub.status.idle": "2024-03-05T00:38:31.922893Z",
     "shell.execute_reply": "2024-03-05T00:38:31.922275Z"
    },
    "papermill": {
     "duration": 0.008863,
     "end_time": "2024-03-05T00:38:31.924532",
     "exception": false,
     "start_time": "2024-03-05T00:38:31.915669",
     "status": "completed"
    },
    "tags": []
   },
   "outputs": [],
   "source": [
    "#******************* Specify the path of compiled RRTM codes ****************\n",
    "model_dir = '../../../../RRTM/'\n",
    "RT_model_sw = model_dir+'rrtm_sw/rrtm_sw_OS_X_v2.5'\n",
    "\n",
    "#=======================================\n",
    "#Specify parameters in the RRTM model\n",
    "#=======================================\n",
    "\n",
    "SOLVAR  = 0.0  #(16,29)the solar source function scale factor for each band.\n",
    "#HBOUND = np.loadtxt(fname=file6)       #altitude of the surface (km)\n",
    "HTOA   = 77.0       #altitude of the top of the atmosphere (km)\n",
    "\n",
    "#--------------------------------------------------;\n",
    "ISCAT_sw   = 0\n",
    "ISTRM = 0   # 4 streams for sw\n",
    "NSTR  = 4   # of streams"
   ]
  },
  {
   "cell_type": "code",
   "execution_count": 5,
   "id": "b6237ab0",
   "metadata": {
    "execution": {
     "iopub.execute_input": "2024-03-05T00:38:31.928682Z",
     "iopub.status.busy": "2024-03-05T00:38:31.928446Z",
     "iopub.status.idle": "2024-03-05T00:38:31.933329Z",
     "shell.execute_reply": "2024-03-05T00:38:31.932867Z"
    },
    "papermill": {
     "duration": 0.008775,
     "end_time": "2024-03-05T00:38:31.934948",
     "exception": false,
     "start_time": "2024-03-05T00:38:31.926173",
     "status": "completed"
    },
    "tags": []
   },
   "outputs": [],
   "source": [
    "# =====RRTM input data (atmospheric and surface properties)=====\n",
    "# ***Note: RRTM requires Altitude (ZM) to be in a ascending order!!! (Make sure the vertical order of all other variables is consistent with the order of ZM)\n",
    "# ***Note: Be careful about the unit of each parameter (Check JCHAR variable in RRTM_SW instruction)\n",
    "\n",
    "atm_prof = np.loadtxt('atm_profile_aerosol.txt',skiprows=1)\n",
    "ZM = atm_prof[::-1,0] #km (boundary altitude (km))\n",
    "PM = atm_prof[::-1,1] #hpa\n",
    "TM = atm_prof[::-1,2] #K\n",
    "h2o = atm_prof[::-1,4]  #g/m3   #kg/kg . kg/kg *1e3 = gm/kg\n",
    "o3 = atm_prof[::-1,5]   #g/m3   #ppmv 'parts per million volume = 1e-6'. 1ppmv=1e-3*gm/kg\n",
    "dext = atm_prof[::-1,6] #(km-1)\n",
    "\n",
    "\n",
    "#Rs = None #np.array([0.1]) # surface albedo\n",
    "#sza = None #np.array([22]) # solar zenith angle"
   ]
  },
  {
   "cell_type": "code",
   "execution_count": 6,
   "id": "7b408aa1",
   "metadata": {
    "execution": {
     "iopub.execute_input": "2024-03-05T00:38:31.939619Z",
     "iopub.status.busy": "2024-03-05T00:38:31.939414Z",
     "iopub.status.idle": "2024-03-05T00:38:31.943605Z",
     "shell.execute_reply": "2024-03-05T00:38:31.943054Z"
    },
    "papermill": {
     "duration": 0.008476,
     "end_time": "2024-03-05T00:38:31.945197",
     "exception": false,
     "start_time": "2024-03-05T00:38:31.936721",
     "status": "completed"
    },
    "tags": []
   },
   "outputs": [],
   "source": [
    "# ===== Aerosol (e.g., dust) optical properties (i.e., Qext, SSA, g) =====\n",
    "# ***Note: The order of 14 bands is listed in TABLE 1 in RRTM_SW instruction (It is not monotonically increase or decrease)\n",
    "# ***Note: The order of spectral optical properties should be consistent with the order in TABLE 1\n",
    "\n",
    "opt_dir = '../../Dust_Optical_Properties/'\n",
    "wavelength_range = [0.35, 0.55, 0.75, 0.95] #[0.35, 0.55, 0.75, 0.95, 2, 4, 6, 8, 10, 12, 14, 16, 35]\n",
    "opt_prop_sw = np.loadtxt(opt_dir + 'RRTM_bulk_dust_optical_properties_0W_18N.txt', skiprows=1)\n",
    "\n",
    "qe_dust_sw = opt_prop_sw[:,0]  # Dust extinction efficienty (Qe) for 14 RRTM_SW bands\n",
    "ssa_dust_sw = opt_prop_sw[:,1] # Dust single scattering albedo (SSA) for the 14 RRTM_SW bands\n",
    "g_dust_sw = opt_prop_sw[:,2]   # Dust assymetric parameter (g) for the 14 RRTM_SW bands"
   ]
  },
  {
   "cell_type": "code",
   "execution_count": 7,
   "id": "b9a086c3",
   "metadata": {
    "execution": {
     "iopub.execute_input": "2024-03-05T00:38:31.949468Z",
     "iopub.status.busy": "2024-03-05T00:38:31.949234Z",
     "iopub.status.idle": "2024-03-05T00:38:31.953463Z",
     "shell.execute_reply": "2024-03-05T00:38:31.952886Z"
    },
    "papermill": {
     "duration": 0.008317,
     "end_time": "2024-03-05T00:38:31.955177",
     "exception": false,
     "start_time": "2024-03-05T00:38:31.946860",
     "status": "completed"
    },
    "tags": []
   },
   "outputs": [
    {
     "name": "stdout",
     "output_type": "stream",
     "text": [
      "[2.531 2.914 3.23  3.443 3.658 3.889 3.964 4.049 4.066 3.799 3.673 3.599\n",
      " 3.413 1.011]\n"
     ]
    }
   ],
   "source": [
    "print(qe_dust_sw)"
   ]
  },
  {
   "cell_type": "code",
   "execution_count": 8,
   "id": "207d28e0",
   "metadata": {
    "execution": {
     "iopub.execute_input": "2024-03-05T00:38:31.959887Z",
     "iopub.status.busy": "2024-03-05T00:38:31.959678Z",
     "iopub.status.idle": "2024-03-05T00:38:32.211090Z",
     "shell.execute_reply": "2024-03-05T00:38:32.210272Z"
    },
    "papermill": {
     "duration": 0.255782,
     "end_time": "2024-03-05T00:38:32.212902",
     "exception": false,
     "start_time": "2024-03-05T00:38:31.957120",
     "status": "completed"
    },
    "tags": []
   },
   "outputs": [
    {
     "name": "stdout",
     "output_type": "stream",
     "text": [
      "*****Number of cases: 1\n",
      "[1 4 5 6]\n",
      "*****Altitude for RRTM_SW (unit: km): [ 0.  1.  2.  3.  4.  5.  6.  7.  8.  9. 10. 11. 12. 13. 14. 15. 16. 17.\n",
      " 18. 19. 20. 21. 22. 23. 24. 25. 30. 35. 40. 45. 50.]\n",
      " Compute clear-sky sw flux w/o aerososl\n",
      " Compute sw fluxs with aerosol\n"
     ]
    }
   ],
   "source": [
    "n_case = np.size(Rs)\n",
    "print('*****Number of cases:',n_case)\n",
    "\n",
    "for ic in range(n_case):\n",
    "    SUF_ALB = np.ones(14)*Rs #np.ones(14)*Rs[ic]\n",
    "    SZA = sza #sza[ic]\n",
    "    if ZM[0]<0.1 :\n",
    "        HBOUND = ZM[0]+0.001\n",
    "    else:\n",
    "        HBOUND = ZM[0]+0.01\n",
    "    IMMAX = len(PM)\n",
    "    IBMAX = IMMAX\n",
    "\n",
    "    #****Note: The unit of each variable\n",
    "    VMOL_wv = h2o   ###kg/kg*1e3=gm/kg\n",
    "    VMOL_o3 = o3    ###ppmv*1e3=gm/kg\n",
    "    VMOL_co2= np.ones(IMMAX)* 360 #no CO2 profile in data, add mannually, ppmv\n",
    "    VMOL_n2o = np.ones(IMMAX)*0.3 #unit: PPMV\n",
    "    VMOL_co = np.zeros(IMMAX)\n",
    "    VMOL_ch4 = np.ones(IMMAX)*1.7 #unit: PPMV\n",
    "    VMOL_total = np.vstack((VMOL_wv,VMOL_co2,VMOL_o3,VMOL_n2o,VMOL_co,VMOL_ch4))#density of the molecule set by JCHAR(K)\n",
    "    VMOL=VMOL_total\n",
    "    \n",
    "    \n",
    "    NLAY = np.count_nonzero(dext)   # Total number of layers containing the aerosol with the specified properties\n",
    "    aer_lay = np.nonzero(dext)[0]+1 # Layer number  of aerosol layer. (layer n corresponds to the region between altitudes n and n+1 in the list of layer boundaries in Record 3.3B.)\n",
    "\n",
    "    print(aer_lay)\n",
    "    #----For each aerosol layer calculate AOD for each band----\n",
    "    aod = np.zeros(NLAY)\n",
    "    for i in range(NLAY):\n",
    "        aod[i]=dext[aer_lay[i]-1]*(ZM[aer_lay[i]]-ZM[aer_lay[i]-1])\n",
    "    aod_lay_band_sw=np.zeros((14,NLAY))\n",
    "    for j in range(NLAY):\n",
    "        aod_lay_band_sw[:,j]= aod[j] * qe_dust_sw/qe_dust_sw[9]   # qe_dust_sw[9] is qe @ 550nm. AOD(x) = AOD(550nm) * (qe(x)/qe(550nm)), where x is band number \n",
    "    \n",
    "    print('*****Altitude for RRTM_SW (unit: km):',ZM)\n",
    "    \n",
    "    #========================== Run RRTM_SW ====================================\n",
    "    ICLD = 0 # Cloud-free\n",
    "    IAER = 0 # Aerosol-free\n",
    "    print(' Compute clear-sky sw flux w/o aerososl')\n",
    "    read_input_rrtm_sw('INPUT_RRTM', IAER, ICLD, ISCAT_sw, ISTRM, SZA, 1.0-SUF_ALB, \\\n",
    "    HBOUND, IMMAX, ZM, PM, TM, VMOL)\n",
    "    os.system(RT_model_sw)\n",
    "    os.system('mv INPUT_RRTM INPUT_RRTM.sw')\n",
    "    os.system('mv OUTPUT_RRTM ./rrtm_output/OUTPUT_RRTM_sw_Rs{:}_sza{:}.clear'.format(Rs,sza))\n",
    "    \n",
    "    \n",
    "    ICLD = 0   # Cloud-free \n",
    "    IAER = 10  # With Aerosol\n",
    "    print(' Compute sw fluxs with aerosol')\n",
    "    read_input_rrtm_sw('INPUT_RRTM', IAER, ICLD, ISCAT_sw, ISTRM, SZA, 1.0-SUF_ALB, \\\n",
    "    HBOUND, IMMAX, ZM, PM, TM, VMOL)\n",
    "    write_IN_AER_RRTM_sw('IN_AER_RRTM',NLAY, aer_lay, aod_lay_band_sw,ssa_dust_sw,g_dust_sw)\n",
    "    os.system(RT_model_sw)\n",
    "    os.system('mv INPUT_RRTM INPUT_RRTM.sw')\n",
    "    os.system('mv IN_AER_RRTM IN_AER_RRTM.sw')\n",
    "    os.system('mv OUTPUT_RRTM ./rrtm_output/OUTPUT_RRTM_sw_Rs{:}_sza{:}.aerosol'.format(Rs,sza))\n",
    "    "
   ]
  },
  {
   "cell_type": "code",
   "execution_count": null,
   "id": "c7fd7cff",
   "metadata": {
    "papermill": {
     "duration": 0.002218,
     "end_time": "2024-03-05T00:38:32.217725",
     "exception": false,
     "start_time": "2024-03-05T00:38:32.215507",
     "status": "completed"
    },
    "tags": []
   },
   "outputs": [],
   "source": []
  }
 ],
 "metadata": {
  "kernelspec": {
   "display_name": "rrtm_env",
   "language": "python",
   "name": "rrtm_env"
  },
  "language_info": {
   "codemirror_mode": {
    "name": "ipython",
    "version": 3
   },
   "file_extension": ".py",
   "mimetype": "text/x-python",
   "name": "python",
   "nbconvert_exporter": "python",
   "pygments_lexer": "ipython3",
   "version": "3.11.4"
  },
  "papermill": {
   "default_parameters": {},
   "duration": 3.06662,
   "end_time": "2024-03-05T00:38:32.539277",
   "environment_variables": {},
   "exception": null,
   "input_path": "my_run_rrtm_sw.ipynb",
   "output_path": "output_notebook_x0.50_y0.00.ipynb",
   "parameters": {
    "Rs": 0.5,
    "sza": 0.0
   },
   "start_time": "2024-03-05T00:38:29.472657",
   "version": "2.5.0"
  }
 },
 "nbformat": 4,
 "nbformat_minor": 5
}