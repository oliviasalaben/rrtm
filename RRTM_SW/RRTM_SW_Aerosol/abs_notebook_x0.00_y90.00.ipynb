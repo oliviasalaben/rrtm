{
 "cells": [
  {
   "cell_type": "code",
   "execution_count": 1,
   "id": "c178436f",
   "metadata": {
    "execution": {
     "iopub.execute_input": "2024-04-02T20:45:34.688471Z",
     "iopub.status.busy": "2024-04-02T20:45:34.688162Z",
     "iopub.status.idle": "2024-04-02T20:45:34.696057Z",
     "shell.execute_reply": "2024-04-02T20:45:34.695313Z"
    },
    "papermill": {
     "duration": 0.013305,
     "end_time": "2024-04-02T20:45:34.698104",
     "exception": false,
     "start_time": "2024-04-02T20:45:34.684799",
     "status": "completed"
    },
    "tags": [
     "parameters"
    ]
   },
   "outputs": [],
   "source": [
    "# Parameters\n",
    "Rs = None\n",
    "sza = None\n",
    "# papermill parameters"
   ]
  },
  {
   "cell_type": "code",
   "execution_count": 2,
   "id": "3f6d93b2",
   "metadata": {
    "execution": {
     "iopub.execute_input": "2024-04-02T20:45:34.703864Z",
     "iopub.status.busy": "2024-04-02T20:45:34.703573Z",
     "iopub.status.idle": "2024-04-02T20:45:34.707535Z",
     "shell.execute_reply": "2024-04-02T20:45:34.706621Z"
    },
    "papermill": {
     "duration": 0.008929,
     "end_time": "2024-04-02T20:45:34.709396",
     "exception": false,
     "start_time": "2024-04-02T20:45:34.700467",
     "status": "completed"
    },
    "tags": [
     "injected-parameters"
    ]
   },
   "outputs": [],
   "source": [
    "# Parameters\n",
    "Rs = 0.0\n",
    "sza = 90.0\n"
   ]
  },
  {
   "cell_type": "code",
   "execution_count": 3,
   "id": "cef7ab4c",
   "metadata": {
    "execution": {
     "iopub.execute_input": "2024-04-02T20:45:34.715035Z",
     "iopub.status.busy": "2024-04-02T20:45:34.714764Z",
     "iopub.status.idle": "2024-04-02T20:45:36.223345Z",
     "shell.execute_reply": "2024-04-02T20:45:36.222620Z"
    },
    "papermill": {
     "duration": 1.513955,
     "end_time": "2024-04-02T20:45:36.225492",
     "exception": false,
     "start_time": "2024-04-02T20:45:34.711537",
     "status": "completed"
    },
    "tags": []
   },
   "outputs": [],
   "source": [
    "import os\n",
    "import numpy as np\n",
    "import pandas as pd\n",
    "from scipy.interpolate import interp1d\n",
    "import sys\n",
    "import math\n",
    "from netCDF4 import Dataset\n",
    "import os, calendar, sys, fnmatch, datetime\n",
    "from sur_spec_alb_interpolate import sur_spec_alb_interpolate\n",
    "\n",
    "#python scrapes\n",
    "from INPUT_RRTM_sw import *\n",
    "from INPUT_CLD_RRTM_sw import *\n",
    "from INPUT_AER_RRTM_sw import *\n",
    "from read_output_rrtm import *\n",
    "#from TOA_output_rrtm import *"
   ]
  },
  {
   "cell_type": "raw",
   "id": "19d5a0fd",
   "metadata": {
    "papermill": {
     "duration": 0.005388,
     "end_time": "2024-04-02T20:45:36.233197",
     "exception": false,
     "start_time": "2024-04-02T20:45:36.227809",
     "status": "completed"
    },
    "tags": []
   },
   "source": [
    "Run this script in Downloads/RRTM/RRTM-Wrapper/RRTM_SW/RRTM_SW_Aerosol/"
   ]
  },
  {
   "cell_type": "code",
   "execution_count": 4,
   "id": "895e554e",
   "metadata": {
    "execution": {
     "iopub.execute_input": "2024-04-02T20:45:36.238472Z",
     "iopub.status.busy": "2024-04-02T20:45:36.237912Z",
     "iopub.status.idle": "2024-04-02T20:45:36.243175Z",
     "shell.execute_reply": "2024-04-02T20:45:36.242542Z"
    },
    "papermill": {
     "duration": 0.010259,
     "end_time": "2024-04-02T20:45:36.245268",
     "exception": false,
     "start_time": "2024-04-02T20:45:36.235009",
     "status": "completed"
    },
    "tags": []
   },
   "outputs": [],
   "source": [
    "#******************* Specify the path of compiled RRTM codes ****************\n",
    "model_dir = '../../../../RRTM/'\n",
    "RT_model_sw = model_dir+'rrtm_sw/rrtm_sw_OS_X_v2.5'\n",
    "\n",
    "#=======================================\n",
    "#Specify parameters in the RRTM model\n",
    "#=======================================\n",
    "\n",
    "SOLVAR  = 0.0  #(16,29)the solar source function scale factor for each band.\n",
    "#HBOUND = np.loadtxt(fname=file6)       #altitude of the surface (km)\n",
    "HTOA   = 77.0       #altitude of the top of the atmosphere (km)\n",
    "\n",
    "#--------------------------------------------------;\n",
    "ISCAT_sw   = 0\n",
    "ISTRM = 0   # 4 streams for sw\n",
    "NSTR  = 4   # of streams"
   ]
  },
  {
   "cell_type": "code",
   "execution_count": 5,
   "id": "9edc380b",
   "metadata": {
    "execution": {
     "iopub.execute_input": "2024-04-02T20:45:36.250848Z",
     "iopub.status.busy": "2024-04-02T20:45:36.250474Z",
     "iopub.status.idle": "2024-04-02T20:45:36.256287Z",
     "shell.execute_reply": "2024-04-02T20:45:36.255610Z"
    },
    "papermill": {
     "duration": 0.010585,
     "end_time": "2024-04-02T20:45:36.258351",
     "exception": false,
     "start_time": "2024-04-02T20:45:36.247766",
     "status": "completed"
    },
    "tags": []
   },
   "outputs": [],
   "source": [
    "# =====RRTM input data (atmospheric and surface properties)=====\n",
    "# ***Note: RRTM requires Altitude (ZM) to be in a ascending order!!! (Make sure the vertical order of all other variables is consistent with the order of ZM)\n",
    "# ***Note: Be careful about the unit of each parameter (Check JCHAR variable in RRTM_SW instruction)\n",
    "\n",
    "atm_prof = np.loadtxt('atm_profile_aerosol.txt',skiprows=1)\n",
    "ZM = atm_prof[::-1,0] #km (boundary altitude (km))\n",
    "PM = atm_prof[::-1,1] #hpa\n",
    "TM = atm_prof[::-1,2] #K\n",
    "h2o = atm_prof[::-1,4]  #g/m3   #kg/kg . kg/kg *1e3 = gm/kg\n",
    "o3 = atm_prof[::-1,5]   #g/m3   #ppmv 'parts per million volume = 1e-6'. 1ppmv=1e-3*gm/kg\n",
    "dext = atm_prof[::-1,6] #(km-1)\n",
    "\n",
    "#add #\n",
    "#Rs = np.array([0.1]) # surface albedo\n",
    "#sza = np.array([22]) # solar zenith angle"
   ]
  },
  {
   "cell_type": "code",
   "execution_count": 6,
   "id": "b339059d",
   "metadata": {
    "execution": {
     "iopub.execute_input": "2024-04-02T20:45:36.264620Z",
     "iopub.status.busy": "2024-04-02T20:45:36.263951Z",
     "iopub.status.idle": "2024-04-02T20:45:36.269259Z",
     "shell.execute_reply": "2024-04-02T20:45:36.268598Z"
    },
    "papermill": {
     "duration": 0.010875,
     "end_time": "2024-04-02T20:45:36.271097",
     "exception": false,
     "start_time": "2024-04-02T20:45:36.260222",
     "status": "completed"
    },
    "tags": []
   },
   "outputs": [],
   "source": [
    "# ===== Aerosol (e.g., dust) optical properties (i.e., Qext, SSA, g) =====\n",
    "# ***Note: The order of 14 bands is listed in TABLE 1 in RRTM_SW instruction (It is not monotonically increase or decrease)\n",
    "# ***Note: The order of spectral optical properties should be consistent with the order in TABLE 1\n",
    "\n",
    "opt_dir = '../../Dust_Optical_Properties/'\n",
    "wavelength_range = [0.35, 0.55, 0.75, 0.95] #[0.35, 0.55, 0.75, 0.95, 2, 4, 6, 8, 10, 12, 14, 16, 35]\n",
    "#opt_prop_sw = np.loadtxt(opt_dir + 'RRTM_bulk_dust_optical_properties_0W_18N.txt', skiprows=1)\n",
    "opt_prop_sw = np.loadtxt(opt_dir + 'Absorbing_dust.txt', skiprows=1)\n",
    "#opt_prop_sw = np.loadtxt(opt_dir + 'Scattering_dust.txt', skiprows=1)\n",
    "\n",
    "qe_dust_sw = opt_prop_sw[:,0]  # Dust extinction efficienty (Qe) for 14 RRTM_SW bands\n",
    "ssa_dust_sw = opt_prop_sw[:,1] # Dust single scattering albedo (SSA) for the 14 RRTM_SW bands\n",
    "g_dust_sw = opt_prop_sw[:,2]   # Dust assymetric parameter (g) for the 14 RRTM_SW bands"
   ]
  },
  {
   "cell_type": "code",
   "execution_count": 7,
   "id": "4221ef97",
   "metadata": {
    "execution": {
     "iopub.execute_input": "2024-04-02T20:45:36.276353Z",
     "iopub.status.busy": "2024-04-02T20:45:36.276080Z",
     "iopub.status.idle": "2024-04-02T20:45:36.281870Z",
     "shell.execute_reply": "2024-04-02T20:45:36.281154Z"
    },
    "papermill": {
     "duration": 0.010471,
     "end_time": "2024-04-02T20:45:36.283538",
     "exception": false,
     "start_time": "2024-04-02T20:45:36.273067",
     "status": "completed"
    },
    "tags": []
   },
   "outputs": [
    {
     "name": "stdout",
     "output_type": "stream",
     "text": [
      "[0.9 0.9 0.9 0.9 0.9 0.9 0.9 0.9 0.9 0.9 0.9 0.9 0.9 0.9]\n"
     ]
    }
   ],
   "source": [
    "print(qe_dust_sw)"
   ]
  },
  {
   "cell_type": "code",
   "execution_count": 8,
   "id": "6dbf0312",
   "metadata": {
    "execution": {
     "iopub.execute_input": "2024-04-02T20:45:36.288766Z",
     "iopub.status.busy": "2024-04-02T20:45:36.288345Z",
     "iopub.status.idle": "2024-04-02T20:45:36.549607Z",
     "shell.execute_reply": "2024-04-02T20:45:36.549030Z"
    },
    "papermill": {
     "duration": 0.265997,
     "end_time": "2024-04-02T20:45:36.551433",
     "exception": false,
     "start_time": "2024-04-02T20:45:36.285436",
     "status": "completed"
    },
    "tags": []
   },
   "outputs": [
    {
     "name": "stdout",
     "output_type": "stream",
     "text": [
      "*****Number of cases: 1\n",
      "[1 4 5 6]\n",
      "*****Altitude for RRTM_SW (unit: km): [ 0.  1.  2.  3.  4.  5.  6.  7.  8.  9. 10. 11. 12. 13. 14. 15. 16. 17.\n",
      " 18. 19. 20. 21. 22. 23. 24. 25. 30. 35. 40. 45. 50.]\n",
      " Compute clear-sky sw flux w/o aerososl\n",
      " Compute sw fluxs with aerosol\n"
     ]
    },
    {
     "name": "stdout",
     "output_type": "stream",
     "text": [
      "IMMAX =  31\n"
     ]
    }
   ],
   "source": [
    "n_case = np.size(Rs)\n",
    "print('*****Number of cases:',n_case)\n",
    "TOA_file = []\n",
    "for ic in range(n_case): #maybe can remove this line of code\n",
    "    SUF_ALB = np.ones(14)*Rs #np.ones(14)*Rs[ic]\n",
    "    SZA = sza #sza[ic]\n",
    "    if ZM[0]<0.1 :\n",
    "        HBOUND = ZM[0]+0.001\n",
    "    else:\n",
    "        HBOUND = ZM[0]+0.01\n",
    "    IMMAX = len(PM)\n",
    "    IBMAX = IMMAX\n",
    "\n",
    "    #****Note: The unit of each variable\n",
    "    VMOL_wv = h2o   ###kg/kg*1e3=gm/kg\n",
    "    VMOL_o3 = o3    ###ppmv*1e3=gm/kg\n",
    "    VMOL_co2= np.ones(IMMAX)* 360 #no CO2 profile in data, add mannually, ppmv\n",
    "    VMOL_n2o = np.ones(IMMAX)*0.3 #unit: PPMV\n",
    "    VMOL_co = np.zeros(IMMAX)\n",
    "    VMOL_ch4 = np.ones(IMMAX)*1.7 #unit: PPMV\n",
    "    VMOL_total = np.vstack((VMOL_wv,VMOL_co2,VMOL_o3,VMOL_n2o,VMOL_co,VMOL_ch4))#density of the molecule set by JCHAR(K)\n",
    "    VMOL=VMOL_total\n",
    "    \n",
    "    \n",
    "    NLAY = np.count_nonzero(dext)   # Total number of layers containing the aerosol with the specified properties\n",
    "    aer_lay = np.nonzero(dext)[0]+1 # Layer number  of aerosol layer. (layer n corresponds to the region between altitudes n and n+1 in the list of layer boundaries in Record 3.3B.)\n",
    "\n",
    "    print(aer_lay)\n",
    "    #----For each aerosol layer calculate AOD for each band----\n",
    "    aod = np.zeros(NLAY)\n",
    "    for i in range(NLAY):\n",
    "        aod[i]=dext[aer_lay[i]-1]*(ZM[aer_lay[i]]-ZM[aer_lay[i]-1])\n",
    "    aod_lay_band_sw=np.zeros((14,NLAY))\n",
    "    for j in range(NLAY):\n",
    "        aod_lay_band_sw[:,j]= aod[j] * qe_dust_sw/qe_dust_sw[9]   # qe_dust_sw[9] is qe @ 550nm. AOD(x) = AOD(550nm) * (qe(x)/qe(550nm)), where x is band number \n",
    "    \n",
    "    print('*****Altitude for RRTM_SW (unit: km):',ZM)\n",
    "    \n",
    "    #========================== Run RRTM_SW ====================================\n",
    "    ICLD = 0 # Cloud-free\n",
    "    IAER = 0 # Aerosol-free\n",
    "    print(' Compute clear-sky sw flux w/o aerososl')\n",
    "    read_input_rrtm_sw('INPUT_RRTM', IAER, ICLD, ISCAT_sw, ISTRM, SZA, 1.0-SUF_ALB, \\\n",
    "    HBOUND, IMMAX, ZM, PM, TM, VMOL)\n",
    "    os.system(RT_model_sw)\n",
    "    os.system('mv INPUT_RRTM INPUT_RRTM.sw')\n",
    "    os.system('mv OUTPUT_RRTM ./rrtm_output/abs_OUTPUT_RRTM_sw_Rs{:}_sza{:}.clear'.format(Rs,sza))\n",
    "    \n",
    "    \n",
    "    ICLD = 0   # Cloud-free \n",
    "    IAER = 10  # With Aerosol\n",
    "    print(' Compute sw fluxs with aerosol')\n",
    "    read_input_rrtm_sw('INPUT_RRTM', IAER, ICLD, ISCAT_sw, ISTRM, SZA, 1.0-SUF_ALB, \\\n",
    "    HBOUND, IMMAX, ZM, PM, TM, VMOL)\n",
    "    write_IN_AER_RRTM_sw('IN_AER_RRTM',NLAY, aer_lay, aod_lay_band_sw,ssa_dust_sw,g_dust_sw)\n",
    "    os.system(RT_model_sw)\n",
    "    os.system('mv INPUT_RRTM INPUT_RRTM.sw')\n",
    "    os.system('mv IN_AER_RRTM IN_AER_RRTM.sw')\n",
    "    os.system('mv OUTPUT_RRTM ./rrtm_output/abs_OUTPUT_RRTM_sw_Rs{:}_sza{:}.aerosol'.format(Rs,sza))\n",
    "    #----------------read output of rrtm-------------------------\n",
    "    print('IMMAX = ',IMMAX)\n",
    "    # Initialize TOA_file as an empty list\n",
    "    TOA_file = []\n",
    "    # Check if the file TOA_file.txt already exists\n",
    "    file_exists = os.path.isfile('TOA_file.txt')\n",
    "    # If the file exists, load its contents and append new data to TOA_file\n",
    "    if file_exists:\n",
    "         # Append existing data to TOA_file\n",
    "        output1, output2, dif = read_output_rrtm_funct(IMMAX, Rs, sza)\n",
    "        TOA_file.append((Rs, sza, output1, output2, dif))\n",
    "        # Convert TOA_file to a numpy array\n",
    "        TOA_file = np.array(TOA_file)\n",
    "\n",
    "        # Save TOA_file to a text file\n",
    "        with open('TOA_file.txt', 'a') as file:\n",
    "            # Write data with spaces between columns\n",
    "            np.savetxt(file, TOA_file, fmt='%5.3f', delimiter='      ')\n",
    "    else:\n",
    "         # Append existing data to TOA_file\n",
    "        output1, output2, dif = read_output_rrtm_funct(IMMAX, Rs, sza)\n",
    "        TOA_file.append((Rs, sza, output1, output2, dif))\n",
    "        # Convert TOA_file to a numpy array\n",
    "        TOA_file = np.array(TOA_file)\n",
    "\n",
    "        # Save TOA_file to a text file\n",
    "        with open('TOA_file.txt', 'w') as file:\n",
    "            # Write headers with spaces\n",
    "            file.write(\"Rs      SZA      Aerosol_net      Clear_net      Net_net\\n\")\n",
    "\n",
    "            # Write data with spaces between columns\n",
    "            np.savetxt(file, TOA_file, fmt='%5.3f', delimiter='      ')"
   ]
  },
  {
   "cell_type": "markdown",
   "id": "42d1e259",
   "metadata": {
    "papermill": {
     "duration": 0.003083,
     "end_time": "2024-04-02T20:45:36.557304",
     "exception": false,
     "start_time": "2024-04-02T20:45:36.554221",
     "status": "completed"
    },
    "tags": []
   },
   "source": [
    "# Data to append\n",
    "data_to_append = np.column_stack((Qe_reordered, SSA_reordered, g_reordered))\n",
    "for i in range(len(coordinate_names)):\n",
    "    # Open the file in append mode and use np.savetxt to append data with spaces between columns\n",
    "    with open('RRTM_bulk_dust_optical_properties_{}.txt'.format(coordinate_names[i]), 'a') as file:\n",
    "        # Write headers with spaces\n",
    "        file.write(\"Qe_sw      SSA_sw      g_sw\\n\")\n",
    "\n",
    "        # Write data with spaces between columns\n",
    "        np.savetxt(file, data_to_append, fmt='%5.3f', delimiter='      ')"
   ]
  },
  {
   "cell_type": "code",
   "execution_count": null,
   "id": "77d71801",
   "metadata": {
    "papermill": {
     "duration": 0.002318,
     "end_time": "2024-04-02T20:45:36.562114",
     "exception": false,
     "start_time": "2024-04-02T20:45:36.559796",
     "status": "completed"
    },
    "tags": []
   },
   "outputs": [],
   "source": []
  }
 ],
 "metadata": {
  "kernelspec": {
   "display_name": "rrtm_env",
   "language": "python",
   "name": "rrtm_env"
  },
  "language_info": {
   "codemirror_mode": {
    "name": "ipython",
    "version": 3
   },
   "file_extension": ".py",
   "mimetype": "text/x-python",
   "name": "python",
   "nbconvert_exporter": "python",
   "pygments_lexer": "ipython3",
   "version": "3.11.4"
  },
  "papermill": {
   "default_parameters": {},
   "duration": 3.208453,
   "end_time": "2024-04-02T20:45:36.882748",
   "environment_variables": {},
   "exception": null,
   "input_path": "my_run_rrtm_sw.ipynb",
   "output_path": "abs_notebook_x0.00_y90.00.ipynb",
   "parameters": {
    "Rs": 0.0,
    "sza": 90.0
   },
   "start_time": "2024-04-02T20:45:33.674295",
   "version": "2.5.0"
  }
 },
 "nbformat": 4,
 "nbformat_minor": 5
}