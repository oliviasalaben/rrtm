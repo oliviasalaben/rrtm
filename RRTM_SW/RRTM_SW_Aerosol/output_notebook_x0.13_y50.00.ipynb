{
 "cells": [
  {
   "cell_type": "code",
   "execution_count": 1,
   "id": "9739d096",
   "metadata": {
    "execution": {
     "iopub.execute_input": "2024-02-28T20:51:04.880631Z",
     "iopub.status.busy": "2024-02-28T20:51:04.880098Z",
     "iopub.status.idle": "2024-02-28T20:51:04.887034Z",
     "shell.execute_reply": "2024-02-28T20:51:04.886352Z"
    },
    "papermill": {
     "duration": 0.012065,
     "end_time": "2024-02-28T20:51:04.888783",
     "exception": false,
     "start_time": "2024-02-28T20:51:04.876718",
     "status": "completed"
    },
    "tags": [
     "parameters"
    ]
   },
   "outputs": [],
   "source": [
    "# Parameters\n",
    "Rs = None\n",
    "sza = None\n",
    "# papermill parameters"
   ]
  },
  {
   "cell_type": "code",
   "execution_count": 2,
   "id": "a71f3eea",
   "metadata": {
    "execution": {
     "iopub.execute_input": "2024-02-28T20:51:04.894598Z",
     "iopub.status.busy": "2024-02-28T20:51:04.894363Z",
     "iopub.status.idle": "2024-02-28T20:51:04.897360Z",
     "shell.execute_reply": "2024-02-28T20:51:04.896762Z"
    },
    "papermill": {
     "duration": 0.007598,
     "end_time": "2024-02-28T20:51:04.899007",
     "exception": false,
     "start_time": "2024-02-28T20:51:04.891409",
     "status": "completed"
    },
    "tags": [
     "injected-parameters"
    ]
   },
   "outputs": [],
   "source": [
    "# Parameters\n",
    "Rs = 0.13333333333333336\n",
    "sza = 50.0\n"
   ]
  },
  {
   "cell_type": "code",
   "execution_count": 3,
   "id": "74ef0153",
   "metadata": {
    "execution": {
     "iopub.execute_input": "2024-02-28T20:51:04.904050Z",
     "iopub.status.busy": "2024-02-28T20:51:04.903629Z",
     "iopub.status.idle": "2024-02-28T20:51:06.261191Z",
     "shell.execute_reply": "2024-02-28T20:51:06.260365Z"
    },
    "papermill": {
     "duration": 1.362497,
     "end_time": "2024-02-28T20:51:06.263363",
     "exception": false,
     "start_time": "2024-02-28T20:51:04.900866",
     "status": "completed"
    },
    "tags": []
   },
   "outputs": [],
   "source": [
    "import os\n",
    "import numpy as np\n",
    "import pandas as pd\n",
    "from scipy.interpolate import interp1d\n",
    "import sys\n",
    "import math\n",
    "from netCDF4 import Dataset\n",
    "import os, calendar, sys, fnmatch, datetime\n",
    "from sur_spec_alb_interpolate import sur_spec_alb_interpolate\n",
    "\n",
    "#python scrapes\n",
    "from INPUT_RRTM_sw import *\n",
    "from INPUT_CLD_RRTM_sw import *\n",
    "from INPUT_AER_RRTM_sw import *\n",
    "from read_output_rrtm import *"
   ]
  },
  {
   "cell_type": "raw",
   "id": "ad5a9198",
   "metadata": {
    "papermill": {
     "duration": 0.005297,
     "end_time": "2024-02-28T20:51:06.271004",
     "exception": false,
     "start_time": "2024-02-28T20:51:06.265707",
     "status": "completed"
    },
    "tags": []
   },
   "source": [
    "Run this script in Downloads/RRTM/RRTM-Wrapper/RRTM_SW/RRTM_SW_Aerosol/"
   ]
  },
  {
   "cell_type": "code",
   "execution_count": 4,
   "id": "9a0575cd",
   "metadata": {
    "execution": {
     "iopub.execute_input": "2024-02-28T20:51:06.275769Z",
     "iopub.status.busy": "2024-02-28T20:51:06.275307Z",
     "iopub.status.idle": "2024-02-28T20:51:06.279780Z",
     "shell.execute_reply": "2024-02-28T20:51:06.279202Z"
    },
    "papermill": {
     "duration": 0.008717,
     "end_time": "2024-02-28T20:51:06.281270",
     "exception": false,
     "start_time": "2024-02-28T20:51:06.272553",
     "status": "completed"
    },
    "tags": []
   },
   "outputs": [],
   "source": [
    "#******************* Specify the path of compiled RRTM codes ****************\n",
    "model_dir = '../../../../RRTM/'\n",
    "RT_model_sw = model_dir+'rrtm_sw/rrtm_sw_OS_X_v2.5'\n",
    "\n",
    "#=======================================\n",
    "#Specify parameters in the RRTM model\n",
    "#=======================================\n",
    "\n",
    "SOLVAR  = 0.0  #(16,29)the solar source function scale factor for each band.\n",
    "#HBOUND = np.loadtxt(fname=file6)       #altitude of the surface (km)\n",
    "HTOA   = 77.0       #altitude of the top of the atmosphere (km)\n",
    "\n",
    "#--------------------------------------------------;\n",
    "ISCAT_sw   = 0\n",
    "ISTRM = 0   # 4 streams for sw\n",
    "NSTR  = 4   # of streams"
   ]
  },
  {
   "cell_type": "code",
   "execution_count": 5,
   "id": "b5a1411f",
   "metadata": {
    "execution": {
     "iopub.execute_input": "2024-02-28T20:51:06.285686Z",
     "iopub.status.busy": "2024-02-28T20:51:06.285440Z",
     "iopub.status.idle": "2024-02-28T20:51:06.290836Z",
     "shell.execute_reply": "2024-02-28T20:51:06.290313Z"
    },
    "papermill": {
     "duration": 0.009651,
     "end_time": "2024-02-28T20:51:06.292605",
     "exception": false,
     "start_time": "2024-02-28T20:51:06.282954",
     "status": "completed"
    },
    "tags": []
   },
   "outputs": [],
   "source": [
    "# =====RRTM input data (atmospheric and surface properties)=====\n",
    "# ***Note: RRTM requires Altitude (ZM) to be in a ascending order!!! (Make sure the vertical order of all other variables is consistent with the order of ZM)\n",
    "# ***Note: Be careful about the unit of each parameter (Check JCHAR variable in RRTM_SW instruction)\n",
    "\n",
    "atm_prof = np.loadtxt('atm_profile_aerosol.txt',skiprows=1)\n",
    "ZM = atm_prof[::-1,0] #km (boundary altitude (km))\n",
    "PM = atm_prof[::-1,1] #hpa\n",
    "TM = atm_prof[::-1,2] #K\n",
    "h2o = atm_prof[::-1,4]  #g/m3   #kg/kg . kg/kg *1e3 = gm/kg\n",
    "o3 = atm_prof[::-1,5]   #g/m3   #ppmv 'parts per million volume = 1e-6'. 1ppmv=1e-3*gm/kg\n",
    "dext = atm_prof[::-1,6] #(km-1)\n",
    "\n",
    "\n",
    "#Rs = None #np.array([0.1]) # surface albedo\n",
    "#sza = None #np.array([22]) # solar zenith angle"
   ]
  },
  {
   "cell_type": "code",
   "execution_count": 6,
   "id": "d9936db7",
   "metadata": {
    "execution": {
     "iopub.execute_input": "2024-02-28T20:51:06.296970Z",
     "iopub.status.busy": "2024-02-28T20:51:06.296735Z",
     "iopub.status.idle": "2024-02-28T20:51:06.301331Z",
     "shell.execute_reply": "2024-02-28T20:51:06.300837Z"
    },
    "papermill": {
     "duration": 0.00883,
     "end_time": "2024-02-28T20:51:06.303107",
     "exception": false,
     "start_time": "2024-02-28T20:51:06.294277",
     "status": "completed"
    },
    "tags": []
   },
   "outputs": [],
   "source": [
    "# ===== Aerosol (e.g., dust) optical properties (i.e., Qext, SSA, g) =====\n",
    "# ***Note: The order of 14 bands is listed in TABLE 1 in RRTM_SW instruction (It is not monotonically increase or decrease)\n",
    "# ***Note: The order of spectral optical properties should be consistent with the order in TABLE 1\n",
    "\n",
    "opt_dir = '../../Dust_Optical_Properties/'\n",
    "wavelength_range = [0.35, 0.55, 0.75, 0.95] #[0.35, 0.55, 0.75, 0.95, 2, 4, 6, 8, 10, 12, 14, 16, 35]\n",
    "opt_prop_sw = np.loadtxt(opt_dir + 'RRTM_bulk_dust_optical_properties_0W_18N.txt', skiprows=1)\n",
    "\n",
    "qe_dust_sw = opt_prop_sw[:,0]  # Dust extinction efficienty (Qe) for 14 RRTM_SW bands\n",
    "ssa_dust_sw = opt_prop_sw[:,1] # Dust single scattering albedo (SSA) for the 14 RRTM_SW bands\n",
    "g_dust_sw = opt_prop_sw[:,2]   # Dust assymetric parameter (g) for the 14 RRTM_SW bands"
   ]
  },
  {
   "cell_type": "code",
   "execution_count": 7,
   "id": "b134436d",
   "metadata": {
    "execution": {
     "iopub.execute_input": "2024-02-28T20:51:06.307780Z",
     "iopub.status.busy": "2024-02-28T20:51:06.307532Z",
     "iopub.status.idle": "2024-02-28T20:51:06.311789Z",
     "shell.execute_reply": "2024-02-28T20:51:06.311274Z"
    },
    "papermill": {
     "duration": 0.008638,
     "end_time": "2024-02-28T20:51:06.313543",
     "exception": false,
     "start_time": "2024-02-28T20:51:06.304905",
     "status": "completed"
    },
    "tags": []
   },
   "outputs": [
    {
     "name": "stdout",
     "output_type": "stream",
     "text": [
      "[2.531 2.914 3.23  3.443 3.658 3.889 3.964 4.049 4.066 3.799 3.673 3.599\n",
      " 3.413 1.011]\n"
     ]
    }
   ],
   "source": [
    "print(qe_dust_sw)"
   ]
  },
  {
   "cell_type": "code",
   "execution_count": 8,
   "id": "f5894412",
   "metadata": {
    "execution": {
     "iopub.execute_input": "2024-02-28T20:51:06.318111Z",
     "iopub.status.busy": "2024-02-28T20:51:06.317898Z",
     "iopub.status.idle": "2024-02-28T20:51:06.551615Z",
     "shell.execute_reply": "2024-02-28T20:51:06.551161Z"
    },
    "papermill": {
     "duration": 0.23829,
     "end_time": "2024-02-28T20:51:06.553682",
     "exception": false,
     "start_time": "2024-02-28T20:51:06.315392",
     "status": "completed"
    },
    "tags": []
   },
   "outputs": [
    {
     "name": "stdout",
     "output_type": "stream",
     "text": [
      "*****Number of cases: 1\n",
      "[1 4 5 6]\n",
      "*****Altitude for RRTM_SW (unit: km): [ 0.  1.  2.  3.  4.  5.  6.  7.  8.  9. 10. 11. 12. 13. 14. 15. 16. 17.\n",
      " 18. 19. 20. 21. 22. 23. 24. 25. 30. 35. 40. 45. 50.]\n",
      " Compute clear-sky sw flux w/o aerososl\n",
      " Compute sw fluxs with aerosol\n"
     ]
    }
   ],
   "source": [
    "n_case = np.size(Rs)\n",
    "print('*****Number of cases:',n_case)\n",
    "\n",
    "for ic in range(n_case):\n",
    "    SUF_ALB = np.ones(14)*Rs #np.ones(14)*Rs[ic]\n",
    "    SZA = sza #sza[ic]\n",
    "    if ZM[0]<0.1 :\n",
    "        HBOUND = ZM[0]+0.001\n",
    "    else:\n",
    "        HBOUND = ZM[0]+0.01\n",
    "    IMMAX = len(PM)\n",
    "    IBMAX = IMMAX\n",
    "\n",
    "    #****Note: The unit of each variable\n",
    "    VMOL_wv = h2o   ###kg/kg*1e3=gm/kg\n",
    "    VMOL_o3 = o3    ###ppmv*1e3=gm/kg\n",
    "    VMOL_co2= np.ones(IMMAX)* 360 #no CO2 profile in data, add mannually, ppmv\n",
    "    VMOL_n2o = np.ones(IMMAX)*0.3 #unit: PPMV\n",
    "    VMOL_co = np.zeros(IMMAX)\n",
    "    VMOL_ch4 = np.ones(IMMAX)*1.7 #unit: PPMV\n",
    "    VMOL_total = np.vstack((VMOL_wv,VMOL_co2,VMOL_o3,VMOL_n2o,VMOL_co,VMOL_ch4))#density of the molecule set by JCHAR(K)\n",
    "    VMOL=VMOL_total\n",
    "    \n",
    "    \n",
    "    NLAY = np.count_nonzero(dext)   # Total number of layers containing the aerosol with the specified properties\n",
    "    aer_lay = np.nonzero(dext)[0]+1 # Layer number  of aerosol layer. (layer n corresponds to the region between altitudes n and n+1 in the list of layer boundaries in Record 3.3B.)\n",
    "\n",
    "    print(aer_lay)\n",
    "    #----For each aerosol layer calculate AOD for each band----\n",
    "    aod = np.zeros(NLAY)\n",
    "    for i in range(NLAY):\n",
    "        aod[i]=dext[aer_lay[i]-1]*(ZM[aer_lay[i]]-ZM[aer_lay[i]-1])\n",
    "    aod_lay_band_sw=np.zeros((14,NLAY))\n",
    "    for j in range(NLAY):\n",
    "        aod_lay_band_sw[:,j]= aod[j] * qe_dust_sw/qe_dust_sw[9]   # qe_dust_sw[9] is qe @ 550nm. AOD(x) = AOD(550nm) * (qe(x)/qe(550nm)), where x is band number \n",
    "    \n",
    "    print('*****Altitude for RRTM_SW (unit: km):',ZM)\n",
    "    \n",
    "    #========================== Run RRTM_SW ====================================\n",
    "    ICLD = 0 # Cloud-free\n",
    "    IAER = 0 # Aerosol-free\n",
    "    print(' Compute clear-sky sw flux w/o aerososl')\n",
    "    read_input_rrtm_sw('INPUT_RRTM', IAER, ICLD, ISCAT_sw, ISTRM, SZA, 1.0-SUF_ALB, \\\n",
    "    HBOUND, IMMAX, ZM, PM, TM, VMOL)\n",
    "    os.system(RT_model_sw)\n",
    "    os.system('mv INPUT_RRTM INPUT_RRTM.sw')\n",
    "    os.system('mv OUTPUT_RRTM ./rrtm_output/OUTPUT_RRTM_sw_Rs{:}_sza{:}.clear'.format(Rs,sza))\n",
    "    \n",
    "    \n",
    "    ICLD = 0   # Cloud-free \n",
    "    IAER = 10  # With Aerosol\n",
    "    print(' Compute sw fluxs with aerosol')\n",
    "    read_input_rrtm_sw('INPUT_RRTM', IAER, ICLD, ISCAT_sw, ISTRM, SZA, 1.0-SUF_ALB, \\\n",
    "    HBOUND, IMMAX, ZM, PM, TM, VMOL)\n",
    "    write_IN_AER_RRTM_sw('IN_AER_RRTM',NLAY, aer_lay, aod_lay_band_sw,ssa_dust_sw,g_dust_sw)\n",
    "    os.system(RT_model_sw)\n",
    "    os.system('mv INPUT_RRTM INPUT_RRTM.sw')\n",
    "    os.system('mv IN_AER_RRTM IN_AER_RRTM.sw')\n",
    "    os.system('mv OUTPUT_RRTM ./rrtm_output/OUTPUT_RRTM_sw_Rs{:}_sza{:}.aerosol'.format(Rs,sza))\n",
    "    "
   ]
  },
  {
   "cell_type": "code",
   "execution_count": null,
   "id": "f2171eed",
   "metadata": {
    "papermill": {
     "duration": 0.003178,
     "end_time": "2024-02-28T20:51:06.559465",
     "exception": false,
     "start_time": "2024-02-28T20:51:06.556287",
     "status": "completed"
    },
    "tags": []
   },
   "outputs": [],
   "source": []
  }
 ],
 "metadata": {
  "kernelspec": {
   "display_name": "rrtm_env",
   "language": "python",
   "name": "rrtm_env"
  },
  "language_info": {
   "codemirror_mode": {
    "name": "ipython",
    "version": 3
   },
   "file_extension": ".py",
   "mimetype": "text/x-python",
   "name": "python",
   "nbconvert_exporter": "python",
   "pygments_lexer": "ipython3",
   "version": "3.11.4"
  },
  "papermill": {
   "default_parameters": {},
   "duration": 2.851992,
   "end_time": "2024-02-28T20:51:06.882656",
   "environment_variables": {},
   "exception": null,
   "input_path": "my_run_rrtm_sw.ipynb",
   "output_path": "output_notebook_x0.13_y50.00.ipynb",
   "parameters": {
    "Rs": 0.13333333333333336,
    "sza": 50.0
   },
   "start_time": "2024-02-28T20:51:04.030664",
   "version": "2.5.0"
  }
 },
 "nbformat": 4,
 "nbformat_minor": 5
}