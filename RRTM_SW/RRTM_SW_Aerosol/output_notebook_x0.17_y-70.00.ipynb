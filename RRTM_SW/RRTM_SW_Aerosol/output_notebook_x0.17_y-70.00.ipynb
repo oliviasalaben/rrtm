{
 "cells": [
  {
   "cell_type": "code",
   "execution_count": 1,
   "id": "ec921f1d",
   "metadata": {
    "execution": {
     "iopub.execute_input": "2024-02-28T20:51:16.616240Z",
     "iopub.status.busy": "2024-02-28T20:51:16.615705Z",
     "iopub.status.idle": "2024-02-28T20:51:16.623260Z",
     "shell.execute_reply": "2024-02-28T20:51:16.622650Z"
    },
    "papermill": {
     "duration": 0.012955,
     "end_time": "2024-02-28T20:51:16.625414",
     "exception": false,
     "start_time": "2024-02-28T20:51:16.612459",
     "status": "completed"
    },
    "tags": [
     "parameters"
    ]
   },
   "outputs": [],
   "source": [
    "# Parameters\n",
    "Rs = None\n",
    "sza = None\n",
    "# papermill parameters"
   ]
  },
  {
   "cell_type": "code",
   "execution_count": 2,
   "id": "b2f56a59",
   "metadata": {
    "execution": {
     "iopub.execute_input": "2024-02-28T20:51:16.630969Z",
     "iopub.status.busy": "2024-02-28T20:51:16.630731Z",
     "iopub.status.idle": "2024-02-28T20:51:16.633747Z",
     "shell.execute_reply": "2024-02-28T20:51:16.633165Z"
    },
    "papermill": {
     "duration": 0.007384,
     "end_time": "2024-02-28T20:51:16.635371",
     "exception": false,
     "start_time": "2024-02-28T20:51:16.627987",
     "status": "completed"
    },
    "tags": [
     "injected-parameters"
    ]
   },
   "outputs": [],
   "source": [
    "# Parameters\n",
    "Rs = 0.16666666666666669\n",
    "sza = -70.0\n"
   ]
  },
  {
   "cell_type": "code",
   "execution_count": 3,
   "id": "a69b735b",
   "metadata": {
    "execution": {
     "iopub.execute_input": "2024-02-28T20:51:16.640428Z",
     "iopub.status.busy": "2024-02-28T20:51:16.640154Z",
     "iopub.status.idle": "2024-02-28T20:51:17.989374Z",
     "shell.execute_reply": "2024-02-28T20:51:17.988687Z"
    },
    "papermill": {
     "duration": 1.354219,
     "end_time": "2024-02-28T20:51:17.991416",
     "exception": false,
     "start_time": "2024-02-28T20:51:16.637197",
     "status": "completed"
    },
    "tags": []
   },
   "outputs": [],
   "source": [
    "import os\n",
    "import numpy as np\n",
    "import pandas as pd\n",
    "from scipy.interpolate import interp1d\n",
    "import sys\n",
    "import math\n",
    "from netCDF4 import Dataset\n",
    "import os, calendar, sys, fnmatch, datetime\n",
    "from sur_spec_alb_interpolate import sur_spec_alb_interpolate\n",
    "\n",
    "#python scrapes\n",
    "from INPUT_RRTM_sw import *\n",
    "from INPUT_CLD_RRTM_sw import *\n",
    "from INPUT_AER_RRTM_sw import *\n",
    "from read_output_rrtm import *"
   ]
  },
  {
   "cell_type": "raw",
   "id": "7de8157d",
   "metadata": {
    "papermill": {
     "duration": 0.005352,
     "end_time": "2024-02-28T20:51:17.998861",
     "exception": false,
     "start_time": "2024-02-28T20:51:17.993509",
     "status": "completed"
    },
    "tags": []
   },
   "source": [
    "Run this script in Downloads/RRTM/RRTM-Wrapper/RRTM_SW/RRTM_SW_Aerosol/"
   ]
  },
  {
   "cell_type": "code",
   "execution_count": 4,
   "id": "52b1c2b7",
   "metadata": {
    "execution": {
     "iopub.execute_input": "2024-02-28T20:51:18.003719Z",
     "iopub.status.busy": "2024-02-28T20:51:18.002960Z",
     "iopub.status.idle": "2024-02-28T20:51:18.007362Z",
     "shell.execute_reply": "2024-02-28T20:51:18.006558Z"
    },
    "papermill": {
     "duration": 0.008858,
     "end_time": "2024-02-28T20:51:18.009290",
     "exception": false,
     "start_time": "2024-02-28T20:51:18.000432",
     "status": "completed"
    },
    "tags": []
   },
   "outputs": [],
   "source": [
    "#******************* Specify the path of compiled RRTM codes ****************\n",
    "model_dir = '../../../../RRTM/'\n",
    "RT_model_sw = model_dir+'rrtm_sw/rrtm_sw_OS_X_v2.5'\n",
    "\n",
    "#=======================================\n",
    "#Specify parameters in the RRTM model\n",
    "#=======================================\n",
    "\n",
    "SOLVAR  = 0.0  #(16,29)the solar source function scale factor for each band.\n",
    "#HBOUND = np.loadtxt(fname=file6)       #altitude of the surface (km)\n",
    "HTOA   = 77.0       #altitude of the top of the atmosphere (km)\n",
    "\n",
    "#--------------------------------------------------;\n",
    "ISCAT_sw   = 0\n",
    "ISTRM = 0   # 4 streams for sw\n",
    "NSTR  = 4   # of streams"
   ]
  },
  {
   "cell_type": "code",
   "execution_count": 5,
   "id": "d07cc4aa",
   "metadata": {
    "execution": {
     "iopub.execute_input": "2024-02-28T20:51:18.013543Z",
     "iopub.status.busy": "2024-02-28T20:51:18.013302Z",
     "iopub.status.idle": "2024-02-28T20:51:18.018528Z",
     "shell.execute_reply": "2024-02-28T20:51:18.017713Z"
    },
    "papermill": {
     "duration": 0.009311,
     "end_time": "2024-02-28T20:51:18.020265",
     "exception": false,
     "start_time": "2024-02-28T20:51:18.010954",
     "status": "completed"
    },
    "tags": []
   },
   "outputs": [],
   "source": [
    "# =====RRTM input data (atmospheric and surface properties)=====\n",
    "# ***Note: RRTM requires Altitude (ZM) to be in a ascending order!!! (Make sure the vertical order of all other variables is consistent with the order of ZM)\n",
    "# ***Note: Be careful about the unit of each parameter (Check JCHAR variable in RRTM_SW instruction)\n",
    "\n",
    "atm_prof = np.loadtxt('atm_profile_aerosol.txt',skiprows=1)\n",
    "ZM = atm_prof[::-1,0] #km (boundary altitude (km))\n",
    "PM = atm_prof[::-1,1] #hpa\n",
    "TM = atm_prof[::-1,2] #K\n",
    "h2o = atm_prof[::-1,4]  #g/m3   #kg/kg . kg/kg *1e3 = gm/kg\n",
    "o3 = atm_prof[::-1,5]   #g/m3   #ppmv 'parts per million volume = 1e-6'. 1ppmv=1e-3*gm/kg\n",
    "dext = atm_prof[::-1,6] #(km-1)\n",
    "\n",
    "\n",
    "#Rs = None #np.array([0.1]) # surface albedo\n",
    "#sza = None #np.array([22]) # solar zenith angle"
   ]
  },
  {
   "cell_type": "code",
   "execution_count": 6,
   "id": "2532e5f9",
   "metadata": {
    "execution": {
     "iopub.execute_input": "2024-02-28T20:51:18.024578Z",
     "iopub.status.busy": "2024-02-28T20:51:18.024332Z",
     "iopub.status.idle": "2024-02-28T20:51:18.028688Z",
     "shell.execute_reply": "2024-02-28T20:51:18.028134Z"
    },
    "papermill": {
     "duration": 0.00849,
     "end_time": "2024-02-28T20:51:18.030409",
     "exception": false,
     "start_time": "2024-02-28T20:51:18.021919",
     "status": "completed"
    },
    "tags": []
   },
   "outputs": [],
   "source": [
    "# ===== Aerosol (e.g., dust) optical properties (i.e., Qext, SSA, g) =====\n",
    "# ***Note: The order of 14 bands is listed in TABLE 1 in RRTM_SW instruction (It is not monotonically increase or decrease)\n",
    "# ***Note: The order of spectral optical properties should be consistent with the order in TABLE 1\n",
    "\n",
    "opt_dir = '../../Dust_Optical_Properties/'\n",
    "wavelength_range = [0.35, 0.55, 0.75, 0.95] #[0.35, 0.55, 0.75, 0.95, 2, 4, 6, 8, 10, 12, 14, 16, 35]\n",
    "opt_prop_sw = np.loadtxt(opt_dir + 'RRTM_bulk_dust_optical_properties_0W_18N.txt', skiprows=1)\n",
    "\n",
    "qe_dust_sw = opt_prop_sw[:,0]  # Dust extinction efficienty (Qe) for 14 RRTM_SW bands\n",
    "ssa_dust_sw = opt_prop_sw[:,1] # Dust single scattering albedo (SSA) for the 14 RRTM_SW bands\n",
    "g_dust_sw = opt_prop_sw[:,2]   # Dust assymetric parameter (g) for the 14 RRTM_SW bands"
   ]
  },
  {
   "cell_type": "code",
   "execution_count": 7,
   "id": "9581b89a",
   "metadata": {
    "execution": {
     "iopub.execute_input": "2024-02-28T20:51:18.034733Z",
     "iopub.status.busy": "2024-02-28T20:51:18.034528Z",
     "iopub.status.idle": "2024-02-28T20:51:18.039214Z",
     "shell.execute_reply": "2024-02-28T20:51:18.038313Z"
    },
    "papermill": {
     "duration": 0.008644,
     "end_time": "2024-02-28T20:51:18.040867",
     "exception": false,
     "start_time": "2024-02-28T20:51:18.032223",
     "status": "completed"
    },
    "tags": []
   },
   "outputs": [
    {
     "name": "stdout",
     "output_type": "stream",
     "text": [
      "[2.531 2.914 3.23  3.443 3.658 3.889 3.964 4.049 4.066 3.799 3.673 3.599\n",
      " 3.413 1.011]\n"
     ]
    }
   ],
   "source": [
    "print(qe_dust_sw)"
   ]
  },
  {
   "cell_type": "code",
   "execution_count": 8,
   "id": "07803de3",
   "metadata": {
    "execution": {
     "iopub.execute_input": "2024-02-28T20:51:18.045521Z",
     "iopub.status.busy": "2024-02-28T20:51:18.045304Z",
     "iopub.status.idle": "2024-02-28T20:51:18.258672Z",
     "shell.execute_reply": "2024-02-28T20:51:18.258149Z"
    },
    "papermill": {
     "duration": 0.217789,
     "end_time": "2024-02-28T20:51:18.260522",
     "exception": false,
     "start_time": "2024-02-28T20:51:18.042733",
     "status": "completed"
    },
    "tags": []
   },
   "outputs": [
    {
     "name": "stdout",
     "output_type": "stream",
     "text": [
      "*****Number of cases: 1\n",
      "[1 4 5 6]\n",
      "*****Altitude for RRTM_SW (unit: km): [ 0.  1.  2.  3.  4.  5.  6.  7.  8.  9. 10. 11. 12. 13. 14. 15. 16. 17.\n",
      " 18. 19. 20. 21. 22. 23. 24. 25. 30. 35. 40. 45. 50.]\n",
      " Compute clear-sky sw flux w/o aerososl\n",
      " Compute sw fluxs with aerosol\n"
     ]
    }
   ],
   "source": [
    "n_case = np.size(Rs)\n",
    "print('*****Number of cases:',n_case)\n",
    "\n",
    "for ic in range(n_case):\n",
    "    SUF_ALB = np.ones(14)*Rs #np.ones(14)*Rs[ic]\n",
    "    SZA = sza #sza[ic]\n",
    "    if ZM[0]<0.1 :\n",
    "        HBOUND = ZM[0]+0.001\n",
    "    else:\n",
    "        HBOUND = ZM[0]+0.01\n",
    "    IMMAX = len(PM)\n",
    "    IBMAX = IMMAX\n",
    "\n",
    "    #****Note: The unit of each variable\n",
    "    VMOL_wv = h2o   ###kg/kg*1e3=gm/kg\n",
    "    VMOL_o3 = o3    ###ppmv*1e3=gm/kg\n",
    "    VMOL_co2= np.ones(IMMAX)* 360 #no CO2 profile in data, add mannually, ppmv\n",
    "    VMOL_n2o = np.ones(IMMAX)*0.3 #unit: PPMV\n",
    "    VMOL_co = np.zeros(IMMAX)\n",
    "    VMOL_ch4 = np.ones(IMMAX)*1.7 #unit: PPMV\n",
    "    VMOL_total = np.vstack((VMOL_wv,VMOL_co2,VMOL_o3,VMOL_n2o,VMOL_co,VMOL_ch4))#density of the molecule set by JCHAR(K)\n",
    "    VMOL=VMOL_total\n",
    "    \n",
    "    \n",
    "    NLAY = np.count_nonzero(dext)   # Total number of layers containing the aerosol with the specified properties\n",
    "    aer_lay = np.nonzero(dext)[0]+1 # Layer number  of aerosol layer. (layer n corresponds to the region between altitudes n and n+1 in the list of layer boundaries in Record 3.3B.)\n",
    "\n",
    "    print(aer_lay)\n",
    "    #----For each aerosol layer calculate AOD for each band----\n",
    "    aod = np.zeros(NLAY)\n",
    "    for i in range(NLAY):\n",
    "        aod[i]=dext[aer_lay[i]-1]*(ZM[aer_lay[i]]-ZM[aer_lay[i]-1])\n",
    "    aod_lay_band_sw=np.zeros((14,NLAY))\n",
    "    for j in range(NLAY):\n",
    "        aod_lay_band_sw[:,j]= aod[j] * qe_dust_sw/qe_dust_sw[9]   # qe_dust_sw[9] is qe @ 550nm. AOD(x) = AOD(550nm) * (qe(x)/qe(550nm)), where x is band number \n",
    "    \n",
    "    print('*****Altitude for RRTM_SW (unit: km):',ZM)\n",
    "    \n",
    "    #========================== Run RRTM_SW ====================================\n",
    "    ICLD = 0 # Cloud-free\n",
    "    IAER = 0 # Aerosol-free\n",
    "    print(' Compute clear-sky sw flux w/o aerososl')\n",
    "    read_input_rrtm_sw('INPUT_RRTM', IAER, ICLD, ISCAT_sw, ISTRM, SZA, 1.0-SUF_ALB, \\\n",
    "    HBOUND, IMMAX, ZM, PM, TM, VMOL)\n",
    "    os.system(RT_model_sw)\n",
    "    os.system('mv INPUT_RRTM INPUT_RRTM.sw')\n",
    "    os.system('mv OUTPUT_RRTM ./rrtm_output/OUTPUT_RRTM_sw_Rs{:}_sza{:}.clear'.format(Rs,sza))\n",
    "    \n",
    "    \n",
    "    ICLD = 0   # Cloud-free \n",
    "    IAER = 10  # With Aerosol\n",
    "    print(' Compute sw fluxs with aerosol')\n",
    "    read_input_rrtm_sw('INPUT_RRTM', IAER, ICLD, ISCAT_sw, ISTRM, SZA, 1.0-SUF_ALB, \\\n",
    "    HBOUND, IMMAX, ZM, PM, TM, VMOL)\n",
    "    write_IN_AER_RRTM_sw('IN_AER_RRTM',NLAY, aer_lay, aod_lay_band_sw,ssa_dust_sw,g_dust_sw)\n",
    "    os.system(RT_model_sw)\n",
    "    os.system('mv INPUT_RRTM INPUT_RRTM.sw')\n",
    "    os.system('mv IN_AER_RRTM IN_AER_RRTM.sw')\n",
    "    os.system('mv OUTPUT_RRTM ./rrtm_output/OUTPUT_RRTM_sw_Rs{:}_sza{:}.aerosol'.format(Rs,sza))\n",
    "    "
   ]
  },
  {
   "cell_type": "code",
   "execution_count": null,
   "id": "e5006cb2",
   "metadata": {
    "papermill": {
     "duration": 0.0024,
     "end_time": "2024-02-28T20:51:18.265581",
     "exception": false,
     "start_time": "2024-02-28T20:51:18.263181",
     "status": "completed"
    },
    "tags": []
   },
   "outputs": [],
   "source": []
  }
 ],
 "metadata": {
  "kernelspec": {
   "display_name": "rrtm_env",
   "language": "python",
   "name": "rrtm_env"
  },
  "language_info": {
   "codemirror_mode": {
    "name": "ipython",
    "version": 3
   },
   "file_extension": ".py",
   "mimetype": "text/x-python",
   "name": "python",
   "nbconvert_exporter": "python",
   "pygments_lexer": "ipython3",
   "version": "3.11.4"
  },
  "papermill": {
   "default_parameters": {},
   "duration": 2.946255,
   "end_time": "2024-02-28T20:51:18.587660",
   "environment_variables": {},
   "exception": null,
   "input_path": "my_run_rrtm_sw.ipynb",
   "output_path": "output_notebook_x0.17_y-70.00.ipynb",
   "parameters": {
    "Rs": 0.16666666666666669,
    "sza": -70.0
   },
   "start_time": "2024-02-28T20:51:15.641405",
   "version": "2.5.0"
  }
 },
 "nbformat": 4,
 "nbformat_minor": 5
}