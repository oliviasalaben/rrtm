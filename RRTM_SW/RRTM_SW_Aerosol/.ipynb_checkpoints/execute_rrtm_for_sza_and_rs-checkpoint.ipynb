{
 "cells": [
  {
   "cell_type": "code",
   "execution_count": 1,
   "id": "ce01a81a-dc24-4a23-ad19-ec3b3adf40fd",
   "metadata": {},
   "outputs": [],
   "source": [
    "import numpy as np"
   ]
  },
  {
   "cell_type": "markdown",
   "id": "039959ea-eb58-44b4-87ea-9971862a7575",
   "metadata": {
    "tags": []
   },
   "source": [
    "from nbconvert.preprocessors import ExecutePreprocessor\n",
    "import nbformat\n",
    "\n",
    "def execute_notebook(notebook_path):\n",
    "    with open(notebook_path) as f:\n",
    "        nb = nbformat.read(f, as_version=4)\n",
    "    \n",
    "    # Create an instance of the ExecutePreprocessor class\n",
    "    executor = ExecutePreprocessor(timeout=-1)\n",
    "    \n",
    "    # Execute the notebook\n",
    "    executor.preprocess(nb, {'metadata': {'path': '.'}})\n",
    "    \n",
    "    print(\"Notebook executed successfully.\")\n",
    "\n",
    "# Specify the path to the notebook you want to execute\n",
    "notebook_path = \"/my_run_rrtm_sw.ipynb\"\n",
    "\n",
    "# Call the execute_notebook function with the notebook path\n",
    "execute_notebook(notebook_path)"
   ]
  },
  {
   "cell_type": "code",
   "execution_count": 4,
   "id": "64b9de25-8e55-4015-b103-0cc732cc5259",
   "metadata": {},
   "outputs": [],
   "source": [
    "sza_values = np.arange(0,100,10)\n",
    "Rs_values = np.arange(0,1.1,0.1)"
   ]
  },
  {
   "cell_type": "code",
   "execution_count": 5,
   "id": "edefede8-272a-49c9-bfda-ba17e11e3a91",
   "metadata": {},
   "outputs": [
    {
     "name": "stdout",
     "output_type": "stream",
     "text": [
      "10 [ 0 10 20 30 40 50 60 70 80 90]\n",
      "11 [0.  0.1 0.2 0.3 0.4 0.5 0.6 0.7 0.8 0.9 1. ]\n"
     ]
    }
   ],
   "source": [
    "print(len(sza_values), sza_values)\n",
    "print(len(Rs_values), Rs_values)"
   ]
  },
  {
   "cell_type": "code",
   "execution_count": 9,
   "id": "fc964224-6497-4684-8ae1-892b8f42aa2f",
   "metadata": {},
   "outputs": [
    {
     "data": {
      "application/vnd.jupyter.widget-view+json": {
       "model_id": "296d0cca05de4c6b9337c77931043e25",
       "version_major": 2,
       "version_minor": 0
      },
      "text/plain": [
       "Executing:   0%|          | 0/10 [00:00<?, ?cell/s]"
      ]
     },
     "metadata": {},
     "output_type": "display_data"
    },
    {
     "name": "stderr",
     "output_type": "stream",
     "text": [
      "This version of python seems to be incorrectly compiled\n",
      "(internal generated filenames are not absolute).\n",
      "This may make the debugger miss breakpoints.\n",
      "Related bug: http://bugs.python.org/issue1666807\n"
     ]
    },
    {
     "name": "stdout",
     "output_type": "stream",
     "text": [
      "Notebook executed successfully with parameters x=0.0, y=0.0. Output saved as 'output_notebook_x0.00_y0.00.ipynb'.\n"
     ]
    },
    {
     "data": {
      "application/vnd.jupyter.widget-view+json": {
       "model_id": "14861bd02d11424b9039b9a139a44423",
       "version_major": 2,
       "version_minor": 0
      },
      "text/plain": [
       "Executing:   0%|          | 0/10 [00:00<?, ?cell/s]"
      ]
     },
     "metadata": {},
     "output_type": "display_data"
    },
    {
     "name": "stderr",
     "output_type": "stream",
     "text": [
      "This version of python seems to be incorrectly compiled\n",
      "(internal generated filenames are not absolute).\n",
      "This may make the debugger miss breakpoints.\n",
      "Related bug: http://bugs.python.org/issue1666807\n"
     ]
    },
    {
     "name": "stdout",
     "output_type": "stream",
     "text": [
      "Notebook executed successfully with parameters x=0.0, y=10.0. Output saved as 'output_notebook_x0.00_y10.00.ipynb'.\n"
     ]
    },
    {
     "data": {
      "application/vnd.jupyter.widget-view+json": {
       "model_id": "fc9f10f425294d939ebbb28478e646f4",
       "version_major": 2,
       "version_minor": 0
      },
      "text/plain": [
       "Executing:   0%|          | 0/10 [00:00<?, ?cell/s]"
      ]
     },
     "metadata": {},
     "output_type": "display_data"
    },
    {
     "name": "stderr",
     "output_type": "stream",
     "text": [
      "This version of python seems to be incorrectly compiled\n",
      "(internal generated filenames are not absolute).\n",
      "This may make the debugger miss breakpoints.\n",
      "Related bug: http://bugs.python.org/issue1666807\n"
     ]
    },
    {
     "name": "stdout",
     "output_type": "stream",
     "text": [
      "Notebook executed successfully with parameters x=0.0, y=20.0. Output saved as 'output_notebook_x0.00_y20.00.ipynb'.\n"
     ]
    },
    {
     "data": {
      "application/vnd.jupyter.widget-view+json": {
       "model_id": "85a924d45be543c7b631d39135c327ac",
       "version_major": 2,
       "version_minor": 0
      },
      "text/plain": [
       "Executing:   0%|          | 0/10 [00:00<?, ?cell/s]"
      ]
     },
     "metadata": {},
     "output_type": "display_data"
    },
    {
     "name": "stderr",
     "output_type": "stream",
     "text": [
      "This version of python seems to be incorrectly compiled\n",
      "(internal generated filenames are not absolute).\n",
      "This may make the debugger miss breakpoints.\n",
      "Related bug: http://bugs.python.org/issue1666807\n"
     ]
    },
    {
     "name": "stdout",
     "output_type": "stream",
     "text": [
      "Notebook executed successfully with parameters x=0.0, y=30.0. Output saved as 'output_notebook_x0.00_y30.00.ipynb'.\n"
     ]
    },
    {
     "data": {
      "application/vnd.jupyter.widget-view+json": {
       "model_id": "891461bd485343fb988fc44bfd79ad57",
       "version_major": 2,
       "version_minor": 0
      },
      "text/plain": [
       "Executing:   0%|          | 0/10 [00:00<?, ?cell/s]"
      ]
     },
     "metadata": {},
     "output_type": "display_data"
    },
    {
     "name": "stderr",
     "output_type": "stream",
     "text": [
      "This version of python seems to be incorrectly compiled\n",
      "(internal generated filenames are not absolute).\n",
      "This may make the debugger miss breakpoints.\n",
      "Related bug: http://bugs.python.org/issue1666807\n"
     ]
    },
    {
     "name": "stdout",
     "output_type": "stream",
     "text": [
      "Notebook executed successfully with parameters x=0.0, y=40.0. Output saved as 'output_notebook_x0.00_y40.00.ipynb'.\n"
     ]
    },
    {
     "data": {
      "application/vnd.jupyter.widget-view+json": {
       "model_id": "9987112aeb704d799a133fc5c60ee0ab",
       "version_major": 2,
       "version_minor": 0
      },
      "text/plain": [
       "Executing:   0%|          | 0/10 [00:00<?, ?cell/s]"
      ]
     },
     "metadata": {},
     "output_type": "display_data"
    },
    {
     "name": "stderr",
     "output_type": "stream",
     "text": [
      "This version of python seems to be incorrectly compiled\n",
      "(internal generated filenames are not absolute).\n",
      "This may make the debugger miss breakpoints.\n",
      "Related bug: http://bugs.python.org/issue1666807\n"
     ]
    },
    {
     "name": "stdout",
     "output_type": "stream",
     "text": [
      "Notebook executed successfully with parameters x=0.0, y=50.0. Output saved as 'output_notebook_x0.00_y50.00.ipynb'.\n"
     ]
    },
    {
     "data": {
      "application/vnd.jupyter.widget-view+json": {
       "model_id": "d8d3889babd3493caf9148b6abcbe6e2",
       "version_major": 2,
       "version_minor": 0
      },
      "text/plain": [
       "Executing:   0%|          | 0/10 [00:00<?, ?cell/s]"
      ]
     },
     "metadata": {},
     "output_type": "display_data"
    },
    {
     "name": "stderr",
     "output_type": "stream",
     "text": [
      "This version of python seems to be incorrectly compiled\n",
      "(internal generated filenames are not absolute).\n",
      "This may make the debugger miss breakpoints.\n",
      "Related bug: http://bugs.python.org/issue1666807\n"
     ]
    },
    {
     "name": "stdout",
     "output_type": "stream",
     "text": [
      "Notebook executed successfully with parameters x=0.0, y=60.0. Output saved as 'output_notebook_x0.00_y60.00.ipynb'.\n"
     ]
    },
    {
     "data": {
      "application/vnd.jupyter.widget-view+json": {
       "model_id": "b93d4115ea3040928f2cab926e5d8ce2",
       "version_major": 2,
       "version_minor": 0
      },
      "text/plain": [
       "Executing:   0%|          | 0/10 [00:00<?, ?cell/s]"
      ]
     },
     "metadata": {},
     "output_type": "display_data"
    },
    {
     "name": "stderr",
     "output_type": "stream",
     "text": [
      "This version of python seems to be incorrectly compiled\n",
      "(internal generated filenames are not absolute).\n",
      "This may make the debugger miss breakpoints.\n",
      "Related bug: http://bugs.python.org/issue1666807\n"
     ]
    },
    {
     "name": "stdout",
     "output_type": "stream",
     "text": [
      "Notebook executed successfully with parameters x=0.0, y=70.0. Output saved as 'output_notebook_x0.00_y70.00.ipynb'.\n"
     ]
    },
    {
     "data": {
      "application/vnd.jupyter.widget-view+json": {
       "model_id": "230b86ee7d464fc3bf8637d20955d728",
       "version_major": 2,
       "version_minor": 0
      },
      "text/plain": [
       "Executing:   0%|          | 0/10 [00:00<?, ?cell/s]"
      ]
     },
     "metadata": {},
     "output_type": "display_data"
    },
    {
     "name": "stderr",
     "output_type": "stream",
     "text": [
      "This version of python seems to be incorrectly compiled\n",
      "(internal generated filenames are not absolute).\n",
      "This may make the debugger miss breakpoints.\n",
      "Related bug: http://bugs.python.org/issue1666807\n"
     ]
    },
    {
     "name": "stdout",
     "output_type": "stream",
     "text": [
      "Notebook executed successfully with parameters x=0.0, y=80.0. Output saved as 'output_notebook_x0.00_y80.00.ipynb'.\n"
     ]
    },
    {
     "data": {
      "application/vnd.jupyter.widget-view+json": {
       "model_id": "4534b7f8a13a4ba0ab9ee8efc7d37455",
       "version_major": 2,
       "version_minor": 0
      },
      "text/plain": [
       "Executing:   0%|          | 0/10 [00:00<?, ?cell/s]"
      ]
     },
     "metadata": {},
     "output_type": "display_data"
    },
    {
     "name": "stderr",
     "output_type": "stream",
     "text": [
      "This version of python seems to be incorrectly compiled\n",
      "(internal generated filenames are not absolute).\n",
      "This may make the debugger miss breakpoints.\n",
      "Related bug: http://bugs.python.org/issue1666807\n"
     ]
    },
    {
     "name": "stdout",
     "output_type": "stream",
     "text": [
      "Notebook executed successfully with parameters x=0.0, y=90.0. Output saved as 'output_notebook_x0.00_y90.00.ipynb'.\n"
     ]
    },
    {
     "data": {
      "application/vnd.jupyter.widget-view+json": {
       "model_id": "22da6d82eb524dbcae882d6e5cfbc451",
       "version_major": 2,
       "version_minor": 0
      },
      "text/plain": [
       "Executing:   0%|          | 0/10 [00:00<?, ?cell/s]"
      ]
     },
     "metadata": {},
     "output_type": "display_data"
    },
    {
     "name": "stderr",
     "output_type": "stream",
     "text": [
      "This version of python seems to be incorrectly compiled\n",
      "(internal generated filenames are not absolute).\n",
      "This may make the debugger miss breakpoints.\n",
      "Related bug: http://bugs.python.org/issue1666807\n"
     ]
    },
    {
     "name": "stdout",
     "output_type": "stream",
     "text": [
      "Notebook executed successfully with parameters x=0.1, y=0.0. Output saved as 'output_notebook_x0.10_y0.00.ipynb'.\n"
     ]
    },
    {
     "data": {
      "application/vnd.jupyter.widget-view+json": {
       "model_id": "a389d328855849b1a6db4dc6d0e76199",
       "version_major": 2,
       "version_minor": 0
      },
      "text/plain": [
       "Executing:   0%|          | 0/10 [00:00<?, ?cell/s]"
      ]
     },
     "metadata": {},
     "output_type": "display_data"
    },
    {
     "name": "stderr",
     "output_type": "stream",
     "text": [
      "This version of python seems to be incorrectly compiled\n",
      "(internal generated filenames are not absolute).\n",
      "This may make the debugger miss breakpoints.\n",
      "Related bug: http://bugs.python.org/issue1666807\n"
     ]
    },
    {
     "name": "stdout",
     "output_type": "stream",
     "text": [
      "Notebook executed successfully with parameters x=0.1, y=10.0. Output saved as 'output_notebook_x0.10_y10.00.ipynb'.\n"
     ]
    },
    {
     "data": {
      "application/vnd.jupyter.widget-view+json": {
       "model_id": "99d5c5aab6cc4debaeae3ded411e0bd2",
       "version_major": 2,
       "version_minor": 0
      },
      "text/plain": [
       "Executing:   0%|          | 0/10 [00:00<?, ?cell/s]"
      ]
     },
     "metadata": {},
     "output_type": "display_data"
    },
    {
     "name": "stderr",
     "output_type": "stream",
     "text": [
      "This version of python seems to be incorrectly compiled\n",
      "(internal generated filenames are not absolute).\n",
      "This may make the debugger miss breakpoints.\n",
      "Related bug: http://bugs.python.org/issue1666807\n"
     ]
    },
    {
     "name": "stdout",
     "output_type": "stream",
     "text": [
      "Notebook executed successfully with parameters x=0.1, y=20.0. Output saved as 'output_notebook_x0.10_y20.00.ipynb'.\n"
     ]
    },
    {
     "data": {
      "application/vnd.jupyter.widget-view+json": {
       "model_id": "b0ac9c2a874943dd929914b65dd17290",
       "version_major": 2,
       "version_minor": 0
      },
      "text/plain": [
       "Executing:   0%|          | 0/10 [00:00<?, ?cell/s]"
      ]
     },
     "metadata": {},
     "output_type": "display_data"
    },
    {
     "name": "stderr",
     "output_type": "stream",
     "text": [
      "This version of python seems to be incorrectly compiled\n",
      "(internal generated filenames are not absolute).\n",
      "This may make the debugger miss breakpoints.\n",
      "Related bug: http://bugs.python.org/issue1666807\n"
     ]
    },
    {
     "name": "stdout",
     "output_type": "stream",
     "text": [
      "Notebook executed successfully with parameters x=0.1, y=30.0. Output saved as 'output_notebook_x0.10_y30.00.ipynb'.\n"
     ]
    },
    {
     "data": {
      "application/vnd.jupyter.widget-view+json": {
       "model_id": "92e188e9e33a48f2a7192b7a299ca098",
       "version_major": 2,
       "version_minor": 0
      },
      "text/plain": [
       "Executing:   0%|          | 0/10 [00:00<?, ?cell/s]"
      ]
     },
     "metadata": {},
     "output_type": "display_data"
    },
    {
     "name": "stderr",
     "output_type": "stream",
     "text": [
      "This version of python seems to be incorrectly compiled\n",
      "(internal generated filenames are not absolute).\n",
      "This may make the debugger miss breakpoints.\n",
      "Related bug: http://bugs.python.org/issue1666807\n"
     ]
    },
    {
     "name": "stdout",
     "output_type": "stream",
     "text": [
      "Notebook executed successfully with parameters x=0.1, y=40.0. Output saved as 'output_notebook_x0.10_y40.00.ipynb'.\n"
     ]
    },
    {
     "data": {
      "application/vnd.jupyter.widget-view+json": {
       "model_id": "9d88e0f33e98486b96465d13c782ee64",
       "version_major": 2,
       "version_minor": 0
      },
      "text/plain": [
       "Executing:   0%|          | 0/10 [00:00<?, ?cell/s]"
      ]
     },
     "metadata": {},
     "output_type": "display_data"
    },
    {
     "name": "stderr",
     "output_type": "stream",
     "text": [
      "This version of python seems to be incorrectly compiled\n",
      "(internal generated filenames are not absolute).\n",
      "This may make the debugger miss breakpoints.\n",
      "Related bug: http://bugs.python.org/issue1666807\n"
     ]
    },
    {
     "name": "stdout",
     "output_type": "stream",
     "text": [
      "Notebook executed successfully with parameters x=0.1, y=50.0. Output saved as 'output_notebook_x0.10_y50.00.ipynb'.\n"
     ]
    },
    {
     "data": {
      "application/vnd.jupyter.widget-view+json": {
       "model_id": "f6435e7cb3d74f50991a222f5613a8c4",
       "version_major": 2,
       "version_minor": 0
      },
      "text/plain": [
       "Executing:   0%|          | 0/10 [00:00<?, ?cell/s]"
      ]
     },
     "metadata": {},
     "output_type": "display_data"
    },
    {
     "name": "stderr",
     "output_type": "stream",
     "text": [
      "This version of python seems to be incorrectly compiled\n",
      "(internal generated filenames are not absolute).\n",
      "This may make the debugger miss breakpoints.\n",
      "Related bug: http://bugs.python.org/issue1666807\n"
     ]
    },
    {
     "name": "stdout",
     "output_type": "stream",
     "text": [
      "Notebook executed successfully with parameters x=0.1, y=60.0. Output saved as 'output_notebook_x0.10_y60.00.ipynb'.\n"
     ]
    },
    {
     "data": {
      "application/vnd.jupyter.widget-view+json": {
       "model_id": "214aee223ddf4b318b5b9ce557723404",
       "version_major": 2,
       "version_minor": 0
      },
      "text/plain": [
       "Executing:   0%|          | 0/10 [00:00<?, ?cell/s]"
      ]
     },
     "metadata": {},
     "output_type": "display_data"
    },
    {
     "name": "stderr",
     "output_type": "stream",
     "text": [
      "This version of python seems to be incorrectly compiled\n",
      "(internal generated filenames are not absolute).\n",
      "This may make the debugger miss breakpoints.\n",
      "Related bug: http://bugs.python.org/issue1666807\n"
     ]
    },
    {
     "name": "stdout",
     "output_type": "stream",
     "text": [
      "Notebook executed successfully with parameters x=0.1, y=70.0. Output saved as 'output_notebook_x0.10_y70.00.ipynb'.\n"
     ]
    },
    {
     "data": {
      "application/vnd.jupyter.widget-view+json": {
       "model_id": "4dd47537c2f948a39d969a7a3efc84eb",
       "version_major": 2,
       "version_minor": 0
      },
      "text/plain": [
       "Executing:   0%|          | 0/10 [00:00<?, ?cell/s]"
      ]
     },
     "metadata": {},
     "output_type": "display_data"
    },
    {
     "name": "stderr",
     "output_type": "stream",
     "text": [
      "This version of python seems to be incorrectly compiled\n",
      "(internal generated filenames are not absolute).\n",
      "This may make the debugger miss breakpoints.\n",
      "Related bug: http://bugs.python.org/issue1666807\n"
     ]
    },
    {
     "name": "stdout",
     "output_type": "stream",
     "text": [
      "Notebook executed successfully with parameters x=0.1, y=80.0. Output saved as 'output_notebook_x0.10_y80.00.ipynb'.\n"
     ]
    },
    {
     "data": {
      "application/vnd.jupyter.widget-view+json": {
       "model_id": "7d9ff49c6e6542f7a737ef4b8aba214d",
       "version_major": 2,
       "version_minor": 0
      },
      "text/plain": [
       "Executing:   0%|          | 0/10 [00:00<?, ?cell/s]"
      ]
     },
     "metadata": {},
     "output_type": "display_data"
    },
    {
     "name": "stderr",
     "output_type": "stream",
     "text": [
      "This version of python seems to be incorrectly compiled\n",
      "(internal generated filenames are not absolute).\n",
      "This may make the debugger miss breakpoints.\n",
      "Related bug: http://bugs.python.org/issue1666807\n"
     ]
    },
    {
     "name": "stdout",
     "output_type": "stream",
     "text": [
      "Notebook executed successfully with parameters x=0.1, y=90.0. Output saved as 'output_notebook_x0.10_y90.00.ipynb'.\n"
     ]
    },
    {
     "data": {
      "application/vnd.jupyter.widget-view+json": {
       "model_id": "388c1929680f4674ad96aff2e42b81be",
       "version_major": 2,
       "version_minor": 0
      },
      "text/plain": [
       "Executing:   0%|          | 0/10 [00:00<?, ?cell/s]"
      ]
     },
     "metadata": {},
     "output_type": "display_data"
    },
    {
     "name": "stderr",
     "output_type": "stream",
     "text": [
      "This version of python seems to be incorrectly compiled\n",
      "(internal generated filenames are not absolute).\n",
      "This may make the debugger miss breakpoints.\n",
      "Related bug: http://bugs.python.org/issue1666807\n"
     ]
    },
    {
     "name": "stdout",
     "output_type": "stream",
     "text": [
      "Notebook executed successfully with parameters x=0.2, y=0.0. Output saved as 'output_notebook_x0.20_y0.00.ipynb'.\n"
     ]
    },
    {
     "data": {
      "application/vnd.jupyter.widget-view+json": {
       "model_id": "c2fd7a4fc56b4cc2bb5446d207534968",
       "version_major": 2,
       "version_minor": 0
      },
      "text/plain": [
       "Executing:   0%|          | 0/10 [00:00<?, ?cell/s]"
      ]
     },
     "metadata": {},
     "output_type": "display_data"
    },
    {
     "name": "stderr",
     "output_type": "stream",
     "text": [
      "This version of python seems to be incorrectly compiled\n",
      "(internal generated filenames are not absolute).\n",
      "This may make the debugger miss breakpoints.\n",
      "Related bug: http://bugs.python.org/issue1666807\n"
     ]
    },
    {
     "name": "stdout",
     "output_type": "stream",
     "text": [
      "Notebook executed successfully with parameters x=0.2, y=10.0. Output saved as 'output_notebook_x0.20_y10.00.ipynb'.\n"
     ]
    },
    {
     "data": {
      "application/vnd.jupyter.widget-view+json": {
       "model_id": "5f69e1c8094f4f0cac4f4cadb2ca79cb",
       "version_major": 2,
       "version_minor": 0
      },
      "text/plain": [
       "Executing:   0%|          | 0/10 [00:00<?, ?cell/s]"
      ]
     },
     "metadata": {},
     "output_type": "display_data"
    },
    {
     "name": "stderr",
     "output_type": "stream",
     "text": [
      "This version of python seems to be incorrectly compiled\n",
      "(internal generated filenames are not absolute).\n",
      "This may make the debugger miss breakpoints.\n",
      "Related bug: http://bugs.python.org/issue1666807\n"
     ]
    },
    {
     "name": "stdout",
     "output_type": "stream",
     "text": [
      "Notebook executed successfully with parameters x=0.2, y=20.0. Output saved as 'output_notebook_x0.20_y20.00.ipynb'.\n"
     ]
    },
    {
     "data": {
      "application/vnd.jupyter.widget-view+json": {
       "model_id": "a07d0bd889434fedae164c900d192e18",
       "version_major": 2,
       "version_minor": 0
      },
      "text/plain": [
       "Executing:   0%|          | 0/10 [00:00<?, ?cell/s]"
      ]
     },
     "metadata": {},
     "output_type": "display_data"
    },
    {
     "name": "stderr",
     "output_type": "stream",
     "text": [
      "This version of python seems to be incorrectly compiled\n",
      "(internal generated filenames are not absolute).\n",
      "This may make the debugger miss breakpoints.\n",
      "Related bug: http://bugs.python.org/issue1666807\n"
     ]
    },
    {
     "name": "stdout",
     "output_type": "stream",
     "text": [
      "Notebook executed successfully with parameters x=0.2, y=30.0. Output saved as 'output_notebook_x0.20_y30.00.ipynb'.\n"
     ]
    },
    {
     "data": {
      "application/vnd.jupyter.widget-view+json": {
       "model_id": "5e4b643d64ad4496b991a982d8d93217",
       "version_major": 2,
       "version_minor": 0
      },
      "text/plain": [
       "Executing:   0%|          | 0/10 [00:00<?, ?cell/s]"
      ]
     },
     "metadata": {},
     "output_type": "display_data"
    },
    {
     "name": "stderr",
     "output_type": "stream",
     "text": [
      "This version of python seems to be incorrectly compiled\n",
      "(internal generated filenames are not absolute).\n",
      "This may make the debugger miss breakpoints.\n",
      "Related bug: http://bugs.python.org/issue1666807\n"
     ]
    },
    {
     "name": "stdout",
     "output_type": "stream",
     "text": [
      "Notebook executed successfully with parameters x=0.2, y=40.0. Output saved as 'output_notebook_x0.20_y40.00.ipynb'.\n"
     ]
    },
    {
     "data": {
      "application/vnd.jupyter.widget-view+json": {
       "model_id": "f72fab137f9a49658e5b92669893ee73",
       "version_major": 2,
       "version_minor": 0
      },
      "text/plain": [
       "Executing:   0%|          | 0/10 [00:00<?, ?cell/s]"
      ]
     },
     "metadata": {},
     "output_type": "display_data"
    },
    {
     "name": "stderr",
     "output_type": "stream",
     "text": [
      "This version of python seems to be incorrectly compiled\n",
      "(internal generated filenames are not absolute).\n",
      "This may make the debugger miss breakpoints.\n",
      "Related bug: http://bugs.python.org/issue1666807\n"
     ]
    },
    {
     "name": "stdout",
     "output_type": "stream",
     "text": [
      "Notebook executed successfully with parameters x=0.2, y=50.0. Output saved as 'output_notebook_x0.20_y50.00.ipynb'.\n"
     ]
    },
    {
     "data": {
      "application/vnd.jupyter.widget-view+json": {
       "model_id": "c8911f5edea84ca69d07b3c15557f46d",
       "version_major": 2,
       "version_minor": 0
      },
      "text/plain": [
       "Executing:   0%|          | 0/10 [00:00<?, ?cell/s]"
      ]
     },
     "metadata": {},
     "output_type": "display_data"
    },
    {
     "name": "stderr",
     "output_type": "stream",
     "text": [
      "This version of python seems to be incorrectly compiled\n",
      "(internal generated filenames are not absolute).\n",
      "This may make the debugger miss breakpoints.\n",
      "Related bug: http://bugs.python.org/issue1666807\n"
     ]
    },
    {
     "name": "stdout",
     "output_type": "stream",
     "text": [
      "Notebook executed successfully with parameters x=0.2, y=60.0. Output saved as 'output_notebook_x0.20_y60.00.ipynb'.\n"
     ]
    },
    {
     "data": {
      "application/vnd.jupyter.widget-view+json": {
       "model_id": "94d1850ce06e4af1b2ea3f96e9e19178",
       "version_major": 2,
       "version_minor": 0
      },
      "text/plain": [
       "Executing:   0%|          | 0/10 [00:00<?, ?cell/s]"
      ]
     },
     "metadata": {},
     "output_type": "display_data"
    },
    {
     "name": "stderr",
     "output_type": "stream",
     "text": [
      "This version of python seems to be incorrectly compiled\n",
      "(internal generated filenames are not absolute).\n",
      "This may make the debugger miss breakpoints.\n",
      "Related bug: http://bugs.python.org/issue1666807\n"
     ]
    },
    {
     "name": "stdout",
     "output_type": "stream",
     "text": [
      "Notebook executed successfully with parameters x=0.2, y=70.0. Output saved as 'output_notebook_x0.20_y70.00.ipynb'.\n"
     ]
    },
    {
     "data": {
      "application/vnd.jupyter.widget-view+json": {
       "model_id": "318d9a893e0c4212b9318687f2ed5aaf",
       "version_major": 2,
       "version_minor": 0
      },
      "text/plain": [
       "Executing:   0%|          | 0/10 [00:00<?, ?cell/s]"
      ]
     },
     "metadata": {},
     "output_type": "display_data"
    },
    {
     "name": "stderr",
     "output_type": "stream",
     "text": [
      "This version of python seems to be incorrectly compiled\n",
      "(internal generated filenames are not absolute).\n",
      "This may make the debugger miss breakpoints.\n",
      "Related bug: http://bugs.python.org/issue1666807\n"
     ]
    },
    {
     "name": "stdout",
     "output_type": "stream",
     "text": [
      "Notebook executed successfully with parameters x=0.2, y=80.0. Output saved as 'output_notebook_x0.20_y80.00.ipynb'.\n"
     ]
    },
    {
     "data": {
      "application/vnd.jupyter.widget-view+json": {
       "model_id": "8d19e0512ca840f599897846e6cd7ddf",
       "version_major": 2,
       "version_minor": 0
      },
      "text/plain": [
       "Executing:   0%|          | 0/10 [00:00<?, ?cell/s]"
      ]
     },
     "metadata": {},
     "output_type": "display_data"
    },
    {
     "name": "stderr",
     "output_type": "stream",
     "text": [
      "This version of python seems to be incorrectly compiled\n",
      "(internal generated filenames are not absolute).\n",
      "This may make the debugger miss breakpoints.\n",
      "Related bug: http://bugs.python.org/issue1666807\n"
     ]
    },
    {
     "name": "stdout",
     "output_type": "stream",
     "text": [
      "Notebook executed successfully with parameters x=0.2, y=90.0. Output saved as 'output_notebook_x0.20_y90.00.ipynb'.\n"
     ]
    },
    {
     "data": {
      "application/vnd.jupyter.widget-view+json": {
       "model_id": "0df4f650d5fc42fcbb8c6cc73e44e01a",
       "version_major": 2,
       "version_minor": 0
      },
      "text/plain": [
       "Executing:   0%|          | 0/10 [00:00<?, ?cell/s]"
      ]
     },
     "metadata": {},
     "output_type": "display_data"
    },
    {
     "name": "stderr",
     "output_type": "stream",
     "text": [
      "This version of python seems to be incorrectly compiled\n",
      "(internal generated filenames are not absolute).\n",
      "This may make the debugger miss breakpoints.\n",
      "Related bug: http://bugs.python.org/issue1666807\n"
     ]
    },
    {
     "name": "stdout",
     "output_type": "stream",
     "text": [
      "Notebook executed successfully with parameters x=0.30000000000000004, y=0.0. Output saved as 'output_notebook_x0.30_y0.00.ipynb'.\n"
     ]
    },
    {
     "data": {
      "application/vnd.jupyter.widget-view+json": {
       "model_id": "399aae8e8f3642c3bb6d6de04a6e3d82",
       "version_major": 2,
       "version_minor": 0
      },
      "text/plain": [
       "Executing:   0%|          | 0/10 [00:00<?, ?cell/s]"
      ]
     },
     "metadata": {},
     "output_type": "display_data"
    },
    {
     "name": "stderr",
     "output_type": "stream",
     "text": [
      "This version of python seems to be incorrectly compiled\n",
      "(internal generated filenames are not absolute).\n",
      "This may make the debugger miss breakpoints.\n",
      "Related bug: http://bugs.python.org/issue1666807\n"
     ]
    },
    {
     "name": "stdout",
     "output_type": "stream",
     "text": [
      "Notebook executed successfully with parameters x=0.30000000000000004, y=10.0. Output saved as 'output_notebook_x0.30_y10.00.ipynb'.\n"
     ]
    },
    {
     "data": {
      "application/vnd.jupyter.widget-view+json": {
       "model_id": "f132920ff64445629e9ac544e4c0363e",
       "version_major": 2,
       "version_minor": 0
      },
      "text/plain": [
       "Executing:   0%|          | 0/10 [00:00<?, ?cell/s]"
      ]
     },
     "metadata": {},
     "output_type": "display_data"
    },
    {
     "name": "stderr",
     "output_type": "stream",
     "text": [
      "This version of python seems to be incorrectly compiled\n",
      "(internal generated filenames are not absolute).\n",
      "This may make the debugger miss breakpoints.\n",
      "Related bug: http://bugs.python.org/issue1666807\n"
     ]
    },
    {
     "name": "stdout",
     "output_type": "stream",
     "text": [
      "Notebook executed successfully with parameters x=0.30000000000000004, y=20.0. Output saved as 'output_notebook_x0.30_y20.00.ipynb'.\n"
     ]
    },
    {
     "data": {
      "application/vnd.jupyter.widget-view+json": {
       "model_id": "742e09d4cfce4f04afde78734860e91e",
       "version_major": 2,
       "version_minor": 0
      },
      "text/plain": [
       "Executing:   0%|          | 0/10 [00:00<?, ?cell/s]"
      ]
     },
     "metadata": {},
     "output_type": "display_data"
    },
    {
     "name": "stderr",
     "output_type": "stream",
     "text": [
      "This version of python seems to be incorrectly compiled\n",
      "(internal generated filenames are not absolute).\n",
      "This may make the debugger miss breakpoints.\n",
      "Related bug: http://bugs.python.org/issue1666807\n"
     ]
    },
    {
     "name": "stdout",
     "output_type": "stream",
     "text": [
      "Notebook executed successfully with parameters x=0.30000000000000004, y=30.0. Output saved as 'output_notebook_x0.30_y30.00.ipynb'.\n"
     ]
    },
    {
     "data": {
      "application/vnd.jupyter.widget-view+json": {
       "model_id": "30d6461e898f4de5bb05b02e2fe42a7a",
       "version_major": 2,
       "version_minor": 0
      },
      "text/plain": [
       "Executing:   0%|          | 0/10 [00:00<?, ?cell/s]"
      ]
     },
     "metadata": {},
     "output_type": "display_data"
    },
    {
     "name": "stderr",
     "output_type": "stream",
     "text": [
      "This version of python seems to be incorrectly compiled\n",
      "(internal generated filenames are not absolute).\n",
      "This may make the debugger miss breakpoints.\n",
      "Related bug: http://bugs.python.org/issue1666807\n"
     ]
    },
    {
     "name": "stdout",
     "output_type": "stream",
     "text": [
      "Notebook executed successfully with parameters x=0.30000000000000004, y=40.0. Output saved as 'output_notebook_x0.30_y40.00.ipynb'.\n"
     ]
    },
    {
     "data": {
      "application/vnd.jupyter.widget-view+json": {
       "model_id": "0d3caebd756e40f481a22cdf489be62a",
       "version_major": 2,
       "version_minor": 0
      },
      "text/plain": [
       "Executing:   0%|          | 0/10 [00:00<?, ?cell/s]"
      ]
     },
     "metadata": {},
     "output_type": "display_data"
    },
    {
     "name": "stderr",
     "output_type": "stream",
     "text": [
      "This version of python seems to be incorrectly compiled\n",
      "(internal generated filenames are not absolute).\n",
      "This may make the debugger miss breakpoints.\n",
      "Related bug: http://bugs.python.org/issue1666807\n"
     ]
    },
    {
     "name": "stdout",
     "output_type": "stream",
     "text": [
      "Notebook executed successfully with parameters x=0.30000000000000004, y=50.0. Output saved as 'output_notebook_x0.30_y50.00.ipynb'.\n"
     ]
    },
    {
     "data": {
      "application/vnd.jupyter.widget-view+json": {
       "model_id": "9a88ea337a974d17aed00fbb68df6d29",
       "version_major": 2,
       "version_minor": 0
      },
      "text/plain": [
       "Executing:   0%|          | 0/10 [00:00<?, ?cell/s]"
      ]
     },
     "metadata": {},
     "output_type": "display_data"
    },
    {
     "name": "stderr",
     "output_type": "stream",
     "text": [
      "This version of python seems to be incorrectly compiled\n",
      "(internal generated filenames are not absolute).\n",
      "This may make the debugger miss breakpoints.\n",
      "Related bug: http://bugs.python.org/issue1666807\n"
     ]
    },
    {
     "name": "stdout",
     "output_type": "stream",
     "text": [
      "Notebook executed successfully with parameters x=0.30000000000000004, y=60.0. Output saved as 'output_notebook_x0.30_y60.00.ipynb'.\n"
     ]
    },
    {
     "data": {
      "application/vnd.jupyter.widget-view+json": {
       "model_id": "8318fec88f454b5ea8f2d89686b5a381",
       "version_major": 2,
       "version_minor": 0
      },
      "text/plain": [
       "Executing:   0%|          | 0/10 [00:00<?, ?cell/s]"
      ]
     },
     "metadata": {},
     "output_type": "display_data"
    },
    {
     "name": "stderr",
     "output_type": "stream",
     "text": [
      "This version of python seems to be incorrectly compiled\n",
      "(internal generated filenames are not absolute).\n",
      "This may make the debugger miss breakpoints.\n",
      "Related bug: http://bugs.python.org/issue1666807\n"
     ]
    },
    {
     "name": "stdout",
     "output_type": "stream",
     "text": [
      "Notebook executed successfully with parameters x=0.30000000000000004, y=70.0. Output saved as 'output_notebook_x0.30_y70.00.ipynb'.\n"
     ]
    },
    {
     "data": {
      "application/vnd.jupyter.widget-view+json": {
       "model_id": "9eba2bd1a8f84be983fae8a3f1d28a49",
       "version_major": 2,
       "version_minor": 0
      },
      "text/plain": [
       "Executing:   0%|          | 0/10 [00:00<?, ?cell/s]"
      ]
     },
     "metadata": {},
     "output_type": "display_data"
    },
    {
     "name": "stderr",
     "output_type": "stream",
     "text": [
      "This version of python seems to be incorrectly compiled\n",
      "(internal generated filenames are not absolute).\n",
      "This may make the debugger miss breakpoints.\n",
      "Related bug: http://bugs.python.org/issue1666807\n"
     ]
    },
    {
     "name": "stdout",
     "output_type": "stream",
     "text": [
      "Notebook executed successfully with parameters x=0.30000000000000004, y=80.0. Output saved as 'output_notebook_x0.30_y80.00.ipynb'.\n"
     ]
    },
    {
     "data": {
      "application/vnd.jupyter.widget-view+json": {
       "model_id": "59e72be75468410a83fca8fba835e0aa",
       "version_major": 2,
       "version_minor": 0
      },
      "text/plain": [
       "Executing:   0%|          | 0/10 [00:00<?, ?cell/s]"
      ]
     },
     "metadata": {},
     "output_type": "display_data"
    },
    {
     "name": "stderr",
     "output_type": "stream",
     "text": [
      "This version of python seems to be incorrectly compiled\n",
      "(internal generated filenames are not absolute).\n",
      "This may make the debugger miss breakpoints.\n",
      "Related bug: http://bugs.python.org/issue1666807\n"
     ]
    },
    {
     "name": "stdout",
     "output_type": "stream",
     "text": [
      "Notebook executed successfully with parameters x=0.30000000000000004, y=90.0. Output saved as 'output_notebook_x0.30_y90.00.ipynb'.\n"
     ]
    },
    {
     "data": {
      "application/vnd.jupyter.widget-view+json": {
       "model_id": "cbe08a99ef134cb2aa612a2fedb363fb",
       "version_major": 2,
       "version_minor": 0
      },
      "text/plain": [
       "Executing:   0%|          | 0/10 [00:00<?, ?cell/s]"
      ]
     },
     "metadata": {},
     "output_type": "display_data"
    },
    {
     "name": "stderr",
     "output_type": "stream",
     "text": [
      "This version of python seems to be incorrectly compiled\n",
      "(internal generated filenames are not absolute).\n",
      "This may make the debugger miss breakpoints.\n",
      "Related bug: http://bugs.python.org/issue1666807\n"
     ]
    },
    {
     "name": "stdout",
     "output_type": "stream",
     "text": [
      "Notebook executed successfully with parameters x=0.4, y=0.0. Output saved as 'output_notebook_x0.40_y0.00.ipynb'.\n"
     ]
    },
    {
     "data": {
      "application/vnd.jupyter.widget-view+json": {
       "model_id": "0c18ca37a88a48febbe3e739b01c22f9",
       "version_major": 2,
       "version_minor": 0
      },
      "text/plain": [
       "Executing:   0%|          | 0/10 [00:00<?, ?cell/s]"
      ]
     },
     "metadata": {},
     "output_type": "display_data"
    },
    {
     "name": "stderr",
     "output_type": "stream",
     "text": [
      "This version of python seems to be incorrectly compiled\n",
      "(internal generated filenames are not absolute).\n",
      "This may make the debugger miss breakpoints.\n",
      "Related bug: http://bugs.python.org/issue1666807\n"
     ]
    },
    {
     "name": "stdout",
     "output_type": "stream",
     "text": [
      "Notebook executed successfully with parameters x=0.4, y=10.0. Output saved as 'output_notebook_x0.40_y10.00.ipynb'.\n"
     ]
    },
    {
     "data": {
      "application/vnd.jupyter.widget-view+json": {
       "model_id": "1054694e39ca49b58a7d545372f83850",
       "version_major": 2,
       "version_minor": 0
      },
      "text/plain": [
       "Executing:   0%|          | 0/10 [00:00<?, ?cell/s]"
      ]
     },
     "metadata": {},
     "output_type": "display_data"
    },
    {
     "name": "stderr",
     "output_type": "stream",
     "text": [
      "This version of python seems to be incorrectly compiled\n",
      "(internal generated filenames are not absolute).\n",
      "This may make the debugger miss breakpoints.\n",
      "Related bug: http://bugs.python.org/issue1666807\n"
     ]
    },
    {
     "name": "stdout",
     "output_type": "stream",
     "text": [
      "Notebook executed successfully with parameters x=0.4, y=20.0. Output saved as 'output_notebook_x0.40_y20.00.ipynb'.\n"
     ]
    },
    {
     "data": {
      "application/vnd.jupyter.widget-view+json": {
       "model_id": "a2db61f5974c4c729ca4a410b1dc024e",
       "version_major": 2,
       "version_minor": 0
      },
      "text/plain": [
       "Executing:   0%|          | 0/10 [00:00<?, ?cell/s]"
      ]
     },
     "metadata": {},
     "output_type": "display_data"
    },
    {
     "name": "stderr",
     "output_type": "stream",
     "text": [
      "This version of python seems to be incorrectly compiled\n",
      "(internal generated filenames are not absolute).\n",
      "This may make the debugger miss breakpoints.\n",
      "Related bug: http://bugs.python.org/issue1666807\n"
     ]
    },
    {
     "name": "stdout",
     "output_type": "stream",
     "text": [
      "Notebook executed successfully with parameters x=0.4, y=30.0. Output saved as 'output_notebook_x0.40_y30.00.ipynb'.\n"
     ]
    },
    {
     "data": {
      "application/vnd.jupyter.widget-view+json": {
       "model_id": "8c03e63742e14234b6bdf226dd2b046b",
       "version_major": 2,
       "version_minor": 0
      },
      "text/plain": [
       "Executing:   0%|          | 0/10 [00:00<?, ?cell/s]"
      ]
     },
     "metadata": {},
     "output_type": "display_data"
    },
    {
     "name": "stderr",
     "output_type": "stream",
     "text": [
      "This version of python seems to be incorrectly compiled\n",
      "(internal generated filenames are not absolute).\n",
      "This may make the debugger miss breakpoints.\n",
      "Related bug: http://bugs.python.org/issue1666807\n"
     ]
    },
    {
     "name": "stdout",
     "output_type": "stream",
     "text": [
      "Notebook executed successfully with parameters x=0.4, y=40.0. Output saved as 'output_notebook_x0.40_y40.00.ipynb'.\n"
     ]
    },
    {
     "data": {
      "application/vnd.jupyter.widget-view+json": {
       "model_id": "d290b7e70f7243baa2a97e33f38cdc12",
       "version_major": 2,
       "version_minor": 0
      },
      "text/plain": [
       "Executing:   0%|          | 0/10 [00:00<?, ?cell/s]"
      ]
     },
     "metadata": {},
     "output_type": "display_data"
    },
    {
     "name": "stderr",
     "output_type": "stream",
     "text": [
      "This version of python seems to be incorrectly compiled\n",
      "(internal generated filenames are not absolute).\n",
      "This may make the debugger miss breakpoints.\n",
      "Related bug: http://bugs.python.org/issue1666807\n"
     ]
    },
    {
     "name": "stdout",
     "output_type": "stream",
     "text": [
      "Notebook executed successfully with parameters x=0.4, y=50.0. Output saved as 'output_notebook_x0.40_y50.00.ipynb'.\n"
     ]
    },
    {
     "data": {
      "application/vnd.jupyter.widget-view+json": {
       "model_id": "d245c305be8c43a0ac4e1551ad118934",
       "version_major": 2,
       "version_minor": 0
      },
      "text/plain": [
       "Executing:   0%|          | 0/10 [00:00<?, ?cell/s]"
      ]
     },
     "metadata": {},
     "output_type": "display_data"
    },
    {
     "name": "stderr",
     "output_type": "stream",
     "text": [
      "This version of python seems to be incorrectly compiled\n",
      "(internal generated filenames are not absolute).\n",
      "This may make the debugger miss breakpoints.\n",
      "Related bug: http://bugs.python.org/issue1666807\n"
     ]
    },
    {
     "name": "stdout",
     "output_type": "stream",
     "text": [
      "Notebook executed successfully with parameters x=0.4, y=60.0. Output saved as 'output_notebook_x0.40_y60.00.ipynb'.\n"
     ]
    },
    {
     "data": {
      "application/vnd.jupyter.widget-view+json": {
       "model_id": "1f027ba1e60c45a59cc70c1965586b02",
       "version_major": 2,
       "version_minor": 0
      },
      "text/plain": [
       "Executing:   0%|          | 0/10 [00:00<?, ?cell/s]"
      ]
     },
     "metadata": {},
     "output_type": "display_data"
    },
    {
     "name": "stderr",
     "output_type": "stream",
     "text": [
      "This version of python seems to be incorrectly compiled\n",
      "(internal generated filenames are not absolute).\n",
      "This may make the debugger miss breakpoints.\n",
      "Related bug: http://bugs.python.org/issue1666807\n"
     ]
    },
    {
     "name": "stdout",
     "output_type": "stream",
     "text": [
      "Notebook executed successfully with parameters x=0.4, y=70.0. Output saved as 'output_notebook_x0.40_y70.00.ipynb'.\n"
     ]
    },
    {
     "data": {
      "application/vnd.jupyter.widget-view+json": {
       "model_id": "115f2961f77d49e7b3a198bf1a140541",
       "version_major": 2,
       "version_minor": 0
      },
      "text/plain": [
       "Executing:   0%|          | 0/10 [00:00<?, ?cell/s]"
      ]
     },
     "metadata": {},
     "output_type": "display_data"
    },
    {
     "name": "stderr",
     "output_type": "stream",
     "text": [
      "This version of python seems to be incorrectly compiled\n",
      "(internal generated filenames are not absolute).\n",
      "This may make the debugger miss breakpoints.\n",
      "Related bug: http://bugs.python.org/issue1666807\n"
     ]
    },
    {
     "name": "stdout",
     "output_type": "stream",
     "text": [
      "Notebook executed successfully with parameters x=0.4, y=80.0. Output saved as 'output_notebook_x0.40_y80.00.ipynb'.\n"
     ]
    },
    {
     "data": {
      "application/vnd.jupyter.widget-view+json": {
       "model_id": "587e5f8c0d6449d58e0a9860b8a89095",
       "version_major": 2,
       "version_minor": 0
      },
      "text/plain": [
       "Executing:   0%|          | 0/10 [00:00<?, ?cell/s]"
      ]
     },
     "metadata": {},
     "output_type": "display_data"
    },
    {
     "name": "stderr",
     "output_type": "stream",
     "text": [
      "This version of python seems to be incorrectly compiled\n",
      "(internal generated filenames are not absolute).\n",
      "This may make the debugger miss breakpoints.\n",
      "Related bug: http://bugs.python.org/issue1666807\n"
     ]
    },
    {
     "name": "stdout",
     "output_type": "stream",
     "text": [
      "Notebook executed successfully with parameters x=0.4, y=90.0. Output saved as 'output_notebook_x0.40_y90.00.ipynb'.\n"
     ]
    },
    {
     "data": {
      "application/vnd.jupyter.widget-view+json": {
       "model_id": "20fc287b0caf4687930b5ee57482dc8e",
       "version_major": 2,
       "version_minor": 0
      },
      "text/plain": [
       "Executing:   0%|          | 0/10 [00:00<?, ?cell/s]"
      ]
     },
     "metadata": {},
     "output_type": "display_data"
    },
    {
     "name": "stderr",
     "output_type": "stream",
     "text": [
      "This version of python seems to be incorrectly compiled\n",
      "(internal generated filenames are not absolute).\n",
      "This may make the debugger miss breakpoints.\n",
      "Related bug: http://bugs.python.org/issue1666807\n"
     ]
    },
    {
     "name": "stdout",
     "output_type": "stream",
     "text": [
      "Notebook executed successfully with parameters x=0.5, y=0.0. Output saved as 'output_notebook_x0.50_y0.00.ipynb'.\n"
     ]
    },
    {
     "data": {
      "application/vnd.jupyter.widget-view+json": {
       "model_id": "8b28fd58189f431db4b5abbb7ea9030e",
       "version_major": 2,
       "version_minor": 0
      },
      "text/plain": [
       "Executing:   0%|          | 0/10 [00:00<?, ?cell/s]"
      ]
     },
     "metadata": {},
     "output_type": "display_data"
    },
    {
     "name": "stderr",
     "output_type": "stream",
     "text": [
      "This version of python seems to be incorrectly compiled\n",
      "(internal generated filenames are not absolute).\n",
      "This may make the debugger miss breakpoints.\n",
      "Related bug: http://bugs.python.org/issue1666807\n"
     ]
    },
    {
     "name": "stdout",
     "output_type": "stream",
     "text": [
      "Notebook executed successfully with parameters x=0.5, y=10.0. Output saved as 'output_notebook_x0.50_y10.00.ipynb'.\n"
     ]
    },
    {
     "data": {
      "application/vnd.jupyter.widget-view+json": {
       "model_id": "9046687020864c4eab2217051be24662",
       "version_major": 2,
       "version_minor": 0
      },
      "text/plain": [
       "Executing:   0%|          | 0/10 [00:00<?, ?cell/s]"
      ]
     },
     "metadata": {},
     "output_type": "display_data"
    },
    {
     "name": "stderr",
     "output_type": "stream",
     "text": [
      "This version of python seems to be incorrectly compiled\n",
      "(internal generated filenames are not absolute).\n",
      "This may make the debugger miss breakpoints.\n",
      "Related bug: http://bugs.python.org/issue1666807\n"
     ]
    },
    {
     "name": "stdout",
     "output_type": "stream",
     "text": [
      "Notebook executed successfully with parameters x=0.5, y=20.0. Output saved as 'output_notebook_x0.50_y20.00.ipynb'.\n"
     ]
    },
    {
     "data": {
      "application/vnd.jupyter.widget-view+json": {
       "model_id": "09dcc3ae2dca48c7a7cfc0aa9ab56821",
       "version_major": 2,
       "version_minor": 0
      },
      "text/plain": [
       "Executing:   0%|          | 0/10 [00:00<?, ?cell/s]"
      ]
     },
     "metadata": {},
     "output_type": "display_data"
    },
    {
     "name": "stderr",
     "output_type": "stream",
     "text": [
      "This version of python seems to be incorrectly compiled\n",
      "(internal generated filenames are not absolute).\n",
      "This may make the debugger miss breakpoints.\n",
      "Related bug: http://bugs.python.org/issue1666807\n"
     ]
    },
    {
     "name": "stdout",
     "output_type": "stream",
     "text": [
      "Notebook executed successfully with parameters x=0.5, y=30.0. Output saved as 'output_notebook_x0.50_y30.00.ipynb'.\n"
     ]
    },
    {
     "data": {
      "application/vnd.jupyter.widget-view+json": {
       "model_id": "3fc4f6211cb14e0ebc42954664c3581d",
       "version_major": 2,
       "version_minor": 0
      },
      "text/plain": [
       "Executing:   0%|          | 0/10 [00:00<?, ?cell/s]"
      ]
     },
     "metadata": {},
     "output_type": "display_data"
    },
    {
     "name": "stderr",
     "output_type": "stream",
     "text": [
      "This version of python seems to be incorrectly compiled\n",
      "(internal generated filenames are not absolute).\n",
      "This may make the debugger miss breakpoints.\n",
      "Related bug: http://bugs.python.org/issue1666807\n"
     ]
    },
    {
     "name": "stdout",
     "output_type": "stream",
     "text": [
      "Notebook executed successfully with parameters x=0.5, y=40.0. Output saved as 'output_notebook_x0.50_y40.00.ipynb'.\n"
     ]
    },
    {
     "data": {
      "application/vnd.jupyter.widget-view+json": {
       "model_id": "a7557a87b5874dd19551ae9b28d6ac70",
       "version_major": 2,
       "version_minor": 0
      },
      "text/plain": [
       "Executing:   0%|          | 0/10 [00:00<?, ?cell/s]"
      ]
     },
     "metadata": {},
     "output_type": "display_data"
    },
    {
     "name": "stderr",
     "output_type": "stream",
     "text": [
      "This version of python seems to be incorrectly compiled\n",
      "(internal generated filenames are not absolute).\n",
      "This may make the debugger miss breakpoints.\n",
      "Related bug: http://bugs.python.org/issue1666807\n"
     ]
    },
    {
     "name": "stdout",
     "output_type": "stream",
     "text": [
      "Notebook executed successfully with parameters x=0.5, y=50.0. Output saved as 'output_notebook_x0.50_y50.00.ipynb'.\n"
     ]
    },
    {
     "data": {
      "application/vnd.jupyter.widget-view+json": {
       "model_id": "5119e74d07c347aaac217d98903ab818",
       "version_major": 2,
       "version_minor": 0
      },
      "text/plain": [
       "Executing:   0%|          | 0/10 [00:00<?, ?cell/s]"
      ]
     },
     "metadata": {},
     "output_type": "display_data"
    },
    {
     "name": "stderr",
     "output_type": "stream",
     "text": [
      "This version of python seems to be incorrectly compiled\n",
      "(internal generated filenames are not absolute).\n",
      "This may make the debugger miss breakpoints.\n",
      "Related bug: http://bugs.python.org/issue1666807\n"
     ]
    },
    {
     "name": "stdout",
     "output_type": "stream",
     "text": [
      "Notebook executed successfully with parameters x=0.5, y=60.0. Output saved as 'output_notebook_x0.50_y60.00.ipynb'.\n"
     ]
    },
    {
     "data": {
      "application/vnd.jupyter.widget-view+json": {
       "model_id": "6f085966161846d9b6108f34742494cf",
       "version_major": 2,
       "version_minor": 0
      },
      "text/plain": [
       "Executing:   0%|          | 0/10 [00:00<?, ?cell/s]"
      ]
     },
     "metadata": {},
     "output_type": "display_data"
    },
    {
     "name": "stderr",
     "output_type": "stream",
     "text": [
      "This version of python seems to be incorrectly compiled\n",
      "(internal generated filenames are not absolute).\n",
      "This may make the debugger miss breakpoints.\n",
      "Related bug: http://bugs.python.org/issue1666807\n"
     ]
    },
    {
     "name": "stdout",
     "output_type": "stream",
     "text": [
      "Notebook executed successfully with parameters x=0.5, y=70.0. Output saved as 'output_notebook_x0.50_y70.00.ipynb'.\n"
     ]
    },
    {
     "data": {
      "application/vnd.jupyter.widget-view+json": {
       "model_id": "84238358277f4006b3eb11b60d401db1",
       "version_major": 2,
       "version_minor": 0
      },
      "text/plain": [
       "Executing:   0%|          | 0/10 [00:00<?, ?cell/s]"
      ]
     },
     "metadata": {},
     "output_type": "display_data"
    },
    {
     "name": "stderr",
     "output_type": "stream",
     "text": [
      "This version of python seems to be incorrectly compiled\n",
      "(internal generated filenames are not absolute).\n",
      "This may make the debugger miss breakpoints.\n",
      "Related bug: http://bugs.python.org/issue1666807\n"
     ]
    },
    {
     "name": "stdout",
     "output_type": "stream",
     "text": [
      "Notebook executed successfully with parameters x=0.5, y=80.0. Output saved as 'output_notebook_x0.50_y80.00.ipynb'.\n"
     ]
    },
    {
     "data": {
      "application/vnd.jupyter.widget-view+json": {
       "model_id": "33f880ec9b6f4c1ea6ab4f7009cc0b76",
       "version_major": 2,
       "version_minor": 0
      },
      "text/plain": [
       "Executing:   0%|          | 0/10 [00:00<?, ?cell/s]"
      ]
     },
     "metadata": {},
     "output_type": "display_data"
    },
    {
     "name": "stderr",
     "output_type": "stream",
     "text": [
      "This version of python seems to be incorrectly compiled\n",
      "(internal generated filenames are not absolute).\n",
      "This may make the debugger miss breakpoints.\n",
      "Related bug: http://bugs.python.org/issue1666807\n"
     ]
    },
    {
     "name": "stdout",
     "output_type": "stream",
     "text": [
      "Notebook executed successfully with parameters x=0.5, y=90.0. Output saved as 'output_notebook_x0.50_y90.00.ipynb'.\n"
     ]
    },
    {
     "data": {
      "application/vnd.jupyter.widget-view+json": {
       "model_id": "8caf648983c2487b8eec52b644b2247f",
       "version_major": 2,
       "version_minor": 0
      },
      "text/plain": [
       "Executing:   0%|          | 0/10 [00:00<?, ?cell/s]"
      ]
     },
     "metadata": {},
     "output_type": "display_data"
    },
    {
     "name": "stderr",
     "output_type": "stream",
     "text": [
      "This version of python seems to be incorrectly compiled\n",
      "(internal generated filenames are not absolute).\n",
      "This may make the debugger miss breakpoints.\n",
      "Related bug: http://bugs.python.org/issue1666807\n"
     ]
    },
    {
     "name": "stdout",
     "output_type": "stream",
     "text": [
      "Notebook executed successfully with parameters x=0.6000000000000001, y=0.0. Output saved as 'output_notebook_x0.60_y0.00.ipynb'.\n"
     ]
    },
    {
     "data": {
      "application/vnd.jupyter.widget-view+json": {
       "model_id": "f5e20e40531c4d598e608a261b08ab7d",
       "version_major": 2,
       "version_minor": 0
      },
      "text/plain": [
       "Executing:   0%|          | 0/10 [00:00<?, ?cell/s]"
      ]
     },
     "metadata": {},
     "output_type": "display_data"
    },
    {
     "name": "stderr",
     "output_type": "stream",
     "text": [
      "This version of python seems to be incorrectly compiled\n",
      "(internal generated filenames are not absolute).\n",
      "This may make the debugger miss breakpoints.\n",
      "Related bug: http://bugs.python.org/issue1666807\n"
     ]
    },
    {
     "name": "stdout",
     "output_type": "stream",
     "text": [
      "Notebook executed successfully with parameters x=0.6000000000000001, y=10.0. Output saved as 'output_notebook_x0.60_y10.00.ipynb'.\n"
     ]
    },
    {
     "data": {
      "application/vnd.jupyter.widget-view+json": {
       "model_id": "92539ee3f873496f898732ef5b59c24b",
       "version_major": 2,
       "version_minor": 0
      },
      "text/plain": [
       "Executing:   0%|          | 0/10 [00:00<?, ?cell/s]"
      ]
     },
     "metadata": {},
     "output_type": "display_data"
    },
    {
     "name": "stderr",
     "output_type": "stream",
     "text": [
      "This version of python seems to be incorrectly compiled\n",
      "(internal generated filenames are not absolute).\n",
      "This may make the debugger miss breakpoints.\n",
      "Related bug: http://bugs.python.org/issue1666807\n"
     ]
    },
    {
     "name": "stdout",
     "output_type": "stream",
     "text": [
      "Notebook executed successfully with parameters x=0.6000000000000001, y=20.0. Output saved as 'output_notebook_x0.60_y20.00.ipynb'.\n"
     ]
    },
    {
     "data": {
      "application/vnd.jupyter.widget-view+json": {
       "model_id": "60e32994b6384e06ae765efce13e6be8",
       "version_major": 2,
       "version_minor": 0
      },
      "text/plain": [
       "Executing:   0%|          | 0/10 [00:00<?, ?cell/s]"
      ]
     },
     "metadata": {},
     "output_type": "display_data"
    },
    {
     "name": "stderr",
     "output_type": "stream",
     "text": [
      "This version of python seems to be incorrectly compiled\n",
      "(internal generated filenames are not absolute).\n",
      "This may make the debugger miss breakpoints.\n",
      "Related bug: http://bugs.python.org/issue1666807\n"
     ]
    },
    {
     "name": "stdout",
     "output_type": "stream",
     "text": [
      "Notebook executed successfully with parameters x=0.6000000000000001, y=30.0. Output saved as 'output_notebook_x0.60_y30.00.ipynb'.\n"
     ]
    },
    {
     "data": {
      "application/vnd.jupyter.widget-view+json": {
       "model_id": "12d67d5636cc44908e4ec419abea1bf1",
       "version_major": 2,
       "version_minor": 0
      },
      "text/plain": [
       "Executing:   0%|          | 0/10 [00:00<?, ?cell/s]"
      ]
     },
     "metadata": {},
     "output_type": "display_data"
    },
    {
     "name": "stderr",
     "output_type": "stream",
     "text": [
      "This version of python seems to be incorrectly compiled\n",
      "(internal generated filenames are not absolute).\n",
      "This may make the debugger miss breakpoints.\n",
      "Related bug: http://bugs.python.org/issue1666807\n"
     ]
    },
    {
     "name": "stdout",
     "output_type": "stream",
     "text": [
      "Notebook executed successfully with parameters x=0.6000000000000001, y=40.0. Output saved as 'output_notebook_x0.60_y40.00.ipynb'.\n"
     ]
    },
    {
     "data": {
      "application/vnd.jupyter.widget-view+json": {
       "model_id": "95a83c0c3d924172a24f12c83d98e442",
       "version_major": 2,
       "version_minor": 0
      },
      "text/plain": [
       "Executing:   0%|          | 0/10 [00:00<?, ?cell/s]"
      ]
     },
     "metadata": {},
     "output_type": "display_data"
    },
    {
     "name": "stderr",
     "output_type": "stream",
     "text": [
      "This version of python seems to be incorrectly compiled\n",
      "(internal generated filenames are not absolute).\n",
      "This may make the debugger miss breakpoints.\n",
      "Related bug: http://bugs.python.org/issue1666807\n"
     ]
    },
    {
     "name": "stdout",
     "output_type": "stream",
     "text": [
      "Notebook executed successfully with parameters x=0.6000000000000001, y=50.0. Output saved as 'output_notebook_x0.60_y50.00.ipynb'.\n"
     ]
    },
    {
     "data": {
      "application/vnd.jupyter.widget-view+json": {
       "model_id": "40e20a9719724bb8aaaa63183d9641f8",
       "version_major": 2,
       "version_minor": 0
      },
      "text/plain": [
       "Executing:   0%|          | 0/10 [00:00<?, ?cell/s]"
      ]
     },
     "metadata": {},
     "output_type": "display_data"
    },
    {
     "name": "stderr",
     "output_type": "stream",
     "text": [
      "This version of python seems to be incorrectly compiled\n",
      "(internal generated filenames are not absolute).\n",
      "This may make the debugger miss breakpoints.\n",
      "Related bug: http://bugs.python.org/issue1666807\n"
     ]
    },
    {
     "name": "stdout",
     "output_type": "stream",
     "text": [
      "Notebook executed successfully with parameters x=0.6000000000000001, y=60.0. Output saved as 'output_notebook_x0.60_y60.00.ipynb'.\n"
     ]
    },
    {
     "data": {
      "application/vnd.jupyter.widget-view+json": {
       "model_id": "4df3d91440f146daa30ee0f63f0433f0",
       "version_major": 2,
       "version_minor": 0
      },
      "text/plain": [
       "Executing:   0%|          | 0/10 [00:00<?, ?cell/s]"
      ]
     },
     "metadata": {},
     "output_type": "display_data"
    },
    {
     "name": "stderr",
     "output_type": "stream",
     "text": [
      "This version of python seems to be incorrectly compiled\n",
      "(internal generated filenames are not absolute).\n",
      "This may make the debugger miss breakpoints.\n",
      "Related bug: http://bugs.python.org/issue1666807\n"
     ]
    },
    {
     "name": "stdout",
     "output_type": "stream",
     "text": [
      "Notebook executed successfully with parameters x=0.6000000000000001, y=70.0. Output saved as 'output_notebook_x0.60_y70.00.ipynb'.\n"
     ]
    },
    {
     "data": {
      "application/vnd.jupyter.widget-view+json": {
       "model_id": "f6715012ac0e4e7e981b06a72f8ddad9",
       "version_major": 2,
       "version_minor": 0
      },
      "text/plain": [
       "Executing:   0%|          | 0/10 [00:00<?, ?cell/s]"
      ]
     },
     "metadata": {},
     "output_type": "display_data"
    },
    {
     "name": "stderr",
     "output_type": "stream",
     "text": [
      "This version of python seems to be incorrectly compiled\n",
      "(internal generated filenames are not absolute).\n",
      "This may make the debugger miss breakpoints.\n",
      "Related bug: http://bugs.python.org/issue1666807\n"
     ]
    },
    {
     "name": "stdout",
     "output_type": "stream",
     "text": [
      "Notebook executed successfully with parameters x=0.6000000000000001, y=80.0. Output saved as 'output_notebook_x0.60_y80.00.ipynb'.\n"
     ]
    },
    {
     "data": {
      "application/vnd.jupyter.widget-view+json": {
       "model_id": "fe7b447957b04ce09fcbf2f82ab04832",
       "version_major": 2,
       "version_minor": 0
      },
      "text/plain": [
       "Executing:   0%|          | 0/10 [00:00<?, ?cell/s]"
      ]
     },
     "metadata": {},
     "output_type": "display_data"
    },
    {
     "name": "stderr",
     "output_type": "stream",
     "text": [
      "This version of python seems to be incorrectly compiled\n",
      "(internal generated filenames are not absolute).\n",
      "This may make the debugger miss breakpoints.\n",
      "Related bug: http://bugs.python.org/issue1666807\n"
     ]
    },
    {
     "name": "stdout",
     "output_type": "stream",
     "text": [
      "Notebook executed successfully with parameters x=0.6000000000000001, y=90.0. Output saved as 'output_notebook_x0.60_y90.00.ipynb'.\n"
     ]
    },
    {
     "data": {
      "application/vnd.jupyter.widget-view+json": {
       "model_id": "6f2aa44bb948447d9cdb1612e2da5c3d",
       "version_major": 2,
       "version_minor": 0
      },
      "text/plain": [
       "Executing:   0%|          | 0/10 [00:00<?, ?cell/s]"
      ]
     },
     "metadata": {},
     "output_type": "display_data"
    },
    {
     "name": "stderr",
     "output_type": "stream",
     "text": [
      "This version of python seems to be incorrectly compiled\n",
      "(internal generated filenames are not absolute).\n",
      "This may make the debugger miss breakpoints.\n",
      "Related bug: http://bugs.python.org/issue1666807\n"
     ]
    },
    {
     "name": "stdout",
     "output_type": "stream",
     "text": [
      "Notebook executed successfully with parameters x=0.7000000000000001, y=0.0. Output saved as 'output_notebook_x0.70_y0.00.ipynb'.\n"
     ]
    },
    {
     "data": {
      "application/vnd.jupyter.widget-view+json": {
       "model_id": "3e6da116ca9a4719b4716cbeedc8b5b3",
       "version_major": 2,
       "version_minor": 0
      },
      "text/plain": [
       "Executing:   0%|          | 0/10 [00:00<?, ?cell/s]"
      ]
     },
     "metadata": {},
     "output_type": "display_data"
    },
    {
     "name": "stderr",
     "output_type": "stream",
     "text": [
      "This version of python seems to be incorrectly compiled\n",
      "(internal generated filenames are not absolute).\n",
      "This may make the debugger miss breakpoints.\n",
      "Related bug: http://bugs.python.org/issue1666807\n"
     ]
    },
    {
     "name": "stdout",
     "output_type": "stream",
     "text": [
      "Notebook executed successfully with parameters x=0.7000000000000001, y=10.0. Output saved as 'output_notebook_x0.70_y10.00.ipynb'.\n"
     ]
    },
    {
     "data": {
      "application/vnd.jupyter.widget-view+json": {
       "model_id": "777e670d8fca4574934d4b9471e809d9",
       "version_major": 2,
       "version_minor": 0
      },
      "text/plain": [
       "Executing:   0%|          | 0/10 [00:00<?, ?cell/s]"
      ]
     },
     "metadata": {},
     "output_type": "display_data"
    },
    {
     "name": "stderr",
     "output_type": "stream",
     "text": [
      "This version of python seems to be incorrectly compiled\n",
      "(internal generated filenames are not absolute).\n",
      "This may make the debugger miss breakpoints.\n",
      "Related bug: http://bugs.python.org/issue1666807\n"
     ]
    },
    {
     "name": "stdout",
     "output_type": "stream",
     "text": [
      "Notebook executed successfully with parameters x=0.7000000000000001, y=20.0. Output saved as 'output_notebook_x0.70_y20.00.ipynb'.\n"
     ]
    },
    {
     "data": {
      "application/vnd.jupyter.widget-view+json": {
       "model_id": "d370397cc4294be2b3a4c187a9a89716",
       "version_major": 2,
       "version_minor": 0
      },
      "text/plain": [
       "Executing:   0%|          | 0/10 [00:00<?, ?cell/s]"
      ]
     },
     "metadata": {},
     "output_type": "display_data"
    },
    {
     "name": "stderr",
     "output_type": "stream",
     "text": [
      "This version of python seems to be incorrectly compiled\n",
      "(internal generated filenames are not absolute).\n",
      "This may make the debugger miss breakpoints.\n",
      "Related bug: http://bugs.python.org/issue1666807\n"
     ]
    },
    {
     "name": "stdout",
     "output_type": "stream",
     "text": [
      "Notebook executed successfully with parameters x=0.7000000000000001, y=30.0. Output saved as 'output_notebook_x0.70_y30.00.ipynb'.\n"
     ]
    },
    {
     "data": {
      "application/vnd.jupyter.widget-view+json": {
       "model_id": "9558c00ad8ca49428a83fe66544d319a",
       "version_major": 2,
       "version_minor": 0
      },
      "text/plain": [
       "Executing:   0%|          | 0/10 [00:00<?, ?cell/s]"
      ]
     },
     "metadata": {},
     "output_type": "display_data"
    },
    {
     "name": "stderr",
     "output_type": "stream",
     "text": [
      "This version of python seems to be incorrectly compiled\n",
      "(internal generated filenames are not absolute).\n",
      "This may make the debugger miss breakpoints.\n",
      "Related bug: http://bugs.python.org/issue1666807\n"
     ]
    },
    {
     "name": "stdout",
     "output_type": "stream",
     "text": [
      "Notebook executed successfully with parameters x=0.7000000000000001, y=40.0. Output saved as 'output_notebook_x0.70_y40.00.ipynb'.\n"
     ]
    },
    {
     "data": {
      "application/vnd.jupyter.widget-view+json": {
       "model_id": "87c6f96e07754d4fa9fece247e1a8437",
       "version_major": 2,
       "version_minor": 0
      },
      "text/plain": [
       "Executing:   0%|          | 0/10 [00:00<?, ?cell/s]"
      ]
     },
     "metadata": {},
     "output_type": "display_data"
    },
    {
     "name": "stderr",
     "output_type": "stream",
     "text": [
      "This version of python seems to be incorrectly compiled\n",
      "(internal generated filenames are not absolute).\n",
      "This may make the debugger miss breakpoints.\n",
      "Related bug: http://bugs.python.org/issue1666807\n"
     ]
    },
    {
     "name": "stdout",
     "output_type": "stream",
     "text": [
      "Notebook executed successfully with parameters x=0.7000000000000001, y=50.0. Output saved as 'output_notebook_x0.70_y50.00.ipynb'.\n"
     ]
    },
    {
     "data": {
      "application/vnd.jupyter.widget-view+json": {
       "model_id": "dc086122b611433f90f624039fac1df9",
       "version_major": 2,
       "version_minor": 0
      },
      "text/plain": [
       "Executing:   0%|          | 0/10 [00:00<?, ?cell/s]"
      ]
     },
     "metadata": {},
     "output_type": "display_data"
    },
    {
     "name": "stderr",
     "output_type": "stream",
     "text": [
      "This version of python seems to be incorrectly compiled\n",
      "(internal generated filenames are not absolute).\n",
      "This may make the debugger miss breakpoints.\n",
      "Related bug: http://bugs.python.org/issue1666807\n"
     ]
    },
    {
     "name": "stdout",
     "output_type": "stream",
     "text": [
      "Notebook executed successfully with parameters x=0.7000000000000001, y=60.0. Output saved as 'output_notebook_x0.70_y60.00.ipynb'.\n"
     ]
    },
    {
     "data": {
      "application/vnd.jupyter.widget-view+json": {
       "model_id": "907064aff6364b8a97f6d095b34beba4",
       "version_major": 2,
       "version_minor": 0
      },
      "text/plain": [
       "Executing:   0%|          | 0/10 [00:00<?, ?cell/s]"
      ]
     },
     "metadata": {},
     "output_type": "display_data"
    },
    {
     "name": "stderr",
     "output_type": "stream",
     "text": [
      "This version of python seems to be incorrectly compiled\n",
      "(internal generated filenames are not absolute).\n",
      "This may make the debugger miss breakpoints.\n",
      "Related bug: http://bugs.python.org/issue1666807\n"
     ]
    },
    {
     "name": "stdout",
     "output_type": "stream",
     "text": [
      "Notebook executed successfully with parameters x=0.7000000000000001, y=70.0. Output saved as 'output_notebook_x0.70_y70.00.ipynb'.\n"
     ]
    },
    {
     "data": {
      "application/vnd.jupyter.widget-view+json": {
       "model_id": "d54007d1df9c4b7d853e1ab403b4eee4",
       "version_major": 2,
       "version_minor": 0
      },
      "text/plain": [
       "Executing:   0%|          | 0/10 [00:00<?, ?cell/s]"
      ]
     },
     "metadata": {},
     "output_type": "display_data"
    },
    {
     "name": "stderr",
     "output_type": "stream",
     "text": [
      "This version of python seems to be incorrectly compiled\n",
      "(internal generated filenames are not absolute).\n",
      "This may make the debugger miss breakpoints.\n",
      "Related bug: http://bugs.python.org/issue1666807\n"
     ]
    },
    {
     "name": "stdout",
     "output_type": "stream",
     "text": [
      "Notebook executed successfully with parameters x=0.7000000000000001, y=80.0. Output saved as 'output_notebook_x0.70_y80.00.ipynb'.\n"
     ]
    },
    {
     "data": {
      "application/vnd.jupyter.widget-view+json": {
       "model_id": "328a8bb150e741808a8374b6727ad0cc",
       "version_major": 2,
       "version_minor": 0
      },
      "text/plain": [
       "Executing:   0%|          | 0/10 [00:00<?, ?cell/s]"
      ]
     },
     "metadata": {},
     "output_type": "display_data"
    },
    {
     "name": "stderr",
     "output_type": "stream",
     "text": [
      "This version of python seems to be incorrectly compiled\n",
      "(internal generated filenames are not absolute).\n",
      "This may make the debugger miss breakpoints.\n",
      "Related bug: http://bugs.python.org/issue1666807\n"
     ]
    },
    {
     "name": "stdout",
     "output_type": "stream",
     "text": [
      "Notebook executed successfully with parameters x=0.7000000000000001, y=90.0. Output saved as 'output_notebook_x0.70_y90.00.ipynb'.\n"
     ]
    },
    {
     "data": {
      "application/vnd.jupyter.widget-view+json": {
       "model_id": "fbed6912105342f1b32c2f036f104789",
       "version_major": 2,
       "version_minor": 0
      },
      "text/plain": [
       "Executing:   0%|          | 0/10 [00:00<?, ?cell/s]"
      ]
     },
     "metadata": {},
     "output_type": "display_data"
    },
    {
     "name": "stderr",
     "output_type": "stream",
     "text": [
      "This version of python seems to be incorrectly compiled\n",
      "(internal generated filenames are not absolute).\n",
      "This may make the debugger miss breakpoints.\n",
      "Related bug: http://bugs.python.org/issue1666807\n"
     ]
    },
    {
     "name": "stdout",
     "output_type": "stream",
     "text": [
      "Notebook executed successfully with parameters x=0.8, y=0.0. Output saved as 'output_notebook_x0.80_y0.00.ipynb'.\n"
     ]
    },
    {
     "data": {
      "application/vnd.jupyter.widget-view+json": {
       "model_id": "b15f62bad9444579b4ed56b51d6502ec",
       "version_major": 2,
       "version_minor": 0
      },
      "text/plain": [
       "Executing:   0%|          | 0/10 [00:00<?, ?cell/s]"
      ]
     },
     "metadata": {},
     "output_type": "display_data"
    },
    {
     "name": "stderr",
     "output_type": "stream",
     "text": [
      "This version of python seems to be incorrectly compiled\n",
      "(internal generated filenames are not absolute).\n",
      "This may make the debugger miss breakpoints.\n",
      "Related bug: http://bugs.python.org/issue1666807\n"
     ]
    },
    {
     "name": "stdout",
     "output_type": "stream",
     "text": [
      "Notebook executed successfully with parameters x=0.8, y=10.0. Output saved as 'output_notebook_x0.80_y10.00.ipynb'.\n"
     ]
    },
    {
     "data": {
      "application/vnd.jupyter.widget-view+json": {
       "model_id": "7c03cea24e384d288835f1937823ad1a",
       "version_major": 2,
       "version_minor": 0
      },
      "text/plain": [
       "Executing:   0%|          | 0/10 [00:00<?, ?cell/s]"
      ]
     },
     "metadata": {},
     "output_type": "display_data"
    },
    {
     "name": "stderr",
     "output_type": "stream",
     "text": [
      "This version of python seems to be incorrectly compiled\n",
      "(internal generated filenames are not absolute).\n",
      "This may make the debugger miss breakpoints.\n",
      "Related bug: http://bugs.python.org/issue1666807\n"
     ]
    },
    {
     "name": "stdout",
     "output_type": "stream",
     "text": [
      "Notebook executed successfully with parameters x=0.8, y=20.0. Output saved as 'output_notebook_x0.80_y20.00.ipynb'.\n"
     ]
    },
    {
     "data": {
      "application/vnd.jupyter.widget-view+json": {
       "model_id": "04a79303d0114f0f9ee2a67c87c1881c",
       "version_major": 2,
       "version_minor": 0
      },
      "text/plain": [
       "Executing:   0%|          | 0/10 [00:00<?, ?cell/s]"
      ]
     },
     "metadata": {},
     "output_type": "display_data"
    },
    {
     "name": "stderr",
     "output_type": "stream",
     "text": [
      "This version of python seems to be incorrectly compiled\n",
      "(internal generated filenames are not absolute).\n",
      "This may make the debugger miss breakpoints.\n",
      "Related bug: http://bugs.python.org/issue1666807\n"
     ]
    },
    {
     "name": "stdout",
     "output_type": "stream",
     "text": [
      "Notebook executed successfully with parameters x=0.8, y=30.0. Output saved as 'output_notebook_x0.80_y30.00.ipynb'.\n"
     ]
    },
    {
     "data": {
      "application/vnd.jupyter.widget-view+json": {
       "model_id": "8a7f5efe50ab4268bed3e2d34baa3bd1",
       "version_major": 2,
       "version_minor": 0
      },
      "text/plain": [
       "Executing:   0%|          | 0/10 [00:00<?, ?cell/s]"
      ]
     },
     "metadata": {},
     "output_type": "display_data"
    },
    {
     "name": "stderr",
     "output_type": "stream",
     "text": [
      "This version of python seems to be incorrectly compiled\n",
      "(internal generated filenames are not absolute).\n",
      "This may make the debugger miss breakpoints.\n",
      "Related bug: http://bugs.python.org/issue1666807\n"
     ]
    },
    {
     "name": "stdout",
     "output_type": "stream",
     "text": [
      "Notebook executed successfully with parameters x=0.8, y=40.0. Output saved as 'output_notebook_x0.80_y40.00.ipynb'.\n"
     ]
    },
    {
     "data": {
      "application/vnd.jupyter.widget-view+json": {
       "model_id": "d050e0f2f64b4ce4b0e82a5c1d9bd2b0",
       "version_major": 2,
       "version_minor": 0
      },
      "text/plain": [
       "Executing:   0%|          | 0/10 [00:00<?, ?cell/s]"
      ]
     },
     "metadata": {},
     "output_type": "display_data"
    },
    {
     "name": "stderr",
     "output_type": "stream",
     "text": [
      "This version of python seems to be incorrectly compiled\n",
      "(internal generated filenames are not absolute).\n",
      "This may make the debugger miss breakpoints.\n",
      "Related bug: http://bugs.python.org/issue1666807\n"
     ]
    },
    {
     "name": "stdout",
     "output_type": "stream",
     "text": [
      "Notebook executed successfully with parameters x=0.8, y=50.0. Output saved as 'output_notebook_x0.80_y50.00.ipynb'.\n"
     ]
    },
    {
     "data": {
      "application/vnd.jupyter.widget-view+json": {
       "model_id": "7152e2d0fb62428591c8e2cda96b5f5b",
       "version_major": 2,
       "version_minor": 0
      },
      "text/plain": [
       "Executing:   0%|          | 0/10 [00:00<?, ?cell/s]"
      ]
     },
     "metadata": {},
     "output_type": "display_data"
    },
    {
     "name": "stderr",
     "output_type": "stream",
     "text": [
      "This version of python seems to be incorrectly compiled\n",
      "(internal generated filenames are not absolute).\n",
      "This may make the debugger miss breakpoints.\n",
      "Related bug: http://bugs.python.org/issue1666807\n"
     ]
    },
    {
     "name": "stdout",
     "output_type": "stream",
     "text": [
      "Notebook executed successfully with parameters x=0.8, y=60.0. Output saved as 'output_notebook_x0.80_y60.00.ipynb'.\n"
     ]
    },
    {
     "data": {
      "application/vnd.jupyter.widget-view+json": {
       "model_id": "9ae279e50534452692a451fb03cebae0",
       "version_major": 2,
       "version_minor": 0
      },
      "text/plain": [
       "Executing:   0%|          | 0/10 [00:00<?, ?cell/s]"
      ]
     },
     "metadata": {},
     "output_type": "display_data"
    },
    {
     "name": "stderr",
     "output_type": "stream",
     "text": [
      "This version of python seems to be incorrectly compiled\n",
      "(internal generated filenames are not absolute).\n",
      "This may make the debugger miss breakpoints.\n",
      "Related bug: http://bugs.python.org/issue1666807\n"
     ]
    },
    {
     "name": "stdout",
     "output_type": "stream",
     "text": [
      "Notebook executed successfully with parameters x=0.8, y=70.0. Output saved as 'output_notebook_x0.80_y70.00.ipynb'.\n"
     ]
    },
    {
     "data": {
      "application/vnd.jupyter.widget-view+json": {
       "model_id": "1cbfad92839949d3b3063301d8ba1346",
       "version_major": 2,
       "version_minor": 0
      },
      "text/plain": [
       "Executing:   0%|          | 0/10 [00:00<?, ?cell/s]"
      ]
     },
     "metadata": {},
     "output_type": "display_data"
    },
    {
     "name": "stderr",
     "output_type": "stream",
     "text": [
      "This version of python seems to be incorrectly compiled\n",
      "(internal generated filenames are not absolute).\n",
      "This may make the debugger miss breakpoints.\n",
      "Related bug: http://bugs.python.org/issue1666807\n"
     ]
    },
    {
     "name": "stdout",
     "output_type": "stream",
     "text": [
      "Notebook executed successfully with parameters x=0.8, y=80.0. Output saved as 'output_notebook_x0.80_y80.00.ipynb'.\n"
     ]
    },
    {
     "data": {
      "application/vnd.jupyter.widget-view+json": {
       "model_id": "0e5cd123dfe84bfaab01a192d3e07684",
       "version_major": 2,
       "version_minor": 0
      },
      "text/plain": [
       "Executing:   0%|          | 0/10 [00:00<?, ?cell/s]"
      ]
     },
     "metadata": {},
     "output_type": "display_data"
    },
    {
     "name": "stderr",
     "output_type": "stream",
     "text": [
      "This version of python seems to be incorrectly compiled\n",
      "(internal generated filenames are not absolute).\n",
      "This may make the debugger miss breakpoints.\n",
      "Related bug: http://bugs.python.org/issue1666807\n"
     ]
    },
    {
     "name": "stdout",
     "output_type": "stream",
     "text": [
      "Notebook executed successfully with parameters x=0.8, y=90.0. Output saved as 'output_notebook_x0.80_y90.00.ipynb'.\n"
     ]
    },
    {
     "data": {
      "application/vnd.jupyter.widget-view+json": {
       "model_id": "71a3c863c5014bfb94b1406e0b1304f6",
       "version_major": 2,
       "version_minor": 0
      },
      "text/plain": [
       "Executing:   0%|          | 0/10 [00:00<?, ?cell/s]"
      ]
     },
     "metadata": {},
     "output_type": "display_data"
    },
    {
     "name": "stderr",
     "output_type": "stream",
     "text": [
      "This version of python seems to be incorrectly compiled\n",
      "(internal generated filenames are not absolute).\n",
      "This may make the debugger miss breakpoints.\n",
      "Related bug: http://bugs.python.org/issue1666807\n"
     ]
    },
    {
     "name": "stdout",
     "output_type": "stream",
     "text": [
      "Notebook executed successfully with parameters x=0.9, y=0.0. Output saved as 'output_notebook_x0.90_y0.00.ipynb'.\n"
     ]
    },
    {
     "data": {
      "application/vnd.jupyter.widget-view+json": {
       "model_id": "06c4446742c04f38a3b469836236b3c7",
       "version_major": 2,
       "version_minor": 0
      },
      "text/plain": [
       "Executing:   0%|          | 0/10 [00:00<?, ?cell/s]"
      ]
     },
     "metadata": {},
     "output_type": "display_data"
    },
    {
     "name": "stderr",
     "output_type": "stream",
     "text": [
      "This version of python seems to be incorrectly compiled\n",
      "(internal generated filenames are not absolute).\n",
      "This may make the debugger miss breakpoints.\n",
      "Related bug: http://bugs.python.org/issue1666807\n"
     ]
    },
    {
     "name": "stdout",
     "output_type": "stream",
     "text": [
      "Notebook executed successfully with parameters x=0.9, y=10.0. Output saved as 'output_notebook_x0.90_y10.00.ipynb'.\n"
     ]
    },
    {
     "data": {
      "application/vnd.jupyter.widget-view+json": {
       "model_id": "3032b259964c409cb9a7d65094d3cbb6",
       "version_major": 2,
       "version_minor": 0
      },
      "text/plain": [
       "Executing:   0%|          | 0/10 [00:00<?, ?cell/s]"
      ]
     },
     "metadata": {},
     "output_type": "display_data"
    },
    {
     "name": "stderr",
     "output_type": "stream",
     "text": [
      "This version of python seems to be incorrectly compiled\n",
      "(internal generated filenames are not absolute).\n",
      "This may make the debugger miss breakpoints.\n",
      "Related bug: http://bugs.python.org/issue1666807\n"
     ]
    },
    {
     "name": "stdout",
     "output_type": "stream",
     "text": [
      "Notebook executed successfully with parameters x=0.9, y=20.0. Output saved as 'output_notebook_x0.90_y20.00.ipynb'.\n"
     ]
    },
    {
     "data": {
      "application/vnd.jupyter.widget-view+json": {
       "model_id": "555ce2baec02475597d69116ae53ac00",
       "version_major": 2,
       "version_minor": 0
      },
      "text/plain": [
       "Executing:   0%|          | 0/10 [00:00<?, ?cell/s]"
      ]
     },
     "metadata": {},
     "output_type": "display_data"
    },
    {
     "name": "stderr",
     "output_type": "stream",
     "text": [
      "This version of python seems to be incorrectly compiled\n",
      "(internal generated filenames are not absolute).\n",
      "This may make the debugger miss breakpoints.\n",
      "Related bug: http://bugs.python.org/issue1666807\n"
     ]
    },
    {
     "name": "stdout",
     "output_type": "stream",
     "text": [
      "Notebook executed successfully with parameters x=0.9, y=30.0. Output saved as 'output_notebook_x0.90_y30.00.ipynb'.\n"
     ]
    },
    {
     "data": {
      "application/vnd.jupyter.widget-view+json": {
       "model_id": "30ade3695c4942ed9406694a2633627b",
       "version_major": 2,
       "version_minor": 0
      },
      "text/plain": [
       "Executing:   0%|          | 0/10 [00:00<?, ?cell/s]"
      ]
     },
     "metadata": {},
     "output_type": "display_data"
    },
    {
     "name": "stderr",
     "output_type": "stream",
     "text": [
      "This version of python seems to be incorrectly compiled\n",
      "(internal generated filenames are not absolute).\n",
      "This may make the debugger miss breakpoints.\n",
      "Related bug: http://bugs.python.org/issue1666807\n"
     ]
    },
    {
     "name": "stdout",
     "output_type": "stream",
     "text": [
      "Notebook executed successfully with parameters x=0.9, y=40.0. Output saved as 'output_notebook_x0.90_y40.00.ipynb'.\n"
     ]
    },
    {
     "data": {
      "application/vnd.jupyter.widget-view+json": {
       "model_id": "124c2c4ae5f94a07b2c13fd0b773530e",
       "version_major": 2,
       "version_minor": 0
      },
      "text/plain": [
       "Executing:   0%|          | 0/10 [00:00<?, ?cell/s]"
      ]
     },
     "metadata": {},
     "output_type": "display_data"
    },
    {
     "name": "stderr",
     "output_type": "stream",
     "text": [
      "This version of python seems to be incorrectly compiled\n",
      "(internal generated filenames are not absolute).\n",
      "This may make the debugger miss breakpoints.\n",
      "Related bug: http://bugs.python.org/issue1666807\n"
     ]
    },
    {
     "name": "stdout",
     "output_type": "stream",
     "text": [
      "Notebook executed successfully with parameters x=0.9, y=50.0. Output saved as 'output_notebook_x0.90_y50.00.ipynb'.\n"
     ]
    },
    {
     "data": {
      "application/vnd.jupyter.widget-view+json": {
       "model_id": "ec311969a25448278c2238437e1d002e",
       "version_major": 2,
       "version_minor": 0
      },
      "text/plain": [
       "Executing:   0%|          | 0/10 [00:00<?, ?cell/s]"
      ]
     },
     "metadata": {},
     "output_type": "display_data"
    },
    {
     "name": "stderr",
     "output_type": "stream",
     "text": [
      "This version of python seems to be incorrectly compiled\n",
      "(internal generated filenames are not absolute).\n",
      "This may make the debugger miss breakpoints.\n",
      "Related bug: http://bugs.python.org/issue1666807\n"
     ]
    },
    {
     "name": "stdout",
     "output_type": "stream",
     "text": [
      "Notebook executed successfully with parameters x=0.9, y=60.0. Output saved as 'output_notebook_x0.90_y60.00.ipynb'.\n"
     ]
    },
    {
     "data": {
      "application/vnd.jupyter.widget-view+json": {
       "model_id": "7c9ca6470443419792b0d0e68319db5d",
       "version_major": 2,
       "version_minor": 0
      },
      "text/plain": [
       "Executing:   0%|          | 0/10 [00:00<?, ?cell/s]"
      ]
     },
     "metadata": {},
     "output_type": "display_data"
    },
    {
     "name": "stderr",
     "output_type": "stream",
     "text": [
      "This version of python seems to be incorrectly compiled\n",
      "(internal generated filenames are not absolute).\n",
      "This may make the debugger miss breakpoints.\n",
      "Related bug: http://bugs.python.org/issue1666807\n"
     ]
    },
    {
     "name": "stdout",
     "output_type": "stream",
     "text": [
      "Notebook executed successfully with parameters x=0.9, y=70.0. Output saved as 'output_notebook_x0.90_y70.00.ipynb'.\n"
     ]
    },
    {
     "data": {
      "application/vnd.jupyter.widget-view+json": {
       "model_id": "d5915f45135d406d91d4d83d21ce4c06",
       "version_major": 2,
       "version_minor": 0
      },
      "text/plain": [
       "Executing:   0%|          | 0/10 [00:00<?, ?cell/s]"
      ]
     },
     "metadata": {},
     "output_type": "display_data"
    },
    {
     "name": "stderr",
     "output_type": "stream",
     "text": [
      "This version of python seems to be incorrectly compiled\n",
      "(internal generated filenames are not absolute).\n",
      "This may make the debugger miss breakpoints.\n",
      "Related bug: http://bugs.python.org/issue1666807\n"
     ]
    },
    {
     "name": "stdout",
     "output_type": "stream",
     "text": [
      "Notebook executed successfully with parameters x=0.9, y=80.0. Output saved as 'output_notebook_x0.90_y80.00.ipynb'.\n"
     ]
    },
    {
     "data": {
      "application/vnd.jupyter.widget-view+json": {
       "model_id": "b3ea5d52317d4abf9bc28f8830aa0878",
       "version_major": 2,
       "version_minor": 0
      },
      "text/plain": [
       "Executing:   0%|          | 0/10 [00:00<?, ?cell/s]"
      ]
     },
     "metadata": {},
     "output_type": "display_data"
    },
    {
     "name": "stderr",
     "output_type": "stream",
     "text": [
      "This version of python seems to be incorrectly compiled\n",
      "(internal generated filenames are not absolute).\n",
      "This may make the debugger miss breakpoints.\n",
      "Related bug: http://bugs.python.org/issue1666807\n"
     ]
    },
    {
     "name": "stdout",
     "output_type": "stream",
     "text": [
      "Notebook executed successfully with parameters x=0.9, y=90.0. Output saved as 'output_notebook_x0.90_y90.00.ipynb'.\n"
     ]
    },
    {
     "data": {
      "application/vnd.jupyter.widget-view+json": {
       "model_id": "1fb780f399084affba174603db4a3427",
       "version_major": 2,
       "version_minor": 0
      },
      "text/plain": [
       "Executing:   0%|          | 0/10 [00:00<?, ?cell/s]"
      ]
     },
     "metadata": {},
     "output_type": "display_data"
    },
    {
     "name": "stderr",
     "output_type": "stream",
     "text": [
      "This version of python seems to be incorrectly compiled\n",
      "(internal generated filenames are not absolute).\n",
      "This may make the debugger miss breakpoints.\n",
      "Related bug: http://bugs.python.org/issue1666807\n"
     ]
    },
    {
     "name": "stdout",
     "output_type": "stream",
     "text": [
      "Notebook executed successfully with parameters x=1.0, y=0.0. Output saved as 'output_notebook_x1.00_y0.00.ipynb'.\n"
     ]
    },
    {
     "data": {
      "application/vnd.jupyter.widget-view+json": {
       "model_id": "730b55962e9e4ccd93138358a3440e8b",
       "version_major": 2,
       "version_minor": 0
      },
      "text/plain": [
       "Executing:   0%|          | 0/10 [00:00<?, ?cell/s]"
      ]
     },
     "metadata": {},
     "output_type": "display_data"
    },
    {
     "name": "stderr",
     "output_type": "stream",
     "text": [
      "This version of python seems to be incorrectly compiled\n",
      "(internal generated filenames are not absolute).\n",
      "This may make the debugger miss breakpoints.\n",
      "Related bug: http://bugs.python.org/issue1666807\n"
     ]
    },
    {
     "name": "stdout",
     "output_type": "stream",
     "text": [
      "Notebook executed successfully with parameters x=1.0, y=10.0. Output saved as 'output_notebook_x1.00_y10.00.ipynb'.\n"
     ]
    },
    {
     "data": {
      "application/vnd.jupyter.widget-view+json": {
       "model_id": "8fa7659b09de4beebbad3dda81066066",
       "version_major": 2,
       "version_minor": 0
      },
      "text/plain": [
       "Executing:   0%|          | 0/10 [00:00<?, ?cell/s]"
      ]
     },
     "metadata": {},
     "output_type": "display_data"
    },
    {
     "name": "stderr",
     "output_type": "stream",
     "text": [
      "This version of python seems to be incorrectly compiled\n",
      "(internal generated filenames are not absolute).\n",
      "This may make the debugger miss breakpoints.\n",
      "Related bug: http://bugs.python.org/issue1666807\n"
     ]
    },
    {
     "name": "stdout",
     "output_type": "stream",
     "text": [
      "Notebook executed successfully with parameters x=1.0, y=20.0. Output saved as 'output_notebook_x1.00_y20.00.ipynb'.\n"
     ]
    },
    {
     "data": {
      "application/vnd.jupyter.widget-view+json": {
       "model_id": "ff5ec0d530f9416e9f93776fb4717f7e",
       "version_major": 2,
       "version_minor": 0
      },
      "text/plain": [
       "Executing:   0%|          | 0/10 [00:00<?, ?cell/s]"
      ]
     },
     "metadata": {},
     "output_type": "display_data"
    },
    {
     "name": "stderr",
     "output_type": "stream",
     "text": [
      "This version of python seems to be incorrectly compiled\n",
      "(internal generated filenames are not absolute).\n",
      "This may make the debugger miss breakpoints.\n",
      "Related bug: http://bugs.python.org/issue1666807\n"
     ]
    },
    {
     "name": "stdout",
     "output_type": "stream",
     "text": [
      "Notebook executed successfully with parameters x=1.0, y=30.0. Output saved as 'output_notebook_x1.00_y30.00.ipynb'.\n"
     ]
    },
    {
     "data": {
      "application/vnd.jupyter.widget-view+json": {
       "model_id": "8222677eb5f24661b88f39635e7375d5",
       "version_major": 2,
       "version_minor": 0
      },
      "text/plain": [
       "Executing:   0%|          | 0/10 [00:00<?, ?cell/s]"
      ]
     },
     "metadata": {},
     "output_type": "display_data"
    },
    {
     "name": "stderr",
     "output_type": "stream",
     "text": [
      "This version of python seems to be incorrectly compiled\n",
      "(internal generated filenames are not absolute).\n",
      "This may make the debugger miss breakpoints.\n",
      "Related bug: http://bugs.python.org/issue1666807\n"
     ]
    },
    {
     "name": "stdout",
     "output_type": "stream",
     "text": [
      "Notebook executed successfully with parameters x=1.0, y=40.0. Output saved as 'output_notebook_x1.00_y40.00.ipynb'.\n"
     ]
    },
    {
     "data": {
      "application/vnd.jupyter.widget-view+json": {
       "model_id": "ca0af0c33a7449db887df62ff4916822",
       "version_major": 2,
       "version_minor": 0
      },
      "text/plain": [
       "Executing:   0%|          | 0/10 [00:00<?, ?cell/s]"
      ]
     },
     "metadata": {},
     "output_type": "display_data"
    },
    {
     "name": "stderr",
     "output_type": "stream",
     "text": [
      "This version of python seems to be incorrectly compiled\n",
      "(internal generated filenames are not absolute).\n",
      "This may make the debugger miss breakpoints.\n",
      "Related bug: http://bugs.python.org/issue1666807\n"
     ]
    },
    {
     "name": "stdout",
     "output_type": "stream",
     "text": [
      "Notebook executed successfully with parameters x=1.0, y=50.0. Output saved as 'output_notebook_x1.00_y50.00.ipynb'.\n"
     ]
    },
    {
     "data": {
      "application/vnd.jupyter.widget-view+json": {
       "model_id": "a860681bfa584283bbf211d4ed98d91e",
       "version_major": 2,
       "version_minor": 0
      },
      "text/plain": [
       "Executing:   0%|          | 0/10 [00:00<?, ?cell/s]"
      ]
     },
     "metadata": {},
     "output_type": "display_data"
    },
    {
     "name": "stderr",
     "output_type": "stream",
     "text": [
      "This version of python seems to be incorrectly compiled\n",
      "(internal generated filenames are not absolute).\n",
      "This may make the debugger miss breakpoints.\n",
      "Related bug: http://bugs.python.org/issue1666807\n"
     ]
    },
    {
     "name": "stdout",
     "output_type": "stream",
     "text": [
      "Notebook executed successfully with parameters x=1.0, y=60.0. Output saved as 'output_notebook_x1.00_y60.00.ipynb'.\n"
     ]
    },
    {
     "data": {
      "application/vnd.jupyter.widget-view+json": {
       "model_id": "b8cadef3e097437e922362cfda66d5fa",
       "version_major": 2,
       "version_minor": 0
      },
      "text/plain": [
       "Executing:   0%|          | 0/10 [00:00<?, ?cell/s]"
      ]
     },
     "metadata": {},
     "output_type": "display_data"
    },
    {
     "name": "stderr",
     "output_type": "stream",
     "text": [
      "This version of python seems to be incorrectly compiled\n",
      "(internal generated filenames are not absolute).\n",
      "This may make the debugger miss breakpoints.\n",
      "Related bug: http://bugs.python.org/issue1666807\n"
     ]
    },
    {
     "name": "stdout",
     "output_type": "stream",
     "text": [
      "Notebook executed successfully with parameters x=1.0, y=70.0. Output saved as 'output_notebook_x1.00_y70.00.ipynb'.\n"
     ]
    },
    {
     "data": {
      "application/vnd.jupyter.widget-view+json": {
       "model_id": "0e4e801e5dde467d857fd76e2acbd9bb",
       "version_major": 2,
       "version_minor": 0
      },
      "text/plain": [
       "Executing:   0%|          | 0/10 [00:00<?, ?cell/s]"
      ]
     },
     "metadata": {},
     "output_type": "display_data"
    },
    {
     "name": "stderr",
     "output_type": "stream",
     "text": [
      "This version of python seems to be incorrectly compiled\n",
      "(internal generated filenames are not absolute).\n",
      "This may make the debugger miss breakpoints.\n",
      "Related bug: http://bugs.python.org/issue1666807\n"
     ]
    },
    {
     "name": "stdout",
     "output_type": "stream",
     "text": [
      "Notebook executed successfully with parameters x=1.0, y=80.0. Output saved as 'output_notebook_x1.00_y80.00.ipynb'.\n"
     ]
    },
    {
     "data": {
      "application/vnd.jupyter.widget-view+json": {
       "model_id": "da8f71fd01f14467b223ca8505fdfec5",
       "version_major": 2,
       "version_minor": 0
      },
      "text/plain": [
       "Executing:   0%|          | 0/10 [00:00<?, ?cell/s]"
      ]
     },
     "metadata": {},
     "output_type": "display_data"
    },
    {
     "name": "stderr",
     "output_type": "stream",
     "text": [
      "This version of python seems to be incorrectly compiled\n",
      "(internal generated filenames are not absolute).\n",
      "This may make the debugger miss breakpoints.\n",
      "Related bug: http://bugs.python.org/issue1666807\n"
     ]
    },
    {
     "name": "stdout",
     "output_type": "stream",
     "text": [
      "Notebook executed successfully with parameters x=1.0, y=90.0. Output saved as 'output_notebook_x1.00_y90.00.ipynb'.\n"
     ]
    }
   ],
   "source": [
    "import numpy as np\n",
    "import papermill as pm\n",
    "\n",
    "# Define a list of values for the parameters\n",
    "sza_values = np.linspace(0, 90, 10).tolist()  # Convert to a list\n",
    "Rs_values = np.linspace(0, 1, 11).tolist()   # Convert to a list\n",
    "\n",
    "# Path to the notebook you want to execute\n",
    "notebook_path = \"my_run_rrtm_sw.ipynb\"\n",
    "\n",
    "# Loop through the values and execute the notebook with each combination\n",
    "for Rs in Rs_values:\n",
    "    for sza in sza_values:\n",
    "        output_notebook_path = f\"output_notebook_x{Rs:.2f}_y{sza:.2f}.ipynb\"\n",
    "        pm.execute_notebook(\n",
    "            notebook_path,\n",
    "            output_notebook_path,\n",
    "            parameters=dict(Rs=float(Rs), sza=float(sza))  # Convert to float\n",
    "        )\n",
    "        print(f\"Notebook executed successfully with parameters x={Rs}, y={sza}. Output saved as '{output_notebook_path}'.\")"
   ]
  },
  {
   "cell_type": "code",
   "execution_count": 14,
   "id": "7003743c-9a6c-4e01-8e6c-8a5f78334c46",
   "metadata": {
    "tags": []
   },
   "outputs": [],
   "source": [
    "import os\n",
    "\n",
    "# Path to the directory containing the files\n",
    "folder_path = \"rrtm_output\"\n",
    "\n",
    "# List all files in the directory\n",
    "files = os.listdir(folder_path)\n",
    "\n",
    "# Initialize dictionaries to store the paths of aerosol and clear files\n",
    "aerosol_files = {}\n",
    "clear_files = {}\n",
    "\n",
    "# Filter files based on the pattern and read the contents\n",
    "for file in files:\n",
    "    if \".aerosol\" in file:\n",
    "        # Extract sza and Rs values from aerosol filename\n",
    "        sza_start = file.find('sza') + 3\n",
    "        sza_end = file.find('.aerosol')\n",
    "        Rs_start = file.rfind('Rs') + 2\n",
    "        Rs_end = file.rfind('_sza')\n",
    "        sza = file[sza_start:sza_end]\n",
    "        Rs = file[Rs_start:Rs_end]\n",
    "        aerosol_files[(Rs, sza)] = os.path.join(folder_path, file)\n",
    "    elif \".clear\" in file:\n",
    "        # Extract sza and Rs values from clear filename\n",
    "        sza_start = file.find('sza') + 3\n",
    "        sza_end = file.find('.clear')\n",
    "        Rs_start = file.rfind('Rs') + 2\n",
    "        Rs_end = file.rfind('_sza')\n",
    "        sza = file[sza_start:sza_end]\n",
    "        Rs = file[Rs_start:Rs_end]\n",
    "        clear_files[(Rs, sza)] = os.path.join(folder_path, file)\n",
    "\n",
    "# Pair aerosol and clear files based on matching sza and Rs values\n",
    "for key in aerosol_files.keys():\n",
    "    if key in clear_files:\n",
    "        aerosol_path = aerosol_files[key]\n",
    "        clear_path = clear_files[key]\n",
    "        Rs, sza = key\n",
    "        #print(f\"Pair found for Rs={Rs}, sza={sza}:\")\n",
    "        \n",
    "        # Read aerosol file\n",
    "        with open(aerosol_path, \"r\") as aerosol_file:\n",
    "            aerosol_content = aerosol_file.read()\n",
    "            #print(\"Aerosol file content:\")\n",
    "            #print(aerosol_content)\n",
    "        \n",
    "        # Read clear file\n",
    "        with open(clear_path, \"r\") as clear_file:\n",
    "            clear_content = clear_file.read()\n",
    "            #print(\"Clear file content:\")\n",
    "            #print(clear_content)\n",
    "    else:\n",
    "        Rs, sza = key\n",
    "        #print(f\"No matching clear file found for Rs={Rs}, sza={sza}\")"
   ]
  },
  {
   "cell_type": "code",
   "execution_count": 15,
   "id": "0d5301b6-3e0e-4e04-a03e-076bc18dae9f",
   "metadata": {},
   "outputs": [
    {
     "data": {
      "text/plain": [
       "dict_keys([('0.2', '60.0'), ('0.8', '50.0'), ('1.0', '50.0'), ('0.4', '90.0'), ('0.7000000000000001', '70.0'), ('0.5', '30.0'), ('0.30000000000000004', '70.0'), ('0.6000000000000001', '50.0'), ('0.1', '70.0'), ('1.0', '80.0'), ('0.4', '40.0'), ('0.8', '80.0'), ('0.0', '0.0'), ('0.8', '0.0'), ('0.9', '20.0'), ('0.6000000000000001', '80.0'), ('0.9', '0.0'), ('0.4', '10.0'), ('0.0', '50.0'), ('0.1', '0.0'), ('0.9', '70.0'), ('0.0', '80.0'), ('0.2', '30.0'), ('0.30000000000000004', '20.0'), ('0.7000000000000001', '20.0'), ('0.5', '60.0'), ('0.1', '20.0'), ('0.5', '10.0'), ('0.7000000000000001', '50.0'), ('0.30000000000000004', '50.0'), ('0.6000000000000001', '70.0'), ('0.1', '50.0'), ('0.4', '0.0'), ('0.2', '40.0'), ('0.8', '70.0'), ('1.0', '70.0'), ('0.1', '80.0'), ('0.7000000000000001', '80.0'), ('0.30000000000000004', '80.0'), ('0.4', '60.0'), ('1.0', '0.0'), ('0.0', '20.0'), ('0.2', '90.0'), ('0.2', '0.0'), ('0.5', '90.0'), ('0.9', '50.0'), ('0.4', '30.0'), ('0.0', '70.0'), ('0.9', '80.0'), ('0.5', '0.0'), ('0.5', '40.0'), ('0.6000000000000001', '20.0'), ('1.0', '20.0'), ('0.8', '20.0'), ('0.2', '10.0'), ('0.0', '40.0'), ('0.9', '60.0'), ('0.8', '10.0'), ('0.2', '20.0'), ('0.0', '90.0'), ('1.0', '10.0'), ('0.7000000000000001', '0.0'), ('0.30000000000000004', '30.0'), ('0.5', '70.0'), ('0.7000000000000001', '30.0'), ('0.1', '30.0'), ('0.6000000000000001', '10.0'), ('1.0', '40.0'), ('0.4', '80.0'), ('0.30000000000000004', '0.0'), ('0.2', '70.0'), ('0.8', '40.0'), ('0.5', '20.0'), ('0.7000000000000001', '60.0'), ('0.30000000000000004', '60.0'), ('0.1', '60.0'), ('0.6000000000000001', '40.0'), ('0.8', '90.0'), ('1.0', '90.0'), ('0.4', '50.0'), ('0.0', '10.0'), ('0.6000000000000001', '90.0'), ('0.9', '30.0'), ('0.9', '40.0'), ('0.5', '80.0'), ('0.4', '20.0'), ('0.0', '60.0'), ('0.6000000000000001', '0.0'), ('0.30000000000000004', '10.0'), ('0.7000000000000001', '10.0'), ('0.5', '50.0'), ('0.1', '10.0'), ('0.6000000000000001', '30.0'), ('0.9', '90.0'), ('0.8', '30.0'), ('1.0', '30.0'), ('0.7000000000000001', '40.0'), ('0.30000000000000004', '40.0'), ('0.1', '40.0'), ('0.6000000000000001', '60.0'), ('1.0', '60.0'), ('0.2', '50.0'), ('0.8', '60.0'), ('0.1', '90.0'), ('0.7000000000000001', '90.0'), ('0.30000000000000004', '90.0'), ('0.9', '10.0'), ('0.2', '80.0'), ('0.4', '70.0'), ('0.0', '30.0')])"
      ]
     },
     "execution_count": 15,
     "metadata": {},
     "output_type": "execute_result"
    }
   ],
   "source": [
    "aerosol_files.keys()"
   ]
  },
  {
   "cell_type": "code",
   "execution_count": 32,
   "id": "8f02077a-89c6-4370-b4d7-245f6df0cef3",
   "metadata": {
    "tags": []
   },
   "outputs": [
    {
     "name": "stdout",
     "output_type": "stream",
     "text": [
      "1092.090722\n"
     ]
    }
   ],
   "source": [
    "TOA_Netflux = aerosol_content[:][412:423] #1092.090722\n",
    "print(TOA_Netflux)"
   ]
  },
  {
   "cell_type": "code",
   "execution_count": 153,
   "id": "dfc3aae3-2ded-42c9-8a81-db2a05a5f703",
   "metadata": {},
   "outputs": [
    {
     "data": {
      "text/plain": [
       "'  W/m2          W/m2       degree/day\\n  30    0.7980      147.0339        0.0000      850.5315      850.5315     703.497558       0.00000\\n  29     1.490      147.0240        0.0720      847.3839      '"
      ]
     },
     "execution_count": 153,
     "metadata": {},
     "output_type": "execute_result"
    }
   ],
   "source": [
    "aerosol_content[300:500]"
   ]
  },
  {
   "cell_type": "code",
   "execution_count": 115,
   "id": "c9250b8e-d9a4-4bfe-b4e8-2c39729ef0b1",
   "metadata": {
    "tags": []
   },
   "outputs": [
    {
     "data": {
      "text/plain": [
       "'850.5315     703.497558       0.00000\\n  29     1.490      147.0240        0.0720      847.3839      '"
      ]
     },
     "execution_count": 115,
     "metadata": {},
     "output_type": "execute_result"
    }
   ],
   "source": [
    "aerosol_content[400:500]"
   ]
  }
 ],
 "metadata": {
  "kernelspec": {
   "display_name": "rrtm_env",
   "language": "python",
   "name": "rrtm_env"
  },
  "language_info": {
   "codemirror_mode": {
    "name": "ipython",
    "version": 3
   },
   "file_extension": ".py",
   "mimetype": "text/x-python",
   "name": "python",
   "nbconvert_exporter": "python",
   "pygments_lexer": "ipython3",
   "version": "3.11.4"
  }
 },
 "nbformat": 4,
 "nbformat_minor": 5
}
