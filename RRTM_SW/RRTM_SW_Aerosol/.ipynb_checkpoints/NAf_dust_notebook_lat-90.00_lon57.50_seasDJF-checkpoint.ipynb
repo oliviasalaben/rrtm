{
 "cells": [
  {
   "cell_type": "code",
   "execution_count": 1,
   "id": "30e31ceb",
   "metadata": {
    "execution": {
     "iopub.execute_input": "2024-05-08T19:22:41.775850Z",
     "iopub.status.busy": "2024-05-08T19:22:41.774217Z",
     "iopub.status.idle": "2024-05-08T19:22:41.790325Z",
     "shell.execute_reply": "2024-05-08T19:22:41.788585Z"
    },
    "papermill": {
     "duration": 0.025664,
     "end_time": "2024-05-08T19:22:41.792464",
     "exception": false,
     "start_time": "2024-05-08T19:22:41.766800",
     "status": "completed"
    },
    "tags": [
     "parameters"
    ]
   },
   "outputs": [],
   "source": [
    "# Parameters\n",
    "Rs = None\n",
    "sza = None\n",
    "season = None\n",
    "lat = None\n",
    "lon = None\n",
    "# papermill parameters"
   ]
  },
  {
   "cell_type": "code",
   "execution_count": 2,
   "id": "72da558e",
   "metadata": {
    "execution": {
     "iopub.execute_input": "2024-05-08T19:22:41.799829Z",
     "iopub.status.busy": "2024-05-08T19:22:41.799224Z",
     "iopub.status.idle": "2024-05-08T19:22:41.806411Z",
     "shell.execute_reply": "2024-05-08T19:22:41.804288Z"
    },
    "papermill": {
     "duration": 0.014171,
     "end_time": "2024-05-08T19:22:41.809292",
     "exception": false,
     "start_time": "2024-05-08T19:22:41.795121",
     "status": "completed"
    },
    "tags": [
     "injected-parameters"
    ]
   },
   "outputs": [],
   "source": [
    "# Parameters\n",
    "Rs = 0.7989761829376221\n",
    "sza = 66.81578063964844\n",
    "season = 0.0\n",
    "lat = -90.0\n",
    "lon = 57.5\n"
   ]
  },
  {
   "cell_type": "code",
   "execution_count": 3,
   "id": "4877480d",
   "metadata": {
    "execution": {
     "iopub.execute_input": "2024-05-08T19:22:41.814943Z",
     "iopub.status.busy": "2024-05-08T19:22:41.814588Z",
     "iopub.status.idle": "2024-05-08T19:22:43.799027Z",
     "shell.execute_reply": "2024-05-08T19:22:43.798177Z"
    },
    "papermill": {
     "duration": 1.990276,
     "end_time": "2024-05-08T19:22:43.801372",
     "exception": false,
     "start_time": "2024-05-08T19:22:41.811096",
     "status": "completed"
    },
    "tags": []
   },
   "outputs": [],
   "source": [
    "import os\n",
    "import numpy as np\n",
    "import pandas as pd\n",
    "from scipy.interpolate import interp1d\n",
    "import sys\n",
    "import math\n",
    "from netCDF4 import Dataset\n",
    "import os, calendar, sys, fnmatch, datetime\n",
    "from sur_spec_alb_interpolate import sur_spec_alb_interpolate\n",
    "\n",
    "#python scrapes\n",
    "from INPUT_RRTM_sw import *\n",
    "from INPUT_CLD_RRTM_sw import *\n",
    "from INPUT_AER_RRTM_sw import *\n",
    "from read_output_rrtm import *\n",
    "#from TOA_output_rrtm import *"
   ]
  },
  {
   "cell_type": "raw",
   "id": "4fdc4f45",
   "metadata": {
    "papermill": {
     "duration": 0.003139,
     "end_time": "2024-05-08T19:22:43.806652",
     "exception": false,
     "start_time": "2024-05-08T19:22:43.803513",
     "status": "completed"
    },
    "tags": []
   },
   "source": [
    "Run this script in Downloads/RRTM/RRTM-Wrapper/RRTM_SW/RRTM_SW_Aerosol/"
   ]
  },
  {
   "cell_type": "code",
   "execution_count": 4,
   "id": "b5e093a8",
   "metadata": {
    "execution": {
     "iopub.execute_input": "2024-05-08T19:22:43.813779Z",
     "iopub.status.busy": "2024-05-08T19:22:43.813229Z",
     "iopub.status.idle": "2024-05-08T19:22:43.819422Z",
     "shell.execute_reply": "2024-05-08T19:22:43.818602Z"
    },
    "papermill": {
     "duration": 0.011999,
     "end_time": "2024-05-08T19:22:43.821501",
     "exception": false,
     "start_time": "2024-05-08T19:22:43.809502",
     "status": "completed"
    },
    "tags": []
   },
   "outputs": [],
   "source": [
    "#******************* Specify the path of compiled RRTM codes ****************\n",
    "model_dir = '../../../../RRTM/'\n",
    "RT_model_sw = model_dir+'rrtm_sw/rrtm_sw_OS_X_v2.5'\n",
    "\n",
    "#=======================================\n",
    "#Specify parameters in the RRTM model\n",
    "#=======================================\n",
    "\n",
    "SOLVAR  = 0.0  #(16,29)the solar source function scale factor for each band.\n",
    "#HBOUND = np.loadtxt(fname=file6)       #altitude of the surface (km)\n",
    "HTOA   = 77.0       #altitude of the top of the atmosphere (km)\n",
    "\n",
    "#--------------------------------------------------;\n",
    "ISCAT_sw   = 0\n",
    "ISTRM = 0   # 4 streams for sw\n",
    "NSTR  = 4   # of streams"
   ]
  },
  {
   "cell_type": "code",
   "execution_count": 5,
   "id": "27a1b4d3",
   "metadata": {
    "execution": {
     "iopub.execute_input": "2024-05-08T19:22:43.827120Z",
     "iopub.status.busy": "2024-05-08T19:22:43.826789Z",
     "iopub.status.idle": "2024-05-08T19:22:43.833420Z",
     "shell.execute_reply": "2024-05-08T19:22:43.832166Z"
    },
    "papermill": {
     "duration": 0.011569,
     "end_time": "2024-05-08T19:22:43.835302",
     "exception": false,
     "start_time": "2024-05-08T19:22:43.823733",
     "status": "completed"
    },
    "tags": []
   },
   "outputs": [],
   "source": [
    "# =====RRTM input data (atmospheric and surface properties)=====\n",
    "# ***Note: RRTM requires Altitude (ZM) to be in a ascending order!!! (Make sure the vertical order of all other variables is consistent with the order of ZM)\n",
    "# ***Note: Be careful about the unit of each parameter (Check JCHAR variable in RRTM_SW instruction)\n",
    "\n",
    "atm_prof = np.loadtxt('atm_profile_aerosol.txt',skiprows=1)\n",
    "ZM = atm_prof[::-1,0] #km (boundary altitude (km))\n",
    "PM = atm_prof[::-1,1] #hpa\n",
    "TM = atm_prof[::-1,2] #K\n",
    "h2o = atm_prof[::-1,4]  #g/m3   #kg/kg . kg/kg *1e3 = gm/kg\n",
    "o3 = atm_prof[::-1,5]   #g/m3   #ppmv 'parts per million volume = 1e-6'. 1ppmv=1e-3*gm/kg\n",
    "dext = atm_prof[::-1,6] #(km-1)\n",
    "\n",
    "#add #\n",
    "#Rs = np.array([0.1]) # surface albedo\n",
    "#sza = np.array([22]) # solar zenith angle"
   ]
  },
  {
   "cell_type": "code",
   "execution_count": 6,
   "id": "470acd9b",
   "metadata": {
    "execution": {
     "iopub.execute_input": "2024-05-08T19:22:43.842833Z",
     "iopub.status.busy": "2024-05-08T19:22:43.842040Z",
     "iopub.status.idle": "2024-05-08T19:22:43.849454Z",
     "shell.execute_reply": "2024-05-08T19:22:43.848785Z"
    },
    "papermill": {
     "duration": 0.014562,
     "end_time": "2024-05-08T19:22:43.851685",
     "exception": false,
     "start_time": "2024-05-08T19:22:43.837123",
     "status": "completed"
    },
    "tags": []
   },
   "outputs": [],
   "source": [
    "# ===== Aerosol (e.g., dust) optical properties (i.e., Qext, SSA, g) =====\n",
    "# ***Note: The order of 14 bands is listed in TABLE 1 in RRTM_SW instruction (It is not monotonically increase or decrease)\n",
    "# ***Note: The order of spectral optical properties should be consistent with the order in TABLE 1\n",
    "\n",
    "opt_dir = '../../Dust_Optical_Properties/'\n",
    "wavelength_range = [0.35, 0.55, 0.75, 0.95] #[0.35, 0.55, 0.75, 0.95, 2, 4, 6, 8, 10, 12, 14, 16, 35]\n",
    "opt_prop_sw = np.loadtxt(opt_dir + 'RRTM_bulk_dust_optical_properties_0W_18N.txt', skiprows=1)\n",
    "#opt_prop_sw = np.loadtxt(opt_dir + 'Biomass_burning.txt', skiprows=1)\n",
    "#opt_prop_sw = np.loadtxt(opt_dir + 'Scattering_dust.txt', skiprows=1)\n",
    "\n",
    "qe_dust_sw = opt_prop_sw[:,0]  # Dust extinction efficienty (Qe) for 14 RRTM_SW bands\n",
    "ssa_dust_sw = opt_prop_sw[:,1] # Dust single scattering albedo (SSA) for the 14 RRTM_SW bands\n",
    "g_dust_sw = opt_prop_sw[:,2]   # Dust assymetric parameter (g) for the 14 RRTM_SW bands"
   ]
  },
  {
   "cell_type": "code",
   "execution_count": 7,
   "id": "efd7d43a",
   "metadata": {
    "execution": {
     "iopub.execute_input": "2024-05-08T19:22:43.858062Z",
     "iopub.status.busy": "2024-05-08T19:22:43.857571Z",
     "iopub.status.idle": "2024-05-08T19:22:43.863265Z",
     "shell.execute_reply": "2024-05-08T19:22:43.862370Z"
    },
    "papermill": {
     "duration": 0.010842,
     "end_time": "2024-05-08T19:22:43.865431",
     "exception": false,
     "start_time": "2024-05-08T19:22:43.854589",
     "status": "completed"
    },
    "tags": []
   },
   "outputs": [
    {
     "name": "stdout",
     "output_type": "stream",
     "text": [
      "[2.531 2.914 3.23  3.443 3.658 3.889 3.964 4.049 4.066 3.799 3.673 3.599\n",
      " 3.413 1.011]\n"
     ]
    }
   ],
   "source": [
    "print(qe_dust_sw)"
   ]
  },
  {
   "cell_type": "code",
   "execution_count": 8,
   "id": "5f7b863e",
   "metadata": {
    "execution": {
     "iopub.execute_input": "2024-05-08T19:22:43.871325Z",
     "iopub.status.busy": "2024-05-08T19:22:43.870923Z",
     "iopub.status.idle": "2024-05-08T19:22:44.234908Z",
     "shell.execute_reply": "2024-05-08T19:22:44.234049Z"
    },
    "papermill": {
     "duration": 0.368942,
     "end_time": "2024-05-08T19:22:44.236833",
     "exception": false,
     "start_time": "2024-05-08T19:22:43.867891",
     "status": "completed"
    },
    "tags": []
   },
   "outputs": [
    {
     "name": "stdout",
     "output_type": "stream",
     "text": [
      "*****Number of cases: 1\n",
      "[1 4 5 6]\n",
      "*****Altitude for RRTM_SW (unit: km): [ 0.  1.  2.  3.  4.  5.  6.  7.  8.  9. 10. 11. 12. 13. 14. 15. 16. 17.\n",
      " 18. 19. 20. 21. 22. 23. 24. 25. 30. 35. 40. 45. 50.]\n",
      " Compute clear-sky sw flux w/o aerososl\n",
      " Compute sw fluxs with aerosol\n",
      "IMMAX =  31\n"
     ]
    }
   ],
   "source": [
    "n_case = np.size(Rs)\n",
    "print('*****Number of cases:',n_case)\n",
    "TOA_file = []\n",
    "for ic in range(n_case): #maybe can remove this line of code\n",
    "    SUF_ALB = np.ones(14)*Rs #np.ones(14)*Rs[ic]\n",
    "    SZA = sza #sza[ic]\n",
    "    if ZM[0]<0.1 :\n",
    "        HBOUND = ZM[0]+0.001\n",
    "    else:\n",
    "        HBOUND = ZM[0]+0.01\n",
    "    IMMAX = len(PM)\n",
    "    IBMAX = IMMAX\n",
    "\n",
    "    #****Note: The unit of each variable\n",
    "    VMOL_wv = h2o   ###kg/kg*1e3=gm/kg\n",
    "    VMOL_o3 = o3    ###ppmv*1e3=gm/kg\n",
    "    VMOL_co2= np.ones(IMMAX)* 360 #no CO2 profile in data, add mannually, ppmv\n",
    "    VMOL_n2o = np.ones(IMMAX)*0.3 #unit: PPMV\n",
    "    VMOL_co = np.zeros(IMMAX)\n",
    "    VMOL_ch4 = np.ones(IMMAX)*1.7 #unit: PPMV\n",
    "    VMOL_total = np.vstack((VMOL_wv,VMOL_co2,VMOL_o3,VMOL_n2o,VMOL_co,VMOL_ch4))#density of the molecule set by JCHAR(K)\n",
    "    VMOL=VMOL_total\n",
    "    \n",
    "    \n",
    "    NLAY = np.count_nonzero(dext)   # Total number of layers containing the aerosol with the specified properties\n",
    "    aer_lay = np.nonzero(dext)[0]+1 # Layer number  of aerosol layer. (layer n corresponds to the region between altitudes n and n+1 in the list of layer boundaries in Record 3.3B.)\n",
    "\n",
    "    print(aer_lay)\n",
    "    #----For each aerosol layer calculate AOD for each band----\n",
    "    aod = np.zeros(NLAY)\n",
    "    for i in range(NLAY):\n",
    "        aod[i]=dext[aer_lay[i]-1]*(ZM[aer_lay[i]]-ZM[aer_lay[i]-1])\n",
    "    aod_lay_band_sw=np.zeros((14,NLAY))\n",
    "    for j in range(NLAY):\n",
    "        aod_lay_band_sw[:,j]= aod[j] * qe_dust_sw/qe_dust_sw[9]   # qe_dust_sw[9] is qe @ 550nm. AOD(x) = AOD(550nm) * (qe(x)/qe(550nm)), where x is band number \n",
    "    column_daod = np.sum(aod_lay_band_sw)\n",
    "    print('*****Altitude for RRTM_SW (unit: km):',ZM)\n",
    "    \n",
    "    #========================== Run RRTM_SW ====================================\n",
    "    ICLD = 0 # Cloud-free\n",
    "    IAER = 0 # Aerosol-free\n",
    "    print(' Compute clear-sky sw flux w/o aerososl')\n",
    "    read_input_rrtm_sw('INPUT_RRTM', IAER, ICLD, ISCAT_sw, ISTRM, SZA, 1.0-SUF_ALB, \\\n",
    "    HBOUND, IMMAX, ZM, PM, TM, VMOL)\n",
    "    os.system(RT_model_sw)\n",
    "    os.system('mv INPUT_RRTM INPUT_RRTM.sw')\n",
    "    #os.system('mv OUTPUT_RRTM ./rrtm_output/scat_OUTPUT_RRTM_sw_Rs{:}_sza{:}.clear'.format(Rs,sza))\n",
    "    os.system('mv OUTPUT_RRTM ./rrtm_output/NAf_0W_18N_OUTPUT_RRTM_sw_lat{:}_lon{:}_seas{:}.clear'.format(lat,lon,season))\n",
    "    \n",
    "    \n",
    "    ICLD = 0   # Cloud-free \n",
    "    IAER = 10  # With Aerosol\n",
    "    print(' Compute sw fluxs with aerosol')\n",
    "    read_input_rrtm_sw('INPUT_RRTM', IAER, ICLD, ISCAT_sw, ISTRM, SZA, 1.0-SUF_ALB, \\\n",
    "    HBOUND, IMMAX, ZM, PM, TM, VMOL)\n",
    "    write_IN_AER_RRTM_sw('IN_AER_RRTM',NLAY, aer_lay, aod_lay_band_sw,ssa_dust_sw,g_dust_sw)\n",
    "    os.system(RT_model_sw)\n",
    "    os.system('mv INPUT_RRTM INPUT_RRTM.sw')\n",
    "    os.system('mv IN_AER_RRTM IN_AER_RRTM.sw')\n",
    "    #os.system('mv OUTPUT_RRTM ./rrtm_output/scat_OUTPUT_RRTM_sw_Rs{:}_sza{:}.aerosol'.format(Rs,sza))\n",
    "    os.system('mv OUTPUT_RRTM ./rrtm_output/NAf_0W_18N_OUTPUT_RRTM_sw_lat{:}_lon{:}_seas{:}.aerosol'.format(lat,lon,season))\n",
    "    \n",
    "    #----------------read output of rrtm-------------------------\n",
    "    print('IMMAX = ',IMMAX)\n",
    "    # Initialize TOA_file as an empty list\n",
    "    TOA_file = []\n",
    "    # Check if the file TOA_file.txt already exists\n",
    "    #file_exists = os.path.isfile('scat_TOA_file.txt')\n",
    "    file_exists = os.path.isfile('NAf_0W_18N_TOA_file.txt')\n",
    "    # If the file exists, load its contents and append new data to TOA_file\n",
    "    if file_exists:\n",
    "         # Append existing data to TOA_file\n",
    "        output1, output2, dif = read_output_rrtm_funct(IMMAX, Rs, sza, lat, lon, season)\n",
    "        TOA_file.append((season,lat,lon,Rs,sza,output1,output2,dif,column_daod))\n",
    "        # Convert TOA_file to a numpy array\n",
    "        TOA_file = np.array(TOA_file)\n",
    "\n",
    "        # Save TOA_file to a text file\n",
    "        #with open('scat_TOA_file.txt', 'a') as file:\n",
    "        with open('NAf_0W_18N_TOA_file.txt', 'a') as file:\n",
    "            # Write data with spaces between columns\n",
    "            np.savetxt(file, TOA_file, fmt='%5.3f', delimiter='      ')\n",
    "    else:\n",
    "         # Append existing data to TOA_file\n",
    "        output1, output2, dif = read_output_rrtm_funct(IMMAX, Rs, sza, lat, lon, season)\n",
    "        TOA_file.append((season,lat,lon,Rs,sza,output1,output2,dif,column_daod))\n",
    "        # Convert TOA_file to a numpy array\n",
    "        TOA_file = np.array(TOA_file)\n",
    "\n",
    "        # Save TOA_file to a text file\n",
    "        #with open('scat_TOA_file.txt', 'w') as file:\n",
    "        with open('NAf_0W_18N_TOA_file.txt', 'w') as file:\n",
    "            # Write headers with spaces\n",
    "            file.write(\"Season      Lat      Lon      Rs      SZA      Aerosol_net      Clear_net      Net_net      Column_DAOD\\n\")\n",
    "\n",
    "            # Write data with spaces between columns\n",
    "            np.savetxt(file, TOA_file, fmt='%5.3f', delimiter='      ')"
   ]
  }
 ],
 "metadata": {
  "kernelspec": {
   "display_name": "rrtm_env",
   "language": "python",
   "name": "rrtm_env"
  },
  "language_info": {
   "codemirror_mode": {
    "name": "ipython",
    "version": 3
   },
   "file_extension": ".py",
   "mimetype": "text/x-python",
   "name": "python",
   "nbconvert_exporter": "python",
   "pygments_lexer": "ipython3",
   "version": "3.11.4"
  },
  "papermill": {
   "default_parameters": {},
   "duration": 4.254241,
   "end_time": "2024-05-08T19:22:44.557743",
   "environment_variables": {},
   "exception": null,
   "input_path": "my_run_rrtm_sw.ipynb",
   "output_path": "NAf_dust_notebook_lat-90.00_lon57.50_seasDJF.ipynb",
   "parameters": {
    "Rs": 0.7989761829376221,
    "lat": -90,
    "lon": 57.5,
    "season": 0,
    "sza": 66.81578063964844
   },
   "start_time": "2024-05-08T19:22:40.303502",
   "version": "2.5.0"
  }
 },
 "nbformat": 4,
 "nbformat_minor": 5
}
