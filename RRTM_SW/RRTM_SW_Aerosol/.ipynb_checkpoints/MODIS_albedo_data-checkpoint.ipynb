{
 "cells": [
  {
   "cell_type": "code",
   "execution_count": 1,
   "id": "bff94bc9-4601-41ed-b44c-3b81044d8912",
   "metadata": {
    "tags": []
   },
   "outputs": [],
   "source": [
    "import pandas as pd\n",
    "import h5py"
   ]
  },
  {
   "cell_type": "markdown",
   "id": "305ce1c6-bd32-41cf-a4cb-b9dff586a595",
   "metadata": {
    "tags": []
   },
   "source": [
    "hdffile = pd.read_hdf('MODIS_albedo_data_folder/MCD43C3.A2023001.061.2023015044919.hdf', mode='r')"
   ]
  },
  {
   "cell_type": "code",
   "execution_count": 18,
   "id": "fa1a6e3e-c15b-4569-b8c0-195191ff313f",
   "metadata": {
    "tags": []
   },
   "outputs": [
    {
     "name": "stdout",
     "output_type": "stream",
     "text": [
      "Available datasets: {'Albedo_BSA_Band1': (('YDim:Grid_Albedo', 'XDim:Grid_Albedo'), (3600, 7200), 22, 0), 'Albedo_BSA_Band2': (('YDim:Grid_Albedo', 'XDim:Grid_Albedo'), (3600, 7200), 22, 1), 'Albedo_BSA_Band3': (('YDim:Grid_Albedo', 'XDim:Grid_Albedo'), (3600, 7200), 22, 2), 'Albedo_BSA_Band4': (('YDim:Grid_Albedo', 'XDim:Grid_Albedo'), (3600, 7200), 22, 3), 'Albedo_BSA_Band5': (('YDim:Grid_Albedo', 'XDim:Grid_Albedo'), (3600, 7200), 22, 4), 'Albedo_BSA_Band6': (('YDim:Grid_Albedo', 'XDim:Grid_Albedo'), (3600, 7200), 22, 5), 'Albedo_BSA_Band7': (('YDim:Grid_Albedo', 'XDim:Grid_Albedo'), (3600, 7200), 22, 6), 'Albedo_BSA_vis': (('YDim:Grid_Albedo', 'XDim:Grid_Albedo'), (3600, 7200), 22, 7), 'Albedo_BSA_nir': (('YDim:Grid_Albedo', 'XDim:Grid_Albedo'), (3600, 7200), 22, 8), 'Albedo_BSA_shortwave': (('YDim:Grid_Albedo', 'XDim:Grid_Albedo'), (3600, 7200), 22, 9), 'Albedo_WSA_Band1': (('YDim:Grid_Albedo', 'XDim:Grid_Albedo'), (3600, 7200), 22, 10), 'Albedo_WSA_Band2': (('YDim:Grid_Albedo', 'XDim:Grid_Albedo'), (3600, 7200), 22, 11), 'Albedo_WSA_Band3': (('YDim:Grid_Albedo', 'XDim:Grid_Albedo'), (3600, 7200), 22, 12), 'Albedo_WSA_Band4': (('YDim:Grid_Albedo', 'XDim:Grid_Albedo'), (3600, 7200), 22, 13), 'Albedo_WSA_Band5': (('YDim:Grid_Albedo', 'XDim:Grid_Albedo'), (3600, 7200), 22, 14), 'Albedo_WSA_Band6': (('YDim:Grid_Albedo', 'XDim:Grid_Albedo'), (3600, 7200), 22, 15), 'Albedo_WSA_Band7': (('YDim:Grid_Albedo', 'XDim:Grid_Albedo'), (3600, 7200), 22, 16), 'Albedo_WSA_vis': (('YDim:Grid_Albedo', 'XDim:Grid_Albedo'), (3600, 7200), 22, 17), 'Albedo_WSA_nir': (('YDim:Grid_Albedo', 'XDim:Grid_Albedo'), (3600, 7200), 22, 18), 'Albedo_WSA_shortwave': (('YDim:Grid_Albedo', 'XDim:Grid_Albedo'), (3600, 7200), 22, 19), 'Albedo_Quality': (('YDim:Grid_Albedo', 'XDim:Grid_Albedo'), (3600, 7200), 21, 20), 'Local_Solar_Noon': (('YDim:Grid_Albedo', 'XDim:Grid_Albedo'), (3600, 7200), 21, 21), 'Percent_Inputs': (('YDim:Grid_Albedo', 'XDim:Grid_Albedo'), (3600, 7200), 21, 22), 'Percent_Snow': (('YDim:Grid_Albedo', 'XDim:Grid_Albedo'), (3600, 7200), 21, 23), 'BRDF_Albedo_Uncertainty': (('YDim:Grid_Albedo', 'XDim:Grid_Albedo'), (3600, 7200), 23, 24)}\n",
      "Data: [[32767 32767 32767 ... 32767 32767 32767]\n",
      " [32767 32767 32767 ... 32767 32767 32767]\n",
      " [32767 32767 32767 ... 32767 32767 32767]\n",
      " ...\n",
      " [32767 32767 32767 ... 32767 32767 32767]\n",
      " [32767 32767 32767 ... 32767 32767 32767]\n",
      " [32767 32767 32767 ... 32767 32767 32767]]\n"
     ]
    }
   ],
   "source": [
    "from pyhdf import SD\n",
    "\n",
    "file_path = 'MODIS_albedo_data_folder'  # Replace with the path to your HDF4 file\n",
    "# Open the HDF4 file\n",
    "file = SD.SD(file_path + '/' +'MCD43C3.A2023001.061.2023015044919.hdf', SD.SDC.READ)\n",
    "\n",
    "# List available datasets\n",
    "datasets = file.datasets()\n",
    "print(\"Available datasets:\", datasets)\n",
    "\n",
    "# Access a specific dataset\n",
    "#dataset_name = 'Albedo_WSA_shortwave'\n",
    "dataset_name = 'Albedo_BSA_shortwave'\n",
    "if dataset_name in datasets:\n",
    "    dataset = file.select(dataset_name)\n",
    "    # Read data from the dataset\n",
    "    data = dataset.get()\n",
    "    print(\"Data:\", data)\n",
    "else:\n",
    "    print(\"Dataset\", dataset_name, \"not found in the file.\")\n",
    "\n",
    "# Close the HDF4 file\n",
    "file.end()"
   ]
  },
  {
   "cell_type": "code",
   "execution_count": null,
   "id": "49b9434c-c267-4a99-9cd9-b829a219982f",
   "metadata": {},
   "outputs": [],
   "source": [
    "# black-sky albedo (BSA)\n",
    "# white-sky albedo (WSA)\n",
    "\n",
    "##https://www.mdpi.com/2072-4292/13/23/4869 equation for calculating blue-sky albedo as a function of \n",
    "# WSA and BSA"
   ]
  }
 ],
 "metadata": {
  "kernelspec": {
   "display_name": "rrtm_env",
   "language": "python",
   "name": "rrtm_env"
  },
  "language_info": {
   "codemirror_mode": {
    "name": "ipython",
    "version": 3
   },
   "file_extension": ".py",
   "mimetype": "text/x-python",
   "name": "python",
   "nbconvert_exporter": "python",
   "pygments_lexer": "ipython3",
   "version": "3.11.4"
  }
 },
 "nbformat": 4,
 "nbformat_minor": 5
}
