{
 "cells": [
  {
   "cell_type": "code",
   "execution_count": 1,
   "id": "d1274d70-0cec-4697-a13a-a1b71725d3ff",
   "metadata": {
    "tags": []
   },
   "outputs": [],
   "source": [
    "import numpy as np\n",
    "from netCDF4 import Dataset"
   ]
  },
  {
   "cell_type": "markdown",
   "id": "86fa1af8-886d-4b61-905c-c4d68b5c2e0a",
   "metadata": {},
   "source": [
    "## Download Albedo data - monthly to calculate seasonal albedo"
   ]
  },
  {
   "cell_type": "code",
   "execution_count": 2,
   "id": "d17fc6ec-96f4-42ed-bf9e-45615d710dce",
   "metadata": {
    "tags": []
   },
   "outputs": [],
   "source": [
    "def get_month_albedo(year, month):\n",
    "    filename = f'MERRA2_400.tavgM_2d_rad_Nx.{year}{month:02}.nc4'\n",
    "    dataset = Dataset(filename)\n",
    "    albedo = np.array(dataset.variables['ALBEDO'][0])\n",
    "    return albedo\n",
    "\n",
    "albedo_2023 = []\n",
    "\n",
    "for month in range(1, 13):\n",
    "    albedo_2023.append(get_month_albedo(2023, month))\n",
    "\n",
    "albedo_2023 = np.array(albedo_2023)"
   ]
  },
  {
   "cell_type": "code",
   "execution_count": 3,
   "id": "743ae756-288f-4839-9f5b-bf4f0411276a",
   "metadata": {
    "tags": []
   },
   "outputs": [
    {
     "data": {
      "text/plain": [
       "(12, 361, 576)"
      ]
     },
     "execution_count": 3,
     "metadata": {},
     "output_type": "execute_result"
    }
   ],
   "source": [
    "albedo_2023.shape"
   ]
  },
  {
   "cell_type": "code",
   "execution_count": 4,
   "id": "66ad6c00-207c-422c-bec2-e68f545bdf88",
   "metadata": {
    "tags": []
   },
   "outputs": [
    {
     "data": {
      "text/plain": [
       "(361, 576)"
      ]
     },
     "execution_count": 4,
     "metadata": {},
     "output_type": "execute_result"
    }
   ],
   "source": [
    "albedo_2023[0].shape"
   ]
  },
  {
   "cell_type": "code",
   "execution_count": 5,
   "id": "781098a6-8670-4d02-97b4-389868cddfeb",
   "metadata": {
    "tags": []
   },
   "outputs": [],
   "source": [
    "MERRA_data = Dataset('MERRA2_400.tavgM_2d_rad_Nx.202301.nc4')"
   ]
  },
  {
   "cell_type": "code",
   "execution_count": 6,
   "id": "807e1444-44ef-4687-b991-4874f5a7bcad",
   "metadata": {
    "tags": []
   },
   "outputs": [
    {
     "name": "stdout",
     "output_type": "stream",
     "text": [
      "361\n",
      "576\n"
     ]
    }
   ],
   "source": [
    "MERRA_data_lat = np.array(MERRA_data.variables['lat'][:])\n",
    "print(len(MERRA_data_lat))\n",
    "MERRA_data_lon = np.array(MERRA_data.variables['lon'][:])\n",
    "print(len(MERRA_data_lon))"
   ]
  },
  {
   "cell_type": "code",
   "execution_count": 7,
   "id": "697a50c3-365a-436c-a241-e4707c406aa0",
   "metadata": {
    "tags": []
   },
   "outputs": [
    {
     "data": {
      "text/plain": [
       "179.375"
      ]
     },
     "execution_count": 7,
     "metadata": {},
     "output_type": "execute_result"
    }
   ],
   "source": [
    "MERRA_data_lon[-1]"
   ]
  },
  {
   "cell_type": "markdown",
   "id": "4c1e7bd8-d85d-4dc6-a789-9106f7af1fe4",
   "metadata": {
    "tags": []
   },
   "source": [
    "## Download DustCOMM coordinates"
   ]
  },
  {
   "cell_type": "code",
   "execution_count": 8,
   "id": "f711a6dd-1b01-4a7f-bc89-69e034d4104e",
   "metadata": {
    "tags": []
   },
   "outputs": [
    {
     "name": "stdout",
     "output_type": "stream",
     "text": [
      "<class 'netCDF4._netCDF4.Dataset'>\n",
      "root group (NETCDF4_CLASSIC data model, file format HDF5):\n",
      "    dimensions(sizes): season(4), source(9), lat(96), lon(144)\n",
      "    variables(dimensions): float64 season(season), float64 source(source), float64 lat(lat), float64 lon(lon), float64 Median(lat, lon, source, season), float64 Mean(lat, lon, source, season), float64 Neg1sigma(lat, lon, source, season), float64 Pos1sigman(lat, lon, source, season), float64 Neg2sigma(lat, lon, source, season), float64 Pos2sigma(lat, lon, source, season)\n",
      "    groups: \n"
     ]
    }
   ],
   "source": [
    "#bulk DAOD data\n",
    "daod_Dustcomm_PM20_Dataset = Dataset('../../Dust_Optical_Properties/DustCOMM_source_region_DAOD_seas_PM20_abs.nc')\n",
    "print(daod_Dustcomm_PM20_Dataset) #[season,source,diameter,lat,lon,bin]\n",
    "#96 lat, 144 lon\n",
    "lat_Dustcomm_PM20 = np.array(daod_Dustcomm_PM20_Dataset.variables['lat'][:])\n",
    "lon_Dustcomm_PM20 = np.array(daod_Dustcomm_PM20_Dataset.variables['lon'][:])"
   ]
  },
  {
   "cell_type": "markdown",
   "id": "f87b0397-1873-40fd-a36b-020c2ed3c7ff",
   "metadata": {},
   "source": [
    "## Find best fitting MERRA2 coordinate for each DustCOMM coordinate"
   ]
  },
  {
   "cell_type": "code",
   "execution_count": 9,
   "id": "7f6bf457-3a07-4b41-b5ad-37995cc1fa56",
   "metadata": {
    "tags": []
   },
   "outputs": [],
   "source": [
    "lat_match = []\n",
    "lat_match_index = []\n",
    "\n",
    "for ilatm in range(len(MERRA_data_lat)):\n",
    "        for ilatd in range(len(lat_Dustcomm_PM20)):\n",
    "                if MERRA_data_lat[ilatm] == np.round(lat_Dustcomm_PM20[ilatd]):\n",
    "                    lat_match.append(MERRA_data_lat[ilatm])\n",
    "                    lat_match_index.append(ilatm)\n",
    "new_match_lat_index = np.sort(lat_match_index)                    "
   ]
  },
  {
   "cell_type": "code",
   "execution_count": 17,
   "id": "be0d8565-fc15-4a24-bd87-70c97e69834d",
   "metadata": {
    "tags": []
   },
   "outputs": [
    {
     "name": "stdout",
     "output_type": "stream",
     "text": [
      "96\n",
      "[-90.0, -88.0, -86.0, -84.0, -82.0, -81.0, -79.0, -77.0, -75.0, -73.0, -71.0, -69.0, -67.0, -65.0, -63.0, -62.0, -60.0, -58.0, -56.0, -54.0, -52.0, -50.0, -48.0, -46.0, -45.0, -43.0, -41.0, -39.0, -37.0, -35.0, -33.0, -31.0, -29.0, -27.0, -26.0, -24.0, -22.0, -20.0, -18.0, -16.0, -14.0, -12.0, -10.0, -9.0, -7.0, -5.0, -3.0, -1.0, 1.0, 3.0, 5.0, 7.0, 9.0, 10.0, 12.0, 14.0, 16.0, 18.0, 20.0, 22.0, 24.0, 26.0, 27.0, 29.0, 31.0, 33.0, 35.0, 37.0, 39.0, 41.0, 43.0, 45.0, 46.0, 48.0, 50.0, 52.0, 54.0, 56.0, 58.0, 60.0, 62.0, 63.0, 65.0, 67.0, 69.0, 71.0, 73.0, 75.0, 77.0, 79.0, 81.0, 82.0, 84.0, 86.0, 88.0, 90.0]\n"
     ]
    }
   ],
   "source": [
    "print(len(lat_match))\n",
    "print(lat_match)"
   ]
  },
  {
   "cell_type": "code",
   "execution_count": 11,
   "id": "8b7a8c48-e2e3-4d0c-b6db-f30e6f4a1ed5",
   "metadata": {
    "tags": []
   },
   "outputs": [],
   "source": [
    "lon_match = []\n",
    "lon_match_index = []\n",
    "\n",
    "for ilonm in range(len(MERRA_data_lon)):\n",
    "    for ilond in range(len(lon_Dustcomm_PM20)):\n",
    "        if MERRA_data_lon[ilonm] == lon_Dustcomm_PM20[ilond]:\n",
    "            lon_match.append(MERRA_data_lon[ilonm])\n",
    "            lon_match_index.append(ilonm)\n",
    "                  \n",
    "lon_match.append(MERRA_data_lon[575])\n",
    "lon_match.append(MERRA_data_lon[288])\n",
    "lon_match_index.append(575)\n",
    "lon_match_index.append(288)"
   ]
  },
  {
   "cell_type": "code",
   "execution_count": 12,
   "id": "cf5bba8b-4975-40b8-97d9-5f6be60fe7a6",
   "metadata": {
    "tags": []
   },
   "outputs": [
    {
     "data": {
      "text/plain": [
       "144"
      ]
     },
     "execution_count": 12,
     "metadata": {},
     "output_type": "execute_result"
    }
   ],
   "source": [
    "len(lon_match) # missing 180 and 0"
   ]
  },
  {
   "cell_type": "code",
   "execution_count": 13,
   "id": "bbe4dd18-d6bc-44df-99dc-e036aa112901",
   "metadata": {
    "tags": []
   },
   "outputs": [
    {
     "name": "stdout",
     "output_type": "stream",
     "text": [
      "[-1.77500000e+02 -1.75000000e+02 -1.72500000e+02 -1.70000000e+02\n",
      " -1.67500000e+02 -1.65000000e+02 -1.62500000e+02 -1.60000000e+02\n",
      " -1.57500000e+02 -1.55000000e+02 -1.52500000e+02 -1.50000000e+02\n",
      " -1.47500000e+02 -1.45000000e+02 -1.42500000e+02 -1.40000000e+02\n",
      " -1.37500000e+02 -1.35000000e+02 -1.32500000e+02 -1.30000000e+02\n",
      " -1.27500000e+02 -1.25000000e+02 -1.22500000e+02 -1.20000000e+02\n",
      " -1.17500000e+02 -1.15000000e+02 -1.12500000e+02 -1.10000000e+02\n",
      " -1.07500000e+02 -1.05000000e+02 -1.02500000e+02 -1.00000000e+02\n",
      " -9.75000000e+01 -9.50000000e+01 -9.25000000e+01 -9.00000000e+01\n",
      " -8.75000000e+01 -8.50000000e+01 -8.25000000e+01 -8.00000000e+01\n",
      " -7.75000000e+01 -7.50000000e+01 -7.25000000e+01 -7.00000000e+01\n",
      " -6.75000000e+01 -6.50000000e+01 -6.25000000e+01 -6.00000000e+01\n",
      " -5.75000000e+01 -5.50000000e+01 -5.25000000e+01 -5.00000000e+01\n",
      " -4.75000000e+01 -4.50000000e+01 -4.25000000e+01 -4.00000000e+01\n",
      " -3.75000000e+01 -3.50000000e+01 -3.25000000e+01 -3.00000000e+01\n",
      " -2.75000000e+01 -2.50000000e+01 -2.25000000e+01 -2.00000000e+01\n",
      " -1.75000000e+01 -1.50000000e+01 -1.25000000e+01 -1.00000000e+01\n",
      " -7.50000000e+00 -5.00000000e+00 -2.50000000e+00 -5.92030439e-13\n",
      "  2.50000000e+00  5.00000000e+00  7.50000000e+00  1.00000000e+01\n",
      "  1.25000000e+01  1.50000000e+01  1.75000000e+01  2.00000000e+01\n",
      "  2.25000000e+01  2.50000000e+01  2.75000000e+01  3.00000000e+01\n",
      "  3.25000000e+01  3.50000000e+01  3.75000000e+01  4.00000000e+01\n",
      "  4.25000000e+01  4.50000000e+01  4.75000000e+01  5.00000000e+01\n",
      "  5.25000000e+01  5.50000000e+01  5.75000000e+01  6.00000000e+01\n",
      "  6.25000000e+01  6.50000000e+01  6.75000000e+01  7.00000000e+01\n",
      "  7.25000000e+01  7.50000000e+01  7.75000000e+01  8.00000000e+01\n",
      "  8.25000000e+01  8.50000000e+01  8.75000000e+01  9.00000000e+01\n",
      "  9.25000000e+01  9.50000000e+01  9.75000000e+01  1.00000000e+02\n",
      "  1.02500000e+02  1.05000000e+02  1.07500000e+02  1.10000000e+02\n",
      "  1.12500000e+02  1.15000000e+02  1.17500000e+02  1.20000000e+02\n",
      "  1.22500000e+02  1.25000000e+02  1.27500000e+02  1.30000000e+02\n",
      "  1.32500000e+02  1.35000000e+02  1.37500000e+02  1.40000000e+02\n",
      "  1.42500000e+02  1.45000000e+02  1.47500000e+02  1.50000000e+02\n",
      "  1.52500000e+02  1.55000000e+02  1.57500000e+02  1.60000000e+02\n",
      "  1.62500000e+02  1.65000000e+02  1.67500000e+02  1.70000000e+02\n",
      "  1.72500000e+02  1.75000000e+02  1.77500000e+02  1.79375000e+02]\n",
      "[  4   8  12  16  20  24  28  32  36  40  44  48  52  56  60  64  68  72\n",
      "  76  80  84  88  92  96 100 104 108 112 116 120 124 128 132 136 140 144\n",
      " 148 152 156 160 164 168 172 176 180 184 188 192 196 200 204 208 212 216\n",
      " 220 224 228 232 236 240 244 248 252 256 260 264 268 272 276 280 284 288\n",
      " 292 296 300 304 308 312 316 320 324 328 332 336 340 344 348 352 356 360\n",
      " 364 368 372 376 380 384 388 392 396 400 404 408 412 416 420 424 428 432\n",
      " 436 440 444 448 452 456 460 464 468 472 476 480 484 488 492 496 500 504\n",
      " 508 512 516 520 524 528 532 536 540 544 548 552 556 560 564 568 572 575]\n"
     ]
    }
   ],
   "source": [
    "new_match_lon = np.sort(lon_match)\n",
    "print(new_match_lon)\n",
    "new_match_lon_index = np.sort(lon_match_index)\n",
    "print(new_match_lon_index)"
   ]
  },
  {
   "cell_type": "code",
   "execution_count": 14,
   "id": "468909d0-881a-4132-bdef-5af198a35e3b",
   "metadata": {
    "tags": []
   },
   "outputs": [],
   "source": [
    "DJF_merra2_albedo_2023 = np.zeros((len(new_match_lat_index),len(new_match_lon_index)))\n",
    "MAM_merra2_albedo_2023 = np.zeros((len(new_match_lat_index),len(new_match_lon_index)))\n",
    "JJA_merra2_albedo_2023 = np.zeros((len(new_match_lat_index),len(new_match_lon_index)))\n",
    "SON_merra2_albedo_2023 = np.zeros((len(new_match_lat_index),len(new_match_lon_index)))\n",
    "for ilon in range(len(new_match_lon_index)):\n",
    "    for ilat in range(len(new_match_lat_index)):\n",
    "        DJF_merra2_albedo_2023[ilat,ilon] = (albedo_2023[11,new_match_lat_index[ilat],new_match_lon_index[ilon]] + albedo_2023[0,new_match_lat_index[ilat],new_match_lon_index[ilon]] + albedo_2023[1,new_match_lat_index[ilat],new_match_lon_index[ilon]])/3\n",
    "        MAM_merra2_albedo_2023[ilat,ilon] = (albedo_2023[2,new_match_lat_index[ilat],new_match_lon_index[ilon]] + albedo_2023[3,new_match_lat_index[ilat],new_match_lon_index[ilon]] + albedo_2023[4,new_match_lat_index[ilat],new_match_lon_index[ilon]])/3                \n",
    "        JJA_merra2_albedo_2023[ilat,ilon] = (albedo_2023[5,new_match_lat_index[ilat],new_match_lon_index[ilon]] + albedo_2023[6,new_match_lat_index[ilat],new_match_lon_index[ilon]] + albedo_2023[7,new_match_lat_index[ilat],new_match_lon_index[ilon]])/3\n",
    "        SON_merra2_albedo_2023[ilat,ilon] = (albedo_2023[8,new_match_lat_index[ilat],new_match_lon_index[ilon]] + albedo_2023[9,new_match_lat_index[ilat],new_match_lon_index[ilon]] + albedo_2023[10,new_match_lat_index[ilat],new_match_lon_index[ilon]])/3\n",
    "                                  "
   ]
  },
  {
   "cell_type": "code",
   "execution_count": 15,
   "id": "f4519350-1904-4ee2-b8a1-6d8208cb8489",
   "metadata": {
    "tags": []
   },
   "outputs": [
    {
     "data": {
      "text/plain": [
       "(96, 144)"
      ]
     },
     "execution_count": 15,
     "metadata": {},
     "output_type": "execute_result"
    }
   ],
   "source": [
    "DJF_merra2_albedo_2023.shape"
   ]
  },
  {
   "cell_type": "code",
   "execution_count": 16,
   "id": "d8db7c5f-29ec-4914-905c-33b1d052a9aa",
   "metadata": {
    "tags": []
   },
   "outputs": [],
   "source": [
    "np.save('new_match_lat_index.npy',new_match_lat_index)\n",
    "np.save('new_match_lon_index.npy',new_match_lon_index)"
   ]
  },
  {
   "cell_type": "code",
   "execution_count": 18,
   "id": "0fffa278-6355-4cf0-bfee-e5462e4087e6",
   "metadata": {},
   "outputs": [],
   "source": [
    "all_merra2_albedo_2023 = [DJF_merra2_albedo_2023, MAM_merra2_albedo_2023, JJA_merra2_albedo_2023, SON_merra2_albedo_2023]"
   ]
  },
  {
   "cell_type": "code",
   "execution_count": 24,
   "id": "f00d16b4-c538-420e-974e-660a3c9531bf",
   "metadata": {
    "tags": []
   },
   "outputs": [
    {
     "data": {
      "text/plain": [
       "array([0.80281703, 0.8013986 , 0.79739157, 0.79263775, 0.79151011,\n",
       "       0.79349868, 0.79059076, 0.78667386, 0.78879841, 0.79076584,\n",
       "       0.79071045, 0.78849689, 0.78845485, 0.7894392 , 0.7875607 ,\n",
       "       0.78760489, 0.79105186, 0.79184008, 0.79340219, 0.79712089,\n",
       "       0.79972553, 0.80052058, 0.80097413, 0.80149078, 0.80384072,\n",
       "       0.80817397, 0.8106823 , 0.80992333, 0.80934493, 0.80827943,\n",
       "       0.80731726, 0.80572033, 0.80409559, 0.80300315, 0.80201292,\n",
       "       0.80129608, 0.80048919, 0.79985539, 0.79967904, 0.7992878 ,\n",
       "       0.79831894, 0.7970078 , 0.79624303, 0.79528157, 0.79311442,\n",
       "       0.79006592, 0.7849826 , 0.78056765, 0.78154993, 0.78757191,\n",
       "       0.79398314, 0.79701519, 0.7984074 , 0.79813162, 0.79734453,\n",
       "       0.79660519, 0.79770279, 0.79889599, 0.79954743, 0.8002824 ,\n",
       "       0.80094973, 0.80133653, 0.80137809, 0.80109175, 0.80089108,\n",
       "       0.80104009, 0.80110892, 0.80080112, 0.8004756 , 0.8000474 ,\n",
       "       0.79962071, 0.79930957, 0.79902442, 0.79874802, 0.7985421 ,\n",
       "       0.79833396, 0.79804174, 0.7976745 , 0.79727165, 0.79697315,\n",
       "       0.79658381, 0.79641644, 0.79646667, 0.79625765, 0.79605254,\n",
       "       0.79598188, 0.79561909, 0.79472224, 0.79362837, 0.79287728,\n",
       "       0.79267041, 0.79286408, 0.79294515, 0.79276609, 0.79236587,\n",
       "       0.79187465, 0.79121772, 0.79045375, 0.78980724, 0.78918441,\n",
       "       0.78849173, 0.78794702, 0.78751604, 0.78757731, 0.78770256,\n",
       "       0.78772664, 0.78780858, 0.78812615, 0.78846169, 0.78877393,\n",
       "       0.78909238, 0.78933398, 0.78952813, 0.78965489, 0.78974946,\n",
       "       0.78996929, 0.79026333, 0.79051097, 0.79067588, 0.79091835,\n",
       "       0.79115423, 0.79122543, 0.79108405, 0.79090492, 0.79064035,\n",
       "       0.79003731, 0.78956366, 0.78894234, 0.78733786, 0.78606367,\n",
       "       0.78529684, 0.78371994, 0.78276237, 0.78634334, 0.77773221,\n",
       "       0.74908471, 0.73778486, 0.77614848, 0.80830399, 0.80587928,\n",
       "       0.80350677, 0.80610967, 0.80905883, 0.80727132])"
      ]
     },
     "execution_count": 24,
     "metadata": {},
     "output_type": "execute_result"
    }
   ],
   "source": [
    "all_merra2_albedo_2023[0][3,:]"
   ]
  },
  {
   "cell_type": "code",
   "execution_count": null,
   "id": "f07efaae-8319-4cf4-9f64-2b042f7869e3",
   "metadata": {},
   "outputs": [],
   "source": []
  }
 ],
 "metadata": {
  "kernelspec": {
   "display_name": "rrtm_env",
   "language": "python",
   "name": "rrtm_env"
  },
  "language_info": {
   "codemirror_mode": {
    "name": "ipython",
    "version": 3
   },
   "file_extension": ".py",
   "mimetype": "text/x-python",
   "name": "python",
   "nbconvert_exporter": "python",
   "pygments_lexer": "ipython3",
   "version": "3.11.4"
  }
 },
 "nbformat": 4,
 "nbformat_minor": 5
}
