{
 "cells": [
  {
   "cell_type": "code",
   "execution_count": 1,
   "id": "9eb177a9-4e96-4802-8f6f-ba08ef63e500",
   "metadata": {},
   "outputs": [],
   "source": [
    "import os\n",
    "import numpy as np\n",
    "import pandas as pd\n",
    "from scipy.interpolate import interp1d\n",
    "import sys\n",
    "import math\n",
    "from netCDF4 import Dataset\n",
    "import os, calendar, sys, fnmatch, datetime\n",
    "\n",
    "\n",
    "from INPUT_RRTM_lw import *\n",
    "from INPUT_CLD_RRTM_lw import *"
   ]
  },
  {
   "cell_type": "code",
   "execution_count": 2,
   "id": "08e9152a-bff7-4d11-aa6e-222cbc7f012a",
   "metadata": {},
   "outputs": [],
   "source": [
    "#*******************\n",
    "model_dir = '/umbc/xfs1/zzbatmos-new/common/Codes/'\n",
    "output_dir = './rrtm_output/'\n",
    "RT_model_sw = model_dir+'rrtm_sw/rrtm_sw_taki_intel'\n",
    "RT_model_lw = model_dir+'rrtm_lw/rrtm_lw_taki_intel'\n",
    "\n",
    "#Parameters the model needs\n",
    "SOLVAR  = 0.0  #(16,29)the solar source function scale factor for each band.\n",
    "HTOA   = 77.0       #altitude of the top of the atmosphere (km)\n",
    "\n",
    "#--------------------------------------------------;\n",
    "ISCAT_lw   = 2\n",
    "ISCAT_sw   = 0\n",
    "NUMANGS = 0 # 4 streams for lw\n",
    "ISTRM = 0   # 4 streams for sw\n",
    "NSTR  = 4   # of streams"
   ]
  },
  {
   "cell_type": "code",
   "execution_count": 3,
   "id": "db245460-eca7-4059-a94c-29bfa9e24251",
   "metadata": {},
   "outputs": [],
   "source": [
    "# =====RRTM input data=====\n",
    "atm_prof = np.loadtxt('atm_profile_cloudysky.txt',skiprows=1)\n",
    "ZM = atm_prof[::-1,0] #km?\n",
    "PM = atm_prof[::-1,1] #hpa?\n",
    "TM = atm_prof[::-1,2] #K?\n",
    "h2o = atm_prof[::-1,4]  #g/m3   #kg/kg . kg/kg *1e3 = gm/kg\n",
    "o3 = atm_prof[::-1,5]   #g/m3  #ppmv 'parts per million volume = 1e-6'. 1ppmv=1e-3*gm/kg\n",
    "\n",
    "Es = np.array([0.2])\n",
    "Ts = np.array([300])"
   ]
  },
  {
   "cell_type": "code",
   "execution_count": 4,
   "id": "4216eeb3-f54a-4597-9058-c02a04c25bd8",
   "metadata": {},
   "outputs": [
    {
     "name": "stdout",
     "output_type": "stream",
     "text": [
      "1\n",
      "[ 0.  1.  2.  3.  4.  5.  6.  7.  8.  9. 10. 11. 12. 13. 14. 15. 16. 17.\n",
      " 18. 19. 20. 21. 22. 23. 24. 25. 30. 35. 40. 45. 50.]\n",
      "[ 0.  16.7 16.7  0.   0.   0.   0.   0.   0.   0.   0.   0.   0.   0.\n",
      "  0.   0.   0.   0.   0.   0.   0.   0.   0.   0.   0.   0.   0.   0.\n",
      "  0.   0.   0. ]\n",
      "[ 0. 10. 10.  0.  0.  0.  0.  0.  0.  0.  0.  0.  0.  0.  0.  0.  0.  0.\n",
      "  0.  0.  0.  0.  0.  0.  0.  0.  0.  0.  0.  0.  0.]\n",
      "*** 31 2 [1 2]\n",
      " Compute lw fluxs with cloud\n",
      "*** 1 16.7 10.0\n",
      "*** 2 16.7 10.0\n",
      "                     1                     0                     2\n",
      "                     0                    99                     1\n",
      " INFLAG, ICEFLAG, LIQFLAG                     2                     3\n",
      "                     1\n",
      " rrtm.f finished\n",
      "                     1 CWP,FICE,RADICE  0.000000000000000E+000\n",
      "  0.000000000000000E+000  0.000000000000000E+000\n",
      " ICE FRACTION MUST BE SET TO 1.0\n"
     ]
    },
    {
     "name": "stderr",
     "output_type": "stream",
     "text": [
      "mv: cannot stat ‘OUTPUT_RRTM’: No such file or directory\n"
     ]
    }
   ],
   "source": [
    "n_case = np.size(Es)\n",
    "print(n_case)\n",
    "for ic in range(n_case):\n",
    "    SEMISS = np.ones(16)*Es[ic]\n",
    "    TBOUND = Ts[ic]\n",
    "    \n",
    "    print(ZM)\n",
    "\n",
    "    if ZM[0]<0.1 :\n",
    "        HBOUND = ZM[0]+0.001\n",
    "    else:\n",
    "        HBOUND = ZM[0]+0.01\n",
    "    IMMAX = len(PM)\n",
    "    IBMAX = IMMAX\n",
    "\n",
    "    VMOL_wv = h2o   ###kg/kg*1e3=gm/kg\n",
    "    VMOL_o3 = o3    ###ppmv*1e3=gm/kg\n",
    "    VMOL_co2= np.ones(IMMAX)* 360 #no CO2 profile in data, add mannually, ppmv\n",
    "    VMOL_n2o = np.ones(IMMAX)*0.3 #PPMV\n",
    "    VMOL_co = np.zeros(IMMAX)\n",
    "    VMOL_ch4 = np.ones(IMMAX)*1.7 #PPMV\n",
    "    VMOL_total = np.vstack((VMOL_wv,VMOL_co2,VMOL_o3,VMOL_n2o,VMOL_co,VMOL_ch4))#density of the molecule set by JCHAR(K)\n",
    "    VMOL=VMOL_total\n",
    "    \n",
    "    #!!layer n corresponds to the region between altitudes n and n+1 in the list of layer boundaries\n",
    "    CWP=atm_prof[::-1,6] #cloud water path (g/m^2)\n",
    "    EFFSIZELIQ=atm_prof[::-1,7] #cloud droplet effective radius (microns)\n",
    "    NLAY=np.count_nonzero(CWP) # A scalar represents the number of cloudy layers\n",
    "    LAY=np.where(CWP!=0)[0] # An array contains index of cloudy layers\n",
    "    print(CWP)\n",
    "    print(EFFSIZELIQ)\n",
    "    print('***',len(CWP),NLAY, LAY)\n",
    "    #===============================================================================================\n",
    "    # Create Input files for RRTM via calling functions from INPUT_*RRTM_lw.py and then run RRTM_LW\n",
    "    #===============================================================================================\n",
    "    # ICLD = 0 # Cloud-free\n",
    "    # print(' Compute clear-sky lw flux w/o cloud')\n",
    "    # read_input_rrtm_lw('INPUT_RRTM', ICLD, ISCAT_lw, NUMANGS, TBOUND, HBOUND, \\\n",
    "    #                    SEMISS, IMMAX, ZM, PM, TM, VMOL)\n",
    "    # os.system(RT_model_lw)\n",
    "    # os.system('mv INPUT_RRTM INPUT_RRTM.lw')\n",
    "    # os.system('mv OUTPUT_RRTM ./rrtm_output/OUTPUT_RRTM_lw.clear')\n",
    "    \n",
    "    \n",
    "    ICLD = 1   # Cloudy (Here I used cloud scheme to calculate flux in cloudy sky;)\n",
    "\n",
    "    print(' Compute lw fluxs with cloud')\n",
    "    read_input_rrtm_lw('INPUT_RRTM', ICLD, ISCAT_lw, NUMANGS, TBOUND, HBOUND, \\\n",
    "                       SEMISS, IMMAX, ZM, PM, TM, VMOL)\n",
    "    write_IN_CLD_RRTM_lw('IN_CLD_RRTM', NLAY, LAY, CWP, EFFSIZELIQ)\n",
    "    os.system(RT_model_lw)\n",
    "    os.system('mv INPUT_RRTM INPUT_RRTM.lw')\n",
    "    os.system('mv IN_CLD_RRTM IN_CLD_RRTM.lw')\n",
    "    os.system('mv OUTPUT_RRTM '+output_dir+'OUTPUT_RRTM_lw.clouds')\n",
    "    "
   ]
  },
  {
   "cell_type": "code",
   "execution_count": null,
   "id": "e3b28320-1755-48a1-898e-bf804133aab1",
   "metadata": {},
   "outputs": [],
   "source": []
  }
 ],
 "metadata": {
  "kernelspec": {
   "display_name": "Python 3 (ipykernel)",
   "language": "python",
   "name": "python3"
  },
  "language_info": {
   "codemirror_mode": {
    "name": "ipython",
    "version": 3
   },
   "file_extension": ".py",
   "mimetype": "text/x-python",
   "name": "python",
   "nbconvert_exporter": "python",
   "pygments_lexer": "ipython3",
   "version": "3.9.7"
  }
 },
 "nbformat": 4,
 "nbformat_minor": 5
}
