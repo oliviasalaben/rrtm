{
 "cells": [
  {
   "cell_type": "code",
   "execution_count": 1,
   "metadata": {},
   "outputs": [],
   "source": [
    "import os\n",
    "import numpy as np\n",
    "import pandas as pd\n",
    "from scipy.interpolate import interp1d\n",
    "import sys\n",
    "import math\n",
    "from netCDF4 import Dataset\n",
    "import os, calendar, sys, fnmatch, datetime\n",
    "from sur_spec_alb_interpolate import sur_spec_alb_interpolate\n",
    "\n",
    "\n",
    "from INPUT_RRTM_lw import *\n",
    "from INPUT_CLD_RRTM_lw import *\n",
    "from read_output_rrtm import *"
   ]
  },
  {
   "cell_type": "code",
   "execution_count": 6,
   "metadata": {},
   "outputs": [],
   "source": [
    "#******************* Specify the path of compiled RRTM codes ****************\n",
    "model_dir = '/umbc/xfs1/zzbatmos-new/common/Codes/'\n",
    "output_dir = './rrtm_output/'\n",
    "RT_model_lw = model_dir+'rrtm_lw/rrtm_lw_taki_intel'\n",
    "\n",
    "#=======================================\n",
    "#Specify parameters in the RRTM model\n",
    "#=======================================\n",
    "\n",
    "SOLVAR  = 0.0  #(16,29)the solar source function scale factor for each band.\n",
    "#HBOUND = np.loadtxt(fname=file6)       #altitude of the surface (km)\n",
    "HTOA   = 77.0       #altitude of the top of the atmosphere (km)\n",
    "\n",
    "#--------------------------------------------------;\n",
    "ISCAT_sw   = 0\n",
    "ISCAT_lw   = 2\n",
    "NUMANGS = 0 # 4 streams for lw\n",
    "ISTRM = 0   # 4 streams for sw\n",
    "NSTR  = 4   # of streams"
   ]
  },
  {
   "cell_type": "code",
   "execution_count": 7,
   "metadata": {},
   "outputs": [],
   "source": [
    "# =====RRTM input data (atmospheric and surface properties)=====\n",
    "# ***Note: RRTM requires Altitude (ZM) to be in a ascending order!!! (Make sure the vertical order of all other variables is consistent with the order of ZM)\n",
    "# ***Note: Be careful about the unit of each parameter (Check JCHAR variable in RRTM_SW instruction)\n",
    "\n",
    "atm_prof = np.loadtxt('atm_profile_aerosol.txt',skiprows=1)\n",
    "ZM = atm_prof[::-1,0] #km (boundary altitude (km))\n",
    "PM = atm_prof[::-1,1] #hpa\n",
    "TM = atm_prof[::-1,2] #K\n",
    "h2o = atm_prof[::-1,4]  #g/m3   #kg/kg . kg/kg *1e3 = gm/kg\n",
    "o3 = atm_prof[::-1,5]   #g/m3   #ppmv 'parts per million volume = 1e-6'. 1ppmv=1e-3*gm/kg\n",
    "dext = atm_prof[::-1,6] #(km-1)\n",
    "\n",
    "Es = np.array([0.1]) # surface Emissivity\n",
    "Ts = np.array([295]) # surface Temperature (unit: K)"
   ]
  },
  {
   "cell_type": "code",
   "execution_count": 8,
   "metadata": {},
   "outputs": [],
   "source": [
    "# ===== Aerosol (e.g., dust) optical properties (i.e., Qext, SSA, g) =====\n",
    "# ***Note: The order of 14 bands is listed in TABLE 1 in RRTM_SW instruction (It is not monotonically increase or decrease)\n",
    "# ***Note: The order of spectral optical properties should be consistent with the order in TABLE 1\n",
    "\n",
    "opt_dir = '../../Dust_Optical_Properties/'\n",
    "opt_prop_sw = np.loadtxt(opt_dir + 'opt_prop_nonsphere_sal_sw.txt',skiprows=1)\n",
    "qe_dust_sw = opt_prop_sw[:,0]  # Dust extinction efficienty (Qe) for 14 RRTM_SW bands\n",
    "ssa_dust_sw = opt_prop_sw[:,1] # Dust single scattering albedo (SSA) for the 14 RRTM_SW bands\n",
    "g_dust_sw = opt_prop_sw[:,2]   # Dust assymetric parameter (g) for the 14 RRTM_SW bands\n",
    "\n",
    "opt_prop_lw = np.loadtxt(opt_dir + 'opt_prop_nonsphere_sal_lw.txt',skiprows=1)\n",
    "qe_dust_lw = opt_prop_lw[:,0]  # Dust extinction efficienty (Qe) for 16 RRTM_LW bands\n",
    "ssa_dust_lw = opt_prop_lw[:,1] # Dust single scattering albedo (SSA) for the 16 RRTM_LW bands\n",
    "g_dust_lw = opt_prop_lw[:,2]   # Dust assymetric parameter (g) for the 16 RRTM_LW bands\n",
    "\n",
    "pmom_dust = np.zeros((16,NSTR+1))\n",
    "for i in range(NSTR+1):\n",
    "    pmom_dust[:,i] = g_dust_lw**i"
   ]
  },
  {
   "cell_type": "code",
   "execution_count": 9,
   "metadata": {},
   "outputs": [
    {
     "name": "stdout",
     "output_type": "stream",
     "text": [
      "*****Number of cases: 1\n",
      "*****Altitude for RRTM_SW (unit: km): [ 0.  1.  2.  3.  4.  5.  6.  7.  8.  9. 10. 11. 12. 13. 14. 15. 16. 17.\n",
      " 18. 19. 20. 21. 22. 23. 24. 25. 30. 35. 40. 45. 50.]\n",
      " Compute clear-sky lw flux w/o cloud\n",
      " Compute lw fluxs with cloud\n"
     ]
    }
   ],
   "source": [
    "n_case = np.size(Es)\n",
    "print('*****Number of cases:',n_case)\n",
    "\n",
    "for ic in range(n_case):\n",
    "    SEMISS = np.ones(14)*Es[ic]\n",
    "    TBOUND = Ts\n",
    "    if ZM[0]<0.1 :\n",
    "        HBOUND = ZM[0]+0.001\n",
    "    else:\n",
    "        HBOUND = ZM[0]+0.01\n",
    "    IMMAX = len(PM)\n",
    "    IBMAX = IMMAX\n",
    "\n",
    "    VMOL_wv = h2o   ###kg/kg*1e3=gm/kg\n",
    "    VMOL_o3 = o3    ###ppmv*1e3=gm/kg\n",
    "    VMOL_co2= np.ones(IMMAX)* 360 #no CO2 profile in data, add mannually, ppmv\n",
    "    VMOL_n2o = np.ones(IMMAX)*0.3 #unit: PPMV\n",
    "    VMOL_co = np.zeros(IMMAX)\n",
    "    VMOL_ch4 = np.ones(IMMAX)*1.7 #unit: PPMV\n",
    "    VMOL_total = np.vstack((VMOL_wv,VMOL_co2,VMOL_o3,VMOL_n2o,VMOL_co,VMOL_ch4))#density of the molecule set by JCHAR(K)\n",
    "    VMOL=VMOL_total\n",
    "    \n",
    "    \n",
    "    NLAY = np.count_nonzero(dext)   # Total number of layers containing the aerosol with the specified properties\n",
    "    aer_lay = np.nonzero(dext)[0]+1 # Layer number  of aerosol layer. (layer n corresponds to the region between altitudes n and n+1 in the list of layer boundaries in Record 3.3B.)\n",
    "\n",
    "    #----For each aerosol layer calculate AOD for each band----\n",
    "    aod = np.zeros(NLAY)\n",
    "    for i in range(NLAY):\n",
    "        aod[i]=dext[aer_lay[i]-1]*(ZM[aer_lay[i]]-ZM[aer_lay[i]-1])\n",
    "    aod_lay_band_lw=np.zeros((16,NLAY))\n",
    "    for j in range(NLAY):\n",
    "        aod_lay_band_lw[:,j]= aod[j] * qe_dust_lw/qe_dust_sw[9]   #qe_dust_sw[9] is for 550nm\n",
    "    \n",
    "    print('*****Altitude for RRTM_SW (unit: km):',ZM)\n",
    "    \n",
    "    #========================== Run RRTM_SW ====================================\n",
    "    ICLD = 0 # Cloud-free\n",
    "    print(' Compute clear-sky lw flux w/o cloud')\n",
    "    read_input_rrtm_lw('INPUT_RRTM', ICLD, ISCAT_lw, NUMANGS, TBOUND, HBOUND, \\\n",
    "                       SEMISS, IMMAX, ZM, PM, TM, VMOL)\n",
    "    os.system(RT_model_lw)\n",
    "    os.system('mv INPUT_RRTM INPUT_RRTM.lw')\n",
    "    os.system('mv OUTPUT_RRTM '+output_dir+'OUTPUT_RRTM_lw.clear')\n",
    "    \n",
    "    \n",
    "    ICLD = 1   # Cloudy (Here we use Aerosol to represent Cloud)\n",
    "\n",
    "    print(' Compute lw fluxs with cloud')\n",
    "    read_input_rrtm_lw('INPUT_RRTM', ICLD, ISCAT_lw, NUMANGS, TBOUND, HBOUND, \\\n",
    "                       SEMISS, IMMAX, ZM, PM, TM, VMOL)\n",
    "\n",
    "    write_IN_CLD_RRTM_lw('IN_CLD_RRTM', NLAY, aer_lay, aod_lay_band_lw, \\\n",
    "                                  ssa_dust_lw, NSTR, pmom_dust)\n",
    "    os.system(RT_model_lw)\n",
    "    os.system('mv INPUT_RRTM INPUT_RRTM.lw')\n",
    "    os.system('mv IN_AER_RRTM IN_AER_RRTM.lw')\n",
    "    os.system('mv OUTPUT_RRTM '+output_dir+'OUTPUT_RRTM_lw.cloud')"
   ]
  },
  {
   "cell_type": "code",
   "execution_count": null,
   "metadata": {},
   "outputs": [],
   "source": []
  }
 ],
 "metadata": {
  "kernelspec": {
   "display_name": "Python 3",
   "language": "python",
   "name": "python3"
  },
  "language_info": {
   "codemirror_mode": {
    "name": "ipython",
    "version": 3
   },
   "file_extension": ".py",
   "mimetype": "text/x-python",
   "name": "python",
   "nbconvert_exporter": "python",
   "pygments_lexer": "ipython3",
   "version": "3.7.7"
  }
 },
 "nbformat": 4,
 "nbformat_minor": 4
}
